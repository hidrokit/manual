{
  "nbformat": 4,
  "nbformat_minor": 0,
  "metadata": {
    "colab": {
      "name": "taruma_LI05_analisis_frekuensi_uji_distribusi.ipynb",
      "provenance": [],
      "collapsed_sections": []
    },
    "kernelspec": {
      "name": "python3",
      "display_name": "Python 3"
    },
    "language_info": {
      "name": "python"
    }
  },
  "cells": [
    {
      "cell_type": "markdown",
      "source": [
        "# Analisis Frekuensi dan Uji Kecocokan Distribusi\n",
        "\n",
        "Buku (_notebook_) ini akan membandingkan hasil perhitungan analisis frekuensi empat distribusi yaitu distribusi normal, log normal, log pearson tipe III, dan gumbel dan menerapkan uji kecocokan distribusi (kolmogorov-smirnov dan chisquare). Buku ini lebih mengutamakan implementasi penggunaan, dan mempresentasikan hasil dari masing-masing analisis. **Buku ini tidak mengikuti teori atau pekerjaan aktual, buku ini hanya mendemonstrasikan fitur yang tersedia di hidrokit 0.4.0**.\n",
        "\n",
        "Untuk informasi mengenai hidrokit 0.4.0 dapat mengunjungi [repository di github](https://github.com/hidrokit/hidrokit) atau [situs resminya](https://hidrokit.github.io/hidrokit/)."
      ],
      "metadata": {
        "id": "Gy-4HQrdqljH"
      }
    },
    {
      "cell_type": "markdown",
      "source": [
        "# PENGATURAN BUKU\n",
        "\n",
        "Buku ini dikembangkan menggunakan Google Colab dengan fleksibilitas dalam penggunaan _runtime_ lokal ataupun _google colab_. "
      ],
      "metadata": {
        "id": "ZXJIGqvlshkH"
      }
    },
    {
      "cell_type": "code",
      "execution_count": null,
      "metadata": {
        "colab": {
          "base_uri": "https://localhost:8080/"
        },
        "id": "bpGB_hsZpP0c",
        "outputId": "762b8bf5-7744-4fde-a313-05848e9a9afc"
      },
      "outputs": [
        {
          "output_type": "stream",
          "name": "stdout",
          "text": [
            "RUNTIME: LOKAL\n"
          ]
        }
      ],
      "source": [
        "#@title PENGGUNAAN RUNTIME (GOOGLE COLAB/LOKAL) {display-mode:\"form\", run:\"auto\"}\n",
        "# Using Google Colab or Local System\n",
        "_IS_LOCAL = True #@param {type:\"boolean\"}\n",
        "\n",
        "(print('RUNTIME: LOKAL') if _IS_LOCAL else print('RUNTIME: GOOGLE COLAB'))"
      ]
    },
    {
      "cell_type": "markdown",
      "source": [
        "# INISIASI"
      ],
      "metadata": {
        "id": "YePtwWmis8mY"
      }
    },
    {
      "cell_type": "code",
      "source": [
        "from pathlib import Path\n",
        "if _IS_LOCAL:\n",
        "    _LOCAL_DIRECTORY = './laporan_implementasi/li5' #@param {type:\"string\"}\n",
        "    _directory = Path(_LOCAL_DIRECTORY) \n",
        "else:\n",
        "    from google.colab import drive\n",
        "    drive.mount('/content/gdrive', force_remount=True)\n",
        "    _COLAB_DIRECTORY = Path('/content/gdrive/My Drive/Colab Notebooks/')\n",
        "    _CLOUD_DIRECTORY = './laporan_implementasi/li5' #@param {type:\"string\"}\n",
        "    _directory = _COLAB_DIRECTORY / _CLOUD_DIRECTORY"
      ],
      "metadata": {
        "id": "OhF9AXlms9fL"
      },
      "execution_count": null,
      "outputs": []
    },
    {
      "cell_type": "code",
      "source": [
        "try:\n",
        "    import hidrokit\n",
        "except ModuleNotFoundError:\n",
        "    !pip install hidrokit==0.4.0 -q"
      ],
      "metadata": {
        "id": "UuCX8A1Du_OW"
      },
      "execution_count": null,
      "outputs": []
    },
    {
      "cell_type": "code",
      "source": [
        "def _check_system(PACKAGE_LIST='numpy pandas matplotlib'):\n",
        "    from pkg_resources import get_distribution\n",
        "    from sys import version_info\n",
        "\n",
        "    print(':: INFORMASI VERSI SISTEM')\n",
        "    print(':: {:>12s} version: {:<10s}'.format(\n",
        "            'python', \n",
        "            '{}.{}.{}'.format(*version_info[:3]))\n",
        "        )\n",
        "    for package in PACKAGE_LIST.split():\n",
        "        print(':: {:>12s} version: {:<10s}'.format(\n",
        "            package, \n",
        "            get_distribution(package).version)\n",
        "        )\n",
        "\n",
        "_check_system('numpy pandas matplotlib scipy hidrokit')"
      ],
      "metadata": {
        "colab": {
          "base_uri": "https://localhost:8080/"
        },
        "id": "22KhzQ-X0bsI",
        "outputId": "f4b2e42d-06d8-4cbf-924f-853293dac764"
      },
      "execution_count": null,
      "outputs": [
        {
          "output_type": "stream",
          "name": "stdout",
          "text": [
            ":: INFORMASI VERSI SISTEM\n",
            "::       python version: 3.7.11    \n",
            "::        numpy version: 1.21.5    \n",
            "::       pandas version: 1.3.4     \n",
            "::   matplotlib version: 3.5.1     \n",
            "::        scipy version: 1.7.3     \n",
            "::     hidrokit version: 0.4.0     \n"
          ]
        }
      ]
    },
    {
      "cell_type": "code",
      "source": [
        "import numpy as np\n",
        "import pandas as pd\n",
        "import matplotlib.pyplot as plt"
      ],
      "metadata": {
        "id": "ko7SmSXI0hhK"
      },
      "execution_count": null,
      "outputs": []
    },
    {
      "cell_type": "code",
      "source": [
        "plt.style.use('seaborn-whitegrid')"
      ],
      "metadata": {
        "id": "pS__7DyW17m6"
      },
      "execution_count": null,
      "outputs": []
    },
    {
      "cell_type": "markdown",
      "source": [
        "## IMPOR DATASET\n",
        "\n",
        "Untuk pengolahan dataset dari berkas mentah terlampir pada dokumen LI05-A: transfer data excel."
      ],
      "metadata": {
        "id": "yboNRRIETp-c"
      }
    },
    {
      "cell_type": "code",
      "source": [
        "from pathlib import Path\n",
        "EXCEL_PATH = 'dataset/hk_daily_bandar_lampung_filled.xlsx' #@param {type: \"string\"}\n",
        "excel_path = _directory / EXCEL_PATH"
      ],
      "metadata": {
        "id": "6KcPjfi-F1Hl"
      },
      "execution_count": null,
      "outputs": []
    },
    {
      "cell_type": "code",
      "source": [
        "from hidrokit.contrib.taruma import hk88\n",
        "\n",
        "dataset_raw = hk88.read_workbook(excel_path)\n",
        "dataset_raw"
      ],
      "metadata": {
        "id": "GZB8p_mZ0onL",
        "colab": {
          "base_uri": "https://localhost:8080/",
          "height": 424
        },
        "outputId": "d5ef349f-8c0f-489e-b923-7a382403bb93"
      },
      "execution_count": null,
      "outputs": [
        {
          "output_type": "execute_result",
          "data": {
            "text/plain": [
              "           PH001 PH003 PH004 PH005\n",
              "2009-01-01   NaN   NaN   4.5    11\n",
              "2009-01-02   NaN   NaN   NaN     9\n",
              "2009-01-03  19.5   NaN     1   NaN\n",
              "2009-01-04     2   0.6    32    70\n",
              "2009-01-05   NaN   0.2  26.5    35\n",
              "...          ...   ...   ...   ...\n",
              "2018-12-27     0     0     0     0\n",
              "2018-12-28     0    10     0     0\n",
              "2018-12-29     0     0     0     0\n",
              "2018-12-30     0     0     3     0\n",
              "2018-12-31     0     0     0     0\n",
              "\n",
              "[3652 rows x 4 columns]"
            ],
            "text/html": [
              "<div>\n",
              "<style scoped>\n",
              "    .dataframe tbody tr th:only-of-type {\n",
              "        vertical-align: middle;\n",
              "    }\n",
              "\n",
              "    .dataframe tbody tr th {\n",
              "        vertical-align: top;\n",
              "    }\n",
              "\n",
              "    .dataframe thead th {\n",
              "        text-align: right;\n",
              "    }\n",
              "</style>\n",
              "<table border=\"1\" class=\"dataframe\">\n",
              "  <thead>\n",
              "    <tr style=\"text-align: right;\">\n",
              "      <th></th>\n",
              "      <th>PH001</th>\n",
              "      <th>PH003</th>\n",
              "      <th>PH004</th>\n",
              "      <th>PH005</th>\n",
              "    </tr>\n",
              "  </thead>\n",
              "  <tbody>\n",
              "    <tr>\n",
              "      <th>2009-01-01</th>\n",
              "      <td>NaN</td>\n",
              "      <td>NaN</td>\n",
              "      <td>4.5</td>\n",
              "      <td>11</td>\n",
              "    </tr>\n",
              "    <tr>\n",
              "      <th>2009-01-02</th>\n",
              "      <td>NaN</td>\n",
              "      <td>NaN</td>\n",
              "      <td>NaN</td>\n",
              "      <td>9</td>\n",
              "    </tr>\n",
              "    <tr>\n",
              "      <th>2009-01-03</th>\n",
              "      <td>19.5</td>\n",
              "      <td>NaN</td>\n",
              "      <td>1</td>\n",
              "      <td>NaN</td>\n",
              "    </tr>\n",
              "    <tr>\n",
              "      <th>2009-01-04</th>\n",
              "      <td>2</td>\n",
              "      <td>0.6</td>\n",
              "      <td>32</td>\n",
              "      <td>70</td>\n",
              "    </tr>\n",
              "    <tr>\n",
              "      <th>2009-01-05</th>\n",
              "      <td>NaN</td>\n",
              "      <td>0.2</td>\n",
              "      <td>26.5</td>\n",
              "      <td>35</td>\n",
              "    </tr>\n",
              "    <tr>\n",
              "      <th>...</th>\n",
              "      <td>...</td>\n",
              "      <td>...</td>\n",
              "      <td>...</td>\n",
              "      <td>...</td>\n",
              "    </tr>\n",
              "    <tr>\n",
              "      <th>2018-12-27</th>\n",
              "      <td>0</td>\n",
              "      <td>0</td>\n",
              "      <td>0</td>\n",
              "      <td>0</td>\n",
              "    </tr>\n",
              "    <tr>\n",
              "      <th>2018-12-28</th>\n",
              "      <td>0</td>\n",
              "      <td>10</td>\n",
              "      <td>0</td>\n",
              "      <td>0</td>\n",
              "    </tr>\n",
              "    <tr>\n",
              "      <th>2018-12-29</th>\n",
              "      <td>0</td>\n",
              "      <td>0</td>\n",
              "      <td>0</td>\n",
              "      <td>0</td>\n",
              "    </tr>\n",
              "    <tr>\n",
              "      <th>2018-12-30</th>\n",
              "      <td>0</td>\n",
              "      <td>0</td>\n",
              "      <td>3</td>\n",
              "      <td>0</td>\n",
              "    </tr>\n",
              "    <tr>\n",
              "      <th>2018-12-31</th>\n",
              "      <td>0</td>\n",
              "      <td>0</td>\n",
              "      <td>0</td>\n",
              "      <td>0</td>\n",
              "    </tr>\n",
              "  </tbody>\n",
              "</table>\n",
              "<p>3652 rows × 4 columns</p>\n",
              "</div>"
            ]
          },
          "metadata": {},
          "execution_count": 8
        }
      ]
    },
    {
      "cell_type": "code",
      "source": [
        "# periksa isian yang invalid (bukan angka)\n",
        "\n",
        "from hidrokit.contrib.taruma import hk43\n",
        "\n",
        "for station in dataset_raw.columns:\n",
        "    print(f':: PERIKSA DATA YANG INVALID DI STASIUN {station}', end=': ')\n",
        "    print(list(hk43._check_invalid(dataset_raw[station], check=float).keys()))"
      ],
      "metadata": {
        "colab": {
          "base_uri": "https://localhost:8080/"
        },
        "id": "ev-_MbnoZvOw",
        "outputId": "ecff3f91-fd78-44f6-b384-77448038e728"
      },
      "execution_count": null,
      "outputs": [
        {
          "output_type": "stream",
          "name": "stdout",
          "text": [
            ":: PERIKSA DATA YANG INVALID DI STASIUN PH001: ['NaN', 'tad']\n",
            ":: PERIKSA DATA YANG INVALID DI STASIUN PH003: ['NaN', '-', 'tad']\n",
            ":: PERIKSA DATA YANG INVALID DI STASIUN PH004: ['NaN', '-', 'tad']\n",
            ":: PERIKSA DATA YANG INVALID DI STASIUN PH005: ['NaN', '-', 'tad']\n"
          ]
        }
      ]
    },
    {
      "cell_type": "code",
      "source": [
        "# mengubah 'tad' dan '-' menjadi NA (np.nan)\n",
        "\n",
        "dataset_clean = dataset_raw.copy()\n",
        "dataset_clean[dataset_clean == '-'] = np.nan\n",
        "dataset_clean[dataset_clean == 'tad'] = np.nan\n",
        "dataset_clean"
      ],
      "metadata": {
        "id": "bIZl9igPZw1o",
        "colab": {
          "base_uri": "https://localhost:8080/",
          "height": 424
        },
        "outputId": "7ad69075-d022-4d0b-956b-e9acf90978ed"
      },
      "execution_count": null,
      "outputs": [
        {
          "output_type": "execute_result",
          "data": {
            "text/plain": [
              "           PH001 PH003 PH004 PH005\n",
              "2009-01-01   NaN   NaN   4.5    11\n",
              "2009-01-02   NaN   NaN   NaN     9\n",
              "2009-01-03  19.5   NaN     1   NaN\n",
              "2009-01-04     2   0.6    32    70\n",
              "2009-01-05   NaN   0.2  26.5    35\n",
              "...          ...   ...   ...   ...\n",
              "2018-12-27     0     0     0     0\n",
              "2018-12-28     0    10     0     0\n",
              "2018-12-29     0     0     0     0\n",
              "2018-12-30     0     0     3     0\n",
              "2018-12-31     0     0     0     0\n",
              "\n",
              "[3652 rows x 4 columns]"
            ],
            "text/html": [
              "<div>\n",
              "<style scoped>\n",
              "    .dataframe tbody tr th:only-of-type {\n",
              "        vertical-align: middle;\n",
              "    }\n",
              "\n",
              "    .dataframe tbody tr th {\n",
              "        vertical-align: top;\n",
              "    }\n",
              "\n",
              "    .dataframe thead th {\n",
              "        text-align: right;\n",
              "    }\n",
              "</style>\n",
              "<table border=\"1\" class=\"dataframe\">\n",
              "  <thead>\n",
              "    <tr style=\"text-align: right;\">\n",
              "      <th></th>\n",
              "      <th>PH001</th>\n",
              "      <th>PH003</th>\n",
              "      <th>PH004</th>\n",
              "      <th>PH005</th>\n",
              "    </tr>\n",
              "  </thead>\n",
              "  <tbody>\n",
              "    <tr>\n",
              "      <th>2009-01-01</th>\n",
              "      <td>NaN</td>\n",
              "      <td>NaN</td>\n",
              "      <td>4.5</td>\n",
              "      <td>11</td>\n",
              "    </tr>\n",
              "    <tr>\n",
              "      <th>2009-01-02</th>\n",
              "      <td>NaN</td>\n",
              "      <td>NaN</td>\n",
              "      <td>NaN</td>\n",
              "      <td>9</td>\n",
              "    </tr>\n",
              "    <tr>\n",
              "      <th>2009-01-03</th>\n",
              "      <td>19.5</td>\n",
              "      <td>NaN</td>\n",
              "      <td>1</td>\n",
              "      <td>NaN</td>\n",
              "    </tr>\n",
              "    <tr>\n",
              "      <th>2009-01-04</th>\n",
              "      <td>2</td>\n",
              "      <td>0.6</td>\n",
              "      <td>32</td>\n",
              "      <td>70</td>\n",
              "    </tr>\n",
              "    <tr>\n",
              "      <th>2009-01-05</th>\n",
              "      <td>NaN</td>\n",
              "      <td>0.2</td>\n",
              "      <td>26.5</td>\n",
              "      <td>35</td>\n",
              "    </tr>\n",
              "    <tr>\n",
              "      <th>...</th>\n",
              "      <td>...</td>\n",
              "      <td>...</td>\n",
              "      <td>...</td>\n",
              "      <td>...</td>\n",
              "    </tr>\n",
              "    <tr>\n",
              "      <th>2018-12-27</th>\n",
              "      <td>0</td>\n",
              "      <td>0</td>\n",
              "      <td>0</td>\n",
              "      <td>0</td>\n",
              "    </tr>\n",
              "    <tr>\n",
              "      <th>2018-12-28</th>\n",
              "      <td>0</td>\n",
              "      <td>10</td>\n",
              "      <td>0</td>\n",
              "      <td>0</td>\n",
              "    </tr>\n",
              "    <tr>\n",
              "      <th>2018-12-29</th>\n",
              "      <td>0</td>\n",
              "      <td>0</td>\n",
              "      <td>0</td>\n",
              "      <td>0</td>\n",
              "    </tr>\n",
              "    <tr>\n",
              "      <th>2018-12-30</th>\n",
              "      <td>0</td>\n",
              "      <td>0</td>\n",
              "      <td>3</td>\n",
              "      <td>0</td>\n",
              "    </tr>\n",
              "    <tr>\n",
              "      <th>2018-12-31</th>\n",
              "      <td>0</td>\n",
              "      <td>0</td>\n",
              "      <td>0</td>\n",
              "      <td>0</td>\n",
              "    </tr>\n",
              "  </tbody>\n",
              "</table>\n",
              "<p>3652 rows × 4 columns</p>\n",
              "</div>"
            ]
          },
          "metadata": {},
          "execution_count": 10
        }
      ]
    },
    {
      "cell_type": "code",
      "source": [
        "# periksa kembali datasetnya\n",
        "\n",
        "for station in dataset_clean.columns:\n",
        "    print(f':: PERIKSA DATA YANG INVALID DI STASIUN {station}', end=': ')\n",
        "    print(list(hk43._check_invalid(dataset_clean[station], check=float).keys()))"
      ],
      "metadata": {
        "colab": {
          "base_uri": "https://localhost:8080/"
        },
        "id": "1jmwAKXdSIzX",
        "outputId": "43398016-9ac7-4764-aff7-2bbb2c0965d7"
      },
      "execution_count": null,
      "outputs": [
        {
          "output_type": "stream",
          "name": "stdout",
          "text": [
            ":: PERIKSA DATA YANG INVALID DI STASIUN PH001: ['NaN']\n",
            ":: PERIKSA DATA YANG INVALID DI STASIUN PH003: ['NaN']\n",
            ":: PERIKSA DATA YANG INVALID DI STASIUN PH004: ['NaN']\n",
            ":: PERIKSA DATA YANG INVALID DI STASIUN PH005: ['NaN']\n"
          ]
        }
      ]
    },
    {
      "cell_type": "code",
      "source": [
        "# periksa datatype dataframe\n",
        "\n",
        "dataset_clean.info()"
      ],
      "metadata": {
        "colab": {
          "base_uri": "https://localhost:8080/"
        },
        "id": "qv0PTL9nHynM",
        "outputId": "1ad90f13-dd4b-41fc-fd92-977496b19f89"
      },
      "execution_count": null,
      "outputs": [
        {
          "output_type": "stream",
          "name": "stdout",
          "text": [
            "<class 'pandas.core.frame.DataFrame'>\n",
            "DatetimeIndex: 3652 entries, 2009-01-01 to 2018-12-31\n",
            "Freq: D\n",
            "Data columns (total 4 columns):\n",
            " #   Column  Non-Null Count  Dtype \n",
            "---  ------  --------------  ----- \n",
            " 0   PH001   3277 non-null   object\n",
            " 1   PH003   2809 non-null   object\n",
            " 2   PH004   3001 non-null   object\n",
            " 3   PH005   3290 non-null   object\n",
            "dtypes: object(4)\n",
            "memory usage: 142.7+ KB\n"
          ]
        }
      ]
    },
    {
      "cell_type": "code",
      "source": [
        "# ubah ke tipe data yang sesuai \n",
        "\n",
        "dataset_clean = dataset_clean.infer_objects()\n",
        "dataset_clean.info()"
      ],
      "metadata": {
        "colab": {
          "base_uri": "https://localhost:8080/"
        },
        "id": "A_aqy_YVSskQ",
        "outputId": "65e3ae55-914c-4886-ea72-7d1267369303"
      },
      "execution_count": null,
      "outputs": [
        {
          "output_type": "stream",
          "name": "stdout",
          "text": [
            "<class 'pandas.core.frame.DataFrame'>\n",
            "DatetimeIndex: 3652 entries, 2009-01-01 to 2018-12-31\n",
            "Freq: D\n",
            "Data columns (total 4 columns):\n",
            " #   Column  Non-Null Count  Dtype  \n",
            "---  ------  --------------  -----  \n",
            " 0   PH001   3277 non-null   float64\n",
            " 1   PH003   2809 non-null   float64\n",
            " 2   PH004   3001 non-null   float64\n",
            " 3   PH005   3290 non-null   float64\n",
            "dtypes: float64(4)\n",
            "memory usage: 142.7 KB\n"
          ]
        }
      ]
    },
    {
      "cell_type": "code",
      "source": [
        "# check apakah jumlah datanya sesuai atau tidak\n",
        "\n",
        "pd.date_range('2009-01-01', '2018-12-31', freq='D')"
      ],
      "metadata": {
        "colab": {
          "base_uri": "https://localhost:8080/"
        },
        "id": "3hp7w1X0HzzM",
        "outputId": "d2d5dd68-4d62-4b8b-cc30-04ac4ee3a6fc"
      },
      "execution_count": null,
      "outputs": [
        {
          "output_type": "execute_result",
          "data": {
            "text/plain": [
              "DatetimeIndex(['2009-01-01', '2009-01-02', '2009-01-03', '2009-01-04',\n",
              "               '2009-01-05', '2009-01-06', '2009-01-07', '2009-01-08',\n",
              "               '2009-01-09', '2009-01-10',\n",
              "               ...\n",
              "               '2018-12-22', '2018-12-23', '2018-12-24', '2018-12-25',\n",
              "               '2018-12-26', '2018-12-27', '2018-12-28', '2018-12-29',\n",
              "               '2018-12-30', '2018-12-31'],\n",
              "              dtype='datetime64[ns]', length=3652, freq='D')"
            ]
          },
          "metadata": {},
          "execution_count": 14
        }
      ]
    },
    {
      "cell_type": "markdown",
      "source": [
        "# PRAPEMROSESAN DATA"
      ],
      "metadata": {
        "id": "AV8RQE0HnJ5f"
      }
    },
    {
      "cell_type": "code",
      "source": [
        "# buat hujan wilayah dengan dirata-ratakan dan mengabaikan nilai NAN\n",
        "\n",
        "dataset_clean_average = pd.DataFrame(dataset_clean.mean(axis=1, skipna=True), columns=['hujan'])\n",
        "dataset_clean_average"
      ],
      "metadata": {
        "colab": {
          "base_uri": "https://localhost:8080/",
          "height": 424
        },
        "id": "Csk2QsNAb8Ld",
        "outputId": "4cc56b53-6581-45fa-8039-3a3f52d8d705"
      },
      "execution_count": null,
      "outputs": [
        {
          "output_type": "execute_result",
          "data": {
            "text/plain": [
              "                hujan\n",
              "2009-01-01   7.750000\n",
              "2009-01-02   9.000000\n",
              "2009-01-03  10.250000\n",
              "2009-01-04  26.150000\n",
              "2009-01-05  20.566667\n",
              "...               ...\n",
              "2018-12-27   0.000000\n",
              "2018-12-28   2.500000\n",
              "2018-12-29   0.000000\n",
              "2018-12-30   0.750000\n",
              "2018-12-31   0.000000\n",
              "\n",
              "[3652 rows x 1 columns]"
            ],
            "text/html": [
              "<div>\n",
              "<style scoped>\n",
              "    .dataframe tbody tr th:only-of-type {\n",
              "        vertical-align: middle;\n",
              "    }\n",
              "\n",
              "    .dataframe tbody tr th {\n",
              "        vertical-align: top;\n",
              "    }\n",
              "\n",
              "    .dataframe thead th {\n",
              "        text-align: right;\n",
              "    }\n",
              "</style>\n",
              "<table border=\"1\" class=\"dataframe\">\n",
              "  <thead>\n",
              "    <tr style=\"text-align: right;\">\n",
              "      <th></th>\n",
              "      <th>hujan</th>\n",
              "    </tr>\n",
              "  </thead>\n",
              "  <tbody>\n",
              "    <tr>\n",
              "      <th>2009-01-01</th>\n",
              "      <td>7.750000</td>\n",
              "    </tr>\n",
              "    <tr>\n",
              "      <th>2009-01-02</th>\n",
              "      <td>9.000000</td>\n",
              "    </tr>\n",
              "    <tr>\n",
              "      <th>2009-01-03</th>\n",
              "      <td>10.250000</td>\n",
              "    </tr>\n",
              "    <tr>\n",
              "      <th>2009-01-04</th>\n",
              "      <td>26.150000</td>\n",
              "    </tr>\n",
              "    <tr>\n",
              "      <th>2009-01-05</th>\n",
              "      <td>20.566667</td>\n",
              "    </tr>\n",
              "    <tr>\n",
              "      <th>...</th>\n",
              "      <td>...</td>\n",
              "    </tr>\n",
              "    <tr>\n",
              "      <th>2018-12-27</th>\n",
              "      <td>0.000000</td>\n",
              "    </tr>\n",
              "    <tr>\n",
              "      <th>2018-12-28</th>\n",
              "      <td>2.500000</td>\n",
              "    </tr>\n",
              "    <tr>\n",
              "      <th>2018-12-29</th>\n",
              "      <td>0.000000</td>\n",
              "    </tr>\n",
              "    <tr>\n",
              "      <th>2018-12-30</th>\n",
              "      <td>0.750000</td>\n",
              "    </tr>\n",
              "    <tr>\n",
              "      <th>2018-12-31</th>\n",
              "      <td>0.000000</td>\n",
              "    </tr>\n",
              "  </tbody>\n",
              "</table>\n",
              "<p>3652 rows × 1 columns</p>\n",
              "</div>"
            ]
          },
          "metadata": {},
          "execution_count": 15
        }
      ]
    },
    {
      "cell_type": "code",
      "source": [
        "# eksplorasi dataset\n",
        "# pd.pivot_table(\n",
        "#     dataset_clean.resample('MS').mean(), index=dataset_monthly.index.year,\n",
        "#     columns=dataset_monthly.index.month\n",
        "# )"
      ],
      "metadata": {
        "id": "WZs5EAsmNw6E"
      },
      "execution_count": null,
      "outputs": []
    },
    {
      "cell_type": "code",
      "source": [
        "# cek kelengkapan data hujan wilayah\n",
        "\n",
        "dataset_clean_average.info()"
      ],
      "metadata": {
        "colab": {
          "base_uri": "https://localhost:8080/"
        },
        "id": "-ID9t0QZfe0L",
        "outputId": "9b133e4b-5558-48cb-a096-5fc8f2796ecd"
      },
      "execution_count": null,
      "outputs": [
        {
          "output_type": "stream",
          "name": "stdout",
          "text": [
            "<class 'pandas.core.frame.DataFrame'>\n",
            "DatetimeIndex: 3652 entries, 2009-01-01 to 2018-12-31\n",
            "Freq: D\n",
            "Data columns (total 1 columns):\n",
            " #   Column  Non-Null Count  Dtype  \n",
            "---  ------  --------------  -----  \n",
            " 0   hujan   3465 non-null   float64\n",
            "dtypes: float64(1)\n",
            "memory usage: 57.1 KB\n"
          ]
        }
      ]
    },
    {
      "cell_type": "code",
      "source": [
        "# dataset_clean_average[dataset_clean_average.hujan.isnull()]"
      ],
      "metadata": {
        "id": "Qv-1HNTaSTVz"
      },
      "execution_count": null,
      "outputs": []
    },
    {
      "cell_type": "code",
      "source": [
        "# data di rekap setiap bulannya dengan nilai maksimum\n",
        "\n",
        "dataset_monthly = dataset_clean_average.resample('MS').max()\n",
        "dataset_monthly"
      ],
      "metadata": {
        "id": "n_pk1VGY1BJl",
        "colab": {
          "base_uri": "https://localhost:8080/",
          "height": 424
        },
        "outputId": "df078e95-9f82-42f1-b388-3adf34bac419"
      },
      "execution_count": null,
      "outputs": [
        {
          "output_type": "execute_result",
          "data": {
            "text/plain": [
              "             hujan\n",
              "2009-01-01   35.25\n",
              "2009-02-01   43.00\n",
              "2009-03-01   82.50\n",
              "2009-04-01   30.50\n",
              "2009-05-01  125.00\n",
              "...            ...\n",
              "2018-08-01   10.00\n",
              "2018-09-01   29.75\n",
              "2018-10-01   18.50\n",
              "2018-11-01   38.50\n",
              "2018-12-01   24.75\n",
              "\n",
              "[120 rows x 1 columns]"
            ],
            "text/html": [
              "<div>\n",
              "<style scoped>\n",
              "    .dataframe tbody tr th:only-of-type {\n",
              "        vertical-align: middle;\n",
              "    }\n",
              "\n",
              "    .dataframe tbody tr th {\n",
              "        vertical-align: top;\n",
              "    }\n",
              "\n",
              "    .dataframe thead th {\n",
              "        text-align: right;\n",
              "    }\n",
              "</style>\n",
              "<table border=\"1\" class=\"dataframe\">\n",
              "  <thead>\n",
              "    <tr style=\"text-align: right;\">\n",
              "      <th></th>\n",
              "      <th>hujan</th>\n",
              "    </tr>\n",
              "  </thead>\n",
              "  <tbody>\n",
              "    <tr>\n",
              "      <th>2009-01-01</th>\n",
              "      <td>35.25</td>\n",
              "    </tr>\n",
              "    <tr>\n",
              "      <th>2009-02-01</th>\n",
              "      <td>43.00</td>\n",
              "    </tr>\n",
              "    <tr>\n",
              "      <th>2009-03-01</th>\n",
              "      <td>82.50</td>\n",
              "    </tr>\n",
              "    <tr>\n",
              "      <th>2009-04-01</th>\n",
              "      <td>30.50</td>\n",
              "    </tr>\n",
              "    <tr>\n",
              "      <th>2009-05-01</th>\n",
              "      <td>125.00</td>\n",
              "    </tr>\n",
              "    <tr>\n",
              "      <th>...</th>\n",
              "      <td>...</td>\n",
              "    </tr>\n",
              "    <tr>\n",
              "      <th>2018-08-01</th>\n",
              "      <td>10.00</td>\n",
              "    </tr>\n",
              "    <tr>\n",
              "      <th>2018-09-01</th>\n",
              "      <td>29.75</td>\n",
              "    </tr>\n",
              "    <tr>\n",
              "      <th>2018-10-01</th>\n",
              "      <td>18.50</td>\n",
              "    </tr>\n",
              "    <tr>\n",
              "      <th>2018-11-01</th>\n",
              "      <td>38.50</td>\n",
              "    </tr>\n",
              "    <tr>\n",
              "      <th>2018-12-01</th>\n",
              "      <td>24.75</td>\n",
              "    </tr>\n",
              "  </tbody>\n",
              "</table>\n",
              "<p>120 rows × 1 columns</p>\n",
              "</div>"
            ]
          },
          "metadata": {},
          "execution_count": 19
        }
      ]
    },
    {
      "cell_type": "code",
      "source": [
        "# cek kelengkapan data\n",
        "\n",
        "dataset_monthly.info()"
      ],
      "metadata": {
        "colab": {
          "base_uri": "https://localhost:8080/"
        },
        "id": "nO5kH0IHhVFh",
        "outputId": "59da7039-cd8d-440a-9ca0-2a4c358fb5d2"
      },
      "execution_count": null,
      "outputs": [
        {
          "output_type": "stream",
          "name": "stdout",
          "text": [
            "<class 'pandas.core.frame.DataFrame'>\n",
            "DatetimeIndex: 120 entries, 2009-01-01 to 2018-12-01\n",
            "Freq: MS\n",
            "Data columns (total 1 columns):\n",
            " #   Column  Non-Null Count  Dtype  \n",
            "---  ------  --------------  -----  \n",
            " 0   hujan   120 non-null    float64\n",
            "dtypes: float64(1)\n",
            "memory usage: 1.9 KB\n"
          ]
        }
      ]
    },
    {
      "cell_type": "code",
      "source": [
        "# plot grafik data bulanan maksimum\n",
        "\n",
        "dataset_monthly.plot();"
      ],
      "metadata": {
        "colab": {
          "base_uri": "https://localhost:8080/",
          "height": 261
        },
        "id": "OOzPU9OZhZGj",
        "outputId": "4025f6d7-4f5c-4962-949c-02fbde52a5db"
      },
      "execution_count": null,
      "outputs": [
        {
          "output_type": "display_data",
          "data": {
            "text/plain": [
              "<Figure size 432x288 with 1 Axes>"
            ],
            "image/png": "[encoded data removed]"
          },
          "metadata": {}
        }
      ]
    },
    {
      "cell_type": "code",
      "source": [
        "# kemudian direkap kembali setiap tahunnya dengan nilai maksimum\n",
        "\n",
        "dataset_r24 = dataset_monthly.resample('YS').max()\n",
        "dataset_r24"
      ],
      "metadata": {
        "colab": {
          "base_uri": "https://localhost:8080/",
          "height": 363
        },
        "id": "cg8k1As3UL_l",
        "outputId": "1016bdd2-ddd9-499d-8bda-18a2599caac1"
      },
      "execution_count": null,
      "outputs": [
        {
          "output_type": "execute_result",
          "data": {
            "text/plain": [
              "                 hujan\n",
              "2009-01-01  125.000000\n",
              "2010-01-01  307.000000\n",
              "2011-01-01  173.333333\n",
              "2012-01-01   28.750000\n",
              "2013-01-01   92.400000\n",
              "2014-01-01   37.050000\n",
              "2015-01-01   36.100000\n",
              "2016-01-01   34.675000\n",
              "2017-01-01   81.425000\n",
              "2018-01-01   48.750000"
            ],
            "text/html": [
              "<div>\n",
              "<style scoped>\n",
              "    .dataframe tbody tr th:only-of-type {\n",
              "        vertical-align: middle;\n",
              "    }\n",
              "\n",
              "    .dataframe tbody tr th {\n",
              "        vertical-align: top;\n",
              "    }\n",
              "\n",
              "    .dataframe thead th {\n",
              "        text-align: right;\n",
              "    }\n",
              "</style>\n",
              "<table border=\"1\" class=\"dataframe\">\n",
              "  <thead>\n",
              "    <tr style=\"text-align: right;\">\n",
              "      <th></th>\n",
              "      <th>hujan</th>\n",
              "    </tr>\n",
              "  </thead>\n",
              "  <tbody>\n",
              "    <tr>\n",
              "      <th>2009-01-01</th>\n",
              "      <td>125.000000</td>\n",
              "    </tr>\n",
              "    <tr>\n",
              "      <th>2010-01-01</th>\n",
              "      <td>307.000000</td>\n",
              "    </tr>\n",
              "    <tr>\n",
              "      <th>2011-01-01</th>\n",
              "      <td>173.333333</td>\n",
              "    </tr>\n",
              "    <tr>\n",
              "      <th>2012-01-01</th>\n",
              "      <td>28.750000</td>\n",
              "    </tr>\n",
              "    <tr>\n",
              "      <th>2013-01-01</th>\n",
              "      <td>92.400000</td>\n",
              "    </tr>\n",
              "    <tr>\n",
              "      <th>2014-01-01</th>\n",
              "      <td>37.050000</td>\n",
              "    </tr>\n",
              "    <tr>\n",
              "      <th>2015-01-01</th>\n",
              "      <td>36.100000</td>\n",
              "    </tr>\n",
              "    <tr>\n",
              "      <th>2016-01-01</th>\n",
              "      <td>34.675000</td>\n",
              "    </tr>\n",
              "    <tr>\n",
              "      <th>2017-01-01</th>\n",
              "      <td>81.425000</td>\n",
              "    </tr>\n",
              "    <tr>\n",
              "      <th>2018-01-01</th>\n",
              "      <td>48.750000</td>\n",
              "    </tr>\n",
              "  </tbody>\n",
              "</table>\n",
              "</div>"
            ]
          },
          "metadata": {},
          "execution_count": 22
        }
      ]
    },
    {
      "cell_type": "markdown",
      "source": [
        "# UJI OUTLIER (BULAN DAN TAHUN)"
      ],
      "metadata": {
        "id": "TmEW0ag_OQgK"
      }
    },
    {
      "cell_type": "code",
      "source": [
        "# periksa data dengan uji outlier untuk data bulanan\n",
        "\n",
        "from hidrokit.contrib.taruma import hk151\n",
        "\n",
        "outlier_boundary_monthly = hk151.calc_boundary(dataset_monthly[dataset_monthly.hujan != 0])\n",
        "outlier_boundary_monthly"
      ],
      "metadata": {
        "colab": {
          "base_uri": "https://localhost:8080/"
        },
        "id": "Ya5OkrBZO9lM",
        "outputId": "5bedccf1-ee35-490e-826b-3b42e1f3a21a"
      },
      "execution_count": null,
      "outputs": [
        {
          "output_type": "execute_result",
          "data": {
            "text/plain": [
              "(1.5436683423343482, 691.7076981433444)"
            ]
          },
          "metadata": {},
          "execution_count": 23
        }
      ]
    },
    {
      "cell_type": "code",
      "source": [
        "# periksa data dengan uji outlier untuk data bulanan\n",
        "\n",
        "from hidrokit.contrib.taruma import hk151\n",
        "\n",
        "outlier_monthly = hk151.find_outlier(dataset_monthly[dataset_monthly.hujan != 0])\n",
        "\n",
        "if outlier_monthly is not None:\n",
        "    print(outlier_monthly[outlier_monthly.outlier.notnull()])"
      ],
      "metadata": {
        "colab": {
          "base_uri": "https://localhost:8080/"
        },
        "id": "co8ljh52hvxC",
        "outputId": "68ea8f2e-2b85-4739-cf18-fcbfad9bdf08"
      },
      "execution_count": null,
      "outputs": [
        {
          "output_type": "stream",
          "name": "stdout",
          "text": [
            "            hujan outlier\n",
            "2012-07-01   0.95   lower\n"
          ]
        }
      ]
    },
    {
      "cell_type": "code",
      "source": [
        "def plot_outlier(dataset, outlier_boundary, title='uji outlier'):\n",
        "    fig, ax = plt.subplots(figsize=(20,4))\n",
        "\n",
        "    ax.scatter(dataset.index, dataset.hujan, label='Hujan', marker='o')\n",
        "    ax.set_ylabel('Hujan (mm)')\n",
        "    ax.set_xlabel('Tanggal')\n",
        "    ax.set_ylim([0, max([outlier_boundary[1], dataset.hujan.max()]) + 50])\n",
        "    ax.axhline(y=outlier_boundary[0], ls='--', c='red')\n",
        "    ax.axhline(y=outlier_boundary[1], ls='--', c='red')\n",
        "    ax.legend();\n",
        "    \n",
        "    fig.suptitle(title.title(), size='x-large', fontweight='bold')\n",
        "    fig.tight_layout(rect=[0, 0.03, 1, 1])\n",
        "\n",
        "    return fig, ax"
      ],
      "metadata": {
        "id": "KDpeUNIKTfz8"
      },
      "execution_count": null,
      "outputs": []
    },
    {
      "cell_type": "code",
      "source": [
        "plot_outlier(dataset_monthly, outlier_boundary_monthly, title='uji outlier data bulanan');"
      ],
      "metadata": {
        "colab": {
          "base_uri": "https://localhost:8080/",
          "height": 294
        },
        "id": "MjKfcYxiOU5t",
        "outputId": "b2d9dbc6-eafc-4abc-b684-009904adef0d"
      },
      "execution_count": null,
      "outputs": [
        {
          "output_type": "display_data",
          "data": {
            "text/plain": [
              "<Figure size 1440x288 with 1 Axes>"
            ],
            "image/png": "[encoded data removed]"
          },
          "metadata": {}
        }
      ]
    },
    {
      "cell_type": "code",
      "source": [
        "# uji outlier untuk data tahunan\n",
        "\n",
        "outlier_boundary_r24 = hk151.calc_boundary(dataset_r24)\n",
        "outlier_boundary_r24"
      ],
      "metadata": {
        "colab": {
          "base_uri": "https://localhost:8080/"
        },
        "id": "uwHp11KNiryB",
        "outputId": "24013250-ea2c-4716-e6a6-2b4646bfb42c"
      },
      "execution_count": null,
      "outputs": [
        {
          "output_type": "execute_result",
          "data": {
            "text/plain": [
              "(14.043086515260704, 358.9172589309031)"
            ]
          },
          "metadata": {},
          "execution_count": 27
        }
      ]
    },
    {
      "cell_type": "code",
      "source": [
        "plot_outlier(dataset_r24, outlier_boundary_r24, title='uji outlier data r24');"
      ],
      "metadata": {
        "colab": {
          "base_uri": "https://localhost:8080/",
          "height": 294
        },
        "id": "LPGxTA67Tmz-",
        "outputId": "b80251f1-d6de-4e0e-f9ff-6ec1004a1789"
      },
      "execution_count": null,
      "outputs": [
        {
          "output_type": "display_data",
          "data": {
            "text/plain": [
              "<Figure size 1440x288 with 1 Axes>"
            ],
            "image/png": "[encoded data removed]"
          },
          "metadata": {}
        }
      ]
    },
    {
      "cell_type": "code",
      "source": [
        "if hk151.find_outlier(dataset_r24) is not None:\n",
        "    print('Ada Outlier')"
      ],
      "metadata": {
        "colab": {
          "base_uri": "https://localhost:8080/"
        },
        "id": "9mEXvm6CT3Vn",
        "outputId": "eab88aae-ef4f-483e-e5e6-bb9c76f6f9ec"
      },
      "execution_count": null,
      "outputs": [
        {
          "output_type": "stream",
          "name": "stdout",
          "text": [
            "Tidak ada Outlier\n"
          ]
        }
      ]
    },
    {
      "cell_type": "markdown",
      "source": [
        "# PARAMETER STATISTIK"
      ],
      "metadata": {
        "id": "McA9MBhqnGpF"
      }
    },
    {
      "cell_type": "code",
      "source": [
        "# uji dispersi atau parameter statistik untuk lihat jenis sebaran\n",
        "\n",
        "from hidrokit.contrib.taruma import hk158\n",
        "\n",
        "hk158.check_distribution(dataset_r24.hujan, show_stat=True, show_detail=True)"
      ],
      "metadata": {
        "colab": {
          "base_uri": "https://localhost:8080/"
        },
        "id": "3eZhbvRxm-Ll",
        "outputId": "ab859dad-671c-4162-929b-b4e5e40e9d30"
      },
      "execution_count": null,
      "outputs": [
        {
          "output_type": "stream",
          "name": "stdout",
          "text": [
            "Cv = 0.90879\n",
            "Cs = 1.79945\n",
            "Ck = 6.94973\n",
            "Normal              : Tidak Memenuhi\n",
            "Log Normal          : Tidak Memenuhi\n",
            "Gumbel Tipe I       : Tidak Memenuhi\n",
            "Log Pearson Tipe III: Memenuhi\n",
            "-----------------------------------------------\n",
            "> Distribusi Normal [syarat](nilai)\n",
            "[Cs ~ 0](Cs = 1.79945)\n",
            "[Ck ~ 3](Ck = 6.94973)\n",
            "> Log Normal\n",
            "[Cs ~ 3](Cs = 1.79945)\n",
            "[Cs > 0](Cs = 1.79945)\n",
            "[Cs ~ 3Cv](Cs = 1.79945 ~ 3Cv = 2.72637)\n",
            "> Gumbel Tipe I\n",
            "[Cs ~ 1.1396](Cs = 1.79945)\n",
            "[Ck ~ 5.4002](Ck = 6.94973)\n",
            "> Log Pearson Tipe III\n",
            "Tidak memiliki ciri khas (Cs/Ck/Cv = Bebas)\n",
            "-----------------------------------------------\n"
          ]
        }
      ]
    },
    {
      "cell_type": "markdown",
      "source": [
        "# ANALISIS FREKUENSI"
      ],
      "metadata": {
        "id": "sU3_6c_enxFk"
      }
    },
    {
      "cell_type": "code",
      "source": [
        "from hidrokit.contrib.taruma import anfrek"
      ],
      "metadata": {
        "id": "ELAWPVyQnahC"
      },
      "execution_count": null,
      "outputs": []
    },
    {
      "cell_type": "markdown",
      "source": [
        "## NORMAL (hk172)"
      ],
      "metadata": {
        "id": "zJThs9i5n-kG"
      }
    },
    {
      "cell_type": "code",
      "source": [
        "# pada hk172 terdapat 1 sumber tabel (yaitu soewarno)\n",
        "# defaultnya menggunakan scipy\n",
        "\n",
        "normal_source = ['soewarno', 'scipy']\n",
        "\n",
        "table_normal = []\n",
        "\n",
        "for _source in normal_source:\n",
        "    table_normal.append(anfrek.freq_normal(dataset_r24, 'hujan', source=_source, col_name=f'Normal ({_source.title()})'))\n",
        "\n",
        "table_normal = pd.concat(table_normal, axis=1)\n",
        "table_normal"
      ],
      "metadata": {
        "colab": {
          "base_uri": "https://localhost:8080/",
          "height": 300
        },
        "id": "x5ahJ_Apn94B",
        "outputId": "2967b714-5611-4a30-db82-f39ed53aa8ef"
      },
      "execution_count": null,
      "outputs": [
        {
          "output_type": "execute_result",
          "data": {
            "text/plain": [
              "            Normal (Soewarno)  Normal (Scipy)\n",
              "Kala Ulang                                   \n",
              "2                   96.448333       96.448333\n",
              "5                  170.075460      170.217563\n",
              "10                 208.642050      208.778047\n",
              "20                 240.196533      240.621959\n",
              "25                 246.186041      249.898315\n",
              "50                 276.133582      276.462179\n",
              "100                300.675958      300.355844"
            ],
            "text/html": [
              "<div>\n",
              "<style scoped>\n",
              "    .dataframe tbody tr th:only-of-type {\n",
              "        vertical-align: middle;\n",
              "    }\n",
              "\n",
              "    .dataframe tbody tr th {\n",
              "        vertical-align: top;\n",
              "    }\n",
              "\n",
              "    .dataframe thead th {\n",
              "        text-align: right;\n",
              "    }\n",
              "</style>\n",
              "<table border=\"1\" class=\"dataframe\">\n",
              "  <thead>\n",
              "    <tr style=\"text-align: right;\">\n",
              "      <th></th>\n",
              "      <th>Normal (Soewarno)</th>\n",
              "      <th>Normal (Scipy)</th>\n",
              "    </tr>\n",
              "    <tr>\n",
              "      <th>Kala Ulang</th>\n",
              "      <th></th>\n",
              "      <th></th>\n",
              "    </tr>\n",
              "  </thead>\n",
              "  <tbody>\n",
              "    <tr>\n",
              "      <th>2</th>\n",
              "      <td>96.448333</td>\n",
              "      <td>96.448333</td>\n",
              "    </tr>\n",
              "    <tr>\n",
              "      <th>5</th>\n",
              "      <td>170.075460</td>\n",
              "      <td>170.217563</td>\n",
              "    </tr>\n",
              "    <tr>\n",
              "      <th>10</th>\n",
              "      <td>208.642050</td>\n",
              "      <td>208.778047</td>\n",
              "    </tr>\n",
              "    <tr>\n",
              "      <th>20</th>\n",
              "      <td>240.196533</td>\n",
              "      <td>240.621959</td>\n",
              "    </tr>\n",
              "    <tr>\n",
              "      <th>25</th>\n",
              "      <td>246.186041</td>\n",
              "      <td>249.898315</td>\n",
              "    </tr>\n",
              "    <tr>\n",
              "      <th>50</th>\n",
              "      <td>276.133582</td>\n",
              "      <td>276.462179</td>\n",
              "    </tr>\n",
              "    <tr>\n",
              "      <th>100</th>\n",
              "      <td>300.675958</td>\n",
              "      <td>300.355844</td>\n",
              "    </tr>\n",
              "  </tbody>\n",
              "</table>\n",
              "</div>"
            ]
          },
          "metadata": {},
          "execution_count": 32
        }
      ]
    },
    {
      "cell_type": "code",
      "source": [
        "# plot perbandingan hasil\n",
        "\n",
        "table_normal.plot();"
      ],
      "metadata": {
        "colab": {
          "base_uri": "https://localhost:8080/",
          "height": 274
        },
        "id": "64qPD_cTrAIl",
        "outputId": "6b29bb15-e0c9-4448-caa1-735e293bfc95"
      },
      "execution_count": null,
      "outputs": [
        {
          "output_type": "display_data",
          "data": {
            "text/plain": [
              "<Figure size 432x288 with 1 Axes>"
            ],
            "image/png": "[encoded data removed]"
          },
          "metadata": {}
        }
      ]
    },
    {
      "cell_type": "code",
      "source": [
        "# menghitung delta/selisih terhadap nilai scipy (default)\n",
        "\n",
        "table_normal['delta'] = table_normal['Normal (Scipy)'] - table_normal['Normal (Soewarno)']\n",
        "table_normal "
      ],
      "metadata": {
        "colab": {
          "base_uri": "https://localhost:8080/",
          "height": 300
        },
        "id": "5hjBiqEcq3PR",
        "outputId": "e150cd07-63b1-47b6-cace-5cbc9ca934a8"
      },
      "execution_count": null,
      "outputs": [
        {
          "output_type": "execute_result",
          "data": {
            "text/plain": [
              "            Normal (Soewarno)  Normal (Scipy)     delta\n",
              "Kala Ulang                                             \n",
              "2                   96.448333       96.448333  0.000000\n",
              "5                  170.075460      170.217563  0.142103\n",
              "10                 208.642050      208.778047  0.135997\n",
              "20                 240.196533      240.621959  0.425427\n",
              "25                 246.186041      249.898315  3.712274\n",
              "50                 276.133582      276.462179  0.328597\n",
              "100                300.675958      300.355844 -0.320114"
            ],
            "text/html": [
              "<div>\n",
              "<style scoped>\n",
              "    .dataframe tbody tr th:only-of-type {\n",
              "        vertical-align: middle;\n",
              "    }\n",
              "\n",
              "    .dataframe tbody tr th {\n",
              "        vertical-align: top;\n",
              "    }\n",
              "\n",
              "    .dataframe thead th {\n",
              "        text-align: right;\n",
              "    }\n",
              "</style>\n",
              "<table border=\"1\" class=\"dataframe\">\n",
              "  <thead>\n",
              "    <tr style=\"text-align: right;\">\n",
              "      <th></th>\n",
              "      <th>Normal (Soewarno)</th>\n",
              "      <th>Normal (Scipy)</th>\n",
              "      <th>delta</th>\n",
              "    </tr>\n",
              "    <tr>\n",
              "      <th>Kala Ulang</th>\n",
              "      <th></th>\n",
              "      <th></th>\n",
              "      <th></th>\n",
              "    </tr>\n",
              "  </thead>\n",
              "  <tbody>\n",
              "    <tr>\n",
              "      <th>2</th>\n",
              "      <td>96.448333</td>\n",
              "      <td>96.448333</td>\n",
              "      <td>0.000000</td>\n",
              "    </tr>\n",
              "    <tr>\n",
              "      <th>5</th>\n",
              "      <td>170.075460</td>\n",
              "      <td>170.217563</td>\n",
              "      <td>0.142103</td>\n",
              "    </tr>\n",
              "    <tr>\n",
              "      <th>10</th>\n",
              "      <td>208.642050</td>\n",
              "      <td>208.778047</td>\n",
              "      <td>0.135997</td>\n",
              "    </tr>\n",
              "    <tr>\n",
              "      <th>20</th>\n",
              "      <td>240.196533</td>\n",
              "      <td>240.621959</td>\n",
              "      <td>0.425427</td>\n",
              "    </tr>\n",
              "    <tr>\n",
              "      <th>25</th>\n",
              "      <td>246.186041</td>\n",
              "      <td>249.898315</td>\n",
              "      <td>3.712274</td>\n",
              "    </tr>\n",
              "    <tr>\n",
              "      <th>50</th>\n",
              "      <td>276.133582</td>\n",
              "      <td>276.462179</td>\n",
              "      <td>0.328597</td>\n",
              "    </tr>\n",
              "    <tr>\n",
              "      <th>100</th>\n",
              "      <td>300.675958</td>\n",
              "      <td>300.355844</td>\n",
              "      <td>-0.320114</td>\n",
              "    </tr>\n",
              "  </tbody>\n",
              "</table>\n",
              "</div>"
            ]
          },
          "metadata": {},
          "execution_count": 34
        }
      ]
    },
    {
      "cell_type": "code",
      "source": [
        "# plot delta\n",
        "# (table_normal.delta / table_normal['Normal (Scipy)'] * 100).plot.bar(); # dalam persentase\n",
        "\n",
        "table_normal.delta.plot.bar();"
      ],
      "metadata": {
        "colab": {
          "base_uri": "https://localhost:8080/",
          "height": 282
        },
        "id": "mFAfZh-vrLEs",
        "outputId": "869ea56b-52d1-4ade-db83-124eb209bed4"
      },
      "execution_count": null,
      "outputs": [
        {
          "output_type": "display_data",
          "data": {
            "text/plain": [
              "<Figure size 432x288 with 1 Axes>"
            ],
            "image/png": "[encoded data removed]"
          },
          "metadata": {}
        }
      ]
    },
    {
      "cell_type": "code",
      "source": [
        "# anfrek.normal.t_normal_sw\n",
        "# nilai k untuk 25 tahun hasil interpolasi"
      ],
      "metadata": {
        "id": "3e5HQQXdWF27"
      },
      "execution_count": null,
      "outputs": []
    },
    {
      "cell_type": "markdown",
      "source": [
        "## LOG NORMAL (hk124)"
      ],
      "metadata": {
        "id": "EmmsuQDHrX6-"
      }
    },
    {
      "cell_type": "code",
      "source": [
        "# sama halnya dengan distribusi normal, terdapat 1 tabel yaitu soewarno\n",
        "# sumber default='scipy'\n",
        "\n",
        "lognormal_source = ['soewarno', 'scipy']\n",
        "\n",
        "table_lognormal = []\n",
        "\n",
        "for _source in lognormal_source:\n",
        "    table_lognormal.append(anfrek.freq_lognormal(dataset_r24, 'hujan', source=_source, col_name=f'Log Normal ({_source.title()})'))\n",
        "\n",
        "table_lognormal = pd.concat(table_lognormal, axis=1)\n",
        "table_lognormal"
      ],
      "metadata": {
        "colab": {
          "base_uri": "https://localhost:8080/",
          "height": 300
        },
        "id": "0PjHfmlkqZ8U",
        "outputId": "e72a7832-13c4-424c-e990-b3b460dc9040"
      },
      "execution_count": null,
      "outputs": [
        {
          "output_type": "execute_result",
          "data": {
            "text/plain": [
              "            Log Normal (Soewarno)  Log Normal (Scipy)\n",
              "Kala Ulang                                           \n",
              "2                       70.995113           70.995113\n",
              "5                      138.542728          138.721613\n",
              "10                     196.641235          196.884220\n",
              "20                     261.886173          262.899814\n",
              "25                     276.523943          286.004214\n",
              "50                     362.938965          364.023524\n",
              "100                    453.543231          452.226795"
            ],
            "text/html": [
              "<div>\n",
              "<style scoped>\n",
              "    .dataframe tbody tr th:only-of-type {\n",
              "        vertical-align: middle;\n",
              "    }\n",
              "\n",
              "    .dataframe tbody tr th {\n",
              "        vertical-align: top;\n",
              "    }\n",
              "\n",
              "    .dataframe thead th {\n",
              "        text-align: right;\n",
              "    }\n",
              "</style>\n",
              "<table border=\"1\" class=\"dataframe\">\n",
              "  <thead>\n",
              "    <tr style=\"text-align: right;\">\n",
              "      <th></th>\n",
              "      <th>Log Normal (Soewarno)</th>\n",
              "      <th>Log Normal (Scipy)</th>\n",
              "    </tr>\n",
              "    <tr>\n",
              "      <th>Kala Ulang</th>\n",
              "      <th></th>\n",
              "      <th></th>\n",
              "    </tr>\n",
              "  </thead>\n",
              "  <tbody>\n",
              "    <tr>\n",
              "      <th>2</th>\n",
              "      <td>70.995113</td>\n",
              "      <td>70.995113</td>\n",
              "    </tr>\n",
              "    <tr>\n",
              "      <th>5</th>\n",
              "      <td>138.542728</td>\n",
              "      <td>138.721613</td>\n",
              "    </tr>\n",
              "    <tr>\n",
              "      <th>10</th>\n",
              "      <td>196.641235</td>\n",
              "      <td>196.884220</td>\n",
              "    </tr>\n",
              "    <tr>\n",
              "      <th>20</th>\n",
              "      <td>261.886173</td>\n",
              "      <td>262.899814</td>\n",
              "    </tr>\n",
              "    <tr>\n",
              "      <th>25</th>\n",
              "      <td>276.523943</td>\n",
              "      <td>286.004214</td>\n",
              "    </tr>\n",
              "    <tr>\n",
              "      <th>50</th>\n",
              "      <td>362.938965</td>\n",
              "      <td>364.023524</td>\n",
              "    </tr>\n",
              "    <tr>\n",
              "      <th>100</th>\n",
              "      <td>453.543231</td>\n",
              "      <td>452.226795</td>\n",
              "    </tr>\n",
              "  </tbody>\n",
              "</table>\n",
              "</div>"
            ]
          },
          "metadata": {},
          "execution_count": 37
        }
      ]
    },
    {
      "cell_type": "code",
      "source": [
        "# plot perbandingannya\n",
        "\n",
        "table_lognormal.plot();"
      ],
      "metadata": {
        "colab": {
          "base_uri": "https://localhost:8080/",
          "height": 274
        },
        "id": "ApL0vj_JrsPV",
        "outputId": "65914fb7-3474-4608-bad9-27eedcbe4745"
      },
      "execution_count": null,
      "outputs": [
        {
          "output_type": "display_data",
          "data": {
            "text/plain": [
              "<Figure size 432x288 with 1 Axes>"
            ],
            "image/png": "[encoded data removed]"
          },
          "metadata": {}
        }
      ]
    },
    {
      "cell_type": "code",
      "source": [
        "# menghitung delta/selisih\n",
        "\n",
        "table_lognormal['delta'] = table_lognormal['Log Normal (Scipy)'] - table_lognormal['Log Normal (Soewarno)']\n",
        "table_lognormal"
      ],
      "metadata": {
        "colab": {
          "base_uri": "https://localhost:8080/",
          "height": 300
        },
        "id": "9oDe0CTEryge",
        "outputId": "b367f5d4-4ffd-4767-f398-611ddafd6629"
      },
      "execution_count": null,
      "outputs": [
        {
          "output_type": "execute_result",
          "data": {
            "text/plain": [
              "            Log Normal (Soewarno)  Log Normal (Scipy)     delta\n",
              "Kala Ulang                                                     \n",
              "2                       70.995113           70.995113  0.000000\n",
              "5                      138.542728          138.721613  0.178886\n",
              "10                     196.641235          196.884220  0.242985\n",
              "20                     261.886173          262.899814  1.013641\n",
              "25                     276.523943          286.004214  9.480271\n",
              "50                     362.938965          364.023524  1.084558\n",
              "100                    453.543231          452.226795 -1.316435"
            ],
            "text/html": [
              "<div>\n",
              "<style scoped>\n",
              "    .dataframe tbody tr th:only-of-type {\n",
              "        vertical-align: middle;\n",
              "    }\n",
              "\n",
              "    .dataframe tbody tr th {\n",
              "        vertical-align: top;\n",
              "    }\n",
              "\n",
              "    .dataframe thead th {\n",
              "        text-align: right;\n",
              "    }\n",
              "</style>\n",
              "<table border=\"1\" class=\"dataframe\">\n",
              "  <thead>\n",
              "    <tr style=\"text-align: right;\">\n",
              "      <th></th>\n",
              "      <th>Log Normal (Soewarno)</th>\n",
              "      <th>Log Normal (Scipy)</th>\n",
              "      <th>delta</th>\n",
              "    </tr>\n",
              "    <tr>\n",
              "      <th>Kala Ulang</th>\n",
              "      <th></th>\n",
              "      <th></th>\n",
              "      <th></th>\n",
              "    </tr>\n",
              "  </thead>\n",
              "  <tbody>\n",
              "    <tr>\n",
              "      <th>2</th>\n",
              "      <td>70.995113</td>\n",
              "      <td>70.995113</td>\n",
              "      <td>0.000000</td>\n",
              "    </tr>\n",
              "    <tr>\n",
              "      <th>5</th>\n",
              "      <td>138.542728</td>\n",
              "      <td>138.721613</td>\n",
              "      <td>0.178886</td>\n",
              "    </tr>\n",
              "    <tr>\n",
              "      <th>10</th>\n",
              "      <td>196.641235</td>\n",
              "      <td>196.884220</td>\n",
              "      <td>0.242985</td>\n",
              "    </tr>\n",
              "    <tr>\n",
              "      <th>20</th>\n",
              "      <td>261.886173</td>\n",
              "      <td>262.899814</td>\n",
              "      <td>1.013641</td>\n",
              "    </tr>\n",
              "    <tr>\n",
              "      <th>25</th>\n",
              "      <td>276.523943</td>\n",
              "      <td>286.004214</td>\n",
              "      <td>9.480271</td>\n",
              "    </tr>\n",
              "    <tr>\n",
              "      <th>50</th>\n",
              "      <td>362.938965</td>\n",
              "      <td>364.023524</td>\n",
              "      <td>1.084558</td>\n",
              "    </tr>\n",
              "    <tr>\n",
              "      <th>100</th>\n",
              "      <td>453.543231</td>\n",
              "      <td>452.226795</td>\n",
              "      <td>-1.316435</td>\n",
              "    </tr>\n",
              "  </tbody>\n",
              "</table>\n",
              "</div>"
            ]
          },
          "metadata": {},
          "execution_count": 39
        }
      ]
    },
    {
      "cell_type": "code",
      "source": [
        "# plot delta\n",
        "\n",
        "table_lognormal.delta.plot.bar();"
      ],
      "metadata": {
        "colab": {
          "base_uri": "https://localhost:8080/",
          "height": 285
        },
        "id": "p8EHnawGsAFl",
        "outputId": "3e5eed3e-c043-4889-bcaa-4315436b424f"
      },
      "execution_count": null,
      "outputs": [
        {
          "output_type": "display_data",
          "data": {
            "text/plain": [
              "<Figure size 432x288 with 1 Axes>"
            ],
            "image/png": "[encoded data removed]"
          },
          "metadata": {}
        }
      ]
    },
    {
      "cell_type": "markdown",
      "source": [
        "## LOG PEARSON III (hk126)"
      ],
      "metadata": {
        "id": "NjrbyswisNnk"
      }
    },
    {
      "cell_type": "code",
      "source": [
        "# pada logpearson tersedia 3 tabel sumber yaitu soewarno, soetopo, dan limantara\n",
        "# default=scipy\n",
        "\n",
        "logpearson3_source = ['soewarno', 'soetopo', 'limantara', 'scipy']\n",
        "\n",
        "table_logpearson3 = []\n",
        "\n",
        "for _source in logpearson3_source:\n",
        "    table_logpearson3.append(anfrek.freq_logpearson3(dataset_r24, 'hujan', source=_source, col_name=f'Log Pearson III ({_source.title()})'))\n",
        "\n",
        "table_logpearson3 = pd.concat(table_logpearson3, axis=1)\n",
        "table_logpearson3"
      ],
      "metadata": {
        "colab": {
          "base_uri": "https://localhost:8080/",
          "height": 300
        },
        "id": "nGGbhEqesECZ",
        "outputId": "ab215ffd-3400-4265-8438-db3ab59643a5"
      },
      "execution_count": null,
      "outputs": [
        {
          "output_type": "execute_result",
          "data": {
            "text/plain": [
              "            Log Pearson III (Soewarno)  Log Pearson III (Soetopo)  \\\n",
              "Kala Ulang                                                          \n",
              "2                            72.249193                  65.297940   \n",
              "5                           133.817500                 133.817500   \n",
              "10                          204.591937                 204.689662   \n",
              "20                          308.496053                 308.520608   \n",
              "25                          334.905154                 334.905154   \n",
              "50                          470.530987                 470.530987   \n",
              "100                         648.727728                 648.727728   \n",
              "\n",
              "            Log Pearson III (Limantara)  Log Pearson III (Scipy)  \n",
              "Kala Ulang                                                        \n",
              "2                             65.297940                65.287547  \n",
              "5                            133.817500               133.796200  \n",
              "10                           204.591937               204.657082  \n",
              "20                           308.496053               298.615313  \n",
              "25                           334.905154               334.905154  \n",
              "50                           470.530987               470.605894  \n",
              "100                          648.727728               648.779363  "
            ],
            "text/html": [
              "<div>\n",
              "<style scoped>\n",
              "    .dataframe tbody tr th:only-of-type {\n",
              "        vertical-align: middle;\n",
              "    }\n",
              "\n",
              "    .dataframe tbody tr th {\n",
              "        vertical-align: top;\n",
              "    }\n",
              "\n",
              "    .dataframe thead th {\n",
              "        text-align: right;\n",
              "    }\n",
              "</style>\n",
              "<table border=\"1\" class=\"dataframe\">\n",
              "  <thead>\n",
              "    <tr style=\"text-align: right;\">\n",
              "      <th></th>\n",
              "      <th>Log Pearson III (Soewarno)</th>\n",
              "      <th>Log Pearson III (Soetopo)</th>\n",
              "      <th>Log Pearson III (Limantara)</th>\n",
              "      <th>Log Pearson III (Scipy)</th>\n",
              "    </tr>\n",
              "    <tr>\n",
              "      <th>Kala Ulang</th>\n",
              "      <th></th>\n",
              "      <th></th>\n",
              "      <th></th>\n",
              "      <th></th>\n",
              "    </tr>\n",
              "  </thead>\n",
              "  <tbody>\n",
              "    <tr>\n",
              "      <th>2</th>\n",
              "      <td>72.249193</td>\n",
              "      <td>65.297940</td>\n",
              "      <td>65.297940</td>\n",
              "      <td>65.287547</td>\n",
              "    </tr>\n",
              "    <tr>\n",
              "      <th>5</th>\n",
              "      <td>133.817500</td>\n",
              "      <td>133.817500</td>\n",
              "      <td>133.817500</td>\n",
              "      <td>133.796200</td>\n",
              "    </tr>\n",
              "    <tr>\n",
              "      <th>10</th>\n",
              "      <td>204.591937</td>\n",
              "      <td>204.689662</td>\n",
              "      <td>204.591937</td>\n",
              "      <td>204.657082</td>\n",
              "    </tr>\n",
              "    <tr>\n",
              "      <th>20</th>\n",
              "      <td>308.496053</td>\n",
              "      <td>308.520608</td>\n",
              "      <td>308.496053</td>\n",
              "      <td>298.615313</td>\n",
              "    </tr>\n",
              "    <tr>\n",
              "      <th>25</th>\n",
              "      <td>334.905154</td>\n",
              "      <td>334.905154</td>\n",
              "      <td>334.905154</td>\n",
              "      <td>334.905154</td>\n",
              "    </tr>\n",
              "    <tr>\n",
              "      <th>50</th>\n",
              "      <td>470.530987</td>\n",
              "      <td>470.530987</td>\n",
              "      <td>470.530987</td>\n",
              "      <td>470.605894</td>\n",
              "    </tr>\n",
              "    <tr>\n",
              "      <th>100</th>\n",
              "      <td>648.727728</td>\n",
              "      <td>648.727728</td>\n",
              "      <td>648.727728</td>\n",
              "      <td>648.779363</td>\n",
              "    </tr>\n",
              "  </tbody>\n",
              "</table>\n",
              "</div>"
            ]
          },
          "metadata": {},
          "execution_count": 41
        }
      ]
    },
    {
      "cell_type": "code",
      "source": [
        "# plot perbedaan\n",
        "\n",
        "table_logpearson3.plot();"
      ],
      "metadata": {
        "colab": {
          "base_uri": "https://localhost:8080/",
          "height": 274
        },
        "id": "MaAIGYolsoQa",
        "outputId": "7f6149e1-d10a-4ae2-d230-fcfb29427954"
      },
      "execution_count": null,
      "outputs": [
        {
          "output_type": "display_data",
          "data": {
            "text/plain": [
              "<Figure size 432x288 with 1 Axes>"
            ],
            "image/png": "[encoded data removed]"
          },
          "metadata": {}
        }
      ]
    },
    {
      "cell_type": "code",
      "source": [
        "# hitung delta terhadap scipy\n",
        "\n",
        "for _source in logpearson3_source[:-1]:\n",
        "    table_logpearson3[f'delta_{_source}'] = table_logpearson3['Log Pearson III (Scipy)'] - table_logpearson3[f'Log Pearson III ({_source.title()})']\n",
        "\n",
        "table_logpearson3"
      ],
      "metadata": {
        "colab": {
          "base_uri": "https://localhost:8080/",
          "height": 300
        },
        "id": "YknVo46BtQh0",
        "outputId": "494e0352-c62a-4c73-be1c-27ff7b0b5a94"
      },
      "execution_count": null,
      "outputs": [
        {
          "output_type": "execute_result",
          "data": {
            "text/plain": [
              "            Log Pearson III (Soewarno)  Log Pearson III (Soetopo)  \\\n",
              "Kala Ulang                                                          \n",
              "2                            72.249193                  65.297940   \n",
              "5                           133.817500                 133.817500   \n",
              "10                          204.591937                 204.689662   \n",
              "20                          308.496053                 308.520608   \n",
              "25                          334.905154                 334.905154   \n",
              "50                          470.530987                 470.530987   \n",
              "100                         648.727728                 648.727728   \n",
              "\n",
              "            Log Pearson III (Limantara)  Log Pearson III (Scipy)  \\\n",
              "Kala Ulang                                                         \n",
              "2                             65.297940                65.287547   \n",
              "5                            133.817500               133.796200   \n",
              "10                           204.591937               204.657082   \n",
              "20                           308.496053               298.615313   \n",
              "25                           334.905154               334.905154   \n",
              "50                           470.530987               470.605894   \n",
              "100                          648.727728               648.779363   \n",
              "\n",
              "            delta_soewarno  delta_soetopo  delta_limantara  \n",
              "Kala Ulang                                                  \n",
              "2                -6.961646      -0.010393        -0.010393  \n",
              "5                -0.021300      -0.021300        -0.021300  \n",
              "10                0.065145      -0.032580         0.065145  \n",
              "20               -9.880740      -9.905294        -9.880740  \n",
              "25                0.000000       0.000000         0.000000  \n",
              "50                0.074906       0.074906         0.074906  \n",
              "100               0.051635       0.051635         0.051635  "
            ],
            "text/html": [
              "<div>\n",
              "<style scoped>\n",
              "    .dataframe tbody tr th:only-of-type {\n",
              "        vertical-align: middle;\n",
              "    }\n",
              "\n",
              "    .dataframe tbody tr th {\n",
              "        vertical-align: top;\n",
              "    }\n",
              "\n",
              "    .dataframe thead th {\n",
              "        text-align: right;\n",
              "    }\n",
              "</style>\n",
              "<table border=\"1\" class=\"dataframe\">\n",
              "  <thead>\n",
              "    <tr style=\"text-align: right;\">\n",
              "      <th></th>\n",
              "      <th>Log Pearson III (Soewarno)</th>\n",
              "      <th>Log Pearson III (Soetopo)</th>\n",
              "      <th>Log Pearson III (Limantara)</th>\n",
              "      <th>Log Pearson III (Scipy)</th>\n",
              "      <th>delta_soewarno</th>\n",
              "      <th>delta_soetopo</th>\n",
              "      <th>delta_limantara</th>\n",
              "    </tr>\n",
              "    <tr>\n",
              "      <th>Kala Ulang</th>\n",
              "      <th></th>\n",
              "      <th></th>\n",
              "      <th></th>\n",
              "      <th></th>\n",
              "      <th></th>\n",
              "      <th></th>\n",
              "      <th></th>\n",
              "    </tr>\n",
              "  </thead>\n",
              "  <tbody>\n",
              "    <tr>\n",
              "      <th>2</th>\n",
              "      <td>72.249193</td>\n",
              "      <td>65.297940</td>\n",
              "      <td>65.297940</td>\n",
              "      <td>65.287547</td>\n",
              "      <td>-6.961646</td>\n",
              "      <td>-0.010393</td>\n",
              "      <td>-0.010393</td>\n",
              "    </tr>\n",
              "    <tr>\n",
              "      <th>5</th>\n",
              "      <td>133.817500</td>\n",
              "      <td>133.817500</td>\n",
              "      <td>133.817500</td>\n",
              "      <td>133.796200</td>\n",
              "      <td>-0.021300</td>\n",
              "      <td>-0.021300</td>\n",
              "      <td>-0.021300</td>\n",
              "    </tr>\n",
              "    <tr>\n",
              "      <th>10</th>\n",
              "      <td>204.591937</td>\n",
              "      <td>204.689662</td>\n",
              "      <td>204.591937</td>\n",
              "      <td>204.657082</td>\n",
              "      <td>0.065145</td>\n",
              "      <td>-0.032580</td>\n",
              "      <td>0.065145</td>\n",
              "    </tr>\n",
              "    <tr>\n",
              "      <th>20</th>\n",
              "      <td>308.496053</td>\n",
              "      <td>308.520608</td>\n",
              "      <td>308.496053</td>\n",
              "      <td>298.615313</td>\n",
              "      <td>-9.880740</td>\n",
              "      <td>-9.905294</td>\n",
              "      <td>-9.880740</td>\n",
              "    </tr>\n",
              "    <tr>\n",
              "      <th>25</th>\n",
              "      <td>334.905154</td>\n",
              "      <td>334.905154</td>\n",
              "      <td>334.905154</td>\n",
              "      <td>334.905154</td>\n",
              "      <td>0.000000</td>\n",
              "      <td>0.000000</td>\n",
              "      <td>0.000000</td>\n",
              "    </tr>\n",
              "    <tr>\n",
              "      <th>50</th>\n",
              "      <td>470.530987</td>\n",
              "      <td>470.530987</td>\n",
              "      <td>470.530987</td>\n",
              "      <td>470.605894</td>\n",
              "      <td>0.074906</td>\n",
              "      <td>0.074906</td>\n",
              "      <td>0.074906</td>\n",
              "    </tr>\n",
              "    <tr>\n",
              "      <th>100</th>\n",
              "      <td>648.727728</td>\n",
              "      <td>648.727728</td>\n",
              "      <td>648.727728</td>\n",
              "      <td>648.779363</td>\n",
              "      <td>0.051635</td>\n",
              "      <td>0.051635</td>\n",
              "      <td>0.051635</td>\n",
              "    </tr>\n",
              "  </tbody>\n",
              "</table>\n",
              "</div>"
            ]
          },
          "metadata": {},
          "execution_count": 43
        }
      ]
    },
    {
      "cell_type": "code",
      "source": [
        "# plot bar\n",
        "\n",
        "col_delta_logpearson3 = [f'delta_{_source}' for _source in logpearson3_source[:-1]]\n",
        "table_logpearson3[col_delta_logpearson3].plot.bar();"
      ],
      "metadata": {
        "colab": {
          "base_uri": "https://localhost:8080/",
          "height": 282
        },
        "id": "9Kg7dJWBtqw5",
        "outputId": "5e622817-776d-45d5-9de0-309f1033fdf3"
      },
      "execution_count": null,
      "outputs": [
        {
          "output_type": "display_data",
          "data": {
            "text/plain": [
              "<Figure size 432x288 with 1 Axes>"
            ],
            "image/png": "[encoded data removed]"
          },
          "metadata": {}
        }
      ]
    },
    {
      "cell_type": "code",
      "source": [
        "# print(1/20) # 0.05\n",
        "# nilai 0.05 pada tabel diperoleh hasil interpolasi antara 0.1 dan 0.04\n",
        "# anfrek.logpearson3.t_pearson3_st"
      ],
      "metadata": {
        "id": "oWtQ91uIWy5B"
      },
      "execution_count": null,
      "outputs": []
    },
    {
      "cell_type": "markdown",
      "source": [
        "## GUMBEL (hk127)"
      ],
      "metadata": {
        "id": "82a1QcGCzvQu"
      }
    },
    {
      "cell_type": "code",
      "source": [
        "# pada gumbel terdapat 3 sumber tabel: soewarno, soetopo, gumbel\n",
        "# 1 sumber formula: powell, 1 sumber fungsi: scipy\n",
        "# default yang digunakan adalah gumbel \n",
        "\n",
        "gumbel_source = ['soewarno', 'soetopo', 'powell', 'scipy', 'gumbel']\n",
        "\n",
        "table_gumbel = []\n",
        "\n",
        "for _source in gumbel_source:\n",
        "    table_gumbel.append(anfrek.freq_gumbel(dataset_r24, 'hujan', source=_source, col_name=f'Gumbel ({_source.title()})'))\n",
        "\n",
        "table_gumbel = pd.concat(table_gumbel, axis=1)\n",
        "table_gumbel"
      ],
      "metadata": {
        "colab": {
          "base_uri": "https://localhost:8080/",
          "height": 300
        },
        "id": "xV1WLaPFudGl",
        "outputId": "746a2ffc-4503-4807-bc29-f3d157a78341"
      },
      "execution_count": null,
      "outputs": [
        {
          "output_type": "execute_result",
          "data": {
            "text/plain": [
              "            Gumbel (Soewarno)  Gumbel (Soetopo)  Gumbel (Powell)  \\\n",
              "Kala Ulang                                                         \n",
              "2                   87.892998         84.571325        82.048598   \n",
              "5                  192.512208        189.179519       159.508670   \n",
              "10                 261.779229        258.439246       210.793978   \n",
              "20                 328.221818        324.874839       259.988076   \n",
              "25                 349.298293        345.949095       275.593100   \n",
              "50                 414.224934        410.868900       323.664791   \n",
              "100                478.672167        475.309347       371.381527   \n",
              "\n",
              "            Gumbel (Scipy)  Gumbel (Gumbel)  \n",
              "Kala Ulang                                   \n",
              "2               128.573682        84.571325  \n",
              "5               227.920085       189.179519  \n",
              "10              293.696047       258.439246  \n",
              "20              356.789930       324.874839  \n",
              "25              376.804150       345.949095  \n",
              "50              438.458489       410.868900  \n",
              "100             499.657582       475.309347  "
            ],
            "text/html": [
              "<div>\n",
              "<style scoped>\n",
              "    .dataframe tbody tr th:only-of-type {\n",
              "        vertical-align: middle;\n",
              "    }\n",
              "\n",
              "    .dataframe tbody tr th {\n",
              "        vertical-align: top;\n",
              "    }\n",
              "\n",
              "    .dataframe thead th {\n",
              "        text-align: right;\n",
              "    }\n",
              "</style>\n",
              "<table border=\"1\" class=\"dataframe\">\n",
              "  <thead>\n",
              "    <tr style=\"text-align: right;\">\n",
              "      <th></th>\n",
              "      <th>Gumbel (Soewarno)</th>\n",
              "      <th>Gumbel (Soetopo)</th>\n",
              "      <th>Gumbel (Powell)</th>\n",
              "      <th>Gumbel (Scipy)</th>\n",
              "      <th>Gumbel (Gumbel)</th>\n",
              "    </tr>\n",
              "    <tr>\n",
              "      <th>Kala Ulang</th>\n",
              "      <th></th>\n",
              "      <th></th>\n",
              "      <th></th>\n",
              "      <th></th>\n",
              "      <th></th>\n",
              "    </tr>\n",
              "  </thead>\n",
              "  <tbody>\n",
              "    <tr>\n",
              "      <th>2</th>\n",
              "      <td>87.892998</td>\n",
              "      <td>84.571325</td>\n",
              "      <td>82.048598</td>\n",
              "      <td>128.573682</td>\n",
              "      <td>84.571325</td>\n",
              "    </tr>\n",
              "    <tr>\n",
              "      <th>5</th>\n",
              "      <td>192.512208</td>\n",
              "      <td>189.179519</td>\n",
              "      <td>159.508670</td>\n",
              "      <td>227.920085</td>\n",
              "      <td>189.179519</td>\n",
              "    </tr>\n",
              "    <tr>\n",
              "      <th>10</th>\n",
              "      <td>261.779229</td>\n",
              "      <td>258.439246</td>\n",
              "      <td>210.793978</td>\n",
              "      <td>293.696047</td>\n",
              "      <td>258.439246</td>\n",
              "    </tr>\n",
              "    <tr>\n",
              "      <th>20</th>\n",
              "      <td>328.221818</td>\n",
              "      <td>324.874839</td>\n",
              "      <td>259.988076</td>\n",
              "      <td>356.789930</td>\n",
              "      <td>324.874839</td>\n",
              "    </tr>\n",
              "    <tr>\n",
              "      <th>25</th>\n",
              "      <td>349.298293</td>\n",
              "      <td>345.949095</td>\n",
              "      <td>275.593100</td>\n",
              "      <td>376.804150</td>\n",
              "      <td>345.949095</td>\n",
              "    </tr>\n",
              "    <tr>\n",
              "      <th>50</th>\n",
              "      <td>414.224934</td>\n",
              "      <td>410.868900</td>\n",
              "      <td>323.664791</td>\n",
              "      <td>438.458489</td>\n",
              "      <td>410.868900</td>\n",
              "    </tr>\n",
              "    <tr>\n",
              "      <th>100</th>\n",
              "      <td>478.672167</td>\n",
              "      <td>475.309347</td>\n",
              "      <td>371.381527</td>\n",
              "      <td>499.657582</td>\n",
              "      <td>475.309347</td>\n",
              "    </tr>\n",
              "  </tbody>\n",
              "</table>\n",
              "</div>"
            ]
          },
          "metadata": {},
          "execution_count": 46
        }
      ]
    },
    {
      "cell_type": "code",
      "source": [
        "# plot perbandingan\n",
        "\n",
        "table_gumbel.plot(figsize=(15,7));"
      ],
      "metadata": {
        "colab": {
          "base_uri": "https://localhost:8080/",
          "height": 437
        },
        "id": "41Z463fz0NlX",
        "outputId": "d2b9ff6e-080d-4220-a388-4bc7a7ef1184"
      },
      "execution_count": null,
      "outputs": [
        {
          "output_type": "display_data",
          "data": {
            "text/plain": [
              "<Figure size 1080x504 with 1 Axes>"
            ],
            "image/png": "[encoded data removed]"
          },
          "metadata": {}
        }
      ]
    },
    {
      "cell_type": "code",
      "source": [
        "# hitung selisih/delta\n",
        "\n",
        "for _source in gumbel_source[:-1]:\n",
        "    table_gumbel[f'delta_{_source}'] = table_gumbel['Gumbel (Gumbel)'] - table_gumbel[f'Gumbel ({_source.title()})']\n",
        "\n",
        "table_gumbel"
      ],
      "metadata": {
        "colab": {
          "base_uri": "https://localhost:8080/",
          "height": 300
        },
        "id": "baExZa1N0QLh",
        "outputId": "0f3d0e5e-d411-4bbd-cb58-ecfc13bcf923"
      },
      "execution_count": null,
      "outputs": [
        {
          "output_type": "execute_result",
          "data": {
            "text/plain": [
              "            Gumbel (Soewarno)  Gumbel (Soetopo)  Gumbel (Powell)  \\\n",
              "Kala Ulang                                                         \n",
              "2                   87.892998         84.571325        82.048598   \n",
              "5                  192.512208        189.179519       159.508670   \n",
              "10                 261.779229        258.439246       210.793978   \n",
              "20                 328.221818        324.874839       259.988076   \n",
              "25                 349.298293        345.949095       275.593100   \n",
              "50                 414.224934        410.868900       323.664791   \n",
              "100                478.672167        475.309347       371.381527   \n",
              "\n",
              "            Gumbel (Scipy)  Gumbel (Gumbel)  delta_soewarno  delta_soetopo  \\\n",
              "Kala Ulang                                                                   \n",
              "2               128.573682        84.571325       -3.321673            0.0   \n",
              "5               227.920085       189.179519       -3.332689            0.0   \n",
              "10              293.696047       258.439246       -3.339982            0.0   \n",
              "20              356.789930       324.874839       -3.346979            0.0   \n",
              "25              376.804150       345.949095       -3.349198            0.0   \n",
              "50              438.458489       410.868900       -3.356034            0.0   \n",
              "100             499.657582       475.309347       -3.362821            0.0   \n",
              "\n",
              "            delta_powell  delta_scipy  \n",
              "Kala Ulang                             \n",
              "2               2.522727   -44.002358  \n",
              "5              29.670849   -38.740565  \n",
              "10             47.645268   -35.256801  \n",
              "20             64.886763   -31.915091  \n",
              "25             70.355995   -30.855056  \n",
              "50             87.204109   -27.589590  \n",
              "100           103.927819   -24.348235  "
            ],
            "text/html": [
              "<div>\n",
              "<style scoped>\n",
              "    .dataframe tbody tr th:only-of-type {\n",
              "        vertical-align: middle;\n",
              "    }\n",
              "\n",
              "    .dataframe tbody tr th {\n",
              "        vertical-align: top;\n",
              "    }\n",
              "\n",
              "    .dataframe thead th {\n",
              "        text-align: right;\n",
              "    }\n",
              "</style>\n",
              "<table border=\"1\" class=\"dataframe\">\n",
              "  <thead>\n",
              "    <tr style=\"text-align: right;\">\n",
              "      <th></th>\n",
              "      <th>Gumbel (Soewarno)</th>\n",
              "      <th>Gumbel (Soetopo)</th>\n",
              "      <th>Gumbel (Powell)</th>\n",
              "      <th>Gumbel (Scipy)</th>\n",
              "      <th>Gumbel (Gumbel)</th>\n",
              "      <th>delta_soewarno</th>\n",
              "      <th>delta_soetopo</th>\n",
              "      <th>delta_powell</th>\n",
              "      <th>delta_scipy</th>\n",
              "    </tr>\n",
              "    <tr>\n",
              "      <th>Kala Ulang</th>\n",
              "      <th></th>\n",
              "      <th></th>\n",
              "      <th></th>\n",
              "      <th></th>\n",
              "      <th></th>\n",
              "      <th></th>\n",
              "      <th></th>\n",
              "      <th></th>\n",
              "      <th></th>\n",
              "    </tr>\n",
              "  </thead>\n",
              "  <tbody>\n",
              "    <tr>\n",
              "      <th>2</th>\n",
              "      <td>87.892998</td>\n",
              "      <td>84.571325</td>\n",
              "      <td>82.048598</td>\n",
              "      <td>128.573682</td>\n",
              "      <td>84.571325</td>\n",
              "      <td>-3.321673</td>\n",
              "      <td>0.0</td>\n",
              "      <td>2.522727</td>\n",
              "      <td>-44.002358</td>\n",
              "    </tr>\n",
              "    <tr>\n",
              "      <th>5</th>\n",
              "      <td>192.512208</td>\n",
              "      <td>189.179519</td>\n",
              "      <td>159.508670</td>\n",
              "      <td>227.920085</td>\n",
              "      <td>189.179519</td>\n",
              "      <td>-3.332689</td>\n",
              "      <td>0.0</td>\n",
              "      <td>29.670849</td>\n",
              "      <td>-38.740565</td>\n",
              "    </tr>\n",
              "    <tr>\n",
              "      <th>10</th>\n",
              "      <td>261.779229</td>\n",
              "      <td>258.439246</td>\n",
              "      <td>210.793978</td>\n",
              "      <td>293.696047</td>\n",
              "      <td>258.439246</td>\n",
              "      <td>-3.339982</td>\n",
              "      <td>0.0</td>\n",
              "      <td>47.645268</td>\n",
              "      <td>-35.256801</td>\n",
              "    </tr>\n",
              "    <tr>\n",
              "      <th>20</th>\n",
              "      <td>328.221818</td>\n",
              "      <td>324.874839</td>\n",
              "      <td>259.988076</td>\n",
              "      <td>356.789930</td>\n",
              "      <td>324.874839</td>\n",
              "      <td>-3.346979</td>\n",
              "      <td>0.0</td>\n",
              "      <td>64.886763</td>\n",
              "      <td>-31.915091</td>\n",
              "    </tr>\n",
              "    <tr>\n",
              "      <th>25</th>\n",
              "      <td>349.298293</td>\n",
              "      <td>345.949095</td>\n",
              "      <td>275.593100</td>\n",
              "      <td>376.804150</td>\n",
              "      <td>345.949095</td>\n",
              "      <td>-3.349198</td>\n",
              "      <td>0.0</td>\n",
              "      <td>70.355995</td>\n",
              "      <td>-30.855056</td>\n",
              "    </tr>\n",
              "    <tr>\n",
              "      <th>50</th>\n",
              "      <td>414.224934</td>\n",
              "      <td>410.868900</td>\n",
              "      <td>323.664791</td>\n",
              "      <td>438.458489</td>\n",
              "      <td>410.868900</td>\n",
              "      <td>-3.356034</td>\n",
              "      <td>0.0</td>\n",
              "      <td>87.204109</td>\n",
              "      <td>-27.589590</td>\n",
              "    </tr>\n",
              "    <tr>\n",
              "      <th>100</th>\n",
              "      <td>478.672167</td>\n",
              "      <td>475.309347</td>\n",
              "      <td>371.381527</td>\n",
              "      <td>499.657582</td>\n",
              "      <td>475.309347</td>\n",
              "      <td>-3.362821</td>\n",
              "      <td>0.0</td>\n",
              "      <td>103.927819</td>\n",
              "      <td>-24.348235</td>\n",
              "    </tr>\n",
              "  </tbody>\n",
              "</table>\n",
              "</div>"
            ]
          },
          "metadata": {},
          "execution_count": 48
        }
      ]
    },
    {
      "cell_type": "code",
      "source": [
        "# plot delta\n",
        "\n",
        "col_delta_gumbel = [f'delta_{_source}' for _source in gumbel_source[:-1]]\n",
        "table_gumbel[col_delta_gumbel].plot.bar(figsize=(12, 5));"
      ],
      "metadata": {
        "colab": {
          "base_uri": "https://localhost:8080/",
          "height": 336
        },
        "id": "HwK8aPI20nwE",
        "outputId": "b466560b-6cdc-45c1-8228-be343c52defd"
      },
      "execution_count": null,
      "outputs": [
        {
          "output_type": "display_data",
          "data": {
            "text/plain": [
              "<Figure size 864x360 with 1 Axes>"
            ],
            "image/png": "[encoded data removed]"
          },
          "metadata": {}
        }
      ]
    },
    {
      "cell_type": "markdown",
      "source": [
        "# UJI KECOCOKAN DISTRIBUSI"
      ],
      "metadata": {
        "id": "lPskSX7f1flL"
      }
    },
    {
      "cell_type": "markdown",
      "source": [
        "## UJI KOLMOGOROV-SMIRNOV TEST (hk140)"
      ],
      "metadata": {
        "id": "MKNGZX9u2i0f"
      }
    },
    {
      "cell_type": "code",
      "source": [
        "from hidrokit.contrib.taruma import hk140"
      ],
      "metadata": {
        "id": "LkXUfN6M-tnD"
      },
      "execution_count": null,
      "outputs": []
    },
    {
      "cell_type": "code",
      "source": [
        "# perbandingan nilai delta kritis\n",
        "# terdapat 2 sumber tabel: soetopo dan soewarno\n",
        "# default: scipy\n",
        "\n",
        "dcr_source = ['soetopo', 'soewarno', 'scipy']\n",
        "table_dcr = {}\n",
        "n_test = np.arange(10, 31, 2)\n",
        "\n",
        "for _source in dcr_source:\n",
        "    table_dcr[f'dcr ({_source.title()})'] = hk140.calc_dcr(alpha=0.05, n=n_test, source=_source)\n",
        "\n",
        "table_dcr = pd.DataFrame(table_dcr)\n",
        "table_dcr.insert(0, 'n', n_test)\n",
        "table_dcr = table_dcr.set_index('n')\n",
        "table_dcr"
      ],
      "metadata": {
        "colab": {
          "base_uri": "https://localhost:8080/",
          "height": 426
        },
        "id": "9Nq9KMeo4bti",
        "outputId": "01182836-3899-4fb8-fe63-4e208e39bf21"
      },
      "execution_count": null,
      "outputs": [
        {
          "output_type": "execute_result",
          "data": {
            "text/plain": [
              "    dcr (Soetopo)  dcr (Soewarno)  dcr (Scipy)\n",
              "n                                             \n",
              "10          0.409            0.41     0.409246\n",
              "12          0.375            0.38     0.375430\n",
              "14          0.349            0.35     0.348901\n",
              "16          0.328            0.33     0.327334\n",
              "18          0.309            0.31     0.309360\n",
              "20          0.294            0.29     0.294076\n",
              "22          0.294            0.28     0.280869\n",
              "24          0.294            0.27     0.269308\n",
              "26          0.294            0.26     0.259075\n",
              "28          0.294            0.25     0.249934\n",
              "30          0.294            0.24     0.241704"
            ],
            "text/html": [
              "<div>\n",
              "<style scoped>\n",
              "    .dataframe tbody tr th:only-of-type {\n",
              "        vertical-align: middle;\n",
              "    }\n",
              "\n",
              "    .dataframe tbody tr th {\n",
              "        vertical-align: top;\n",
              "    }\n",
              "\n",
              "    .dataframe thead th {\n",
              "        text-align: right;\n",
              "    }\n",
              "</style>\n",
              "<table border=\"1\" class=\"dataframe\">\n",
              "  <thead>\n",
              "    <tr style=\"text-align: right;\">\n",
              "      <th></th>\n",
              "      <th>dcr (Soetopo)</th>\n",
              "      <th>dcr (Soewarno)</th>\n",
              "      <th>dcr (Scipy)</th>\n",
              "    </tr>\n",
              "    <tr>\n",
              "      <th>n</th>\n",
              "      <th></th>\n",
              "      <th></th>\n",
              "      <th></th>\n",
              "    </tr>\n",
              "  </thead>\n",
              "  <tbody>\n",
              "    <tr>\n",
              "      <th>10</th>\n",
              "      <td>0.409</td>\n",
              "      <td>0.41</td>\n",
              "      <td>0.409246</td>\n",
              "    </tr>\n",
              "    <tr>\n",
              "      <th>12</th>\n",
              "      <td>0.375</td>\n",
              "      <td>0.38</td>\n",
              "      <td>0.375430</td>\n",
              "    </tr>\n",
              "    <tr>\n",
              "      <th>14</th>\n",
              "      <td>0.349</td>\n",
              "      <td>0.35</td>\n",
              "      <td>0.348901</td>\n",
              "    </tr>\n",
              "    <tr>\n",
              "      <th>16</th>\n",
              "      <td>0.328</td>\n",
              "      <td>0.33</td>\n",
              "      <td>0.327334</td>\n",
              "    </tr>\n",
              "    <tr>\n",
              "      <th>18</th>\n",
              "      <td>0.309</td>\n",
              "      <td>0.31</td>\n",
              "      <td>0.309360</td>\n",
              "    </tr>\n",
              "    <tr>\n",
              "      <th>20</th>\n",
              "      <td>0.294</td>\n",
              "      <td>0.29</td>\n",
              "      <td>0.294076</td>\n",
              "    </tr>\n",
              "    <tr>\n",
              "      <th>22</th>\n",
              "      <td>0.294</td>\n",
              "      <td>0.28</td>\n",
              "      <td>0.280869</td>\n",
              "    </tr>\n",
              "    <tr>\n",
              "      <th>24</th>\n",
              "      <td>0.294</td>\n",
              "      <td>0.27</td>\n",
              "      <td>0.269308</td>\n",
              "    </tr>\n",
              "    <tr>\n",
              "      <th>26</th>\n",
              "      <td>0.294</td>\n",
              "      <td>0.26</td>\n",
              "      <td>0.259075</td>\n",
              "    </tr>\n",
              "    <tr>\n",
              "      <th>28</th>\n",
              "      <td>0.294</td>\n",
              "      <td>0.25</td>\n",
              "      <td>0.249934</td>\n",
              "    </tr>\n",
              "    <tr>\n",
              "      <th>30</th>\n",
              "      <td>0.294</td>\n",
              "      <td>0.24</td>\n",
              "      <td>0.241704</td>\n",
              "    </tr>\n",
              "  </tbody>\n",
              "</table>\n",
              "</div>"
            ]
          },
          "metadata": {},
          "execution_count": 51
        }
      ]
    },
    {
      "cell_type": "code",
      "source": [
        "# plot perbandingan nilai delta kritis\n",
        "\n",
        "table_dcr.plot();"
      ],
      "metadata": {
        "colab": {
          "base_uri": "https://localhost:8080/",
          "height": 274
        },
        "id": "rfxmBdrl8OJ5",
        "outputId": "54b08ea7-7d4b-4fb0-e12a-34b5c4ac3d5e"
      },
      "execution_count": null,
      "outputs": [
        {
          "output_type": "display_data",
          "data": {
            "text/plain": [
              "<Figure size 432x288 with 1 Axes>"
            ],
            "image/png": "[encoded data removed]"
          },
          "metadata": {}
        }
      ]
    },
    {
      "cell_type": "code",
      "source": [
        "# hk140.t_dcr_st # tabel soetopo hanya sampai n=20"
      ],
      "metadata": {
        "id": "X7lqjwJHYQpO"
      },
      "execution_count": null,
      "outputs": []
    },
    {
      "cell_type": "code",
      "source": [
        "# hitung delta\n",
        "\n",
        "for _source in dcr_source[:-1]:\n",
        "    table_dcr[f'delta_{_source}'] = table_dcr['dcr (Scipy)'] - table_dcr[f'dcr ({_source.title()})']\n",
        "\n",
        "table_dcr"
      ],
      "metadata": {
        "colab": {
          "base_uri": "https://localhost:8080/",
          "height": 426
        },
        "id": "psAmCgZK9edj",
        "outputId": "db45c693-ad79-4de3-a0b0-c8104c39d370"
      },
      "execution_count": null,
      "outputs": [
        {
          "output_type": "execute_result",
          "data": {
            "text/plain": [
              "    dcr (Soetopo)  dcr (Soewarno)  dcr (Scipy)  delta_soetopo  delta_soewarno\n",
              "n                                                                            \n",
              "10          0.409            0.41     0.409246       0.000246       -0.000754\n",
              "12          0.375            0.38     0.375430       0.000430       -0.004570\n",
              "14          0.349            0.35     0.348901      -0.000099       -0.001099\n",
              "16          0.328            0.33     0.327334      -0.000666       -0.002666\n",
              "18          0.309            0.31     0.309360       0.000360       -0.000640\n",
              "20          0.294            0.29     0.294076       0.000076        0.004076\n",
              "22          0.294            0.28     0.280869      -0.013131        0.000869\n",
              "24          0.294            0.27     0.269308      -0.024692       -0.000692\n",
              "26          0.294            0.26     0.259075      -0.034925       -0.000925\n",
              "28          0.294            0.25     0.249934      -0.044066       -0.000066\n",
              "30          0.294            0.24     0.241704      -0.052296        0.001704"
            ],
            "text/html": [
              "<div>\n",
              "<style scoped>\n",
              "    .dataframe tbody tr th:only-of-type {\n",
              "        vertical-align: middle;\n",
              "    }\n",
              "\n",
              "    .dataframe tbody tr th {\n",
              "        vertical-align: top;\n",
              "    }\n",
              "\n",
              "    .dataframe thead th {\n",
              "        text-align: right;\n",
              "    }\n",
              "</style>\n",
              "<table border=\"1\" class=\"dataframe\">\n",
              "  <thead>\n",
              "    <tr style=\"text-align: right;\">\n",
              "      <th></th>\n",
              "      <th>dcr (Soetopo)</th>\n",
              "      <th>dcr (Soewarno)</th>\n",
              "      <th>dcr (Scipy)</th>\n",
              "      <th>delta_soetopo</th>\n",
              "      <th>delta_soewarno</th>\n",
              "    </tr>\n",
              "    <tr>\n",
              "      <th>n</th>\n",
              "      <th></th>\n",
              "      <th></th>\n",
              "      <th></th>\n",
              "      <th></th>\n",
              "      <th></th>\n",
              "    </tr>\n",
              "  </thead>\n",
              "  <tbody>\n",
              "    <tr>\n",
              "      <th>10</th>\n",
              "      <td>0.409</td>\n",
              "      <td>0.41</td>\n",
              "      <td>0.409246</td>\n",
              "      <td>0.000246</td>\n",
              "      <td>-0.000754</td>\n",
              "    </tr>\n",
              "    <tr>\n",
              "      <th>12</th>\n",
              "      <td>0.375</td>\n",
              "      <td>0.38</td>\n",
              "      <td>0.375430</td>\n",
              "      <td>0.000430</td>\n",
              "      <td>-0.004570</td>\n",
              "    </tr>\n",
              "    <tr>\n",
              "      <th>14</th>\n",
              "      <td>0.349</td>\n",
              "      <td>0.35</td>\n",
              "      <td>0.348901</td>\n",
              "      <td>-0.000099</td>\n",
              "      <td>-0.001099</td>\n",
              "    </tr>\n",
              "    <tr>\n",
              "      <th>16</th>\n",
              "      <td>0.328</td>\n",
              "      <td>0.33</td>\n",
              "      <td>0.327334</td>\n",
              "      <td>-0.000666</td>\n",
              "      <td>-0.002666</td>\n",
              "    </tr>\n",
              "    <tr>\n",
              "      <th>18</th>\n",
              "      <td>0.309</td>\n",
              "      <td>0.31</td>\n",
              "      <td>0.309360</td>\n",
              "      <td>0.000360</td>\n",
              "      <td>-0.000640</td>\n",
              "    </tr>\n",
              "    <tr>\n",
              "      <th>20</th>\n",
              "      <td>0.294</td>\n",
              "      <td>0.29</td>\n",
              "      <td>0.294076</td>\n",
              "      <td>0.000076</td>\n",
              "      <td>0.004076</td>\n",
              "    </tr>\n",
              "    <tr>\n",
              "      <th>22</th>\n",
              "      <td>0.294</td>\n",
              "      <td>0.28</td>\n",
              "      <td>0.280869</td>\n",
              "      <td>-0.013131</td>\n",
              "      <td>0.000869</td>\n",
              "    </tr>\n",
              "    <tr>\n",
              "      <th>24</th>\n",
              "      <td>0.294</td>\n",
              "      <td>0.27</td>\n",
              "      <td>0.269308</td>\n",
              "      <td>-0.024692</td>\n",
              "      <td>-0.000692</td>\n",
              "    </tr>\n",
              "    <tr>\n",
              "      <th>26</th>\n",
              "      <td>0.294</td>\n",
              "      <td>0.26</td>\n",
              "      <td>0.259075</td>\n",
              "      <td>-0.034925</td>\n",
              "      <td>-0.000925</td>\n",
              "    </tr>\n",
              "    <tr>\n",
              "      <th>28</th>\n",
              "      <td>0.294</td>\n",
              "      <td>0.25</td>\n",
              "      <td>0.249934</td>\n",
              "      <td>-0.044066</td>\n",
              "      <td>-0.000066</td>\n",
              "    </tr>\n",
              "    <tr>\n",
              "      <th>30</th>\n",
              "      <td>0.294</td>\n",
              "      <td>0.24</td>\n",
              "      <td>0.241704</td>\n",
              "      <td>-0.052296</td>\n",
              "      <td>0.001704</td>\n",
              "    </tr>\n",
              "  </tbody>\n",
              "</table>\n",
              "</div>"
            ]
          },
          "metadata": {},
          "execution_count": 54
        }
      ]
    },
    {
      "cell_type": "code",
      "source": [
        "# plot bar\n",
        "\n",
        "col_delta_dcr = [f'delta_{_source}' for _source in dcr_source[:-1]]\n",
        "table_dcr[col_delta_dcr].plot.bar();"
      ],
      "metadata": {
        "colab": {
          "base_uri": "https://localhost:8080/",
          "height": 276
        },
        "id": "YzGTNa3T-MQG",
        "outputId": "c1c9612b-c561-45fb-fefd-443b876a50e1"
      },
      "execution_count": null,
      "outputs": [
        {
          "output_type": "display_data",
          "data": {
            "text/plain": [
              "<Figure size 432x288 with 1 Axes>"
            ],
            "image/png": "[encoded data removed]"
          },
          "metadata": {}
        }
      ]
    },
    {
      "cell_type": "markdown",
      "source": [
        "### NORMAL"
      ],
      "metadata": {
        "id": "D_jztD0w-ipQ"
      }
    },
    {
      "cell_type": "code",
      "source": [
        "from hidrokit.contrib.taruma import ujidist\n",
        "\n",
        "ujidist.uji_kstest(dataset_r24, dist='normal', report='full')"
      ],
      "metadata": {
        "colab": {
          "base_uri": "https://localhost:8080/",
          "height": 432
        },
        "id": "33TC-PQL2cnU",
        "outputId": "3714a72f-4813-489a-a694-995a7be22b3f"
      },
      "execution_count": null,
      "outputs": [
        {
          "output_type": "stream",
          "name": "stdout",
          "text": [
            "Periksa Kecocokan Distribusi Normal\n",
            "Delta Kritikal = 0.40925\n",
            "Delta Max = 0.16139\n",
            "Result (Dmax < Dcr) = Distribusi Diterima\n"
          ]
        },
        {
          "output_type": "execute_result",
          "data": {
            "text/plain": [
              "                     x  no       p_w         k       p_d         d\n",
              "2012-01-01   28.750000   1  0.090909 -0.772359  0.219951  0.129042\n",
              "2016-01-01   34.675000   2  0.181818 -0.704762  0.240479  0.058661\n",
              "2015-01-01   36.100000   3  0.272727 -0.688504  0.245568  0.027160\n",
              "2014-01-01   37.050000   4  0.363636 -0.677666  0.248992  0.114645\n",
              "2018-01-01   48.750000   5  0.454545 -0.544183  0.293158  0.161388\n",
              "2017-01-01   81.425000   6  0.545455 -0.171399  0.431955  0.113499\n",
              "2013-01-01   92.400000   7  0.636364 -0.046187  0.481581  0.154783\n",
              "2009-01-01  125.000000   8  0.727273  0.325741  0.627690  0.099583\n",
              "2011-01-01  173.333333   9  0.818182  0.877169  0.809802  0.008379\n",
              "2010-01-01  307.000000  10  0.909091  2.402150  0.991850  0.082760"
            ],
            "text/html": [
              "<div>\n",
              "<style scoped>\n",
              "    .dataframe tbody tr th:only-of-type {\n",
              "        vertical-align: middle;\n",
              "    }\n",
              "\n",
              "    .dataframe tbody tr th {\n",
              "        vertical-align: top;\n",
              "    }\n",
              "\n",
              "    .dataframe thead th {\n",
              "        text-align: right;\n",
              "    }\n",
              "</style>\n",
              "<table border=\"1\" class=\"dataframe\">\n",
              "  <thead>\n",
              "    <tr style=\"text-align: right;\">\n",
              "      <th></th>\n",
              "      <th>x</th>\n",
              "      <th>no</th>\n",
              "      <th>p_w</th>\n",
              "      <th>k</th>\n",
              "      <th>p_d</th>\n",
              "      <th>d</th>\n",
              "    </tr>\n",
              "  </thead>\n",
              "  <tbody>\n",
              "    <tr>\n",
              "      <th>2012-01-01</th>\n",
              "      <td>28.750000</td>\n",
              "      <td>1</td>\n",
              "      <td>0.090909</td>\n",
              "      <td>-0.772359</td>\n",
              "      <td>0.219951</td>\n",
              "      <td>0.129042</td>\n",
              "    </tr>\n",
              "    <tr>\n",
              "      <th>2016-01-01</th>\n",
              "      <td>34.675000</td>\n",
              "      <td>2</td>\n",
              "      <td>0.181818</td>\n",
              "      <td>-0.704762</td>\n",
              "      <td>0.240479</td>\n",
              "      <td>0.058661</td>\n",
              "    </tr>\n",
              "    <tr>\n",
              "      <th>2015-01-01</th>\n",
              "      <td>36.100000</td>\n",
              "      <td>3</td>\n",
              "      <td>0.272727</td>\n",
              "      <td>-0.688504</td>\n",
              "      <td>0.245568</td>\n",
              "      <td>0.027160</td>\n",
              "    </tr>\n",
              "    <tr>\n",
              "      <th>2014-01-01</th>\n",
              "      <td>37.050000</td>\n",
              "      <td>4</td>\n",
              "      <td>0.363636</td>\n",
              "      <td>-0.677666</td>\n",
              "      <td>0.248992</td>\n",
              "      <td>0.114645</td>\n",
              "    </tr>\n",
              "    <tr>\n",
              "      <th>2018-01-01</th>\n",
              "      <td>48.750000</td>\n",
              "      <td>5</td>\n",
              "      <td>0.454545</td>\n",
              "      <td>-0.544183</td>\n",
              "      <td>0.293158</td>\n",
              "      <td>0.161388</td>\n",
              "    </tr>\n",
              "    <tr>\n",
              "      <th>2017-01-01</th>\n",
              "      <td>81.425000</td>\n",
              "      <td>6</td>\n",
              "      <td>0.545455</td>\n",
              "      <td>-0.171399</td>\n",
              "      <td>0.431955</td>\n",
              "      <td>0.113499</td>\n",
              "    </tr>\n",
              "    <tr>\n",
              "      <th>2013-01-01</th>\n",
              "      <td>92.400000</td>\n",
              "      <td>7</td>\n",
              "      <td>0.636364</td>\n",
              "      <td>-0.046187</td>\n",
              "      <td>0.481581</td>\n",
              "      <td>0.154783</td>\n",
              "    </tr>\n",
              "    <tr>\n",
              "      <th>2009-01-01</th>\n",
              "      <td>125.000000</td>\n",
              "      <td>8</td>\n",
              "      <td>0.727273</td>\n",
              "      <td>0.325741</td>\n",
              "      <td>0.627690</td>\n",
              "      <td>0.099583</td>\n",
              "    </tr>\n",
              "    <tr>\n",
              "      <th>2011-01-01</th>\n",
              "      <td>173.333333</td>\n",
              "      <td>9</td>\n",
              "      <td>0.818182</td>\n",
              "      <td>0.877169</td>\n",
              "      <td>0.809802</td>\n",
              "      <td>0.008379</td>\n",
              "    </tr>\n",
              "    <tr>\n",
              "      <th>2010-01-01</th>\n",
              "      <td>307.000000</td>\n",
              "      <td>10</td>\n",
              "      <td>0.909091</td>\n",
              "      <td>2.402150</td>\n",
              "      <td>0.991850</td>\n",
              "      <td>0.082760</td>\n",
              "    </tr>\n",
              "  </tbody>\n",
              "</table>\n",
              "</div>"
            ]
          },
          "metadata": {},
          "execution_count": 56
        }
      ]
    },
    {
      "cell_type": "markdown",
      "source": [
        "### LOG NORMAL"
      ],
      "metadata": {
        "id": "7sRBPIzV-oI_"
      }
    },
    {
      "cell_type": "code",
      "source": [
        "ujidist.uji_kstest(dataset_r24, dist='lognormal', report='full')"
      ],
      "metadata": {
        "colab": {
          "base_uri": "https://localhost:8080/",
          "height": 432
        },
        "id": "CncWNbav3JwM",
        "outputId": "41035fba-b675-4436-ccc2-7212050e09fb"
      },
      "execution_count": null,
      "outputs": [
        {
          "output_type": "stream",
          "name": "stdout",
          "text": [
            "Periksa Kecocokan Distribusi Lognormal\n",
            "Delta Kritikal = 0.40925\n",
            "Delta Max = 0.15670\n",
            "Result (Dmax < Dcr) = Distribusi Diterima\n"
          ]
        },
        {
          "output_type": "execute_result",
          "data": {
            "text/plain": [
              "                     x  no       p_w     log_x         k       p_d         d\n",
              "2012-01-01   28.750000   1  0.090909  1.458638 -1.135768  0.128027  0.037118\n",
              "2016-01-01   34.675000   2  0.181818  1.540016 -0.900339  0.183970  0.002152\n",
              "2015-01-01   36.100000   3  0.272727  1.557507 -0.849738  0.197735  0.074992\n",
              "2014-01-01   37.050000   4  0.363636  1.568788 -0.817102  0.206935  0.156701\n",
              "2018-01-01   48.750000   5  0.454545  1.687975 -0.472295  0.318358  0.136187\n",
              "2017-01-01   81.425000   6  0.545455  1.910758  0.172219  0.568367  0.022913\n",
              "2013-01-01   92.400000   7  0.636364  1.965672  0.331086  0.629710  0.006653\n",
              "2009-01-01  125.000000   8  0.727273  2.096910  0.710759  0.761383  0.034110\n",
              "2011-01-01  173.333333   9  0.818182  2.238882  1.121485  0.868959  0.050777\n",
              "2010-01-01  307.000000  10  0.909091  2.487138  1.839692  0.967093  0.058002"
            ],
            "text/html": [
              "<div>\n",
              "<style scoped>\n",
              "    .dataframe tbody tr th:only-of-type {\n",
              "        vertical-align: middle;\n",
              "    }\n",
              "\n",
              "    .dataframe tbody tr th {\n",
              "        vertical-align: top;\n",
              "    }\n",
              "\n",
              "    .dataframe thead th {\n",
              "        text-align: right;\n",
              "    }\n",
              "</style>\n",
              "<table border=\"1\" class=\"dataframe\">\n",
              "  <thead>\n",
              "    <tr style=\"text-align: right;\">\n",
              "      <th></th>\n",
              "      <th>x</th>\n",
              "      <th>no</th>\n",
              "      <th>p_w</th>\n",
              "      <th>log_x</th>\n",
              "      <th>k</th>\n",
              "      <th>p_d</th>\n",
              "      <th>d</th>\n",
              "    </tr>\n",
              "  </thead>\n",
              "  <tbody>\n",
              "    <tr>\n",
              "      <th>2012-01-01</th>\n",
              "      <td>28.750000</td>\n",
              "      <td>1</td>\n",
              "      <td>0.090909</td>\n",
              "      <td>1.458638</td>\n",
              "      <td>-1.135768</td>\n",
              "      <td>0.128027</td>\n",
              "      <td>0.037118</td>\n",
              "    </tr>\n",
              "    <tr>\n",
              "      <th>2016-01-01</th>\n",
              "      <td>34.675000</td>\n",
              "      <td>2</td>\n",
              "      <td>0.181818</td>\n",
              "      <td>1.540016</td>\n",
              "      <td>-0.900339</td>\n",
              "      <td>0.183970</td>\n",
              "      <td>0.002152</td>\n",
              "    </tr>\n",
              "    <tr>\n",
              "      <th>2015-01-01</th>\n",
              "      <td>36.100000</td>\n",
              "      <td>3</td>\n",
              "      <td>0.272727</td>\n",
              "      <td>1.557507</td>\n",
              "      <td>-0.849738</td>\n",
              "      <td>0.197735</td>\n",
              "      <td>0.074992</td>\n",
              "    </tr>\n",
              "    <tr>\n",
              "      <th>2014-01-01</th>\n",
              "      <td>37.050000</td>\n",
              "      <td>4</td>\n",
              "      <td>0.363636</td>\n",
              "      <td>1.568788</td>\n",
              "      <td>-0.817102</td>\n",
              "      <td>0.206935</td>\n",
              "      <td>0.156701</td>\n",
              "    </tr>\n",
              "    <tr>\n",
              "      <th>2018-01-01</th>\n",
              "      <td>48.750000</td>\n",
              "      <td>5</td>\n",
              "      <td>0.454545</td>\n",
              "      <td>1.687975</td>\n",
              "      <td>-0.472295</td>\n",
              "      <td>0.318358</td>\n",
              "      <td>0.136187</td>\n",
              "    </tr>\n",
              "    <tr>\n",
              "      <th>2017-01-01</th>\n",
              "      <td>81.425000</td>\n",
              "      <td>6</td>\n",
              "      <td>0.545455</td>\n",
              "      <td>1.910758</td>\n",
              "      <td>0.172219</td>\n",
              "      <td>0.568367</td>\n",
              "      <td>0.022913</td>\n",
              "    </tr>\n",
              "    <tr>\n",
              "      <th>2013-01-01</th>\n",
              "      <td>92.400000</td>\n",
              "      <td>7</td>\n",
              "      <td>0.636364</td>\n",
              "      <td>1.965672</td>\n",
              "      <td>0.331086</td>\n",
              "      <td>0.629710</td>\n",
              "      <td>0.006653</td>\n",
              "    </tr>\n",
              "    <tr>\n",
              "      <th>2009-01-01</th>\n",
              "      <td>125.000000</td>\n",
              "      <td>8</td>\n",
              "      <td>0.727273</td>\n",
              "      <td>2.096910</td>\n",
              "      <td>0.710759</td>\n",
              "      <td>0.761383</td>\n",
              "      <td>0.034110</td>\n",
              "    </tr>\n",
              "    <tr>\n",
              "      <th>2011-01-01</th>\n",
              "      <td>173.333333</td>\n",
              "      <td>9</td>\n",
              "      <td>0.818182</td>\n",
              "      <td>2.238882</td>\n",
              "      <td>1.121485</td>\n",
              "      <td>0.868959</td>\n",
              "      <td>0.050777</td>\n",
              "    </tr>\n",
              "    <tr>\n",
              "      <th>2010-01-01</th>\n",
              "      <td>307.000000</td>\n",
              "      <td>10</td>\n",
              "      <td>0.909091</td>\n",
              "      <td>2.487138</td>\n",
              "      <td>1.839692</td>\n",
              "      <td>0.967093</td>\n",
              "      <td>0.058002</td>\n",
              "    </tr>\n",
              "  </tbody>\n",
              "</table>\n",
              "</div>"
            ]
          },
          "metadata": {},
          "execution_count": 57
        }
      ]
    },
    {
      "cell_type": "markdown",
      "source": [
        "### LOG PEARSON III"
      ],
      "metadata": {
        "id": "fFU7gleg_BNl"
      }
    },
    {
      "cell_type": "code",
      "source": [
        "ujidist.uji_kstest(dataset_r24, dist='logpearson3', report='full')"
      ],
      "metadata": {
        "colab": {
          "base_uri": "https://localhost:8080/",
          "height": 432
        },
        "id": "PHrKrS7S4TwK",
        "outputId": "4437d22e-43d8-456d-d6b3-ca6a73c0e69b"
      },
      "execution_count": null,
      "outputs": [
        {
          "output_type": "stream",
          "name": "stdout",
          "text": [
            "Periksa Kecocokan Distribusi Logpearson3\n",
            "Delta Kritikal = 0.40925\n",
            "Delta Max = 0.14955\n",
            "Result (Dmax < Dcr) = Distribusi Diterima\n"
          ]
        },
        {
          "output_type": "execute_result",
          "data": {
            "text/plain": [
              "                     x  no       p_w     log_x         k       p_d         d\n",
              "2012-01-01   28.750000   1  0.090909  1.458638 -1.135768  0.114777  0.023868\n",
              "2016-01-01   34.675000   2  0.181818  1.540016 -0.900339  0.185319  0.003501\n",
              "2015-01-01   36.100000   3  0.272727  1.557507 -0.849738  0.202598  0.070129\n",
              "2014-01-01   37.050000   4  0.363636  1.568788 -0.817102  0.214091  0.149546\n",
              "2018-01-01   48.750000   5  0.454545  1.687975 -0.472295  0.348026  0.106519\n",
              "2017-01-01   81.425000   6  0.545455  1.910758  0.172219  0.608311  0.062856\n",
              "2013-01-01   92.400000   7  0.636364  1.965672  0.331086  0.664750  0.028386\n",
              "2009-01-01  125.000000   8  0.727273  2.096910  0.710759  0.778668  0.051395\n",
              "2011-01-01  173.333333   9  0.818182  2.238882  1.121485  0.867339  0.049157\n",
              "2010-01-01  307.000000  10  0.909091  2.487138  1.839692  0.952599  0.043508"
            ],
            "text/html": [
              "<div>\n",
              "<style scoped>\n",
              "    .dataframe tbody tr th:only-of-type {\n",
              "        vertical-align: middle;\n",
              "    }\n",
              "\n",
              "    .dataframe tbody tr th {\n",
              "        vertical-align: top;\n",
              "    }\n",
              "\n",
              "    .dataframe thead th {\n",
              "        text-align: right;\n",
              "    }\n",
              "</style>\n",
              "<table border=\"1\" class=\"dataframe\">\n",
              "  <thead>\n",
              "    <tr style=\"text-align: right;\">\n",
              "      <th></th>\n",
              "      <th>x</th>\n",
              "      <th>no</th>\n",
              "      <th>p_w</th>\n",
              "      <th>log_x</th>\n",
              "      <th>k</th>\n",
              "      <th>p_d</th>\n",
              "      <th>d</th>\n",
              "    </tr>\n",
              "  </thead>\n",
              "  <tbody>\n",
              "    <tr>\n",
              "      <th>2012-01-01</th>\n",
              "      <td>28.750000</td>\n",
              "      <td>1</td>\n",
              "      <td>0.090909</td>\n",
              "      <td>1.458638</td>\n",
              "      <td>-1.135768</td>\n",
              "      <td>0.114777</td>\n",
              "      <td>0.023868</td>\n",
              "    </tr>\n",
              "    <tr>\n",
              "      <th>2016-01-01</th>\n",
              "      <td>34.675000</td>\n",
              "      <td>2</td>\n",
              "      <td>0.181818</td>\n",
              "      <td>1.540016</td>\n",
              "      <td>-0.900339</td>\n",
              "      <td>0.185319</td>\n",
              "      <td>0.003501</td>\n",
              "    </tr>\n",
              "    <tr>\n",
              "      <th>2015-01-01</th>\n",
              "      <td>36.100000</td>\n",
              "      <td>3</td>\n",
              "      <td>0.272727</td>\n",
              "      <td>1.557507</td>\n",
              "      <td>-0.849738</td>\n",
              "      <td>0.202598</td>\n",
              "      <td>0.070129</td>\n",
              "    </tr>\n",
              "    <tr>\n",
              "      <th>2014-01-01</th>\n",
              "      <td>37.050000</td>\n",
              "      <td>4</td>\n",
              "      <td>0.363636</td>\n",
              "      <td>1.568788</td>\n",
              "      <td>-0.817102</td>\n",
              "      <td>0.214091</td>\n",
              "      <td>0.149546</td>\n",
              "    </tr>\n",
              "    <tr>\n",
              "      <th>2018-01-01</th>\n",
              "      <td>48.750000</td>\n",
              "      <td>5</td>\n",
              "      <td>0.454545</td>\n",
              "      <td>1.687975</td>\n",
              "      <td>-0.472295</td>\n",
              "      <td>0.348026</td>\n",
              "      <td>0.106519</td>\n",
              "    </tr>\n",
              "    <tr>\n",
              "      <th>2017-01-01</th>\n",
              "      <td>81.425000</td>\n",
              "      <td>6</td>\n",
              "      <td>0.545455</td>\n",
              "      <td>1.910758</td>\n",
              "      <td>0.172219</td>\n",
              "      <td>0.608311</td>\n",
              "      <td>0.062856</td>\n",
              "    </tr>\n",
              "    <tr>\n",
              "      <th>2013-01-01</th>\n",
              "      <td>92.400000</td>\n",
              "      <td>7</td>\n",
              "      <td>0.636364</td>\n",
              "      <td>1.965672</td>\n",
              "      <td>0.331086</td>\n",
              "      <td>0.664750</td>\n",
              "      <td>0.028386</td>\n",
              "    </tr>\n",
              "    <tr>\n",
              "      <th>2009-01-01</th>\n",
              "      <td>125.000000</td>\n",
              "      <td>8</td>\n",
              "      <td>0.727273</td>\n",
              "      <td>2.096910</td>\n",
              "      <td>0.710759</td>\n",
              "      <td>0.778668</td>\n",
              "      <td>0.051395</td>\n",
              "    </tr>\n",
              "    <tr>\n",
              "      <th>2011-01-01</th>\n",
              "      <td>173.333333</td>\n",
              "      <td>9</td>\n",
              "      <td>0.818182</td>\n",
              "      <td>2.238882</td>\n",
              "      <td>1.121485</td>\n",
              "      <td>0.867339</td>\n",
              "      <td>0.049157</td>\n",
              "    </tr>\n",
              "    <tr>\n",
              "      <th>2010-01-01</th>\n",
              "      <td>307.000000</td>\n",
              "      <td>10</td>\n",
              "      <td>0.909091</td>\n",
              "      <td>2.487138</td>\n",
              "      <td>1.839692</td>\n",
              "      <td>0.952599</td>\n",
              "      <td>0.043508</td>\n",
              "    </tr>\n",
              "  </tbody>\n",
              "</table>\n",
              "</div>"
            ]
          },
          "metadata": {},
          "execution_count": 58
        }
      ]
    },
    {
      "cell_type": "markdown",
      "source": [
        "### GUMBEL"
      ],
      "metadata": {
        "id": "intWxL-d_GDm"
      }
    },
    {
      "cell_type": "code",
      "source": [
        "ujidist.uji_kstest(dataset_r24, dist='gumbel', report='full')"
      ],
      "metadata": {
        "colab": {
          "base_uri": "https://localhost:8080/",
          "height": 432
        },
        "id": "QNLyquuz_Duc",
        "outputId": "a8270441-76df-4927-8989-6df0ba2443e9"
      },
      "execution_count": null,
      "outputs": [
        {
          "output_type": "stream",
          "name": "stdout",
          "text": [
            "Periksa Kecocokan Distribusi Gumbel\n",
            "Delta Kritikal = 0.40925\n",
            "Delta Max = 0.19009\n",
            "Result (Dmax < Dcr) = Distribusi Diterima\n"
          ]
        },
        {
          "output_type": "execute_result",
          "data": {
            "text/plain": [
              "                     x  no       p_w         k    p_d         d\n",
              "2012-01-01   28.750000   1  0.090909 -0.772359  0.281  0.190091\n",
              "2016-01-01   34.675000   2  0.181818 -0.704762  0.304  0.122182\n",
              "2015-01-01   36.100000   3  0.272727 -0.688504  0.310  0.037273\n",
              "2014-01-01   37.050000   4  0.363636 -0.677666  0.314  0.049636\n",
              "2018-01-01   48.750000   5  0.454545 -0.544183  0.360  0.094545\n",
              "2017-01-01   81.425000   6  0.545455 -0.171399  0.488  0.057455\n",
              "2013-01-01   92.400000   7  0.636364 -0.046187  0.529  0.107364\n",
              "2009-01-01  125.000000   8  0.727273  0.325741  0.639  0.088273\n",
              "2011-01-01  173.333333   9  0.818182  0.877169  0.767  0.051182\n",
              "2010-01-01  307.000000  10  0.909091  2.402150  0.940  0.030909"
            ],
            "text/html": [
              "<div>\n",
              "<style scoped>\n",
              "    .dataframe tbody tr th:only-of-type {\n",
              "        vertical-align: middle;\n",
              "    }\n",
              "\n",
              "    .dataframe tbody tr th {\n",
              "        vertical-align: top;\n",
              "    }\n",
              "\n",
              "    .dataframe thead th {\n",
              "        text-align: right;\n",
              "    }\n",
              "</style>\n",
              "<table border=\"1\" class=\"dataframe\">\n",
              "  <thead>\n",
              "    <tr style=\"text-align: right;\">\n",
              "      <th></th>\n",
              "      <th>x</th>\n",
              "      <th>no</th>\n",
              "      <th>p_w</th>\n",
              "      <th>k</th>\n",
              "      <th>p_d</th>\n",
              "      <th>d</th>\n",
              "    </tr>\n",
              "  </thead>\n",
              "  <tbody>\n",
              "    <tr>\n",
              "      <th>2012-01-01</th>\n",
              "      <td>28.750000</td>\n",
              "      <td>1</td>\n",
              "      <td>0.090909</td>\n",
              "      <td>-0.772359</td>\n",
              "      <td>0.281</td>\n",
              "      <td>0.190091</td>\n",
              "    </tr>\n",
              "    <tr>\n",
              "      <th>2016-01-01</th>\n",
              "      <td>34.675000</td>\n",
              "      <td>2</td>\n",
              "      <td>0.181818</td>\n",
              "      <td>-0.704762</td>\n",
              "      <td>0.304</td>\n",
              "      <td>0.122182</td>\n",
              "    </tr>\n",
              "    <tr>\n",
              "      <th>2015-01-01</th>\n",
              "      <td>36.100000</td>\n",
              "      <td>3</td>\n",
              "      <td>0.272727</td>\n",
              "      <td>-0.688504</td>\n",
              "      <td>0.310</td>\n",
              "      <td>0.037273</td>\n",
              "    </tr>\n",
              "    <tr>\n",
              "      <th>2014-01-01</th>\n",
              "      <td>37.050000</td>\n",
              "      <td>4</td>\n",
              "      <td>0.363636</td>\n",
              "      <td>-0.677666</td>\n",
              "      <td>0.314</td>\n",
              "      <td>0.049636</td>\n",
              "    </tr>\n",
              "    <tr>\n",
              "      <th>2018-01-01</th>\n",
              "      <td>48.750000</td>\n",
              "      <td>5</td>\n",
              "      <td>0.454545</td>\n",
              "      <td>-0.544183</td>\n",
              "      <td>0.360</td>\n",
              "      <td>0.094545</td>\n",
              "    </tr>\n",
              "    <tr>\n",
              "      <th>2017-01-01</th>\n",
              "      <td>81.425000</td>\n",
              "      <td>6</td>\n",
              "      <td>0.545455</td>\n",
              "      <td>-0.171399</td>\n",
              "      <td>0.488</td>\n",
              "      <td>0.057455</td>\n",
              "    </tr>\n",
              "    <tr>\n",
              "      <th>2013-01-01</th>\n",
              "      <td>92.400000</td>\n",
              "      <td>7</td>\n",
              "      <td>0.636364</td>\n",
              "      <td>-0.046187</td>\n",
              "      <td>0.529</td>\n",
              "      <td>0.107364</td>\n",
              "    </tr>\n",
              "    <tr>\n",
              "      <th>2009-01-01</th>\n",
              "      <td>125.000000</td>\n",
              "      <td>8</td>\n",
              "      <td>0.727273</td>\n",
              "      <td>0.325741</td>\n",
              "      <td>0.639</td>\n",
              "      <td>0.088273</td>\n",
              "    </tr>\n",
              "    <tr>\n",
              "      <th>2011-01-01</th>\n",
              "      <td>173.333333</td>\n",
              "      <td>9</td>\n",
              "      <td>0.818182</td>\n",
              "      <td>0.877169</td>\n",
              "      <td>0.767</td>\n",
              "      <td>0.051182</td>\n",
              "    </tr>\n",
              "    <tr>\n",
              "      <th>2010-01-01</th>\n",
              "      <td>307.000000</td>\n",
              "      <td>10</td>\n",
              "      <td>0.909091</td>\n",
              "      <td>2.402150</td>\n",
              "      <td>0.940</td>\n",
              "      <td>0.030909</td>\n",
              "    </tr>\n",
              "  </tbody>\n",
              "</table>\n",
              "</div>"
            ]
          },
          "metadata": {},
          "execution_count": 59
        }
      ]
    },
    {
      "cell_type": "markdown",
      "source": [
        "## UJI CHI SQUARE (hk141)"
      ],
      "metadata": {
        "id": "HJB85Y87EjhN"
      }
    },
    {
      "cell_type": "code",
      "source": [
        "from hidrokit.contrib.taruma import hk141"
      ],
      "metadata": {
        "id": "sMhiWetI_Iu9"
      },
      "execution_count": null,
      "outputs": []
    },
    {
      "cell_type": "code",
      "source": [
        "# nilai x kritis terdapat 1 sumber tabel: limantara\n",
        "# default: scipy\n",
        "\n",
        "xcr_source = ['limantara', 'scipy']\n",
        "\n",
        "table_xcr = {}\n",
        "dk_test = np.arange(1, 21, 2)\n",
        "\n",
        "for _source in xcr_source:\n",
        "    table_xcr[f'xcr ({_source.title()})'] = hk141.calc_xcr(alpha=0.05, dk=dk_test, source=_source) # .round(3)\n",
        "\n",
        "table_xcr = pd.DataFrame(table_xcr)\n",
        "table_xcr.insert(0, 'dk', dk_test)\n",
        "table_xcr = table_xcr.set_index('dk')\n",
        "table_xcr"
      ],
      "metadata": {
        "colab": {
          "base_uri": "https://localhost:8080/",
          "height": 394
        },
        "id": "TZuXovMJE09d",
        "outputId": "2232b7a8-0392-4ae4-a6ba-eaa3da80f8c3"
      },
      "execution_count": null,
      "outputs": [
        {
          "output_type": "execute_result",
          "data": {
            "text/plain": [
              "    xcr (Limantara)  xcr (Scipy)\n",
              "dk                              \n",
              "1             3.841     3.841459\n",
              "3             7.815     7.814728\n",
              "5            11.070    11.070498\n",
              "7            14.067    14.067140\n",
              "9            16.919    16.918978\n",
              "11           19.675    19.675138\n",
              "13           22.362    22.362032\n",
              "15           24.996    24.995790\n",
              "17           27.587    27.587112\n",
              "19           30.144    30.143527"
            ],
            "text/html": [
              "<div>\n",
              "<style scoped>\n",
              "    .dataframe tbody tr th:only-of-type {\n",
              "        vertical-align: middle;\n",
              "    }\n",
              "\n",
              "    .dataframe tbody tr th {\n",
              "        vertical-align: top;\n",
              "    }\n",
              "\n",
              "    .dataframe thead th {\n",
              "        text-align: right;\n",
              "    }\n",
              "</style>\n",
              "<table border=\"1\" class=\"dataframe\">\n",
              "  <thead>\n",
              "    <tr style=\"text-align: right;\">\n",
              "      <th></th>\n",
              "      <th>xcr (Limantara)</th>\n",
              "      <th>xcr (Scipy)</th>\n",
              "    </tr>\n",
              "    <tr>\n",
              "      <th>dk</th>\n",
              "      <th></th>\n",
              "      <th></th>\n",
              "    </tr>\n",
              "  </thead>\n",
              "  <tbody>\n",
              "    <tr>\n",
              "      <th>1</th>\n",
              "      <td>3.841</td>\n",
              "      <td>3.841459</td>\n",
              "    </tr>\n",
              "    <tr>\n",
              "      <th>3</th>\n",
              "      <td>7.815</td>\n",
              "      <td>7.814728</td>\n",
              "    </tr>\n",
              "    <tr>\n",
              "      <th>5</th>\n",
              "      <td>11.070</td>\n",
              "      <td>11.070498</td>\n",
              "    </tr>\n",
              "    <tr>\n",
              "      <th>7</th>\n",
              "      <td>14.067</td>\n",
              "      <td>14.067140</td>\n",
              "    </tr>\n",
              "    <tr>\n",
              "      <th>9</th>\n",
              "      <td>16.919</td>\n",
              "      <td>16.918978</td>\n",
              "    </tr>\n",
              "    <tr>\n",
              "      <th>11</th>\n",
              "      <td>19.675</td>\n",
              "      <td>19.675138</td>\n",
              "    </tr>\n",
              "    <tr>\n",
              "      <th>13</th>\n",
              "      <td>22.362</td>\n",
              "      <td>22.362032</td>\n",
              "    </tr>\n",
              "    <tr>\n",
              "      <th>15</th>\n",
              "      <td>24.996</td>\n",
              "      <td>24.995790</td>\n",
              "    </tr>\n",
              "    <tr>\n",
              "      <th>17</th>\n",
              "      <td>27.587</td>\n",
              "      <td>27.587112</td>\n",
              "    </tr>\n",
              "    <tr>\n",
              "      <th>19</th>\n",
              "      <td>30.144</td>\n",
              "      <td>30.143527</td>\n",
              "    </tr>\n",
              "  </tbody>\n",
              "</table>\n",
              "</div>"
            ]
          },
          "metadata": {},
          "execution_count": 61
        }
      ]
    },
    {
      "cell_type": "code",
      "source": [
        "# plot perbandingan\n",
        "\n",
        "table_xcr.plot();"
      ],
      "metadata": {
        "colab": {
          "base_uri": "https://localhost:8080/",
          "height": 274
        },
        "id": "oNRqMnIjFTta",
        "outputId": "6a52832b-1403-413a-a07d-fd7dc306363c"
      },
      "execution_count": null,
      "outputs": [
        {
          "output_type": "display_data",
          "data": {
            "text/plain": [
              "<Figure size 432x288 with 1 Axes>"
            ],
            "image/png": "[encoded data removed]"
          },
          "metadata": {}
        }
      ]
    },
    {
      "cell_type": "code",
      "source": [
        "# hitung selisih/delta\n",
        "\n",
        "for _source in xcr_source[:-1]:\n",
        "    table_xcr[f'delta_{_source}'] = table_xcr['xcr (Scipy)'] - table_xcr[f'xcr ({_source.title()})']\n",
        "\n",
        "table_xcr # .round(3)"
      ],
      "metadata": {
        "colab": {
          "base_uri": "https://localhost:8080/",
          "height": 394
        },
        "id": "kfs47YwZFdZo",
        "outputId": "6283819f-fd61-4948-8280-5b873dbc6e1f"
      },
      "execution_count": null,
      "outputs": [
        {
          "output_type": "execute_result",
          "data": {
            "text/plain": [
              "    xcr (Limantara)  xcr (Scipy)  delta_limantara\n",
              "dk                                               \n",
              "1             3.841     3.841459         0.000459\n",
              "3             7.815     7.814728        -0.000272\n",
              "5            11.070    11.070498         0.000498\n",
              "7            14.067    14.067140         0.000140\n",
              "9            16.919    16.918978        -0.000022\n",
              "11           19.675    19.675138         0.000138\n",
              "13           22.362    22.362032         0.000032\n",
              "15           24.996    24.995790        -0.000210\n",
              "17           27.587    27.587112         0.000112\n",
              "19           30.144    30.143527        -0.000473"
            ],
            "text/html": [
              "<div>\n",
              "<style scoped>\n",
              "    .dataframe tbody tr th:only-of-type {\n",
              "        vertical-align: middle;\n",
              "    }\n",
              "\n",
              "    .dataframe tbody tr th {\n",
              "        vertical-align: top;\n",
              "    }\n",
              "\n",
              "    .dataframe thead th {\n",
              "        text-align: right;\n",
              "    }\n",
              "</style>\n",
              "<table border=\"1\" class=\"dataframe\">\n",
              "  <thead>\n",
              "    <tr style=\"text-align: right;\">\n",
              "      <th></th>\n",
              "      <th>xcr (Limantara)</th>\n",
              "      <th>xcr (Scipy)</th>\n",
              "      <th>delta_limantara</th>\n",
              "    </tr>\n",
              "    <tr>\n",
              "      <th>dk</th>\n",
              "      <th></th>\n",
              "      <th></th>\n",
              "      <th></th>\n",
              "    </tr>\n",
              "  </thead>\n",
              "  <tbody>\n",
              "    <tr>\n",
              "      <th>1</th>\n",
              "      <td>3.841</td>\n",
              "      <td>3.841459</td>\n",
              "      <td>0.000459</td>\n",
              "    </tr>\n",
              "    <tr>\n",
              "      <th>3</th>\n",
              "      <td>7.815</td>\n",
              "      <td>7.814728</td>\n",
              "      <td>-0.000272</td>\n",
              "    </tr>\n",
              "    <tr>\n",
              "      <th>5</th>\n",
              "      <td>11.070</td>\n",
              "      <td>11.070498</td>\n",
              "      <td>0.000498</td>\n",
              "    </tr>\n",
              "    <tr>\n",
              "      <th>7</th>\n",
              "      <td>14.067</td>\n",
              "      <td>14.067140</td>\n",
              "      <td>0.000140</td>\n",
              "    </tr>\n",
              "    <tr>\n",
              "      <th>9</th>\n",
              "      <td>16.919</td>\n",
              "      <td>16.918978</td>\n",
              "      <td>-0.000022</td>\n",
              "    </tr>\n",
              "    <tr>\n",
              "      <th>11</th>\n",
              "      <td>19.675</td>\n",
              "      <td>19.675138</td>\n",
              "      <td>0.000138</td>\n",
              "    </tr>\n",
              "    <tr>\n",
              "      <th>13</th>\n",
              "      <td>22.362</td>\n",
              "      <td>22.362032</td>\n",
              "      <td>0.000032</td>\n",
              "    </tr>\n",
              "    <tr>\n",
              "      <th>15</th>\n",
              "      <td>24.996</td>\n",
              "      <td>24.995790</td>\n",
              "      <td>-0.000210</td>\n",
              "    </tr>\n",
              "    <tr>\n",
              "      <th>17</th>\n",
              "      <td>27.587</td>\n",
              "      <td>27.587112</td>\n",
              "      <td>0.000112</td>\n",
              "    </tr>\n",
              "    <tr>\n",
              "      <th>19</th>\n",
              "      <td>30.144</td>\n",
              "      <td>30.143527</td>\n",
              "      <td>-0.000473</td>\n",
              "    </tr>\n",
              "  </tbody>\n",
              "</table>\n",
              "</div>"
            ]
          },
          "metadata": {},
          "execution_count": 63
        }
      ]
    },
    {
      "cell_type": "code",
      "source": [
        "# plot delta\n",
        "\n",
        "col_delta_xcr = ['delta_limantara']\n",
        "table_xcr[col_delta_xcr].plot.bar();"
      ],
      "metadata": {
        "colab": {
          "base_uri": "https://localhost:8080/",
          "height": 276
        },
        "id": "4Y9y4KIdFpub",
        "outputId": "37658705-c640-4625-bc17-30c59973a7ca"
      },
      "execution_count": null,
      "outputs": [
        {
          "output_type": "display_data",
          "data": {
            "text/plain": [
              "<Figure size 432x288 with 1 Axes>"
            ],
            "image/png": "[encoded data removed]"
          },
          "metadata": {}
        }
      ]
    },
    {
      "cell_type": "markdown",
      "source": [
        "### NORMAL"
      ],
      "metadata": {
        "id": "_ayEYcdMF6SZ"
      }
    },
    {
      "cell_type": "code",
      "source": [
        "ujidist.uji_chisquare(dataset_r24, dist='normal')"
      ],
      "metadata": {
        "colab": {
          "base_uri": "https://localhost:8080/",
          "height": 310
        },
        "id": "WXWGpOCVFw-b",
        "outputId": "d26b65ec-3aa8-4f4e-c7db-bddd2573086a"
      },
      "execution_count": null,
      "outputs": [
        {
          "output_type": "stream",
          "name": "stdout",
          "text": [
            "Periksa Kecocokan Distribusi Normal\n",
            "Jumlah Kelas = 4\n",
            "Dk = 1\n",
            "X^2_hitungan = 2.121\n",
            "X^2_kritis = 3.841\n",
            "Result (X2_calc < X2_cr) = Distribusi Diterima\n"
          ]
        },
        {
          "output_type": "execute_result",
          "data": {
            "text/plain": [
              "                batas_kelas  fe   ft\n",
              "no                                  \n",
              "1              X <= 37.3284   4  2.5\n",
              "2    37.3284 < X <= 96.4483   3  2.5\n",
              "3   96.4483 < X <= 155.5683   1  2.5\n",
              "4              X > 155.5683   2  2.5"
            ],
            "text/html": [
              "<div>\n",
              "<style scoped>\n",
              "    .dataframe tbody tr th:only-of-type {\n",
              "        vertical-align: middle;\n",
              "    }\n",
              "\n",
              "    .dataframe tbody tr th {\n",
              "        vertical-align: top;\n",
              "    }\n",
              "\n",
              "    .dataframe thead th {\n",
              "        text-align: right;\n",
              "    }\n",
              "</style>\n",
              "<table border=\"1\" class=\"dataframe\">\n",
              "  <thead>\n",
              "    <tr style=\"text-align: right;\">\n",
              "      <th></th>\n",
              "      <th>batas_kelas</th>\n",
              "      <th>fe</th>\n",
              "      <th>ft</th>\n",
              "    </tr>\n",
              "    <tr>\n",
              "      <th>no</th>\n",
              "      <th></th>\n",
              "      <th></th>\n",
              "      <th></th>\n",
              "    </tr>\n",
              "  </thead>\n",
              "  <tbody>\n",
              "    <tr>\n",
              "      <th>1</th>\n",
              "      <td>X &lt;= 37.3284</td>\n",
              "      <td>4</td>\n",
              "      <td>2.5</td>\n",
              "    </tr>\n",
              "    <tr>\n",
              "      <th>2</th>\n",
              "      <td>37.3284 &lt; X &lt;= 96.4483</td>\n",
              "      <td>3</td>\n",
              "      <td>2.5</td>\n",
              "    </tr>\n",
              "    <tr>\n",
              "      <th>3</th>\n",
              "      <td>96.4483 &lt; X &lt;= 155.5683</td>\n",
              "      <td>1</td>\n",
              "      <td>2.5</td>\n",
              "    </tr>\n",
              "    <tr>\n",
              "      <th>4</th>\n",
              "      <td>X &gt; 155.5683</td>\n",
              "      <td>2</td>\n",
              "      <td>2.5</td>\n",
              "    </tr>\n",
              "  </tbody>\n",
              "</table>\n",
              "</div>"
            ]
          },
          "metadata": {},
          "execution_count": 65
        }
      ]
    },
    {
      "cell_type": "markdown",
      "source": [
        "### LOG NORMAL"
      ],
      "metadata": {
        "id": "buN2yXjDGF0c"
      }
    },
    {
      "cell_type": "code",
      "source": [
        "ujidist.uji_chisquare(dataset_r24, dist='lognormal')"
      ],
      "metadata": {
        "colab": {
          "base_uri": "https://localhost:8080/",
          "height": 310
        },
        "id": "0H98A8PtGCR5",
        "outputId": "e82e7197-4d68-4fe6-d058-377e1d97165f"
      },
      "execution_count": null,
      "outputs": [
        {
          "output_type": "stream",
          "name": "stdout",
          "text": [
            "Periksa Kecocokan Distribusi Lognormal\n",
            "Jumlah Kelas = 4\n",
            "Dk = 1\n",
            "X^2_hitungan = 2.121\n",
            "X^2_kritis = 3.841\n",
            "Result (X2_calc < X2_cr) = Distribusi Diterima\n"
          ]
        },
        {
          "output_type": "execute_result",
          "data": {
            "text/plain": [
              "                batas_kelas  fe   ft\n",
              "no                                  \n",
              "1              X <= 41.5034   4  2.5\n",
              "2    41.5034 < X <= 70.9951   1  2.5\n",
              "3   70.9951 < X <= 121.4432   2  2.5\n",
              "4              X > 121.4432   3  2.5"
            ],
            "text/html": [
              "<div>\n",
              "<style scoped>\n",
              "    .dataframe tbody tr th:only-of-type {\n",
              "        vertical-align: middle;\n",
              "    }\n",
              "\n",
              "    .dataframe tbody tr th {\n",
              "        vertical-align: top;\n",
              "    }\n",
              "\n",
              "    .dataframe thead th {\n",
              "        text-align: right;\n",
              "    }\n",
              "</style>\n",
              "<table border=\"1\" class=\"dataframe\">\n",
              "  <thead>\n",
              "    <tr style=\"text-align: right;\">\n",
              "      <th></th>\n",
              "      <th>batas_kelas</th>\n",
              "      <th>fe</th>\n",
              "      <th>ft</th>\n",
              "    </tr>\n",
              "    <tr>\n",
              "      <th>no</th>\n",
              "      <th></th>\n",
              "      <th></th>\n",
              "      <th></th>\n",
              "    </tr>\n",
              "  </thead>\n",
              "  <tbody>\n",
              "    <tr>\n",
              "      <th>1</th>\n",
              "      <td>X &lt;= 41.5034</td>\n",
              "      <td>4</td>\n",
              "      <td>2.5</td>\n",
              "    </tr>\n",
              "    <tr>\n",
              "      <th>2</th>\n",
              "      <td>41.5034 &lt; X &lt;= 70.9951</td>\n",
              "      <td>1</td>\n",
              "      <td>2.5</td>\n",
              "    </tr>\n",
              "    <tr>\n",
              "      <th>3</th>\n",
              "      <td>70.9951 &lt; X &lt;= 121.4432</td>\n",
              "      <td>2</td>\n",
              "      <td>2.5</td>\n",
              "    </tr>\n",
              "    <tr>\n",
              "      <th>4</th>\n",
              "      <td>X &gt; 121.4432</td>\n",
              "      <td>3</td>\n",
              "      <td>2.5</td>\n",
              "    </tr>\n",
              "  </tbody>\n",
              "</table>\n",
              "</div>"
            ]
          },
          "metadata": {},
          "execution_count": 66
        }
      ]
    },
    {
      "cell_type": "markdown",
      "source": [
        "### LOG PEARSON III"
      ],
      "metadata": {
        "id": "wsOv3S7JGIPf"
      }
    },
    {
      "cell_type": "code",
      "source": [
        "ujidist.uji_chisquare(dataset_r24, dist='logpearson3')"
      ],
      "metadata": {
        "colab": {
          "base_uri": "https://localhost:8080/",
          "height": 310
        },
        "id": "o9WdZduQGHcE",
        "outputId": "d23409d2-43e3-4a39-8a2f-a6d9a4d7b8c1"
      },
      "execution_count": null,
      "outputs": [
        {
          "output_type": "stream",
          "name": "stdout",
          "text": [
            "Periksa Kecocokan Distribusi Logpearson3\n",
            "Jumlah Kelas = 4\n",
            "Dk = 1\n",
            "X^2_hitungan = 2.121\n",
            "X^2_kritis = 3.841\n",
            "Result (X2_calc < X2_cr) = Distribusi Diterima\n"
          ]
        },
        {
          "output_type": "execute_result",
          "data": {
            "text/plain": [
              "                batas_kelas  fe   ft\n",
              "no                                  \n",
              "1              X <= 40.0493   4  2.5\n",
              "2    40.0493 < X <= 65.2875   1  2.5\n",
              "3   65.2875 < X <= 114.8905   2  2.5\n",
              "4              X > 114.8905   3  2.5"
            ],
            "text/html": [
              "<div>\n",
              "<style scoped>\n",
              "    .dataframe tbody tr th:only-of-type {\n",
              "        vertical-align: middle;\n",
              "    }\n",
              "\n",
              "    .dataframe tbody tr th {\n",
              "        vertical-align: top;\n",
              "    }\n",
              "\n",
              "    .dataframe thead th {\n",
              "        text-align: right;\n",
              "    }\n",
              "</style>\n",
              "<table border=\"1\" class=\"dataframe\">\n",
              "  <thead>\n",
              "    <tr style=\"text-align: right;\">\n",
              "      <th></th>\n",
              "      <th>batas_kelas</th>\n",
              "      <th>fe</th>\n",
              "      <th>ft</th>\n",
              "    </tr>\n",
              "    <tr>\n",
              "      <th>no</th>\n",
              "      <th></th>\n",
              "      <th></th>\n",
              "      <th></th>\n",
              "    </tr>\n",
              "  </thead>\n",
              "  <tbody>\n",
              "    <tr>\n",
              "      <th>1</th>\n",
              "      <td>X &lt;= 40.0493</td>\n",
              "      <td>4</td>\n",
              "      <td>2.5</td>\n",
              "    </tr>\n",
              "    <tr>\n",
              "      <th>2</th>\n",
              "      <td>40.0493 &lt; X &lt;= 65.2875</td>\n",
              "      <td>1</td>\n",
              "      <td>2.5</td>\n",
              "    </tr>\n",
              "    <tr>\n",
              "      <th>3</th>\n",
              "      <td>65.2875 &lt; X &lt;= 114.8905</td>\n",
              "      <td>2</td>\n",
              "      <td>2.5</td>\n",
              "    </tr>\n",
              "    <tr>\n",
              "      <th>4</th>\n",
              "      <td>X &gt; 114.8905</td>\n",
              "      <td>3</td>\n",
              "      <td>2.5</td>\n",
              "    </tr>\n",
              "  </tbody>\n",
              "</table>\n",
              "</div>"
            ]
          },
          "metadata": {},
          "execution_count": 67
        }
      ]
    },
    {
      "cell_type": "markdown",
      "source": [
        "### GUMBEL"
      ],
      "metadata": {
        "id": "dRBtyyALGNvf"
      }
    },
    {
      "cell_type": "code",
      "source": [
        "ujidist.uji_chisquare(dataset_r24, dist='gumbel')"
      ],
      "metadata": {
        "colab": {
          "base_uri": "https://localhost:8080/",
          "height": 310
        },
        "id": "5cDZeI35GKYh",
        "outputId": "9c3ca4f7-fe17-4096-f2db-b3ea5c2bf452"
      },
      "execution_count": null,
      "outputs": [
        {
          "output_type": "stream",
          "name": "stdout",
          "text": [
            "Periksa Kecocokan Distribusi Gumbel\n",
            "Jumlah Kelas = 4\n",
            "Dk = 1\n",
            "X^2_hitungan = 5.162\n",
            "X^2_kritis = 3.841\n",
            "Result (X2_calc < X2_cr) = Distribusi Tidak Diterima\n"
          ]
        },
        {
          "output_type": "execute_result",
          "data": {
            "text/plain": [
              "                batas_kelas  fe   ft\n",
              "no                                  \n",
              "1              X <= 20.5982   0  2.5\n",
              "2    20.5982 < X <= 84.5713   6  2.5\n",
              "3   84.5713 < X <= 165.7332   2  2.5\n",
              "4              X > 165.7332   2  2.5"
            ],
            "text/html": [
              "<div>\n",
              "<style scoped>\n",
              "    .dataframe tbody tr th:only-of-type {\n",
              "        vertical-align: middle;\n",
              "    }\n",
              "\n",
              "    .dataframe tbody tr th {\n",
              "        vertical-align: top;\n",
              "    }\n",
              "\n",
              "    .dataframe thead th {\n",
              "        text-align: right;\n",
              "    }\n",
              "</style>\n",
              "<table border=\"1\" class=\"dataframe\">\n",
              "  <thead>\n",
              "    <tr style=\"text-align: right;\">\n",
              "      <th></th>\n",
              "      <th>batas_kelas</th>\n",
              "      <th>fe</th>\n",
              "      <th>ft</th>\n",
              "    </tr>\n",
              "    <tr>\n",
              "      <th>no</th>\n",
              "      <th></th>\n",
              "      <th></th>\n",
              "      <th></th>\n",
              "    </tr>\n",
              "  </thead>\n",
              "  <tbody>\n",
              "    <tr>\n",
              "      <th>1</th>\n",
              "      <td>X &lt;= 20.5982</td>\n",
              "      <td>0</td>\n",
              "      <td>2.5</td>\n",
              "    </tr>\n",
              "    <tr>\n",
              "      <th>2</th>\n",
              "      <td>20.5982 &lt; X &lt;= 84.5713</td>\n",
              "      <td>6</td>\n",
              "      <td>2.5</td>\n",
              "    </tr>\n",
              "    <tr>\n",
              "      <th>3</th>\n",
              "      <td>84.5713 &lt; X &lt;= 165.7332</td>\n",
              "      <td>2</td>\n",
              "      <td>2.5</td>\n",
              "    </tr>\n",
              "    <tr>\n",
              "      <th>4</th>\n",
              "      <td>X &gt; 165.7332</td>\n",
              "      <td>2</td>\n",
              "      <td>2.5</td>\n",
              "    </tr>\n",
              "  </tbody>\n",
              "</table>\n",
              "</div>"
            ]
          },
          "metadata": {},
          "execution_count": 68
        }
      ]
    },
    {
      "cell_type": "markdown",
      "source": [
        "# REKAP"
      ],
      "metadata": {
        "id": "2J3ICd4SGWbR"
      }
    },
    {
      "cell_type": "code",
      "source": [
        "table_actual = dataset_r24.copy()\n",
        "table_actual = table_actual.sort_values('hujan')\n",
        "table_actual['no'] = table_actual.hujan.rank()\n",
        "table_actual['prob'] = table_actual['no'] / (len(table_actual) + 1)\n",
        "table_actual['period'] = 1 / (1 - table_actual.prob)\n",
        "\n",
        "table_actual"
      ],
      "metadata": {
        "colab": {
          "base_uri": "https://localhost:8080/",
          "height": 363
        },
        "id": "kMViaCpwKESo",
        "outputId": "f5507575-22c3-4c92-a39c-31c78eb01aab"
      },
      "execution_count": null,
      "outputs": [
        {
          "output_type": "execute_result",
          "data": {
            "text/plain": [
              "                 hujan    no      prob     period\n",
              "2012-01-01   28.750000   1.0  0.090909   1.100000\n",
              "2016-01-01   34.675000   2.0  0.181818   1.222222\n",
              "2015-01-01   36.100000   3.0  0.272727   1.375000\n",
              "2014-01-01   37.050000   4.0  0.363636   1.571429\n",
              "2018-01-01   48.750000   5.0  0.454545   1.833333\n",
              "2017-01-01   81.425000   6.0  0.545455   2.200000\n",
              "2013-01-01   92.400000   7.0  0.636364   2.750000\n",
              "2009-01-01  125.000000   8.0  0.727273   3.666667\n",
              "2011-01-01  173.333333   9.0  0.818182   5.500000\n",
              "2010-01-01  307.000000  10.0  0.909091  11.000000"
            ],
            "text/html": [
              "<div>\n",
              "<style scoped>\n",
              "    .dataframe tbody tr th:only-of-type {\n",
              "        vertical-align: middle;\n",
              "    }\n",
              "\n",
              "    .dataframe tbody tr th {\n",
              "        vertical-align: top;\n",
              "    }\n",
              "\n",
              "    .dataframe thead th {\n",
              "        text-align: right;\n",
              "    }\n",
              "</style>\n",
              "<table border=\"1\" class=\"dataframe\">\n",
              "  <thead>\n",
              "    <tr style=\"text-align: right;\">\n",
              "      <th></th>\n",
              "      <th>hujan</th>\n",
              "      <th>no</th>\n",
              "      <th>prob</th>\n",
              "      <th>period</th>\n",
              "    </tr>\n",
              "  </thead>\n",
              "  <tbody>\n",
              "    <tr>\n",
              "      <th>2012-01-01</th>\n",
              "      <td>28.750000</td>\n",
              "      <td>1.0</td>\n",
              "      <td>0.090909</td>\n",
              "      <td>1.100000</td>\n",
              "    </tr>\n",
              "    <tr>\n",
              "      <th>2016-01-01</th>\n",
              "      <td>34.675000</td>\n",
              "      <td>2.0</td>\n",
              "      <td>0.181818</td>\n",
              "      <td>1.222222</td>\n",
              "    </tr>\n",
              "    <tr>\n",
              "      <th>2015-01-01</th>\n",
              "      <td>36.100000</td>\n",
              "      <td>3.0</td>\n",
              "      <td>0.272727</td>\n",
              "      <td>1.375000</td>\n",
              "    </tr>\n",
              "    <tr>\n",
              "      <th>2014-01-01</th>\n",
              "      <td>37.050000</td>\n",
              "      <td>4.0</td>\n",
              "      <td>0.363636</td>\n",
              "      <td>1.571429</td>\n",
              "    </tr>\n",
              "    <tr>\n",
              "      <th>2018-01-01</th>\n",
              "      <td>48.750000</td>\n",
              "      <td>5.0</td>\n",
              "      <td>0.454545</td>\n",
              "      <td>1.833333</td>\n",
              "    </tr>\n",
              "    <tr>\n",
              "      <th>2017-01-01</th>\n",
              "      <td>81.425000</td>\n",
              "      <td>6.0</td>\n",
              "      <td>0.545455</td>\n",
              "      <td>2.200000</td>\n",
              "    </tr>\n",
              "    <tr>\n",
              "      <th>2013-01-01</th>\n",
              "      <td>92.400000</td>\n",
              "      <td>7.0</td>\n",
              "      <td>0.636364</td>\n",
              "      <td>2.750000</td>\n",
              "    </tr>\n",
              "    <tr>\n",
              "      <th>2009-01-01</th>\n",
              "      <td>125.000000</td>\n",
              "      <td>8.0</td>\n",
              "      <td>0.727273</td>\n",
              "      <td>3.666667</td>\n",
              "    </tr>\n",
              "    <tr>\n",
              "      <th>2011-01-01</th>\n",
              "      <td>173.333333</td>\n",
              "      <td>9.0</td>\n",
              "      <td>0.818182</td>\n",
              "      <td>5.500000</td>\n",
              "    </tr>\n",
              "    <tr>\n",
              "      <th>2010-01-01</th>\n",
              "      <td>307.000000</td>\n",
              "      <td>10.0</td>\n",
              "      <td>0.909091</td>\n",
              "      <td>11.000000</td>\n",
              "    </tr>\n",
              "  </tbody>\n",
              "</table>\n",
              "</div>"
            ]
          },
          "metadata": {},
          "execution_count": 69
        }
      ]
    },
    {
      "cell_type": "code",
      "source": [
        "method_anfrek = 'normal lognormal logpearson3 gumbel'.split()\n",
        "\n",
        "table_anfrek = []\n",
        "return_period = table_actual.period.to_numpy()\n",
        "\n",
        "for _method in method_anfrek:\n",
        "    table_anfrek.append(\n",
        "        getattr(anfrek, f'freq_{_method}')(\n",
        "            dataset_r24, return_period=return_period\n",
        "        )\n",
        "    )\n",
        "\n",
        "table_actual_anfrek = table_actual.reset_index().set_index('period')[['hujan']]\n",
        "table_anfrek.insert(0, table_actual_anfrek)\n",
        "\n",
        "table_anfrek = pd.concat(table_anfrek, axis=1)\n",
        "table_anfrek.plot(figsize=(15, 10));"
      ],
      "metadata": {
        "colab": {
          "base_uri": "https://localhost:8080/",
          "height": 587
        },
        "id": "Lkdwf6orGQvo",
        "outputId": "da4d3e13-7094-4959-e79c-37ef3429de80"
      },
      "execution_count": null,
      "outputs": [
        {
          "output_type": "display_data",
          "data": {
            "text/plain": [
              "<Figure size 1080x720 with 1 Axes>"
            ],
            "image/png": "[encoded data removed]"
          },
          "metadata": {}
        }
      ]
    },
    {
      "cell_type": "code",
      "source": [
        "# jika dibandingkan dengan nilai probabilitas\n",
        "\n",
        "method_anfrek = 'normal lognormal logpearson3 gumbel'.split()\n",
        "\n",
        "table_prob = []\n",
        "\n",
        "from IPython.utils import io # ref: https://stackoverflow.com/a/52559560\n",
        "\n",
        "for _method in method_anfrek:\n",
        "    # surpress print (hidrokit/hidrokit#125)\n",
        "    with io.capture_output() as captured:\n",
        "        _table_test = ujidist.uji_kstest(\n",
        "            dataset_r24, dist=_method\n",
        "        )\n",
        "    _table_method = _table_test[['p_d']]\n",
        "    _table_method.columns = [f'Prob_{_method.title()}']\n",
        "    table_prob.append(_table_method)\n",
        "_table_data = _table_test['no x p_w'.split()]\n",
        "_table_data.columns = 'No X Prob_Weibull'.split()\n",
        "table_prob.insert(0, _table_data)\n",
        "\n",
        "table_prob = pd.concat(table_prob, axis=1)\n",
        "table_prob.index.name = 'Date'\n",
        "table_prob = table_prob.reset_index().set_index('No')\n",
        "table_prob"
      ],
      "metadata": {
        "colab": {
          "base_uri": "https://localhost:8080/",
          "height": 394
        },
        "id": "382mAM6IGtJL",
        "outputId": "b4febf39-8358-42ab-da66-0591102b82be"
      },
      "execution_count": null,
      "outputs": [
        {
          "output_type": "execute_result",
          "data": {
            "text/plain": [
              "         Date           X  Prob_Weibull  Prob_Normal  Prob_Lognormal  \\\n",
              "No                                                                     \n",
              "1  2012-01-01   28.750000      0.090909     0.219951        0.128027   \n",
              "2  2016-01-01   34.675000      0.181818     0.240479        0.183970   \n",
              "3  2015-01-01   36.100000      0.272727     0.245568        0.197735   \n",
              "4  2014-01-01   37.050000      0.363636     0.248992        0.206935   \n",
              "5  2018-01-01   48.750000      0.454545     0.293158        0.318358   \n",
              "6  2017-01-01   81.425000      0.545455     0.431955        0.568367   \n",
              "7  2013-01-01   92.400000      0.636364     0.481581        0.629710   \n",
              "8  2009-01-01  125.000000      0.727273     0.627690        0.761383   \n",
              "9  2011-01-01  173.333333      0.818182     0.809802        0.868959   \n",
              "10 2010-01-01  307.000000      0.909091     0.991850        0.967093   \n",
              "\n",
              "    Prob_Logpearson3  Prob_Gumbel  \n",
              "No                                 \n",
              "1           0.114777        0.281  \n",
              "2           0.185319        0.304  \n",
              "3           0.202598        0.310  \n",
              "4           0.214091        0.314  \n",
              "5           0.348026        0.360  \n",
              "6           0.608311        0.488  \n",
              "7           0.664750        0.529  \n",
              "8           0.778668        0.639  \n",
              "9           0.867339        0.767  \n",
              "10          0.952599        0.940  "
            ],
            "text/html": [
              "<div>\n",
              "<style scoped>\n",
              "    .dataframe tbody tr th:only-of-type {\n",
              "        vertical-align: middle;\n",
              "    }\n",
              "\n",
              "    .dataframe tbody tr th {\n",
              "        vertical-align: top;\n",
              "    }\n",
              "\n",
              "    .dataframe thead th {\n",
              "        text-align: right;\n",
              "    }\n",
              "</style>\n",
              "<table border=\"1\" class=\"dataframe\">\n",
              "  <thead>\n",
              "    <tr style=\"text-align: right;\">\n",
              "      <th></th>\n",
              "      <th>Date</th>\n",
              "      <th>X</th>\n",
              "      <th>Prob_Weibull</th>\n",
              "      <th>Prob_Normal</th>\n",
              "      <th>Prob_Lognormal</th>\n",
              "      <th>Prob_Logpearson3</th>\n",
              "      <th>Prob_Gumbel</th>\n",
              "    </tr>\n",
              "    <tr>\n",
              "      <th>No</th>\n",
              "      <th></th>\n",
              "      <th></th>\n",
              "      <th></th>\n",
              "      <th></th>\n",
              "      <th></th>\n",
              "      <th></th>\n",
              "      <th></th>\n",
              "    </tr>\n",
              "  </thead>\n",
              "  <tbody>\n",
              "    <tr>\n",
              "      <th>1</th>\n",
              "      <td>2012-01-01</td>\n",
              "      <td>28.750000</td>\n",
              "      <td>0.090909</td>\n",
              "      <td>0.219951</td>\n",
              "      <td>0.128027</td>\n",
              "      <td>0.114777</td>\n",
              "      <td>0.281</td>\n",
              "    </tr>\n",
              "    <tr>\n",
              "      <th>2</th>\n",
              "      <td>2016-01-01</td>\n",
              "      <td>34.675000</td>\n",
              "      <td>0.181818</td>\n",
              "      <td>0.240479</td>\n",
              "      <td>0.183970</td>\n",
              "      <td>0.185319</td>\n",
              "      <td>0.304</td>\n",
              "    </tr>\n",
              "    <tr>\n",
              "      <th>3</th>\n",
              "      <td>2015-01-01</td>\n",
              "      <td>36.100000</td>\n",
              "      <td>0.272727</td>\n",
              "      <td>0.245568</td>\n",
              "      <td>0.197735</td>\n",
              "      <td>0.202598</td>\n",
              "      <td>0.310</td>\n",
              "    </tr>\n",
              "    <tr>\n",
              "      <th>4</th>\n",
              "      <td>2014-01-01</td>\n",
              "      <td>37.050000</td>\n",
              "      <td>0.363636</td>\n",
              "      <td>0.248992</td>\n",
              "      <td>0.206935</td>\n",
              "      <td>0.214091</td>\n",
              "      <td>0.314</td>\n",
              "    </tr>\n",
              "    <tr>\n",
              "      <th>5</th>\n",
              "      <td>2018-01-01</td>\n",
              "      <td>48.750000</td>\n",
              "      <td>0.454545</td>\n",
              "      <td>0.293158</td>\n",
              "      <td>0.318358</td>\n",
              "      <td>0.348026</td>\n",
              "      <td>0.360</td>\n",
              "    </tr>\n",
              "    <tr>\n",
              "      <th>6</th>\n",
              "      <td>2017-01-01</td>\n",
              "      <td>81.425000</td>\n",
              "      <td>0.545455</td>\n",
              "      <td>0.431955</td>\n",
              "      <td>0.568367</td>\n",
              "      <td>0.608311</td>\n",
              "      <td>0.488</td>\n",
              "    </tr>\n",
              "    <tr>\n",
              "      <th>7</th>\n",
              "      <td>2013-01-01</td>\n",
              "      <td>92.400000</td>\n",
              "      <td>0.636364</td>\n",
              "      <td>0.481581</td>\n",
              "      <td>0.629710</td>\n",
              "      <td>0.664750</td>\n",
              "      <td>0.529</td>\n",
              "    </tr>\n",
              "    <tr>\n",
              "      <th>8</th>\n",
              "      <td>2009-01-01</td>\n",
              "      <td>125.000000</td>\n",
              "      <td>0.727273</td>\n",
              "      <td>0.627690</td>\n",
              "      <td>0.761383</td>\n",
              "      <td>0.778668</td>\n",
              "      <td>0.639</td>\n",
              "    </tr>\n",
              "    <tr>\n",
              "      <th>9</th>\n",
              "      <td>2011-01-01</td>\n",
              "      <td>173.333333</td>\n",
              "      <td>0.818182</td>\n",
              "      <td>0.809802</td>\n",
              "      <td>0.868959</td>\n",
              "      <td>0.867339</td>\n",
              "      <td>0.767</td>\n",
              "    </tr>\n",
              "    <tr>\n",
              "      <th>10</th>\n",
              "      <td>2010-01-01</td>\n",
              "      <td>307.000000</td>\n",
              "      <td>0.909091</td>\n",
              "      <td>0.991850</td>\n",
              "      <td>0.967093</td>\n",
              "      <td>0.952599</td>\n",
              "      <td>0.940</td>\n",
              "    </tr>\n",
              "  </tbody>\n",
              "</table>\n",
              "</div>"
            ]
          },
          "metadata": {},
          "execution_count": 71
        }
      ]
    },
    {
      "cell_type": "code",
      "source": [
        "# menghitung delta\n",
        "\n",
        "prob_source = 'normal lognormal logpearson3 gumbel weibull'.split()\n",
        "\n",
        "for _prob in prob_source[:-1]:\n",
        "    table_prob[f'delta_{_prob}'] = table_prob['Prob_Weibull'] - table_prob[f'Prob_{_prob.title()}']\n",
        "\n",
        "table_prob"
      ],
      "metadata": {
        "colab": {
          "base_uri": "https://localhost:8080/",
          "height": 394
        },
        "id": "fw7SwfmfVkHE",
        "outputId": "b66d6887-18f0-4dfb-bf6d-535239980e25"
      },
      "execution_count": null,
      "outputs": [
        {
          "output_type": "execute_result",
          "data": {
            "text/plain": [
              "         Date           X  Prob_Weibull  Prob_Normal  Prob_Lognormal  \\\n",
              "No                                                                     \n",
              "1  2012-01-01   28.750000      0.090909     0.219951        0.128027   \n",
              "2  2016-01-01   34.675000      0.181818     0.240479        0.183970   \n",
              "3  2015-01-01   36.100000      0.272727     0.245568        0.197735   \n",
              "4  2014-01-01   37.050000      0.363636     0.248992        0.206935   \n",
              "5  2018-01-01   48.750000      0.454545     0.293158        0.318358   \n",
              "6  2017-01-01   81.425000      0.545455     0.431955        0.568367   \n",
              "7  2013-01-01   92.400000      0.636364     0.481581        0.629710   \n",
              "8  2009-01-01  125.000000      0.727273     0.627690        0.761383   \n",
              "9  2011-01-01  173.333333      0.818182     0.809802        0.868959   \n",
              "10 2010-01-01  307.000000      0.909091     0.991850        0.967093   \n",
              "\n",
              "    Prob_Logpearson3  Prob_Gumbel  delta_normal  delta_lognormal  \\\n",
              "No                                                                 \n",
              "1           0.114777        0.281     -0.129042        -0.037118   \n",
              "2           0.185319        0.304     -0.058661        -0.002152   \n",
              "3           0.202598        0.310      0.027160         0.074992   \n",
              "4           0.214091        0.314      0.114645         0.156701   \n",
              "5           0.348026        0.360      0.161388         0.136187   \n",
              "6           0.608311        0.488      0.113499        -0.022913   \n",
              "7           0.664750        0.529      0.154783         0.006653   \n",
              "8           0.778668        0.639      0.099583        -0.034110   \n",
              "9           0.867339        0.767      0.008379        -0.050777   \n",
              "10          0.952599        0.940     -0.082760        -0.058002   \n",
              "\n",
              "    delta_logpearson3  delta_gumbel  \n",
              "No                                   \n",
              "1           -0.023868     -0.190091  \n",
              "2           -0.003501     -0.122182  \n",
              "3            0.070129     -0.037273  \n",
              "4            0.149546      0.049636  \n",
              "5            0.106519      0.094545  \n",
              "6           -0.062856      0.057455  \n",
              "7           -0.028386      0.107364  \n",
              "8           -0.051395      0.088273  \n",
              "9           -0.049157      0.051182  \n",
              "10          -0.043508     -0.030909  "
            ],
            "text/html": [
              "<div>\n",
              "<style scoped>\n",
              "    .dataframe tbody tr th:only-of-type {\n",
              "        vertical-align: middle;\n",
              "    }\n",
              "\n",
              "    .dataframe tbody tr th {\n",
              "        vertical-align: top;\n",
              "    }\n",
              "\n",
              "    .dataframe thead th {\n",
              "        text-align: right;\n",
              "    }\n",
              "</style>\n",
              "<table border=\"1\" class=\"dataframe\">\n",
              "  <thead>\n",
              "    <tr style=\"text-align: right;\">\n",
              "      <th></th>\n",
              "      <th>Date</th>\n",
              "      <th>X</th>\n",
              "      <th>Prob_Weibull</th>\n",
              "      <th>Prob_Normal</th>\n",
              "      <th>Prob_Lognormal</th>\n",
              "      <th>Prob_Logpearson3</th>\n",
              "      <th>Prob_Gumbel</th>\n",
              "      <th>delta_normal</th>\n",
              "      <th>delta_lognormal</th>\n",
              "      <th>delta_logpearson3</th>\n",
              "      <th>delta_gumbel</th>\n",
              "    </tr>\n",
              "    <tr>\n",
              "      <th>No</th>\n",
              "      <th></th>\n",
              "      <th></th>\n",
              "      <th></th>\n",
              "      <th></th>\n",
              "      <th></th>\n",
              "      <th></th>\n",
              "      <th></th>\n",
              "      <th></th>\n",
              "      <th></th>\n",
              "      <th></th>\n",
              "      <th></th>\n",
              "    </tr>\n",
              "  </thead>\n",
              "  <tbody>\n",
              "    <tr>\n",
              "      <th>1</th>\n",
              "      <td>2012-01-01</td>\n",
              "      <td>28.750000</td>\n",
              "      <td>0.090909</td>\n",
              "      <td>0.219951</td>\n",
              "      <td>0.128027</td>\n",
              "      <td>0.114777</td>\n",
              "      <td>0.281</td>\n",
              "      <td>-0.129042</td>\n",
              "      <td>-0.037118</td>\n",
              "      <td>-0.023868</td>\n",
              "      <td>-0.190091</td>\n",
              "    </tr>\n",
              "    <tr>\n",
              "      <th>2</th>\n",
              "      <td>2016-01-01</td>\n",
              "      <td>34.675000</td>\n",
              "      <td>0.181818</td>\n",
              "      <td>0.240479</td>\n",
              "      <td>0.183970</td>\n",
              "      <td>0.185319</td>\n",
              "      <td>0.304</td>\n",
              "      <td>-0.058661</td>\n",
              "      <td>-0.002152</td>\n",
              "      <td>-0.003501</td>\n",
              "      <td>-0.122182</td>\n",
              "    </tr>\n",
              "    <tr>\n",
              "      <th>3</th>\n",
              "      <td>2015-01-01</td>\n",
              "      <td>36.100000</td>\n",
              "      <td>0.272727</td>\n",
              "      <td>0.245568</td>\n",
              "      <td>0.197735</td>\n",
              "      <td>0.202598</td>\n",
              "      <td>0.310</td>\n",
              "      <td>0.027160</td>\n",
              "      <td>0.074992</td>\n",
              "      <td>0.070129</td>\n",
              "      <td>-0.037273</td>\n",
              "    </tr>\n",
              "    <tr>\n",
              "      <th>4</th>\n",
              "      <td>2014-01-01</td>\n",
              "      <td>37.050000</td>\n",
              "      <td>0.363636</td>\n",
              "      <td>0.248992</td>\n",
              "      <td>0.206935</td>\n",
              "      <td>0.214091</td>\n",
              "      <td>0.314</td>\n",
              "      <td>0.114645</td>\n",
              "      <td>0.156701</td>\n",
              "      <td>0.149546</td>\n",
              "      <td>0.049636</td>\n",
              "    </tr>\n",
              "    <tr>\n",
              "      <th>5</th>\n",
              "      <td>2018-01-01</td>\n",
              "      <td>48.750000</td>\n",
              "      <td>0.454545</td>\n",
              "      <td>0.293158</td>\n",
              "      <td>0.318358</td>\n",
              "      <td>0.348026</td>\n",
              "      <td>0.360</td>\n",
              "      <td>0.161388</td>\n",
              "      <td>0.136187</td>\n",
              "      <td>0.106519</td>\n",
              "      <td>0.094545</td>\n",
              "    </tr>\n",
              "    <tr>\n",
              "      <th>6</th>\n",
              "      <td>2017-01-01</td>\n",
              "      <td>81.425000</td>\n",
              "      <td>0.545455</td>\n",
              "      <td>0.431955</td>\n",
              "      <td>0.568367</td>\n",
              "      <td>0.608311</td>\n",
              "      <td>0.488</td>\n",
              "      <td>0.113499</td>\n",
              "      <td>-0.022913</td>\n",
              "      <td>-0.062856</td>\n",
              "      <td>0.057455</td>\n",
              "    </tr>\n",
              "    <tr>\n",
              "      <th>7</th>\n",
              "      <td>2013-01-01</td>\n",
              "      <td>92.400000</td>\n",
              "      <td>0.636364</td>\n",
              "      <td>0.481581</td>\n",
              "      <td>0.629710</td>\n",
              "      <td>0.664750</td>\n",
              "      <td>0.529</td>\n",
              "      <td>0.154783</td>\n",
              "      <td>0.006653</td>\n",
              "      <td>-0.028386</td>\n",
              "      <td>0.107364</td>\n",
              "    </tr>\n",
              "    <tr>\n",
              "      <th>8</th>\n",
              "      <td>2009-01-01</td>\n",
              "      <td>125.000000</td>\n",
              "      <td>0.727273</td>\n",
              "      <td>0.627690</td>\n",
              "      <td>0.761383</td>\n",
              "      <td>0.778668</td>\n",
              "      <td>0.639</td>\n",
              "      <td>0.099583</td>\n",
              "      <td>-0.034110</td>\n",
              "      <td>-0.051395</td>\n",
              "      <td>0.088273</td>\n",
              "    </tr>\n",
              "    <tr>\n",
              "      <th>9</th>\n",
              "      <td>2011-01-01</td>\n",
              "      <td>173.333333</td>\n",
              "      <td>0.818182</td>\n",
              "      <td>0.809802</td>\n",
              "      <td>0.868959</td>\n",
              "      <td>0.867339</td>\n",
              "      <td>0.767</td>\n",
              "      <td>0.008379</td>\n",
              "      <td>-0.050777</td>\n",
              "      <td>-0.049157</td>\n",
              "      <td>0.051182</td>\n",
              "    </tr>\n",
              "    <tr>\n",
              "      <th>10</th>\n",
              "      <td>2010-01-01</td>\n",
              "      <td>307.000000</td>\n",
              "      <td>0.909091</td>\n",
              "      <td>0.991850</td>\n",
              "      <td>0.967093</td>\n",
              "      <td>0.952599</td>\n",
              "      <td>0.940</td>\n",
              "      <td>-0.082760</td>\n",
              "      <td>-0.058002</td>\n",
              "      <td>-0.043508</td>\n",
              "      <td>-0.030909</td>\n",
              "    </tr>\n",
              "  </tbody>\n",
              "</table>\n",
              "</div>"
            ]
          },
          "metadata": {},
          "execution_count": 72
        }
      ]
    },
    {
      "cell_type": "code",
      "source": [
        "# plot bar selisih terhadap weibull\n",
        "\n",
        "col_delta_prob = [f'delta_{_prob}' for _prob in prob_source[:-1]]\n",
        "table_prob[col_delta_prob].plot.bar(figsize=(15, 10));"
      ],
      "metadata": {
        "colab": {
          "base_uri": "https://localhost:8080/",
          "height": 602
        },
        "id": "2Q4hC450XmFU",
        "outputId": "e4f9dc6d-aaf4-4a2c-b972-a063b9faa9bd"
      },
      "execution_count": null,
      "outputs": [
        {
          "output_type": "display_data",
          "data": {
            "text/plain": [
              "<Figure size 1080x720 with 1 Axes>"
            ],
            "image/png": "[encoded data removed]"
          },
          "metadata": {}
        }
      ]
    },
    {
      "cell_type": "code",
      "source": [
        "# menggunakan absolut untuk nilai delta\n",
        "table_prob[col_delta_prob] = table_prob[col_delta_prob].abs()\n",
        "table_prob"
      ],
      "metadata": {
        "colab": {
          "base_uri": "https://localhost:8080/",
          "height": 394
        },
        "id": "Gm7XQ-bwpebW",
        "outputId": "a2541d02-b4c9-4879-eae3-8d267a047850"
      },
      "execution_count": null,
      "outputs": [
        {
          "output_type": "execute_result",
          "data": {
            "text/plain": [
              "         Date           X  Prob_Weibull  Prob_Normal  Prob_Lognormal  \\\n",
              "No                                                                     \n",
              "1  2012-01-01   28.750000      0.090909     0.219951        0.128027   \n",
              "2  2016-01-01   34.675000      0.181818     0.240479        0.183970   \n",
              "3  2015-01-01   36.100000      0.272727     0.245568        0.197735   \n",
              "4  2014-01-01   37.050000      0.363636     0.248992        0.206935   \n",
              "5  2018-01-01   48.750000      0.454545     0.293158        0.318358   \n",
              "6  2017-01-01   81.425000      0.545455     0.431955        0.568367   \n",
              "7  2013-01-01   92.400000      0.636364     0.481581        0.629710   \n",
              "8  2009-01-01  125.000000      0.727273     0.627690        0.761383   \n",
              "9  2011-01-01  173.333333      0.818182     0.809802        0.868959   \n",
              "10 2010-01-01  307.000000      0.909091     0.991850        0.967093   \n",
              "\n",
              "    Prob_Logpearson3  Prob_Gumbel  delta_normal  delta_lognormal  \\\n",
              "No                                                                 \n",
              "1           0.114777        0.281      0.129042         0.037118   \n",
              "2           0.185319        0.304      0.058661         0.002152   \n",
              "3           0.202598        0.310      0.027160         0.074992   \n",
              "4           0.214091        0.314      0.114645         0.156701   \n",
              "5           0.348026        0.360      0.161388         0.136187   \n",
              "6           0.608311        0.488      0.113499         0.022913   \n",
              "7           0.664750        0.529      0.154783         0.006653   \n",
              "8           0.778668        0.639      0.099583         0.034110   \n",
              "9           0.867339        0.767      0.008379         0.050777   \n",
              "10          0.952599        0.940      0.082760         0.058002   \n",
              "\n",
              "    delta_logpearson3  delta_gumbel  \n",
              "No                                   \n",
              "1            0.023868      0.190091  \n",
              "2            0.003501      0.122182  \n",
              "3            0.070129      0.037273  \n",
              "4            0.149546      0.049636  \n",
              "5            0.106519      0.094545  \n",
              "6            0.062856      0.057455  \n",
              "7            0.028386      0.107364  \n",
              "8            0.051395      0.088273  \n",
              "9            0.049157      0.051182  \n",
              "10           0.043508      0.030909  "
            ],
            "text/html": [
              "<div>\n",
              "<style scoped>\n",
              "    .dataframe tbody tr th:only-of-type {\n",
              "        vertical-align: middle;\n",
              "    }\n",
              "\n",
              "    .dataframe tbody tr th {\n",
              "        vertical-align: top;\n",
              "    }\n",
              "\n",
              "    .dataframe thead th {\n",
              "        text-align: right;\n",
              "    }\n",
              "</style>\n",
              "<table border=\"1\" class=\"dataframe\">\n",
              "  <thead>\n",
              "    <tr style=\"text-align: right;\">\n",
              "      <th></th>\n",
              "      <th>Date</th>\n",
              "      <th>X</th>\n",
              "      <th>Prob_Weibull</th>\n",
              "      <th>Prob_Normal</th>\n",
              "      <th>Prob_Lognormal</th>\n",
              "      <th>Prob_Logpearson3</th>\n",
              "      <th>Prob_Gumbel</th>\n",
              "      <th>delta_normal</th>\n",
              "      <th>delta_lognormal</th>\n",
              "      <th>delta_logpearson3</th>\n",
              "      <th>delta_gumbel</th>\n",
              "    </tr>\n",
              "    <tr>\n",
              "      <th>No</th>\n",
              "      <th></th>\n",
              "      <th></th>\n",
              "      <th></th>\n",
              "      <th></th>\n",
              "      <th></th>\n",
              "      <th></th>\n",
              "      <th></th>\n",
              "      <th></th>\n",
              "      <th></th>\n",
              "      <th></th>\n",
              "      <th></th>\n",
              "    </tr>\n",
              "  </thead>\n",
              "  <tbody>\n",
              "    <tr>\n",
              "      <th>1</th>\n",
              "      <td>2012-01-01</td>\n",
              "      <td>28.750000</td>\n",
              "      <td>0.090909</td>\n",
              "      <td>0.219951</td>\n",
              "      <td>0.128027</td>\n",
              "      <td>0.114777</td>\n",
              "      <td>0.281</td>\n",
              "      <td>0.129042</td>\n",
              "      <td>0.037118</td>\n",
              "      <td>0.023868</td>\n",
              "      <td>0.190091</td>\n",
              "    </tr>\n",
              "    <tr>\n",
              "      <th>2</th>\n",
              "      <td>2016-01-01</td>\n",
              "      <td>34.675000</td>\n",
              "      <td>0.181818</td>\n",
              "      <td>0.240479</td>\n",
              "      <td>0.183970</td>\n",
              "      <td>0.185319</td>\n",
              "      <td>0.304</td>\n",
              "      <td>0.058661</td>\n",
              "      <td>0.002152</td>\n",
              "      <td>0.003501</td>\n",
              "      <td>0.122182</td>\n",
              "    </tr>\n",
              "    <tr>\n",
              "      <th>3</th>\n",
              "      <td>2015-01-01</td>\n",
              "      <td>36.100000</td>\n",
              "      <td>0.272727</td>\n",
              "      <td>0.245568</td>\n",
              "      <td>0.197735</td>\n",
              "      <td>0.202598</td>\n",
              "      <td>0.310</td>\n",
              "      <td>0.027160</td>\n",
              "      <td>0.074992</td>\n",
              "      <td>0.070129</td>\n",
              "      <td>0.037273</td>\n",
              "    </tr>\n",
              "    <tr>\n",
              "      <th>4</th>\n",
              "      <td>2014-01-01</td>\n",
              "      <td>37.050000</td>\n",
              "      <td>0.363636</td>\n",
              "      <td>0.248992</td>\n",
              "      <td>0.206935</td>\n",
              "      <td>0.214091</td>\n",
              "      <td>0.314</td>\n",
              "      <td>0.114645</td>\n",
              "      <td>0.156701</td>\n",
              "      <td>0.149546</td>\n",
              "      <td>0.049636</td>\n",
              "    </tr>\n",
              "    <tr>\n",
              "      <th>5</th>\n",
              "      <td>2018-01-01</td>\n",
              "      <td>48.750000</td>\n",
              "      <td>0.454545</td>\n",
              "      <td>0.293158</td>\n",
              "      <td>0.318358</td>\n",
              "      <td>0.348026</td>\n",
              "      <td>0.360</td>\n",
              "      <td>0.161388</td>\n",
              "      <td>0.136187</td>\n",
              "      <td>0.106519</td>\n",
              "      <td>0.094545</td>\n",
              "    </tr>\n",
              "    <tr>\n",
              "      <th>6</th>\n",
              "      <td>2017-01-01</td>\n",
              "      <td>81.425000</td>\n",
              "      <td>0.545455</td>\n",
              "      <td>0.431955</td>\n",
              "      <td>0.568367</td>\n",
              "      <td>0.608311</td>\n",
              "      <td>0.488</td>\n",
              "      <td>0.113499</td>\n",
              "      <td>0.022913</td>\n",
              "      <td>0.062856</td>\n",
              "      <td>0.057455</td>\n",
              "    </tr>\n",
              "    <tr>\n",
              "      <th>7</th>\n",
              "      <td>2013-01-01</td>\n",
              "      <td>92.400000</td>\n",
              "      <td>0.636364</td>\n",
              "      <td>0.481581</td>\n",
              "      <td>0.629710</td>\n",
              "      <td>0.664750</td>\n",
              "      <td>0.529</td>\n",
              "      <td>0.154783</td>\n",
              "      <td>0.006653</td>\n",
              "      <td>0.028386</td>\n",
              "      <td>0.107364</td>\n",
              "    </tr>\n",
              "    <tr>\n",
              "      <th>8</th>\n",
              "      <td>2009-01-01</td>\n",
              "      <td>125.000000</td>\n",
              "      <td>0.727273</td>\n",
              "      <td>0.627690</td>\n",
              "      <td>0.761383</td>\n",
              "      <td>0.778668</td>\n",
              "      <td>0.639</td>\n",
              "      <td>0.099583</td>\n",
              "      <td>0.034110</td>\n",
              "      <td>0.051395</td>\n",
              "      <td>0.088273</td>\n",
              "    </tr>\n",
              "    <tr>\n",
              "      <th>9</th>\n",
              "      <td>2011-01-01</td>\n",
              "      <td>173.333333</td>\n",
              "      <td>0.818182</td>\n",
              "      <td>0.809802</td>\n",
              "      <td>0.868959</td>\n",
              "      <td>0.867339</td>\n",
              "      <td>0.767</td>\n",
              "      <td>0.008379</td>\n",
              "      <td>0.050777</td>\n",
              "      <td>0.049157</td>\n",
              "      <td>0.051182</td>\n",
              "    </tr>\n",
              "    <tr>\n",
              "      <th>10</th>\n",
              "      <td>2010-01-01</td>\n",
              "      <td>307.000000</td>\n",
              "      <td>0.909091</td>\n",
              "      <td>0.991850</td>\n",
              "      <td>0.967093</td>\n",
              "      <td>0.952599</td>\n",
              "      <td>0.940</td>\n",
              "      <td>0.082760</td>\n",
              "      <td>0.058002</td>\n",
              "      <td>0.043508</td>\n",
              "      <td>0.030909</td>\n",
              "    </tr>\n",
              "  </tbody>\n",
              "</table>\n",
              "</div>"
            ]
          },
          "metadata": {},
          "execution_count": 74
        }
      ]
    },
    {
      "cell_type": "code",
      "source": [
        "# menjumlah selisih\n",
        "\n",
        "table_prob_sum = table_prob[col_delta_prob].sum().to_frame(name='SUM')\n",
        "table_prob_sum"
      ],
      "metadata": {
        "colab": {
          "base_uri": "https://localhost:8080/",
          "height": 175
        },
        "id": "3xSapBMRXzaG",
        "outputId": "51be4825-0e58-4dd1-b7a5-8b190cc020c0"
      },
      "execution_count": null,
      "outputs": [
        {
          "output_type": "execute_result",
          "data": {
            "text/plain": [
              "                        SUM\n",
              "delta_normal       0.949899\n",
              "delta_lognormal    0.579606\n",
              "delta_logpearson3  0.588865\n",
              "delta_gumbel       0.828909"
            ],
            "text/html": [
              "<div>\n",
              "<style scoped>\n",
              "    .dataframe tbody tr th:only-of-type {\n",
              "        vertical-align: middle;\n",
              "    }\n",
              "\n",
              "    .dataframe tbody tr th {\n",
              "        vertical-align: top;\n",
              "    }\n",
              "\n",
              "    .dataframe thead th {\n",
              "        text-align: right;\n",
              "    }\n",
              "</style>\n",
              "<table border=\"1\" class=\"dataframe\">\n",
              "  <thead>\n",
              "    <tr style=\"text-align: right;\">\n",
              "      <th></th>\n",
              "      <th>SUM</th>\n",
              "    </tr>\n",
              "  </thead>\n",
              "  <tbody>\n",
              "    <tr>\n",
              "      <th>delta_normal</th>\n",
              "      <td>0.949899</td>\n",
              "    </tr>\n",
              "    <tr>\n",
              "      <th>delta_lognormal</th>\n",
              "      <td>0.579606</td>\n",
              "    </tr>\n",
              "    <tr>\n",
              "      <th>delta_logpearson3</th>\n",
              "      <td>0.588865</td>\n",
              "    </tr>\n",
              "    <tr>\n",
              "      <th>delta_gumbel</th>\n",
              "      <td>0.828909</td>\n",
              "    </tr>\n",
              "  </tbody>\n",
              "</table>\n",
              "</div>"
            ]
          },
          "metadata": {},
          "execution_count": 75
        }
      ]
    },
    {
      "cell_type": "code",
      "source": [
        "# nilai terkecil\n",
        "\n",
        "table_prob_sum[table_prob_sum.SUM == table_prob_sum.SUM.min()]"
      ],
      "metadata": {
        "colab": {
          "base_uri": "https://localhost:8080/",
          "height": 81
        },
        "id": "vzBgI-OKY7dI",
        "outputId": "58581bd6-a0d6-44cb-affd-8194ed50add2"
      },
      "execution_count": null,
      "outputs": [
        {
          "output_type": "execute_result",
          "data": {
            "text/plain": [
              "                      SUM\n",
              "delta_lognormal  0.579606"
            ],
            "text/html": [
              "<div>\n",
              "<style scoped>\n",
              "    .dataframe tbody tr th:only-of-type {\n",
              "        vertical-align: middle;\n",
              "    }\n",
              "\n",
              "    .dataframe tbody tr th {\n",
              "        vertical-align: top;\n",
              "    }\n",
              "\n",
              "    .dataframe thead th {\n",
              "        text-align: right;\n",
              "    }\n",
              "</style>\n",
              "<table border=\"1\" class=\"dataframe\">\n",
              "  <thead>\n",
              "    <tr style=\"text-align: right;\">\n",
              "      <th></th>\n",
              "      <th>SUM</th>\n",
              "    </tr>\n",
              "  </thead>\n",
              "  <tbody>\n",
              "    <tr>\n",
              "      <th>delta_lognormal</th>\n",
              "      <td>0.579606</td>\n",
              "    </tr>\n",
              "  </tbody>\n",
              "</table>\n",
              "</div>"
            ]
          },
          "metadata": {},
          "execution_count": 76
        }
      ]
    },
    {
      "cell_type": "markdown",
      "source": [
        "# Changelog\n",
        "\n",
        "```\n",
        "- 20220405 - 1.0.0 - Initial\n",
        "```\n",
        "\n",
        "#### Copyright &copy; 2022 [Taruma Sakti Megariansyah](https://taruma.github.io)\n",
        "\n",
        "Source code in this notebook is licensed under a [MIT License](https://choosealicense.com/licenses/mit/). Data in this notebook is licensed under a [Creative Common Attribution 4.0 International](https://creativecommons.org/licenses/by/4.0/). \n"
      ],
      "metadata": {
        "id": "5YlzR9BLl1Tk"
      }
    }
  ]
}
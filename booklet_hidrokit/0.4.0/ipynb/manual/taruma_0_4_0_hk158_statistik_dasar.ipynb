{
  "nbformat": 4,
  "nbformat_minor": 0,
  "metadata": {
    "colab": {
      "name": "taruma_hk158_statistik_dasar.ipynb",
      "provenance": [],
      "collapsed_sections": []
    },
    "kernelspec": {
      "name": "python3",
      "display_name": "Python 3"
    },
    "language_info": {
      "name": "python"
    }
  },
  "cells": [
    {
      "cell_type": "markdown",
      "source": [
        "Berdasarkan isu [#158](https://github.com/hidrokit/hidrokit/issues/158): Statistik Dasar (kurtosis, stdev, skew)\n",
        "\n",
        "Referensi Isu:\n",
        "- Soetopo, W., Montarcih, L., Press, U. B., & Media, U. (2017). Rekayasa Statistika untuk Teknik Pengairan. Universitas Brawijaya Press. https://books.google.co.id/books?id=TzVTDwAAQBAJ\n",
        "\n",
        "Deskripsi Isu:\n",
        "- Mencari nilai parameter statistik dasar berupa kurtosis, skew, standar deviasi, yang dibutuhkan untuk penentuan jenis sebaran yang sesuai dengan data.\n",
        "\n",
        "Diskusi Isu:\n",
        "- [#163](https://github.com/hidrokit/hidrokit/discussions/163): Apa rumus yang tepat dalam mencari nilai kurtosis dari data?\n",
        "- [#157](https://github.com/hidrokit/hidrokit/discussions/157): Referensi Lanjutan untuk Jenis Sebaran?\n",
        "\n",
        "Strategi:\n",
        "- Membuat opsi antara menggunakan formula paket external atau penggunaan perhitungan manual.\n",
        "- Menampilkan jenis sebaran yang sesuai dan syarat-syaratnya. "
      ],
      "metadata": {
        "id": "HOG_EHmNgGgS"
      }
    },
    {
      "cell_type": "markdown",
      "source": [
        "# PERSIAPAN DAN DATASET"
      ],
      "metadata": {
        "id": "95EUFvXMigPB"
      }
    },
    {
      "cell_type": "code",
      "execution_count": null,
      "metadata": {
        "id": "M-C9tPDOf9V2"
      },
      "outputs": [],
      "source": [
        "import numpy as np\n",
        "import pandas as pd\n",
        "from scipy import stats"
      ]
    },
    {
      "cell_type": "code",
      "source": [
        "# contoh data diambil dari buku\n",
        "# Rekayasa Statistika untuk Teknik Pengairan h.32-33\n",
        "\n",
        "_H = np.array(\n",
        "    [176, 102, 276, 254, 122, 320, 297, 203, 245, 268, \n",
        "     236, 210, 214, 151, 277, 149, 245, 154, 261, 255]\n",
        ")\n",
        "\n",
        "data = pd.DataFrame(data=_H, columns=['H'])\n",
        "data"
      ],
      "metadata": {
        "colab": {
          "base_uri": "https://localhost:8080/",
          "height": 677
        },
        "id": "Ea-Fg-8uipcj",
        "outputId": "8476ccc4-ff71-4dfe-ec89-0f7c69d35f16"
      },
      "execution_count": null,
      "outputs": [
        {
          "output_type": "execute_result",
          "data": {
            "text/plain": [
              "      H\n",
              "0   176\n",
              "1   102\n",
              "2   276\n",
              "3   254\n",
              "4   122\n",
              "5   320\n",
              "6   297\n",
              "7   203\n",
              "8   245\n",
              "9   268\n",
              "10  236\n",
              "11  210\n",
              "12  214\n",
              "13  151\n",
              "14  277\n",
              "15  149\n",
              "16  245\n",
              "17  154\n",
              "18  261\n",
              "19  255"
            ],
            "text/html": [
              "<div>\n",
              "<style scoped>\n",
              "    .dataframe tbody tr th:only-of-type {\n",
              "        vertical-align: middle;\n",
              "    }\n",
              "\n",
              "    .dataframe tbody tr th {\n",
              "        vertical-align: top;\n",
              "    }\n",
              "\n",
              "    .dataframe thead th {\n",
              "        text-align: right;\n",
              "    }\n",
              "</style>\n",
              "<table border=\"1\" class=\"dataframe\">\n",
              "  <thead>\n",
              "    <tr style=\"text-align: right;\">\n",
              "      <th></th>\n",
              "      <th>H</th>\n",
              "    </tr>\n",
              "  </thead>\n",
              "  <tbody>\n",
              "    <tr>\n",
              "      <th>0</th>\n",
              "      <td>176</td>\n",
              "    </tr>\n",
              "    <tr>\n",
              "      <th>1</th>\n",
              "      <td>102</td>\n",
              "    </tr>\n",
              "    <tr>\n",
              "      <th>2</th>\n",
              "      <td>276</td>\n",
              "    </tr>\n",
              "    <tr>\n",
              "      <th>3</th>\n",
              "      <td>254</td>\n",
              "    </tr>\n",
              "    <tr>\n",
              "      <th>4</th>\n",
              "      <td>122</td>\n",
              "    </tr>\n",
              "    <tr>\n",
              "      <th>5</th>\n",
              "      <td>320</td>\n",
              "    </tr>\n",
              "    <tr>\n",
              "      <th>6</th>\n",
              "      <td>297</td>\n",
              "    </tr>\n",
              "    <tr>\n",
              "      <th>7</th>\n",
              "      <td>203</td>\n",
              "    </tr>\n",
              "    <tr>\n",
              "      <th>8</th>\n",
              "      <td>245</td>\n",
              "    </tr>\n",
              "    <tr>\n",
              "      <th>9</th>\n",
              "      <td>268</td>\n",
              "    </tr>\n",
              "    <tr>\n",
              "      <th>10</th>\n",
              "      <td>236</td>\n",
              "    </tr>\n",
              "    <tr>\n",
              "      <th>11</th>\n",
              "      <td>210</td>\n",
              "    </tr>\n",
              "    <tr>\n",
              "      <th>12</th>\n",
              "      <td>214</td>\n",
              "    </tr>\n",
              "    <tr>\n",
              "      <th>13</th>\n",
              "      <td>151</td>\n",
              "    </tr>\n",
              "    <tr>\n",
              "      <th>14</th>\n",
              "      <td>277</td>\n",
              "    </tr>\n",
              "    <tr>\n",
              "      <th>15</th>\n",
              "      <td>149</td>\n",
              "    </tr>\n",
              "    <tr>\n",
              "      <th>16</th>\n",
              "      <td>245</td>\n",
              "    </tr>\n",
              "    <tr>\n",
              "      <th>17</th>\n",
              "      <td>154</td>\n",
              "    </tr>\n",
              "    <tr>\n",
              "      <th>18</th>\n",
              "      <td>261</td>\n",
              "    </tr>\n",
              "    <tr>\n",
              "      <th>19</th>\n",
              "      <td>255</td>\n",
              "    </tr>\n",
              "  </tbody>\n",
              "</table>\n",
              "</div>"
            ]
          },
          "metadata": {},
          "execution_count": 13
        }
      ]
    },
    {
      "cell_type": "markdown",
      "source": [
        "# KODE"
      ],
      "metadata": {
        "id": "w9pFHgVjwX3_"
      }
    },
    {
      "cell_type": "code",
      "source": [
        "def _var(x):\n",
        "    n = x.size\n",
        "    return ((x-x.mean())**2).sum()/(n-1)\n",
        "\n",
        "def _std(x):\n",
        "    return np.sqrt(_var(x))\n",
        "\n",
        "def _momen(x, r):\n",
        "    n = x.size\n",
        "    return 1/n * ((x-x.mean())**r).sum()\n",
        "\n",
        "def _skew(x):\n",
        "    n = x.size\n",
        "    return n**2 / ((n-1)*(n-2)) * _momen(x, 3) / _std(x)**3\n",
        "\n",
        "def _kurt(x):\n",
        "    n = x.size\n",
        "    return n**3 / ((n-1)*(n-2)*(n-3)) * _momen(x, 4) / _std(x)**4\n",
        "\n",
        "def _Cv(x):\n",
        "    return _std(x) / x.mean()\n",
        "\n",
        "def calc_coef(x):\n",
        "    \"\"\"Return (Cv, Cs, Ck)\"\"\"\n",
        "    return (_Cv(x), _skew(x), _kurt(x))\n",
        "\n",
        "def check_distribution(x, show_stat=False, show_detail=False):\n",
        "\n",
        "    Cv, Cs, Ck = calc_coef(x)\n",
        "\n",
        "    if show_stat:\n",
        "        print(\n",
        "            f'Cv = {Cv:.5f}',\n",
        "            f'Cs = {Cs:.5f}',\n",
        "            f'Ck = {Ck:.5f}',\n",
        "            sep='\\n', end='\\n'\n",
        "        )\n",
        "\n",
        "    b_normal = True if np.isclose(Cs, 0, atol=0.1) and np.isclose(Ck, 3, atol=0.1) else False\n",
        "    b_lognormal = True if np.isclose(Cs, 3, atol=0.1) and np.greater(Cs, 0) and np.isclose(Cs, 3*Cv, atol=0.1) else False\n",
        "    b_gumbel = True if np.isclose(Cs, 1.1396, atol=0.0001) and np.isclose(Ck, 5.4002, atol=0.0001) else False\n",
        "    b_logpearson = True #selalu benar terlepas nilai Cv, Cs, Ck\n",
        "\n",
        "    _kriteria = lambda x: \"Memenuhi\" if x else \"Tidak Memenuhi\"\n",
        "\n",
        "    print(\n",
        "        f'{\"Normal\":<20}: {_kriteria(b_normal)}',\n",
        "        f'{\"Log Normal\":<20}: {_kriteria(b_lognormal)}',\n",
        "        f'{\"Gumbel Tipe I\":<20}: {_kriteria(b_gumbel)}',\n",
        "        f'{\"Log Pearson Tipe III\":<20}: {_kriteria(b_logpearson)}',\n",
        "        sep='\\n', end='\\n'\n",
        "    )\n",
        "\n",
        "    if show_detail:\n",
        "        print(\n",
        "            '-----------------------------------------------',\n",
        "            '> Distribusi Normal [syarat](nilai)',\n",
        "            f'[Cs ~ 0](Cs = {Cs:.5f})',\n",
        "            f'[Ck ~ 3](Ck = {Ck:.5f})',\n",
        "            '> Log Normal',\n",
        "            f'[Cs ~ 3](Cs = {Cs:.5f})',\n",
        "            f'[Cs > 0](Cs = {Cs:.5f})',\n",
        "            f'[Cs ~ 3Cv](Cs = {Cs:.5f} ~ 3Cv = {3*Cv:.5f})',\n",
        "            '> Gumbel Tipe I',\n",
        "            f'[Cs ~ 1.1396](Cs = {Cs:.5f})',\n",
        "            f'[Ck ~ 5.4002](Ck = {Ck:.5f})',\n",
        "            '> Log Pearson Tipe III',\n",
        "            'Tidak memiliki ciri khas (Cs/Ck/Cv = Bebas)',\n",
        "            '-----------------------------------------------',\n",
        "            sep='\\n', end='\\n'\n",
        "        )"
      ],
      "metadata": {
        "id": "_yM8pUiPvzdo"
      },
      "execution_count": null,
      "outputs": []
    },
    {
      "cell_type": "markdown",
      "source": [
        "# FUNGSI"
      ],
      "metadata": {
        "id": "Uy_F2te1G_HB"
      }
    },
    {
      "cell_type": "markdown",
      "source": [
        "## Fungsi Parameter Statistik `_var(), _std(), _momen(), _skew(), _kurt(), _Cv()`\n",
        "\n",
        "Pada modul ini dibuat fungsi untuk menghitung parameter statistik berupa:\n",
        "- `_var(x)`: menghitung ragam (_variance_)\n",
        "- `_std(x)`: menghitung simpangan baku / standar deviasi (_standard deviation_)\n",
        "- `_momen(x, r)`: menghitung momen dengan besar momen `r`\n",
        "- `_skew(x)`: menghitung kepencengan (_skewness_)\n",
        "- `_kurt(x)`: menghitung ukuran kepuncakkan (_kurtosis_)\n",
        "- `_Cv(x)`: menghitung koefisien _variance_\n",
        "\n",
        "dengan `x` merupakan `array` dan `r` merupakan besar momen. "
      ],
      "metadata": {
        "id": "vGtYK3kBHB0n"
      }
    },
    {
      "cell_type": "code",
      "source": [
        "# karena fungsi parameter statistik tersebut\n",
        "# juga sudah tersedia di numpy dan scipy\n",
        "# maka akan dibandingkan hasilnya\n",
        "\n",
        "# variance\n",
        "print('var [hk == numpy]:', _var(data.H) == np.var(data.H, ddof=1))\n",
        "\n",
        "# standard deviation\n",
        "print('std [hk == numpy]:', _std(data.H) == np.std(data.H, ddof=1))\n",
        "\n",
        "# skewness \n",
        "print('skew [hk == scipy]:', _skew(data.H) == stats.skew(data.H, bias=False))\n",
        "\n",
        "# kurtosis\n",
        "print('kurt [hk == scipy]:', _kurt(data.H) == stats.kurtosis(data.H, bias=False))\n",
        "print(\n",
        "    f'kurt [hk] = {_kurt(data.H)}',\n",
        "    f'kurt [scipy] = {stats.kurtosis(data.H, bias=False)}', sep='\\n'\n",
        ")"
      ],
      "metadata": {
        "colab": {
          "base_uri": "https://localhost:8080/"
        },
        "id": "T7EDUo6LaUII",
        "outputId": "846727f2-6a3c-4f2d-cc80-c2df55ca4c32"
      },
      "execution_count": null,
      "outputs": [
        {
          "output_type": "stream",
          "name": "stdout",
          "text": [
            "var [hk == numpy]: True\n",
            "std [hk == numpy]: True\n",
            "skew [hk == scipy]: True\n",
            "kurt [hk == scipy]: False\n",
            "kurt [hk] = 2.665512982820046\n",
            "kurt [scipy] = -0.7404270543134617\n"
          ]
        }
      ]
    },
    {
      "cell_type": "markdown",
      "source": [
        "Disimpulkan bahwa untuk perhitungan kurtosis memiliki perbedaan antara menggunakan formula dari referensi dengan paket `scipy`. "
      ],
      "metadata": {
        "id": "b5wc3LzjJqtw"
      }
    },
    {
      "cell_type": "markdown",
      "source": [
        "## Fungsi `calc_coef(x)`:\n",
        "\n",
        "Fungsi `calc_coef(...)` digunakan untuk menghitung nilai koefisien variance ($C_v$), koefisien skewness ($C_s$), koefisien kurtosis ($C_k$). Argumen yang diminta adalah `x` berupa `array`. Catatan: Perhitungan koefisien skewness dan kurtosis merupakan perhitungan parameter statistik skewness dan kurtosis. \n"
      ],
      "metadata": {
        "id": "TgSoUMk8KAYe"
      }
    },
    {
      "cell_type": "code",
      "source": [
        "Cv, Cs, Ck = calc_coef(data.H)\n",
        "print(Cv, Cs, Ck)"
      ],
      "metadata": {
        "colab": {
          "base_uri": "https://localhost:8080/"
        },
        "id": "i9XQ5FcuKvFz",
        "outputId": "eea2f3c6-7d93-46de-ccc4-1f2302db627b"
      },
      "execution_count": null,
      "outputs": [
        {
          "output_type": "stream",
          "name": "stdout",
          "text": [
            "0.27539643336275177 -0.4406607753164903 2.665512982820046\n"
          ]
        }
      ]
    },
    {
      "cell_type": "markdown",
      "source": [
        "## Fungsi `check_distribution(x, show_stat=False)`\n",
        "\n",
        "Fungsi `check_distribution()` digunakan untuk memeriksa jenis sebaran dari data. \n",
        "\n",
        "- Argumen Posisi:\n",
        "    - `x`: `array`\n",
        "- Argumen Opsional:\n",
        "    - `show_stat=False`: Jika `True` maka menampilkan nilai Cv, Cs, dan Ck.\n",
        "    - `show_detail=False`: Jika `True` maka menampilkan persyaratan jenis sebaran (distribusi). "
      ],
      "metadata": {
        "id": "wdn9ofAKK1Qp"
      }
    },
    {
      "cell_type": "code",
      "source": [
        "check_distribution(data.H)"
      ],
      "metadata": {
        "colab": {
          "base_uri": "https://localhost:8080/"
        },
        "id": "-JXP5fMrLOCf",
        "outputId": "3edd39b2-a8bb-41b6-ff54-f80aabf264ff"
      },
      "execution_count": null,
      "outputs": [
        {
          "output_type": "stream",
          "name": "stdout",
          "text": [
            "Normal              : Tidak Memenuhi\n",
            "Log Normal          : Tidak Memenuhi\n",
            "Gumbel Tipe I       : Tidak Memenuhi\n",
            "Log Pearson Tipe III: Memenuhi\n"
          ]
        }
      ]
    },
    {
      "cell_type": "code",
      "source": [
        "check_distribution(data.H, show_stat=True)"
      ],
      "metadata": {
        "colab": {
          "base_uri": "https://localhost:8080/"
        },
        "id": "nr_boB9fLRD0",
        "outputId": "b9ffb8c1-2109-4ff6-90be-5093c40af7c8"
      },
      "execution_count": null,
      "outputs": [
        {
          "output_type": "stream",
          "name": "stdout",
          "text": [
            "Cv = 0.27540\n",
            "Cs = -0.44066\n",
            "Ck = 2.66551\n",
            "Normal              : Tidak Memenuhi\n",
            "Log Normal          : Tidak Memenuhi\n",
            "Gumbel Tipe I       : Tidak Memenuhi\n",
            "Log Pearson Tipe III: Memenuhi\n"
          ]
        }
      ]
    },
    {
      "cell_type": "code",
      "source": [
        "check_distribution(data.H, show_detail=True)"
      ],
      "metadata": {
        "id": "wHpIp0IR0cuJ",
        "outputId": "ef994ae6-8d8e-4610-c2fd-a5540e8da57e",
        "colab": {
          "base_uri": "https://localhost:8080/"
        }
      },
      "execution_count": null,
      "outputs": [
        {
          "output_type": "stream",
          "name": "stdout",
          "text": [
            "Normal              : Tidak Memenuhi\n",
            "Log Normal          : Tidak Memenuhi\n",
            "Gumbel Tipe I       : Tidak Memenuhi\n",
            "Log Pearson Tipe III: Memenuhi\n",
            "-----------------------------------------------\n",
            "> Distribusi Normal [syarat](nilai)\n",
            "[Cs ~ 0](Cs = -0.44066)\n",
            "[Ck ~ 3](Ck = 2.66551)\n",
            "> Log Normal\n",
            "[Cs ~ 3](Cs = -0.44066)\n",
            "[Cs > 0](Cs = -0.44066)\n",
            "[Cs ~ 3Cv](Cs = -0.44066 ~ 3Cv = 0.82619)\n",
            "> Gumbel Tipe I\n",
            "[Cs ~ 1.1396](Cs = -0.44066)\n",
            "[Ck ~ 5.4002](Ck = 2.66551)\n",
            "> Log Pearson Tipe III\n",
            "Tidak memiliki ciri khas (Cs/Ck/Cv = Bebas)\n",
            "-----------------------------------------------\n"
          ]
        }
      ]
    },
    {
      "cell_type": "markdown",
      "source": [
        "# Changelog\n",
        "\n",
        "```\n",
        "- 20220324 - 1.1.0 - tambah argumen show_detail=False untuk check_distribution()\n",
        "- 20220304 - 1.0.0 - Initial\n",
        "```\n",
        "\n",
        "#### Copyright &copy; 2022 [Taruma Sakti Megariansyah](https://taruma.github.io)\n",
        "\n",
        "Source code in this notebook is licensed under a [MIT License](https://choosealicense.com/licenses/mit/). Data in this notebook is licensed under a [Creative Common Attribution 4.0 International](https://creativecommons.org/licenses/by/4.0/). \n"
      ],
      "metadata": {
        "id": "MbyEAho0LaUh"
      }
    }
  ]
}
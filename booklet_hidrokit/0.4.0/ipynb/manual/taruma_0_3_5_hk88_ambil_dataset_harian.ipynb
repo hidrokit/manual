{
  "nbformat": 4,
  "nbformat_minor": 0,
  "metadata": {
    "colab": {
      "name": "taruma_hk88_ambil_dataset_harian.ipynb",
      "provenance": [],
      "collapsed_sections": []
    },
    "kernelspec": {
      "name": "python3",
      "display_name": "Python 3"
    }
  },
  "cells": [
    {
      "cell_type": "markdown",
      "metadata": {
        "id": "cyMEUVNIy-7D"
      },
      "source": [
        "Berdasarkan isu [#88](https://github.com/taruma/hidrokit/issues/88): **request: ambil dataset hujan harian**\n",
        "\n",
        "Referensi isu:\n",
        "- `hidrokit.contrib.taruma.hk79` [#79](https://github.com/taruma/hidrokit/issues/79). \\([lihat notebook/manual](https://nbviewer.jupyter.org/gist/taruma/05dab67fac8313a94134ac02d0398897)\\). **request: ambil dataset hujan jam-jaman dari excel**\n",
        "\n",
        "Deskripsi permasalahan:\n",
        "- Serupa dengan isu #79, akan tetapi dataset merupakan data harian.\n",
        "- Mengambil dataset harian dalam excel yang berupa _pivot table_.\n",
        "- Mengubah tabel tersebut ke dalam bentuk `pandas.DataFrame`, dengan baris menunjukkan observasi/kejadian dan kolom menunjukkan stasiun.\n",
        "\n",
        "Change Log:\n",
        "- ***New in version 0.4.0.*** [Isu #162](https://github.com/hidrokit/hidrokit/issues/162) Menambah fitur fungsi `read_workbook(...)` untuk membaca berkas tanpa perlu mengetahui nama _sheet_ dan membaca seluruh sheet kecuali yang _sheet_ berawalan `ignore_str='_'`.\n",
        "- ***Breaking changes in version 0.4.0*** Bagi yang menggunakan luaran dengan argumen `as_df=False` akan memperoleh pesan error karena luaran sebelum versi 0.4.0 berupa `list`, sedangkan untuk versi 0.4.0 luaran berupa `dictionary`. "
      ]
    },
    {
      "cell_type": "markdown",
      "metadata": {
        "id": "zLMG_FiCz6A2"
      },
      "source": [
        "# PERSIAPAN DAN DATASET"
      ]
    },
    {
      "cell_type": "code",
      "metadata": {
        "id": "LFrXyfEdykhh",
        "outputId": "1b83dbe4-41f4-4aad-d6d9-bccfab8a412c",
        "colab": {
          "base_uri": "https://localhost:8080/"
        }
      },
      "source": [
        "try:\n",
        "    import hidrokit\n",
        "except ModuleNotFoundError:\n",
        "    !pip install hidrokit -q\n",
        "    import hidrokit\n",
        "print(f'hidrokit version: {hidrokit.__version__}')"
      ],
      "execution_count": null,
      "outputs": [
        {
          "output_type": "stream",
          "name": "stdout",
          "text": [
            "hidrokit version: 0.3.6\n"
          ]
        }
      ]
    },
    {
      "cell_type": "code",
      "metadata": {
        "id": "LYTYboYS0Ph9"
      },
      "source": [
        "# Unduh dataset\n",
        "!wget -O sample.xlsx \"https://taruma.github.io/assets/hidrokit_dataset/hidrokit_daily_template.xlsx\" -q\n",
        "FILE = 'sample.xlsx'"
      ],
      "execution_count": null,
      "outputs": []
    },
    {
      "cell_type": "code",
      "metadata": {
        "id": "MZ_I3qFS0bbV"
      },
      "source": [
        "import pandas as pd\n",
        "import numpy as np\n",
        "import matplotlib.pyplot as plt"
      ],
      "execution_count": null,
      "outputs": []
    },
    {
      "cell_type": "markdown",
      "metadata": {
        "id": "6OxKS0piMAfN"
      },
      "source": [
        "# KODE"
      ]
    },
    {
      "cell_type": "code",
      "metadata": {
        "id": "ENMFCy1c2rnf"
      },
      "source": [
        "from calendar import isleap\n",
        "import pandas as pd\n",
        "\n",
        "\n",
        "def _melt_to_array(df, year):\n",
        "    \"\"\"Melt dataframe to 1D array one year\"\"\"\n",
        "    # ref: hidrokit.contrib.taruma.hk43\n",
        "    _drop = [59, 60, 61, 123, 185, 278, 340]\n",
        "    _drop_leap = [60, 61, 123, 185, 278, 340]\n",
        "\n",
        "    data = df.melt().drop('variable', axis=1)\n",
        "    if isleap(year):\n",
        "        return data['value'].drop(_drop_leap).values\n",
        "    else:\n",
        "        return data['value'].drop(_drop).values\n",
        "\n",
        "\n",
        "def _index_daily(year):\n",
        "    \"\"\"Return DateTimeIndex object for one year\"\"\"\n",
        "    year_range = '{}0101 {}0101'.format(year, year + 1).split()\n",
        "    return pd.date_range(*year_range, closed='left')\n",
        "\n",
        "\n",
        "def _yearly_df(df, year, station_name):\n",
        "    \"\"\"Create dataframe for one year\"\"\"\n",
        "    return pd.DataFrame(\n",
        "        data=_melt_to_array(df, year),\n",
        "        index=_index_daily(year),\n",
        "        columns=[station_name]\n",
        "    )\n",
        "\n",
        "\n",
        "def _data_from_sheet(df, station_name, as_df=True):\n",
        "    \"\"\"Read dataset from single sheet as dataframe (or list of dataframe)\"\"\"\n",
        "    n_years = int(df.iloc[0, 1])\n",
        "\n",
        "    frames = []\n",
        "    for i in range(2, n_years * 33, 33):\n",
        "        year = int(df.iloc[i, 1])\n",
        "        pivot = df.iloc[i:i + 31, 4:16]\n",
        "        data = _yearly_df(pivot, year, station_name)\n",
        "        frames.append(data)\n",
        "\n",
        "    if as_df:\n",
        "        return pd.concat(frames, sort=True)\n",
        "    else:\n",
        "        return frames\n",
        "\n",
        "def read_workbook(io, stations=None, ignore_str='_', as_df=True):\n",
        "    \"\"\"Read dataset from workbook\"\"\"\n",
        "    excel = pd.ExcelFile(io)\n",
        "\n",
        "    data = {}\n",
        "    sheet_names = excel.sheet_names\n",
        "    if stations is None:\n",
        "        stations = []\n",
        "        for sheet in sheet_names:\n",
        "            if not sheet.startswith(ignore_str):\n",
        "                stations.append(sheet)\n",
        "    else:\n",
        "        stations = [stations] if isinstance(stations, str) else stations\n",
        "\n",
        "    for station in stations:\n",
        "        df = excel.parse(sheet_name=station, header=None)\n",
        "        data[station] = _data_from_sheet(df, station)\n",
        "\n",
        "    if as_df:\n",
        "        return pd.concat(data.values(), sort=True, axis=1)\n",
        "    else:\n",
        "        return data\n"
      ],
      "execution_count": null,
      "outputs": []
    },
    {
      "cell_type": "markdown",
      "metadata": {
        "id": "WCvI1utFV8UN"
      },
      "source": [
        "# PENERAPAN"
      ]
    },
    {
      "cell_type": "code",
      "metadata": {
        "id": "0L_L1QJb0fVz",
        "outputId": "06a4fb7a-ceff-4df1-b963-bce5a7a4b964",
        "colab": {
          "base_uri": "https://localhost:8080/"
        }
      },
      "source": [
        "from hidrokit.contrib.taruma import hk79\n",
        "\n",
        "# Ambil informasi excel menggunakan modul .hk79\n",
        "data_info = hk79._get_info(FILE, config_sheet='_INFO')\n",
        "print(':: INFORMASI PADA BERKAS')\n",
        "print(data_info)"
      ],
      "execution_count": null,
      "outputs": [
        {
          "output_type": "stream",
          "name": "stdout",
          "text": [
            ":: INFORMASI PADA BERKAS\n",
            "{'key': 'VALUE', 'n_stations': 2, 'stations': 'AURENE, TYBALT', 'source': 'RATA SUM', 'station_1_years': '2002, 2003, 2004', 'station_2_years': '2007, 2008'}\n"
          ]
        }
      ]
    },
    {
      "cell_type": "code",
      "metadata": {
        "id": "Pt2GkALg1fIp",
        "outputId": "bf48df83-bc62-49f2-e511-c0ab9dc42795",
        "colab": {
          "base_uri": "https://localhost:8080/"
        }
      },
      "source": [
        "stations = data_info['stations'].replace(' ', '').split(',')\n",
        "print('nama stasiun dalam berkas:', stations)"
      ],
      "execution_count": null,
      "outputs": [
        {
          "output_type": "stream",
          "name": "stdout",
          "text": [
            "nama stasiun dalam berkas: ['AURENE', 'TYBALT']\n"
          ]
        }
      ]
    },
    {
      "cell_type": "markdown",
      "metadata": {
        "id": "cKPgxWR92BAC"
      },
      "source": [
        "## Baca satu stasiun"
      ]
    },
    {
      "cell_type": "code",
      "metadata": {
        "id": "sOSA67xI2PGt",
        "outputId": "690426e9-ee12-41d2-81cf-9d4c86dcc58e",
        "colab": {
          "base_uri": "https://localhost:8080/",
          "height": 362
        }
      },
      "source": [
        "aurene = read_workbook(FILE, ['AURENE'])\n",
        "aurene.info()\n",
        "aurene.head()"
      ],
      "execution_count": null,
      "outputs": [
        {
          "output_type": "stream",
          "name": "stdout",
          "text": [
            "<class 'pandas.core.frame.DataFrame'>\n",
            "DatetimeIndex: 1096 entries, 2002-01-01 to 2004-12-31\n",
            "Freq: D\n",
            "Data columns (total 1 columns):\n",
            " #   Column  Non-Null Count  Dtype \n",
            "---  ------  --------------  ----- \n",
            " 0   AURENE  1096 non-null   object\n",
            "dtypes: object(1)\n",
            "memory usage: 17.1+ KB\n"
          ]
        },
        {
          "output_type": "execute_result",
          "data": {
            "text/plain": [
              "           AURENE\n",
              "2002-01-01  17.08\n",
              "2002-01-02  16.28\n",
              "2002-01-03  20.32\n",
              "2002-01-04  18.34\n",
              "2002-01-05  13.16"
            ],
            "text/html": [
              "\n",
              "  <div id=\"df-c1578f9a-b6cf-4e57-a902-123a853b47e8\">\n",
              "    <div class=\"colab-df-container\">\n",
              "      <div>\n",
              "<style scoped>\n",
              "    .dataframe tbody tr th:only-of-type {\n",
              "        vertical-align: middle;\n",
              "    }\n",
              "\n",
              "    .dataframe tbody tr th {\n",
              "        vertical-align: top;\n",
              "    }\n",
              "\n",
              "    .dataframe thead th {\n",
              "        text-align: right;\n",
              "    }\n",
              "</style>\n",
              "<table border=\"1\" class=\"dataframe\">\n",
              "  <thead>\n",
              "    <tr style=\"text-align: right;\">\n",
              "      <th></th>\n",
              "      <th>AURENE</th>\n",
              "    </tr>\n",
              "  </thead>\n",
              "  <tbody>\n",
              "    <tr>\n",
              "      <th>2002-01-01</th>\n",
              "      <td>17.08</td>\n",
              "    </tr>\n",
              "    <tr>\n",
              "      <th>2002-01-02</th>\n",
              "      <td>16.28</td>\n",
              "    </tr>\n",
              "    <tr>\n",
              "      <th>2002-01-03</th>\n",
              "      <td>20.32</td>\n",
              "    </tr>\n",
              "    <tr>\n",
              "      <th>2002-01-04</th>\n",
              "      <td>18.34</td>\n",
              "    </tr>\n",
              "    <tr>\n",
              "      <th>2002-01-05</th>\n",
              "      <td>13.16</td>\n",
              "    </tr>\n",
              "  </tbody>\n",
              "</table>\n",
              "</div>\n",
              "      <button class=\"colab-df-convert\" onclick=\"convertToInteractive('df-c1578f9a-b6cf-4e57-a902-123a853b47e8')\"\n",
              "              title=\"Convert this dataframe to an interactive table.\"\n",
              "              style=\"display:none;\">\n",
              "        \n",
              "  <svg xmlns=\"http://www.w3.org/2000/svg\" height=\"24px\"viewBox=\"0 0 24 24\"\n",
              "       width=\"24px\">\n",
              "    <path d=\"M0 0h24v24H0V0z\" fill=\"none\"/>\n",
              "    <path d=\"M18.56 5.44l.94 2.06.94-2.06 2.06-.94-2.06-.94-.94-2.06-.94 2.06-2.06.94zm-11 1L8.5 8.5l.94-2.06 2.06-.94-2.06-.94L8.5 2.5l-.94 2.06-2.06.94zm10 10l.94 2.06.94-2.06 2.06-.94-2.06-.94-.94-2.06-.94 2.06-2.06.94z\"/><path d=\"M17.41 7.96l-1.37-1.37c-.4-.4-.92-.59-1.43-.59-.52 0-1.04.2-1.43.59L10.3 9.45l-7.72 7.72c-.78.78-.78 2.05 0 2.83L4 21.41c.39.39.9.59 1.41.59.51 0 1.02-.2 1.41-.59l7.78-7.78 2.81-2.81c.8-.78.8-2.07 0-2.86zM5.41 20L4 18.59l7.72-7.72 1.47 1.35L5.41 20z\"/>\n",
              "  </svg>\n",
              "      </button>\n",
              "      \n",
              "  <style>\n",
              "    .colab-df-container {\n",
              "      display:flex;\n",
              "      flex-wrap:wrap;\n",
              "      gap: 12px;\n",
              "    }\n",
              "\n",
              "    .colab-df-convert {\n",
              "      background-color: #E8F0FE;\n",
              "      border: none;\n",
              "      border-radius: 50%;\n",
              "      cursor: pointer;\n",
              "      display: none;\n",
              "      fill: #1967D2;\n",
              "      height: 32px;\n",
              "      padding: 0 0 0 0;\n",
              "      width: 32px;\n",
              "    }\n",
              "\n",
              "    .colab-df-convert:hover {\n",
              "      background-color: #E2EBFA;\n",
              "      box-shadow: 0px 1px 2px rgba(60, 64, 67, 0.3), 0px 1px 3px 1px rgba(60, 64, 67, 0.15);\n",
              "      fill: #174EA6;\n",
              "    }\n",
              "\n",
              "    [theme=dark] .colab-df-convert {\n",
              "      background-color: #3B4455;\n",
              "      fill: #D2E3FC;\n",
              "    }\n",
              "\n",
              "    [theme=dark] .colab-df-convert:hover {\n",
              "      background-color: #434B5C;\n",
              "      box-shadow: 0px 1px 3px 1px rgba(0, 0, 0, 0.15);\n",
              "      filter: drop-shadow(0px 1px 2px rgba(0, 0, 0, 0.3));\n",
              "      fill: #FFFFFF;\n",
              "    }\n",
              "  </style>\n",
              "\n",
              "      <script>\n",
              "        const buttonEl =\n",
              "          document.querySelector('#df-c1578f9a-b6cf-4e57-a902-123a853b47e8 button.colab-df-convert');\n",
              "        buttonEl.style.display =\n",
              "          google.colab.kernel.accessAllowed ? 'block' : 'none';\n",
              "\n",
              "        async function convertToInteractive(key) {\n",
              "          const element = document.querySelector('#df-c1578f9a-b6cf-4e57-a902-123a853b47e8');\n",
              "          const dataTable =\n",
              "            await google.colab.kernel.invokeFunction('convertToInteractive',\n",
              "                                                     [key], {});\n",
              "          if (!dataTable) return;\n",
              "\n",
              "          const docLinkHtml = 'Like what you see? Visit the ' +\n",
              "            '<a target=\"_blank\" href=https://colab.research.google.com/notebooks/data_table.ipynb>data table notebook</a>'\n",
              "            + ' to learn more about interactive tables.';\n",
              "          element.innerHTML = '';\n",
              "          dataTable['output_type'] = 'display_data';\n",
              "          await google.colab.output.renderOutput(dataTable, element);\n",
              "          const docLink = document.createElement('div');\n",
              "          docLink.innerHTML = docLinkHtml;\n",
              "          element.appendChild(docLink);\n",
              "        }\n",
              "      </script>\n",
              "    </div>\n",
              "  </div>\n",
              "  "
            ]
          },
          "metadata": {},
          "execution_count": 12
        }
      ]
    },
    {
      "cell_type": "markdown",
      "metadata": {
        "id": "biE_Koc56xHi"
      },
      "source": [
        "## Baca lebih dari satu stasiun"
      ]
    },
    {
      "cell_type": "code",
      "metadata": {
        "id": "PlUaXdWH2c11",
        "outputId": "313186d0-3d8d-4c93-b873-f0f89300b246",
        "colab": {
          "base_uri": "https://localhost:8080/",
          "height": 424
        }
      },
      "source": [
        "dataset = read_workbook(FILE, ['TYBALT', 'AURENE'])\n",
        "dataset.sort_index()"
      ],
      "execution_count": null,
      "outputs": [
        {
          "output_type": "execute_result",
          "data": {
            "text/plain": [
              "            TYBALT AURENE\n",
              "2002-01-01     NaN  17.08\n",
              "2002-01-02     NaN  16.28\n",
              "2002-01-03     NaN  20.32\n",
              "2002-01-04     NaN  18.34\n",
              "2002-01-05     NaN  13.16\n",
              "...            ...    ...\n",
              "2008-12-27  134.83    NaN\n",
              "2008-12-28   81.88    NaN\n",
              "2008-12-29   20.14    NaN\n",
              "2008-12-30  208.54    NaN\n",
              "2008-12-31  208.14    NaN\n",
              "\n",
              "[1827 rows x 2 columns]"
            ],
            "text/html": [
              "\n",
              "  <div id=\"df-83516a6e-5c80-4cfd-ad6a-226c0bab33c7\">\n",
              "    <div class=\"colab-df-container\">\n",
              "      <div>\n",
              "<style scoped>\n",
              "    .dataframe tbody tr th:only-of-type {\n",
              "        vertical-align: middle;\n",
              "    }\n",
              "\n",
              "    .dataframe tbody tr th {\n",
              "        vertical-align: top;\n",
              "    }\n",
              "\n",
              "    .dataframe thead th {\n",
              "        text-align: right;\n",
              "    }\n",
              "</style>\n",
              "<table border=\"1\" class=\"dataframe\">\n",
              "  <thead>\n",
              "    <tr style=\"text-align: right;\">\n",
              "      <th></th>\n",
              "      <th>TYBALT</th>\n",
              "      <th>AURENE</th>\n",
              "    </tr>\n",
              "  </thead>\n",
              "  <tbody>\n",
              "    <tr>\n",
              "      <th>2002-01-01</th>\n",
              "      <td>NaN</td>\n",
              "      <td>17.08</td>\n",
              "    </tr>\n",
              "    <tr>\n",
              "      <th>2002-01-02</th>\n",
              "      <td>NaN</td>\n",
              "      <td>16.28</td>\n",
              "    </tr>\n",
              "    <tr>\n",
              "      <th>2002-01-03</th>\n",
              "      <td>NaN</td>\n",
              "      <td>20.32</td>\n",
              "    </tr>\n",
              "    <tr>\n",
              "      <th>2002-01-04</th>\n",
              "      <td>NaN</td>\n",
              "      <td>18.34</td>\n",
              "    </tr>\n",
              "    <tr>\n",
              "      <th>2002-01-05</th>\n",
              "      <td>NaN</td>\n",
              "      <td>13.16</td>\n",
              "    </tr>\n",
              "    <tr>\n",
              "      <th>...</th>\n",
              "      <td>...</td>\n",
              "      <td>...</td>\n",
              "    </tr>\n",
              "    <tr>\n",
              "      <th>2008-12-27</th>\n",
              "      <td>134.83</td>\n",
              "      <td>NaN</td>\n",
              "    </tr>\n",
              "    <tr>\n",
              "      <th>2008-12-28</th>\n",
              "      <td>81.88</td>\n",
              "      <td>NaN</td>\n",
              "    </tr>\n",
              "    <tr>\n",
              "      <th>2008-12-29</th>\n",
              "      <td>20.14</td>\n",
              "      <td>NaN</td>\n",
              "    </tr>\n",
              "    <tr>\n",
              "      <th>2008-12-30</th>\n",
              "      <td>208.54</td>\n",
              "      <td>NaN</td>\n",
              "    </tr>\n",
              "    <tr>\n",
              "      <th>2008-12-31</th>\n",
              "      <td>208.14</td>\n",
              "      <td>NaN</td>\n",
              "    </tr>\n",
              "  </tbody>\n",
              "</table>\n",
              "<p>1827 rows × 2 columns</p>\n",
              "</div>\n",
              "      <button class=\"colab-df-convert\" onclick=\"convertToInteractive('df-83516a6e-5c80-4cfd-ad6a-226c0bab33c7')\"\n",
              "              title=\"Convert this dataframe to an interactive table.\"\n",
              "              style=\"display:none;\">\n",
              "        \n",
              "  <svg xmlns=\"http://www.w3.org/2000/svg\" height=\"24px\"viewBox=\"0 0 24 24\"\n",
              "       width=\"24px\">\n",
              "    <path d=\"M0 0h24v24H0V0z\" fill=\"none\"/>\n",
              "    <path d=\"M18.56 5.44l.94 2.06.94-2.06 2.06-.94-2.06-.94-.94-2.06-.94 2.06-2.06.94zm-11 1L8.5 8.5l.94-2.06 2.06-.94-2.06-.94L8.5 2.5l-.94 2.06-2.06.94zm10 10l.94 2.06.94-2.06 2.06-.94-2.06-.94-.94-2.06-.94 2.06-2.06.94z\"/><path d=\"M17.41 7.96l-1.37-1.37c-.4-.4-.92-.59-1.43-.59-.52 0-1.04.2-1.43.59L10.3 9.45l-7.72 7.72c-.78.78-.78 2.05 0 2.83L4 21.41c.39.39.9.59 1.41.59.51 0 1.02-.2 1.41-.59l7.78-7.78 2.81-2.81c.8-.78.8-2.07 0-2.86zM5.41 20L4 18.59l7.72-7.72 1.47 1.35L5.41 20z\"/>\n",
              "  </svg>\n",
              "      </button>\n",
              "      \n",
              "  <style>\n",
              "    .colab-df-container {\n",
              "      display:flex;\n",
              "      flex-wrap:wrap;\n",
              "      gap: 12px;\n",
              "    }\n",
              "\n",
              "    .colab-df-convert {\n",
              "      background-color: #E8F0FE;\n",
              "      border: none;\n",
              "      border-radius: 50%;\n",
              "      cursor: pointer;\n",
              "      display: none;\n",
              "      fill: #1967D2;\n",
              "      height: 32px;\n",
              "      padding: 0 0 0 0;\n",
              "      width: 32px;\n",
              "    }\n",
              "\n",
              "    .colab-df-convert:hover {\n",
              "      background-color: #E2EBFA;\n",
              "      box-shadow: 0px 1px 2px rgba(60, 64, 67, 0.3), 0px 1px 3px 1px rgba(60, 64, 67, 0.15);\n",
              "      fill: #174EA6;\n",
              "    }\n",
              "\n",
              "    [theme=dark] .colab-df-convert {\n",
              "      background-color: #3B4455;\n",
              "      fill: #D2E3FC;\n",
              "    }\n",
              "\n",
              "    [theme=dark] .colab-df-convert:hover {\n",
              "      background-color: #434B5C;\n",
              "      box-shadow: 0px 1px 3px 1px rgba(0, 0, 0, 0.15);\n",
              "      filter: drop-shadow(0px 1px 2px rgba(0, 0, 0, 0.3));\n",
              "      fill: #FFFFFF;\n",
              "    }\n",
              "  </style>\n",
              "\n",
              "      <script>\n",
              "        const buttonEl =\n",
              "          document.querySelector('#df-83516a6e-5c80-4cfd-ad6a-226c0bab33c7 button.colab-df-convert');\n",
              "        buttonEl.style.display =\n",
              "          google.colab.kernel.accessAllowed ? 'block' : 'none';\n",
              "\n",
              "        async function convertToInteractive(key) {\n",
              "          const element = document.querySelector('#df-83516a6e-5c80-4cfd-ad6a-226c0bab33c7');\n",
              "          const dataTable =\n",
              "            await google.colab.kernel.invokeFunction('convertToInteractive',\n",
              "                                                     [key], {});\n",
              "          if (!dataTable) return;\n",
              "\n",
              "          const docLinkHtml = 'Like what you see? Visit the ' +\n",
              "            '<a target=\"_blank\" href=https://colab.research.google.com/notebooks/data_table.ipynb>data table notebook</a>'\n",
              "            + ' to learn more about interactive tables.';\n",
              "          element.innerHTML = '';\n",
              "          dataTable['output_type'] = 'display_data';\n",
              "          await google.colab.output.renderOutput(dataTable, element);\n",
              "          const docLink = document.createElement('div');\n",
              "          docLink.innerHTML = docLinkHtml;\n",
              "          element.appendChild(docLink);\n",
              "        }\n",
              "      </script>\n",
              "    </div>\n",
              "  </div>\n",
              "  "
            ]
          },
          "metadata": {},
          "execution_count": 8
        }
      ]
    },
    {
      "cell_type": "markdown",
      "source": [
        "## FUNGSI `read_workbook(io, ...)`\n",
        "\n",
        "Function: `read_workbook(io, stations=None, ignore_str='_', as_df=True)`\n",
        "\n",
        "- Argumen Posisi:\n",
        "    - `io`: _Path_ untuk berkas excel. Bisa berupa 'string', objek `pandas.ExcelFile`, atau objek `pathlib.Path`.\n",
        "- Argumen Opsional:\n",
        "    - `stations`: nama stasiun/_sheet_. `None` (default). Akan membaca seluruh sheet kecuali yang diawali `ignore_str` jika `None`. Dapat berupa `string`, atau `list`/`tuple`. ***Change in version 0.4.0***\n",
        "    - `ignore_str`: teks yang diawali `ignore_str` akan diabaikan saat proses membaca buku. `'_'` (default). ***New in version 0.4.0***\n",
        "    - `as_df`: luaran dapet berupa `pandas.DataFrame` jika `True`. `True` (default). Jika `False`, luaran berupa `dictionary`. ***Change in version 0.4.0***"
      ],
      "metadata": {
        "id": "hAZpB2UVyJvR"
      }
    },
    {
      "cell_type": "code",
      "source": [
        "read_workbook(FILE)"
      ],
      "metadata": {
        "colab": {
          "base_uri": "https://localhost:8080/",
          "height": 424
        },
        "id": "42vGFGsKyI8a",
        "outputId": "6f7f59a0-00e1-4c66-811b-9255d49a2438"
      },
      "execution_count": null,
      "outputs": [
        {
          "output_type": "execute_result",
          "data": {
            "text/plain": [
              "           AURENE  TYBALT\n",
              "2002-01-01  17.08     NaN\n",
              "2002-01-02  16.28     NaN\n",
              "2002-01-03  20.32     NaN\n",
              "2002-01-04  18.34     NaN\n",
              "2002-01-05  13.16     NaN\n",
              "...           ...     ...\n",
              "2008-12-27    NaN  134.83\n",
              "2008-12-28    NaN   81.88\n",
              "2008-12-29    NaN   20.14\n",
              "2008-12-30    NaN  208.54\n",
              "2008-12-31    NaN  208.14\n",
              "\n",
              "[1827 rows x 2 columns]"
            ],
            "text/html": [
              "\n",
              "  <div id=\"df-d6ed267c-b661-4e3a-a397-807cf478cb9b\">\n",
              "    <div class=\"colab-df-container\">\n",
              "      <div>\n",
              "<style scoped>\n",
              "    .dataframe tbody tr th:only-of-type {\n",
              "        vertical-align: middle;\n",
              "    }\n",
              "\n",
              "    .dataframe tbody tr th {\n",
              "        vertical-align: top;\n",
              "    }\n",
              "\n",
              "    .dataframe thead th {\n",
              "        text-align: right;\n",
              "    }\n",
              "</style>\n",
              "<table border=\"1\" class=\"dataframe\">\n",
              "  <thead>\n",
              "    <tr style=\"text-align: right;\">\n",
              "      <th></th>\n",
              "      <th>AURENE</th>\n",
              "      <th>TYBALT</th>\n",
              "    </tr>\n",
              "  </thead>\n",
              "  <tbody>\n",
              "    <tr>\n",
              "      <th>2002-01-01</th>\n",
              "      <td>17.08</td>\n",
              "      <td>NaN</td>\n",
              "    </tr>\n",
              "    <tr>\n",
              "      <th>2002-01-02</th>\n",
              "      <td>16.28</td>\n",
              "      <td>NaN</td>\n",
              "    </tr>\n",
              "    <tr>\n",
              "      <th>2002-01-03</th>\n",
              "      <td>20.32</td>\n",
              "      <td>NaN</td>\n",
              "    </tr>\n",
              "    <tr>\n",
              "      <th>2002-01-04</th>\n",
              "      <td>18.34</td>\n",
              "      <td>NaN</td>\n",
              "    </tr>\n",
              "    <tr>\n",
              "      <th>2002-01-05</th>\n",
              "      <td>13.16</td>\n",
              "      <td>NaN</td>\n",
              "    </tr>\n",
              "    <tr>\n",
              "      <th>...</th>\n",
              "      <td>...</td>\n",
              "      <td>...</td>\n",
              "    </tr>\n",
              "    <tr>\n",
              "      <th>2008-12-27</th>\n",
              "      <td>NaN</td>\n",
              "      <td>134.83</td>\n",
              "    </tr>\n",
              "    <tr>\n",
              "      <th>2008-12-28</th>\n",
              "      <td>NaN</td>\n",
              "      <td>81.88</td>\n",
              "    </tr>\n",
              "    <tr>\n",
              "      <th>2008-12-29</th>\n",
              "      <td>NaN</td>\n",
              "      <td>20.14</td>\n",
              "    </tr>\n",
              "    <tr>\n",
              "      <th>2008-12-30</th>\n",
              "      <td>NaN</td>\n",
              "      <td>208.54</td>\n",
              "    </tr>\n",
              "    <tr>\n",
              "      <th>2008-12-31</th>\n",
              "      <td>NaN</td>\n",
              "      <td>208.14</td>\n",
              "    </tr>\n",
              "  </tbody>\n",
              "</table>\n",
              "<p>1827 rows × 2 columns</p>\n",
              "</div>\n",
              "      <button class=\"colab-df-convert\" onclick=\"convertToInteractive('df-d6ed267c-b661-4e3a-a397-807cf478cb9b')\"\n",
              "              title=\"Convert this dataframe to an interactive table.\"\n",
              "              style=\"display:none;\">\n",
              "        \n",
              "  <svg xmlns=\"http://www.w3.org/2000/svg\" height=\"24px\"viewBox=\"0 0 24 24\"\n",
              "       width=\"24px\">\n",
              "    <path d=\"M0 0h24v24H0V0z\" fill=\"none\"/>\n",
              "    <path d=\"M18.56 5.44l.94 2.06.94-2.06 2.06-.94-2.06-.94-.94-2.06-.94 2.06-2.06.94zm-11 1L8.5 8.5l.94-2.06 2.06-.94-2.06-.94L8.5 2.5l-.94 2.06-2.06.94zm10 10l.94 2.06.94-2.06 2.06-.94-2.06-.94-.94-2.06-.94 2.06-2.06.94z\"/><path d=\"M17.41 7.96l-1.37-1.37c-.4-.4-.92-.59-1.43-.59-.52 0-1.04.2-1.43.59L10.3 9.45l-7.72 7.72c-.78.78-.78 2.05 0 2.83L4 21.41c.39.39.9.59 1.41.59.51 0 1.02-.2 1.41-.59l7.78-7.78 2.81-2.81c.8-.78.8-2.07 0-2.86zM5.41 20L4 18.59l7.72-7.72 1.47 1.35L5.41 20z\"/>\n",
              "  </svg>\n",
              "      </button>\n",
              "      \n",
              "  <style>\n",
              "    .colab-df-container {\n",
              "      display:flex;\n",
              "      flex-wrap:wrap;\n",
              "      gap: 12px;\n",
              "    }\n",
              "\n",
              "    .colab-df-convert {\n",
              "      background-color: #E8F0FE;\n",
              "      border: none;\n",
              "      border-radius: 50%;\n",
              "      cursor: pointer;\n",
              "      display: none;\n",
              "      fill: #1967D2;\n",
              "      height: 32px;\n",
              "      padding: 0 0 0 0;\n",
              "      width: 32px;\n",
              "    }\n",
              "\n",
              "    .colab-df-convert:hover {\n",
              "      background-color: #E2EBFA;\n",
              "      box-shadow: 0px 1px 2px rgba(60, 64, 67, 0.3), 0px 1px 3px 1px rgba(60, 64, 67, 0.15);\n",
              "      fill: #174EA6;\n",
              "    }\n",
              "\n",
              "    [theme=dark] .colab-df-convert {\n",
              "      background-color: #3B4455;\n",
              "      fill: #D2E3FC;\n",
              "    }\n",
              "\n",
              "    [theme=dark] .colab-df-convert:hover {\n",
              "      background-color: #434B5C;\n",
              "      box-shadow: 0px 1px 3px 1px rgba(0, 0, 0, 0.15);\n",
              "      filter: drop-shadow(0px 1px 2px rgba(0, 0, 0, 0.3));\n",
              "      fill: #FFFFFF;\n",
              "    }\n",
              "  </style>\n",
              "\n",
              "      <script>\n",
              "        const buttonEl =\n",
              "          document.querySelector('#df-d6ed267c-b661-4e3a-a397-807cf478cb9b button.colab-df-convert');\n",
              "        buttonEl.style.display =\n",
              "          google.colab.kernel.accessAllowed ? 'block' : 'none';\n",
              "\n",
              "        async function convertToInteractive(key) {\n",
              "          const element = document.querySelector('#df-d6ed267c-b661-4e3a-a397-807cf478cb9b');\n",
              "          const dataTable =\n",
              "            await google.colab.kernel.invokeFunction('convertToInteractive',\n",
              "                                                     [key], {});\n",
              "          if (!dataTable) return;\n",
              "\n",
              "          const docLinkHtml = 'Like what you see? Visit the ' +\n",
              "            '<a target=\"_blank\" href=https://colab.research.google.com/notebooks/data_table.ipynb>data table notebook</a>'\n",
              "            + ' to learn more about interactive tables.';\n",
              "          element.innerHTML = '';\n",
              "          dataTable['output_type'] = 'display_data';\n",
              "          await google.colab.output.renderOutput(dataTable, element);\n",
              "          const docLink = document.createElement('div');\n",
              "          docLink.innerHTML = docLinkHtml;\n",
              "          element.appendChild(docLink);\n",
              "        }\n",
              "      </script>\n",
              "    </div>\n",
              "  </div>\n",
              "  "
            ]
          },
          "metadata": {},
          "execution_count": 13
        }
      ]
    },
    {
      "cell_type": "code",
      "source": [
        "read_workbook(FILE, as_df=False)"
      ],
      "metadata": {
        "colab": {
          "base_uri": "https://localhost:8080/"
        },
        "id": "r0ILB-kt2bC_",
        "outputId": "8604a71b-60f0-4e41-bfc5-14eef4ac1d9b"
      },
      "execution_count": null,
      "outputs": [
        {
          "output_type": "execute_result",
          "data": {
            "text/plain": [
              "{'AURENE':             AURENE\n",
              " 2002-01-01   17.08\n",
              " 2002-01-02   16.28\n",
              " 2002-01-03   20.32\n",
              " 2002-01-04   18.34\n",
              " 2002-01-05   13.16\n",
              " ...            ...\n",
              " 2004-12-27  454.75\n",
              " 2004-12-28   69.75\n",
              " 2004-12-29  189.39\n",
              " 2004-12-30  166.39\n",
              " 2004-12-31  133.99\n",
              " \n",
              " [1096 rows x 1 columns], 'TYBALT':             TYBALT\n",
              " 2007-01-01  201.92\n",
              " 2007-01-02  255.38\n",
              " 2007-01-03  130.84\n",
              " 2007-01-04   17.96\n",
              " 2007-01-05   19.12\n",
              " ...            ...\n",
              " 2008-12-27  134.83\n",
              " 2008-12-28   81.88\n",
              " 2008-12-29   20.14\n",
              " 2008-12-30  208.54\n",
              " 2008-12-31  208.14\n",
              " \n",
              " [731 rows x 1 columns]}"
            ]
          },
          "metadata": {},
          "execution_count": 14
        }
      ]
    },
    {
      "cell_type": "markdown",
      "metadata": {
        "id": "z0Dp41jW5CHa"
      },
      "source": [
        "# Changelog\n",
        "\n",
        "```\n",
        "- 20220402 - 1.1.1 - Change 0.3.7 to 0.4.0\n",
        "- 20220318 - 1.1.0 - Improve read_workbook(...) function Issue #162\n",
        "- 20191217 - 1.0.1 - Fix read_workbook() issue#95\n",
        "- 20191213 - 1.0.0 - Initial\n",
        "```\n",
        "\n",
        "#### Copyright &copy; 2022 [Taruma Sakti Megariansyah](https://taruma.github.io)\n",
        "\n",
        "Source code in this notebook is licensed under a [MIT License](https://choosealicense.com/licenses/mit/). Data in this notebook is licensed under a [Creative Common Attribution 4.0 International](https://creativecommons.org/licenses/by/4.0/). \n"
      ]
    }
  ]
}
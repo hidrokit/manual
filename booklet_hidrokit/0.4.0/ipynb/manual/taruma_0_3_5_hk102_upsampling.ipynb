{
  "nbformat": 4,
  "nbformat_minor": 0,
  "metadata": {
    "colab": {
      "name": "taruma_hk102_upsampling.ipynb",
      "provenance": [],
      "collapsed_sections": []
    },
    "kernelspec": {
      "name": "python3",
      "display_name": "Python 3"
    }
  },
  "cells": [
    {
      "cell_type": "markdown",
      "metadata": {
        "id": "eQKA_rNamLfF"
      },
      "source": [
        "Berdasarkan [#102](https://github.com/taruma/hidrokit/issues/102): **upsampling data**\n",
        "\n",
        "Referensi Isu:\n",
        "- `hidrokit.contrib.taruma.hk98`. ([manual/notebook](https://gist.github.com/taruma/aca7f90c8fbb0034587809883d0d9e92)\\). **buat ringkasan/rekap data deret waktu**\n",
        "\n",
        "Deskripsi permasalahan:\n",
        "- Mengubah data bulanan menjadi data harian sehingga dapat di rekap menggunakan fungsi yang tersedia di `hidrokit.contrib.taruma.hk98`.\n",
        "\n",
        "Strategi penyelesaian:\n",
        "- Pada melakukan upsampling, nilai yang kosong bisa diisi menggunakan metode interpolasi atau diisi dengan nilai pada awal bulan (_default_)."
      ]
    },
    {
      "cell_type": "markdown",
      "metadata": {
        "id": "8PHw6EI0nTW8"
      },
      "source": [
        "# PERSIAPAN DAN DATASET"
      ]
    },
    {
      "cell_type": "code",
      "metadata": {
        "id": "NuJOIRNQlMXA"
      },
      "source": [
        "import numpy as np\n",
        "import pandas as pd"
      ],
      "execution_count": null,
      "outputs": []
    },
    {
      "cell_type": "code",
      "metadata": {
        "id": "JLyf2uqBx7b0"
      },
      "source": [
        "import matplotlib.pyplot as plt\n",
        "plt.rcParams[\"figure.figsize\"] = [15, 5]"
      ],
      "execution_count": null,
      "outputs": []
    },
    {
      "cell_type": "code",
      "metadata": {
        "id": "rKtlRK6LrqAU",
        "colab": {
          "base_uri": "https://localhost:8080/",
          "height": 34
        },
        "outputId": "a866c9bb-38f2-4c5d-cd92-f85075e1ee69"
      },
      "source": [
        "try:\n",
        "    import hidrokit\n",
        "except ModuleNotFoundError:\n",
        "    !pip install git+https://github.com/taruma/hidrokit.git@latest -q\n",
        "    import hidrokit\n",
        "print(f'hidrokit version: {hidrokit.__version__}')"
      ],
      "execution_count": null,
      "outputs": [
        {
          "output_type": "stream",
          "text": [
            "hidrokit version: 0.3.5-beta.6\n"
          ],
          "name": "stdout"
        }
      ]
    },
    {
      "cell_type": "code",
      "metadata": {
        "id": "7YJorL_WnWoY"
      },
      "source": [
        "!wget -O pet.xlsx \"https://taruma.github.io/assets/hidrokit_dataset/fjmock_sample.xlsx\" -q\n",
        "!wget -O sta.xlsx \"https://taruma.github.io/assets/hidrokit_dataset/data_daily_sample.xlsx\" -q\n",
        "sta_path = 'sta.xlsx'\n",
        "pet_path = 'sample.xlsx'"
      ],
      "execution_count": null,
      "outputs": []
    },
    {
      "cell_type": "code",
      "metadata": {
        "id": "XlXyd1idr_yF",
        "colab": {
          "base_uri": "https://localhost:8080/",
          "height": 204
        },
        "outputId": "96e98887-f420-48dc-99ee-092f5ccd8f54"
      },
      "source": [
        "df_pet = (pd.read_excel(pet_path, usecols=[3])\n",
        "            .set_index(\n",
        "                pd.date_range('20050101', '20160101', freq='MS', closed='left')\n",
        "            )\n",
        "         )\n",
        "df_pet.head()"
      ],
      "execution_count": null,
      "outputs": [
        {
          "output_type": "execute_result",
          "data": {
            "text/html": [
              "<div>\n",
              "<style scoped>\n",
              "    .dataframe tbody tr th:only-of-type {\n",
              "        vertical-align: middle;\n",
              "    }\n",
              "\n",
              "    .dataframe tbody tr th {\n",
              "        vertical-align: top;\n",
              "    }\n",
              "\n",
              "    .dataframe thead th {\n",
              "        text-align: right;\n",
              "    }\n",
              "</style>\n",
              "<table border=\"1\" class=\"dataframe\">\n",
              "  <thead>\n",
              "    <tr style=\"text-align: right;\">\n",
              "      <th></th>\n",
              "      <th>PET</th>\n",
              "    </tr>\n",
              "  </thead>\n",
              "  <tbody>\n",
              "    <tr>\n",
              "      <th>2005-01-01</th>\n",
              "      <td>2.988970</td>\n",
              "    </tr>\n",
              "    <tr>\n",
              "      <th>2005-02-01</th>\n",
              "      <td>3.145340</td>\n",
              "    </tr>\n",
              "    <tr>\n",
              "      <th>2005-03-01</th>\n",
              "      <td>3.213324</td>\n",
              "    </tr>\n",
              "    <tr>\n",
              "      <th>2005-04-01</th>\n",
              "      <td>3.474628</td>\n",
              "    </tr>\n",
              "    <tr>\n",
              "      <th>2005-05-01</th>\n",
              "      <td>3.597509</td>\n",
              "    </tr>\n",
              "  </tbody>\n",
              "</table>\n",
              "</div>"
            ],
            "text/plain": [
              "                 PET\n",
              "2005-01-01  2.988970\n",
              "2005-02-01  3.145340\n",
              "2005-03-01  3.213324\n",
              "2005-04-01  3.474628\n",
              "2005-05-01  3.597509"
            ]
          },
          "metadata": {
            "tags": []
          },
          "execution_count": 5
        }
      ]
    },
    {
      "cell_type": "code",
      "metadata": {
        "id": "XpvfR3rdsxGD",
        "colab": {
          "base_uri": "https://localhost:8080/",
          "height": 204
        },
        "outputId": "a6c60fed-fc2a-42aa-f862-667670c4318a"
      },
      "source": [
        "from hidrokit.contrib.taruma import hk88\n",
        "\n",
        "df_sta = hk88.read_workbook(sta_path, ['STA_B'])\n",
        "df_sta.head()"
      ],
      "execution_count": null,
      "outputs": [
        {
          "output_type": "execute_result",
          "data": {
            "text/html": [
              "<div>\n",
              "<style scoped>\n",
              "    .dataframe tbody tr th:only-of-type {\n",
              "        vertical-align: middle;\n",
              "    }\n",
              "\n",
              "    .dataframe tbody tr th {\n",
              "        vertical-align: top;\n",
              "    }\n",
              "\n",
              "    .dataframe thead th {\n",
              "        text-align: right;\n",
              "    }\n",
              "</style>\n",
              "<table border=\"1\" class=\"dataframe\">\n",
              "  <thead>\n",
              "    <tr style=\"text-align: right;\">\n",
              "      <th></th>\n",
              "      <th>STA_B</th>\n",
              "    </tr>\n",
              "  </thead>\n",
              "  <tbody>\n",
              "    <tr>\n",
              "      <th>2001-01-01</th>\n",
              "      <td>0</td>\n",
              "    </tr>\n",
              "    <tr>\n",
              "      <th>2001-01-02</th>\n",
              "      <td>0</td>\n",
              "    </tr>\n",
              "    <tr>\n",
              "      <th>2001-01-03</th>\n",
              "      <td>45</td>\n",
              "    </tr>\n",
              "    <tr>\n",
              "      <th>2001-01-04</th>\n",
              "      <td>0</td>\n",
              "    </tr>\n",
              "    <tr>\n",
              "      <th>2001-01-05</th>\n",
              "      <td>5</td>\n",
              "    </tr>\n",
              "  </tbody>\n",
              "</table>\n",
              "</div>"
            ],
            "text/plain": [
              "           STA_B\n",
              "2001-01-01     0\n",
              "2001-01-02     0\n",
              "2001-01-03    45\n",
              "2001-01-04     0\n",
              "2001-01-05     5"
            ]
          },
          "metadata": {
            "tags": []
          },
          "execution_count": 6
        }
      ]
    },
    {
      "cell_type": "markdown",
      "metadata": {
        "id": "ZR7CEznXowWW"
      },
      "source": [
        "# KODE"
      ]
    },
    {
      "cell_type": "code",
      "metadata": {
        "id": "L6G3lJXQpWYE"
      },
      "source": [
        "# ref: https://stackoverflow.com/q/29612705/4886384\n",
        "def upsampling(df, freq='D', fill_method='ffill', \n",
        "               use_inter=False, inter_method='linear', inter_keys={}, \n",
        "               reindex=False):\n",
        "    start = df.index.min() - pd.DateOffset(day=1)\n",
        "    end = df.index.max() - pd.DateOffset(day=31)\n",
        "    date = pd.date_range(start, end, freq=freq)\n",
        "\n",
        "    newdf = df.reindex(date)\n",
        "\n",
        "    if reindex:\n",
        "        return newdf\n",
        "\n",
        "    if use_inter:\n",
        "        return newdf.interpolate(method=inter_method, **inter_keys)\n",
        "    else:\n",
        "        return newdf.fillna(method=fill_method)"
      ],
      "execution_count": null,
      "outputs": []
    },
    {
      "cell_type": "markdown",
      "metadata": {
        "id": "FBU4ydgyuY7H"
      },
      "source": [
        "# PENERAPAN\n",
        "\n",
        "Pada _notebook_ ini terdapat dua dataset yaitu `df_sta` (data hujan stasiun B) dan `df_pet` (data evapotranspirasi). Dua dataset ini memiliki perbedaan dari jumlah data dan observasinya, pada `df_sta` data dalam bentuk observasi harian, sedangkan pada `df_pet` data berupa observasi bulanan. \n",
        "\n",
        "Dalam pemodelan F.J. Mock (`hidrokit.contrib.taruma.hk96`) data masukan bisa memiliki sembarang periode (per 3 hari, 15 hari, dll). Untuk data `df_sta` bisa dilakukan rekap data menggunakan modul `contrib.taruma.hk98`, sedangkan data `df_pet` tidak bisa menyesuaikan dengan periode tersebut karena data bukan data harian.\n",
        "\n",
        "Fungsi `upsampling` menangani permasalahan tersebut dengan mengubah data bulanan menjadi harian dengan pengisian berbagai metode (interpolasi, atau isian dari awal bulan). "
      ]
    },
    {
      "cell_type": "markdown",
      "metadata": {
        "id": "CCNqM-YLuap0"
      },
      "source": [
        "## Fungsi `upsampling`\n",
        "\n",
        "Fungsi ini mengubah data bulanan/periode ke data harian dengan menggunakan berbagai metode (isian atau interpolasi). \n",
        "\n",
        "Argumen yang harus diberikan:\n",
        "\n",
        "- `df`: dataset dalam objek `pandas.DataFrame` dengan index berupa objek `DateTimeIndex`/`Timestamp`.\n",
        "\n",
        "Argumen opsional:\n",
        "\n",
        "- `fill_method='ffill'`: mengisi data yang kosong dengan metode _forward fill_. Metode merupakan isian valid untuk argumen `method` pada metode `pandas.DataFrame.fillna()`.\n",
        "- `freq='D'`: mengubah dalam bentuk harian.\n",
        "- `use_inter=None`: isi `True` jika ingin menggunakan `inter_method`.\n",
        "- `inter_method='linear'`: metode interpolasi.\n",
        "- `inter_keys={}`: _keywords_ untuk metode interpolasi.\n",
        "- `reindex=False`: isi `True` jika hanya mendapatkan keluaran tanpa mengisi data yang kosong. "
      ]
    },
    {
      "cell_type": "markdown",
      "metadata": {
        "id": "WcFCVaZSyDmT"
      },
      "source": [
        "### Dataset `df_pet`\n",
        "\n",
        "Berikut informasi `df_pet` sebelum dilakukan _upsampling_."
      ]
    },
    {
      "cell_type": "code",
      "metadata": {
        "id": "KJ_Jx_pbyOnz",
        "colab": {
          "base_uri": "https://localhost:8080/",
          "height": 323
        },
        "outputId": "4c1c337d-3d32-4e6a-c7c7-891cf9138be3"
      },
      "source": [
        "df_pet.info()\n",
        "df_pet.head()"
      ],
      "execution_count": null,
      "outputs": [
        {
          "output_type": "stream",
          "text": [
            "<class 'pandas.core.frame.DataFrame'>\n",
            "DatetimeIndex: 132 entries, 2005-01-01 to 2015-12-01\n",
            "Freq: MS\n",
            "Data columns (total 1 columns):\n",
            "PET    132 non-null float64\n",
            "dtypes: float64(1)\n",
            "memory usage: 2.1 KB\n"
          ],
          "name": "stdout"
        },
        {
          "output_type": "execute_result",
          "data": {
            "text/html": [
              "<div>\n",
              "<style scoped>\n",
              "    .dataframe tbody tr th:only-of-type {\n",
              "        vertical-align: middle;\n",
              "    }\n",
              "\n",
              "    .dataframe tbody tr th {\n",
              "        vertical-align: top;\n",
              "    }\n",
              "\n",
              "    .dataframe thead th {\n",
              "        text-align: right;\n",
              "    }\n",
              "</style>\n",
              "<table border=\"1\" class=\"dataframe\">\n",
              "  <thead>\n",
              "    <tr style=\"text-align: right;\">\n",
              "      <th></th>\n",
              "      <th>PET</th>\n",
              "    </tr>\n",
              "  </thead>\n",
              "  <tbody>\n",
              "    <tr>\n",
              "      <th>2005-01-01</th>\n",
              "      <td>2.988970</td>\n",
              "    </tr>\n",
              "    <tr>\n",
              "      <th>2005-02-01</th>\n",
              "      <td>3.145340</td>\n",
              "    </tr>\n",
              "    <tr>\n",
              "      <th>2005-03-01</th>\n",
              "      <td>3.213324</td>\n",
              "    </tr>\n",
              "    <tr>\n",
              "      <th>2005-04-01</th>\n",
              "      <td>3.474628</td>\n",
              "    </tr>\n",
              "    <tr>\n",
              "      <th>2005-05-01</th>\n",
              "      <td>3.597509</td>\n",
              "    </tr>\n",
              "  </tbody>\n",
              "</table>\n",
              "</div>"
            ],
            "text/plain": [
              "                 PET\n",
              "2005-01-01  2.988970\n",
              "2005-02-01  3.145340\n",
              "2005-03-01  3.213324\n",
              "2005-04-01  3.474628\n",
              "2005-05-01  3.597509"
            ]
          },
          "metadata": {
            "tags": []
          },
          "execution_count": 8
        }
      ]
    },
    {
      "cell_type": "code",
      "metadata": {
        "id": "Nru8FlJzyR1J",
        "colab": {
          "base_uri": "https://localhost:8080/",
          "height": 320
        },
        "outputId": "0fe72809-e5e6-480b-c660-84907cf343f2"
      },
      "source": [
        "df_pet.plot();"
      ],
      "execution_count": null,
      "outputs": [
        {
          "output_type": "display_data",
          "data": {
            "image/png": "[encoded data removed]",
            "text/plain": [
              "<Figure size 1080x360 with 1 Axes>"
            ]
          },
          "metadata": {
            "tags": []
          }
        }
      ]
    },
    {
      "cell_type": "markdown",
      "metadata": {
        "id": "KzRxj_sQydVh"
      },
      "source": [
        "Sebelum dilakukan _upsampling_ data hanya memiliki $132$ data observasi dengan frekuensi bulanan `MS`."
      ]
    },
    {
      "cell_type": "markdown",
      "metadata": {
        "id": "IedqLBTjxZED"
      },
      "source": [
        "### Menggunakan _forward fill_ (_default_)"
      ]
    },
    {
      "cell_type": "code",
      "metadata": {
        "id": "J4ML4tEUwHNT",
        "colab": {
          "base_uri": "https://localhost:8080/",
          "height": 323
        },
        "outputId": "d94ce1d1-9552-43e9-83a5-689154d3a23d"
      },
      "source": [
        "df_pet_ffill = upsampling(df_pet)\n",
        "df_pet_ffill.info()\n",
        "df_pet_ffill.head()"
      ],
      "execution_count": null,
      "outputs": [
        {
          "output_type": "stream",
          "text": [
            "<class 'pandas.core.frame.DataFrame'>\n",
            "DatetimeIndex: 4017 entries, 2005-01-01 to 2015-12-31\n",
            "Freq: D\n",
            "Data columns (total 1 columns):\n",
            "PET    4017 non-null float64\n",
            "dtypes: float64(1)\n",
            "memory usage: 62.8 KB\n"
          ],
          "name": "stdout"
        },
        {
          "output_type": "execute_result",
          "data": {
            "text/html": [
              "<div>\n",
              "<style scoped>\n",
              "    .dataframe tbody tr th:only-of-type {\n",
              "        vertical-align: middle;\n",
              "    }\n",
              "\n",
              "    .dataframe tbody tr th {\n",
              "        vertical-align: top;\n",
              "    }\n",
              "\n",
              "    .dataframe thead th {\n",
              "        text-align: right;\n",
              "    }\n",
              "</style>\n",
              "<table border=\"1\" class=\"dataframe\">\n",
              "  <thead>\n",
              "    <tr style=\"text-align: right;\">\n",
              "      <th></th>\n",
              "      <th>PET</th>\n",
              "    </tr>\n",
              "  </thead>\n",
              "  <tbody>\n",
              "    <tr>\n",
              "      <th>2005-01-01</th>\n",
              "      <td>2.98897</td>\n",
              "    </tr>\n",
              "    <tr>\n",
              "      <th>2005-01-02</th>\n",
              "      <td>2.98897</td>\n",
              "    </tr>\n",
              "    <tr>\n",
              "      <th>2005-01-03</th>\n",
              "      <td>2.98897</td>\n",
              "    </tr>\n",
              "    <tr>\n",
              "      <th>2005-01-04</th>\n",
              "      <td>2.98897</td>\n",
              "    </tr>\n",
              "    <tr>\n",
              "      <th>2005-01-05</th>\n",
              "      <td>2.98897</td>\n",
              "    </tr>\n",
              "  </tbody>\n",
              "</table>\n",
              "</div>"
            ],
            "text/plain": [
              "                PET\n",
              "2005-01-01  2.98897\n",
              "2005-01-02  2.98897\n",
              "2005-01-03  2.98897\n",
              "2005-01-04  2.98897\n",
              "2005-01-05  2.98897"
            ]
          },
          "metadata": {
            "tags": []
          },
          "execution_count": 10
        }
      ]
    },
    {
      "cell_type": "code",
      "metadata": {
        "id": "1x0wASsgxc2h",
        "colab": {
          "base_uri": "https://localhost:8080/",
          "height": 320
        },
        "outputId": "2a677b63-fe43-44d6-a2e8-6f14776dd17f"
      },
      "source": [
        "df_pet_ffill.plot();"
      ],
      "execution_count": null,
      "outputs": [
        {
          "output_type": "display_data",
          "data": {
            "image/png": "[encoded data removed]",
            "text/plain": [
              "<Figure size 1080x360 with 1 Axes>"
            ]
          },
          "metadata": {
            "tags": []
          }
        }
      ]
    },
    {
      "cell_type": "markdown",
      "metadata": {
        "id": "t3M3SYbcy2H4"
      },
      "source": [
        "Dataframe `df_pet` setelah dilakukan _upsampling_ menjadi $4017$ data observasi dengan frekuensi harian `D`. "
      ]
    },
    {
      "cell_type": "markdown",
      "metadata": {
        "id": "EnTdHDCRzFYj"
      },
      "source": [
        "### Menggunakan interpolasi"
      ]
    },
    {
      "cell_type": "code",
      "metadata": {
        "id": "edNAZzRMneEa",
        "colab": {
          "base_uri": "https://localhost:8080/",
          "height": 323
        },
        "outputId": "0d5a14c1-def0-4acf-c25c-c4042c5a8859"
      },
      "source": [
        "df_pet_inter = upsampling(df_pet, use_inter=True, inter_method='linear')\n",
        "df_pet_inter.info()\n",
        "df_pet_inter.head()"
      ],
      "execution_count": null,
      "outputs": [
        {
          "output_type": "stream",
          "text": [
            "<class 'pandas.core.frame.DataFrame'>\n",
            "DatetimeIndex: 4017 entries, 2005-01-01 to 2015-12-31\n",
            "Freq: D\n",
            "Data columns (total 1 columns):\n",
            "PET    4017 non-null float64\n",
            "dtypes: float64(1)\n",
            "memory usage: 62.8 KB\n"
          ],
          "name": "stdout"
        },
        {
          "output_type": "execute_result",
          "data": {
            "text/html": [
              "<div>\n",
              "<style scoped>\n",
              "    .dataframe tbody tr th:only-of-type {\n",
              "        vertical-align: middle;\n",
              "    }\n",
              "\n",
              "    .dataframe tbody tr th {\n",
              "        vertical-align: top;\n",
              "    }\n",
              "\n",
              "    .dataframe thead th {\n",
              "        text-align: right;\n",
              "    }\n",
              "</style>\n",
              "<table border=\"1\" class=\"dataframe\">\n",
              "  <thead>\n",
              "    <tr style=\"text-align: right;\">\n",
              "      <th></th>\n",
              "      <th>PET</th>\n",
              "    </tr>\n",
              "  </thead>\n",
              "  <tbody>\n",
              "    <tr>\n",
              "      <th>2005-01-01</th>\n",
              "      <td>2.988970</td>\n",
              "    </tr>\n",
              "    <tr>\n",
              "      <th>2005-01-02</th>\n",
              "      <td>2.994014</td>\n",
              "    </tr>\n",
              "    <tr>\n",
              "      <th>2005-01-03</th>\n",
              "      <td>2.999058</td>\n",
              "    </tr>\n",
              "    <tr>\n",
              "      <th>2005-01-04</th>\n",
              "      <td>3.004102</td>\n",
              "    </tr>\n",
              "    <tr>\n",
              "      <th>2005-01-05</th>\n",
              "      <td>3.009146</td>\n",
              "    </tr>\n",
              "  </tbody>\n",
              "</table>\n",
              "</div>"
            ],
            "text/plain": [
              "                 PET\n",
              "2005-01-01  2.988970\n",
              "2005-01-02  2.994014\n",
              "2005-01-03  2.999058\n",
              "2005-01-04  3.004102\n",
              "2005-01-05  3.009146"
            ]
          },
          "metadata": {
            "tags": []
          },
          "execution_count": 12
        }
      ]
    },
    {
      "cell_type": "code",
      "metadata": {
        "id": "4g-q5kU7zVdO",
        "colab": {
          "base_uri": "https://localhost:8080/",
          "height": 320
        },
        "outputId": "692d07ee-858a-40c4-823d-d43b6fff7eb3"
      },
      "source": [
        "df_pet_inter.plot();"
      ],
      "execution_count": null,
      "outputs": [
        {
          "output_type": "display_data",
          "data": {
            "image/png": "[encoded data removed]",
            "text/plain": [
              "<Figure size 1080x360 with 1 Axes>"
            ]
          },
          "metadata": {
            "tags": []
          }
        }
      ]
    },
    {
      "cell_type": "markdown",
      "metadata": {
        "id": "RGmH6kzxzkFp"
      },
      "source": [
        "Perbedaan dengan _forward fill_ dapat dilihat dari grafiknya."
      ]
    },
    {
      "cell_type": "code",
      "metadata": {
        "id": "DxEkf-A_zoZB",
        "colab": {
          "base_uri": "https://localhost:8080/",
          "height": 323
        },
        "outputId": "9d7b4fd9-7cce-4e74-d817-5cbd852ffaca"
      },
      "source": [
        "df_pet_quad = upsampling(df_pet, use_inter=True, inter_method='quadratic')\n",
        "df_pet_quad.info()\n",
        "df_pet_quad.head()"
      ],
      "execution_count": null,
      "outputs": [
        {
          "output_type": "stream",
          "text": [
            "<class 'pandas.core.frame.DataFrame'>\n",
            "DatetimeIndex: 4017 entries, 2005-01-01 to 2015-12-31\n",
            "Freq: D\n",
            "Data columns (total 1 columns):\n",
            "PET    3987 non-null float64\n",
            "dtypes: float64(1)\n",
            "memory usage: 62.8 KB\n"
          ],
          "name": "stdout"
        },
        {
          "output_type": "execute_result",
          "data": {
            "text/html": [
              "<div>\n",
              "<style scoped>\n",
              "    .dataframe tbody tr th:only-of-type {\n",
              "        vertical-align: middle;\n",
              "    }\n",
              "\n",
              "    .dataframe tbody tr th {\n",
              "        vertical-align: top;\n",
              "    }\n",
              "\n",
              "    .dataframe thead th {\n",
              "        text-align: right;\n",
              "    }\n",
              "</style>\n",
              "<table border=\"1\" class=\"dataframe\">\n",
              "  <thead>\n",
              "    <tr style=\"text-align: right;\">\n",
              "      <th></th>\n",
              "      <th>PET</th>\n",
              "    </tr>\n",
              "  </thead>\n",
              "  <tbody>\n",
              "    <tr>\n",
              "      <th>2005-01-01</th>\n",
              "      <td>2.988970</td>\n",
              "    </tr>\n",
              "    <tr>\n",
              "      <th>2005-01-02</th>\n",
              "      <td>2.996154</td>\n",
              "    </tr>\n",
              "    <tr>\n",
              "      <th>2005-01-03</th>\n",
              "      <td>3.003196</td>\n",
              "    </tr>\n",
              "    <tr>\n",
              "      <th>2005-01-04</th>\n",
              "      <td>3.010095</td>\n",
              "    </tr>\n",
              "    <tr>\n",
              "      <th>2005-01-05</th>\n",
              "      <td>3.016851</td>\n",
              "    </tr>\n",
              "  </tbody>\n",
              "</table>\n",
              "</div>"
            ],
            "text/plain": [
              "                 PET\n",
              "2005-01-01  2.988970\n",
              "2005-01-02  2.996154\n",
              "2005-01-03  3.003196\n",
              "2005-01-04  3.010095\n",
              "2005-01-05  3.016851"
            ]
          },
          "metadata": {
            "tags": []
          },
          "execution_count": 14
        }
      ]
    },
    {
      "cell_type": "code",
      "metadata": {
        "id": "91R-aRuEz9Wx",
        "colab": {
          "base_uri": "https://localhost:8080/",
          "height": 320
        },
        "outputId": "b45e4615-edef-42d6-e8c3-0489c2d7cf2c"
      },
      "source": [
        "df_pet_quad.plot();"
      ],
      "execution_count": null,
      "outputs": [
        {
          "output_type": "display_data",
          "data": {
            "image/png": "[encoded data removed]",
            "text/plain": [
              "<Figure size 1080x360 with 1 Axes>"
            ]
          },
          "metadata": {
            "tags": []
          }
        }
      ]
    },
    {
      "cell_type": "markdown",
      "metadata": {
        "id": "JNFZoGFkz9NB"
      },
      "source": [
        "Jika menggunakan metode `quadratic`, grafik menjadi lebih halus."
      ]
    },
    {
      "cell_type": "markdown",
      "metadata": {
        "id": "RJcTuPM60HxJ"
      },
      "source": [
        "### Melakukan _reindex_ saja\n",
        "\n",
        "Argumen ini disediakan agar memberi kebebasan jika tidak ingin menggunakan metode interpolasi/isian."
      ]
    },
    {
      "cell_type": "code",
      "metadata": {
        "id": "z0umWFuZn8Ei",
        "colab": {
          "base_uri": "https://localhost:8080/",
          "height": 323
        },
        "outputId": "62da127b-a50c-4057-ee6d-35a58bef4164"
      },
      "source": [
        "df_pet_re = upsampling(df_pet, reindex=True)\n",
        "df_pet_re.info()\n",
        "df_pet_re.head()"
      ],
      "execution_count": null,
      "outputs": [
        {
          "output_type": "stream",
          "text": [
            "<class 'pandas.core.frame.DataFrame'>\n",
            "DatetimeIndex: 4017 entries, 2005-01-01 to 2015-12-31\n",
            "Freq: D\n",
            "Data columns (total 1 columns):\n",
            "PET    132 non-null float64\n",
            "dtypes: float64(1)\n",
            "memory usage: 62.8 KB\n"
          ],
          "name": "stdout"
        },
        {
          "output_type": "execute_result",
          "data": {
            "text/html": [
              "<div>\n",
              "<style scoped>\n",
              "    .dataframe tbody tr th:only-of-type {\n",
              "        vertical-align: middle;\n",
              "    }\n",
              "\n",
              "    .dataframe tbody tr th {\n",
              "        vertical-align: top;\n",
              "    }\n",
              "\n",
              "    .dataframe thead th {\n",
              "        text-align: right;\n",
              "    }\n",
              "</style>\n",
              "<table border=\"1\" class=\"dataframe\">\n",
              "  <thead>\n",
              "    <tr style=\"text-align: right;\">\n",
              "      <th></th>\n",
              "      <th>PET</th>\n",
              "    </tr>\n",
              "  </thead>\n",
              "  <tbody>\n",
              "    <tr>\n",
              "      <th>2005-01-01</th>\n",
              "      <td>2.98897</td>\n",
              "    </tr>\n",
              "    <tr>\n",
              "      <th>2005-01-02</th>\n",
              "      <td>NaN</td>\n",
              "    </tr>\n",
              "    <tr>\n",
              "      <th>2005-01-03</th>\n",
              "      <td>NaN</td>\n",
              "    </tr>\n",
              "    <tr>\n",
              "      <th>2005-01-04</th>\n",
              "      <td>NaN</td>\n",
              "    </tr>\n",
              "    <tr>\n",
              "      <th>2005-01-05</th>\n",
              "      <td>NaN</td>\n",
              "    </tr>\n",
              "  </tbody>\n",
              "</table>\n",
              "</div>"
            ],
            "text/plain": [
              "                PET\n",
              "2005-01-01  2.98897\n",
              "2005-01-02      NaN\n",
              "2005-01-03      NaN\n",
              "2005-01-04      NaN\n",
              "2005-01-05      NaN"
            ]
          },
          "metadata": {
            "tags": []
          },
          "execution_count": 16
        }
      ]
    },
    {
      "cell_type": "markdown",
      "metadata": {
        "id": "KNQaT2jU0lLE"
      },
      "source": [
        "## Menggabungkan dengan modul `taruma.hk98` (rekap data harian)\n",
        "\n",
        "Modul ini bisa digabungkan dengan modul `taruma.hk98` yang digunakan untuk merekap data harian.\n",
        "\n",
        "Karena `df_pet` sudah diubah menjadi data harian (`df_pet_ffill`), maka bisa digabungkan dengan `df_sta`. Dataframe `dataset` dimulai dari tahun 2005 karena `df_pet` hanya dimulai dari tahun 2005.\n"
      ]
    },
    {
      "cell_type": "code",
      "metadata": {
        "id": "Y9GPGfaR0tvB",
        "colab": {
          "base_uri": "https://localhost:8080/",
          "height": 419
        },
        "outputId": "93cab4f9-876d-4e00-95d2-69dc33d3c877"
      },
      "source": [
        "dataset = pd.concat([df_sta, df_pet_ffill], axis=1).loc['20050101':]\n",
        "dataset"
      ],
      "execution_count": null,
      "outputs": [
        {
          "output_type": "execute_result",
          "data": {
            "text/html": [
              "<div>\n",
              "<style scoped>\n",
              "    .dataframe tbody tr th:only-of-type {\n",
              "        vertical-align: middle;\n",
              "    }\n",
              "\n",
              "    .dataframe tbody tr th {\n",
              "        vertical-align: top;\n",
              "    }\n",
              "\n",
              "    .dataframe thead th {\n",
              "        text-align: right;\n",
              "    }\n",
              "</style>\n",
              "<table border=\"1\" class=\"dataframe\">\n",
              "  <thead>\n",
              "    <tr style=\"text-align: right;\">\n",
              "      <th></th>\n",
              "      <th>STA_B</th>\n",
              "      <th>PET</th>\n",
              "    </tr>\n",
              "  </thead>\n",
              "  <tbody>\n",
              "    <tr>\n",
              "      <th>2005-01-01</th>\n",
              "      <td>14</td>\n",
              "      <td>2.988970</td>\n",
              "    </tr>\n",
              "    <tr>\n",
              "      <th>2005-01-02</th>\n",
              "      <td>0</td>\n",
              "      <td>2.988970</td>\n",
              "    </tr>\n",
              "    <tr>\n",
              "      <th>2005-01-03</th>\n",
              "      <td>7</td>\n",
              "      <td>2.988970</td>\n",
              "    </tr>\n",
              "    <tr>\n",
              "      <th>2005-01-04</th>\n",
              "      <td>37</td>\n",
              "      <td>2.988970</td>\n",
              "    </tr>\n",
              "    <tr>\n",
              "      <th>2005-01-05</th>\n",
              "      <td>0</td>\n",
              "      <td>2.988970</td>\n",
              "    </tr>\n",
              "    <tr>\n",
              "      <th>...</th>\n",
              "      <td>...</td>\n",
              "      <td>...</td>\n",
              "    </tr>\n",
              "    <tr>\n",
              "      <th>2015-12-27</th>\n",
              "      <td>6</td>\n",
              "      <td>3.133179</td>\n",
              "    </tr>\n",
              "    <tr>\n",
              "      <th>2015-12-28</th>\n",
              "      <td>32</td>\n",
              "      <td>3.133179</td>\n",
              "    </tr>\n",
              "    <tr>\n",
              "      <th>2015-12-29</th>\n",
              "      <td>0</td>\n",
              "      <td>3.133179</td>\n",
              "    </tr>\n",
              "    <tr>\n",
              "      <th>2015-12-30</th>\n",
              "      <td>0</td>\n",
              "      <td>3.133179</td>\n",
              "    </tr>\n",
              "    <tr>\n",
              "      <th>2015-12-31</th>\n",
              "      <td>0</td>\n",
              "      <td>3.133179</td>\n",
              "    </tr>\n",
              "  </tbody>\n",
              "</table>\n",
              "<p>4017 rows × 2 columns</p>\n",
              "</div>"
            ],
            "text/plain": [
              "           STA_B       PET\n",
              "2005-01-01    14  2.988970\n",
              "2005-01-02     0  2.988970\n",
              "2005-01-03     7  2.988970\n",
              "2005-01-04    37  2.988970\n",
              "2005-01-05     0  2.988970\n",
              "...          ...       ...\n",
              "2015-12-27     6  3.133179\n",
              "2015-12-28    32  3.133179\n",
              "2015-12-29     0  3.133179\n",
              "2015-12-30     0  3.133179\n",
              "2015-12-31     0  3.133179\n",
              "\n",
              "[4017 rows x 2 columns]"
            ]
          },
          "metadata": {
            "tags": []
          },
          "execution_count": 17
        }
      ]
    },
    {
      "cell_type": "markdown",
      "metadata": {
        "id": "yo4TG8Sz17YU"
      },
      "source": [
        "Setelah mempersiapkan `dataset`, dapat dilakukan rekap menggunakan modul `taruma.hk98`. Pada data curah hujan, akan dilakukan penjumlahan curah hujan, jumlah hari hujan, jumlah hari periode. Sedangkan pada data PET, hanya merekap dengan merata-ratakan nilainya setiap periode. Periode yang akan digunakan adalah per 11 hari (3 periode)."
      ]
    },
    {
      "cell_type": "code",
      "metadata": {
        "id": "GNmleXTr1WOE",
        "colab": {
          "base_uri": "https://localhost:8080/",
          "height": 359
        },
        "outputId": "b443d1c6-9896-42ed-a2d1-478a6707a971"
      },
      "source": [
        "from hidrokit.contrib.taruma import hk98\n",
        "\n",
        "NDAYS = '11D'\n",
        "n_rain = lambda x: (x>0).sum()\n",
        "ufunc, ufunc_col = [np.sum, n_rain, len], ['SUM', 'NRAIN', 'NDAYS']\n",
        "\n",
        "dataset_pet = hk98.summary_station(dataset, 'PET', np.mean, 'PET', \n",
        "                                   n_days=NDAYS)\n",
        "dataset_prep = hk98.summary_station(dataset, 'STA_B', ufunc, ufunc_col, \n",
        "                                    n_days=NDAYS)\n",
        "\n",
        "data_input = pd.concat([dataset_prep, dataset_pet], axis=1)\n",
        "data_input.columns = data_input.columns.droplevel(0)\n",
        "data_input.head(10)"
      ],
      "execution_count": null,
      "outputs": [
        {
          "output_type": "execute_result",
          "data": {
            "text/html": [
              "<div>\n",
              "<style scoped>\n",
              "    .dataframe tbody tr th:only-of-type {\n",
              "        vertical-align: middle;\n",
              "    }\n",
              "\n",
              "    .dataframe tbody tr th {\n",
              "        vertical-align: top;\n",
              "    }\n",
              "\n",
              "    .dataframe thead th {\n",
              "        text-align: right;\n",
              "    }\n",
              "</style>\n",
              "<table border=\"1\" class=\"dataframe\">\n",
              "  <thead>\n",
              "    <tr style=\"text-align: right;\">\n",
              "      <th></th>\n",
              "      <th>SUM</th>\n",
              "      <th>NRAIN</th>\n",
              "      <th>NDAYS</th>\n",
              "      <th>PET</th>\n",
              "    </tr>\n",
              "  </thead>\n",
              "  <tbody>\n",
              "    <tr>\n",
              "      <th>2005-01-01</th>\n",
              "      <td>102.0</td>\n",
              "      <td>6.0</td>\n",
              "      <td>11.0</td>\n",
              "      <td>2.988970</td>\n",
              "    </tr>\n",
              "    <tr>\n",
              "      <th>2005-01-12</th>\n",
              "      <td>0.0</td>\n",
              "      <td>0.0</td>\n",
              "      <td>11.0</td>\n",
              "      <td>2.988970</td>\n",
              "    </tr>\n",
              "    <tr>\n",
              "      <th>2005-01-23</th>\n",
              "      <td>0.0</td>\n",
              "      <td>0.0</td>\n",
              "      <td>9.0</td>\n",
              "      <td>2.988970</td>\n",
              "    </tr>\n",
              "    <tr>\n",
              "      <th>2005-02-01</th>\n",
              "      <td>0.0</td>\n",
              "      <td>0.0</td>\n",
              "      <td>11.0</td>\n",
              "      <td>3.145340</td>\n",
              "    </tr>\n",
              "    <tr>\n",
              "      <th>2005-02-12</th>\n",
              "      <td>0.0</td>\n",
              "      <td>0.0</td>\n",
              "      <td>11.0</td>\n",
              "      <td>3.145340</td>\n",
              "    </tr>\n",
              "    <tr>\n",
              "      <th>2005-02-23</th>\n",
              "      <td>0.0</td>\n",
              "      <td>0.0</td>\n",
              "      <td>6.0</td>\n",
              "      <td>3.145340</td>\n",
              "    </tr>\n",
              "    <tr>\n",
              "      <th>2005-03-01</th>\n",
              "      <td>0.0</td>\n",
              "      <td>0.0</td>\n",
              "      <td>11.0</td>\n",
              "      <td>3.213324</td>\n",
              "    </tr>\n",
              "    <tr>\n",
              "      <th>2005-03-12</th>\n",
              "      <td>0.0</td>\n",
              "      <td>0.0</td>\n",
              "      <td>11.0</td>\n",
              "      <td>3.213324</td>\n",
              "    </tr>\n",
              "    <tr>\n",
              "      <th>2005-03-23</th>\n",
              "      <td>0.0</td>\n",
              "      <td>0.0</td>\n",
              "      <td>9.0</td>\n",
              "      <td>3.213324</td>\n",
              "    </tr>\n",
              "    <tr>\n",
              "      <th>2005-04-01</th>\n",
              "      <td>0.0</td>\n",
              "      <td>0.0</td>\n",
              "      <td>11.0</td>\n",
              "      <td>3.474628</td>\n",
              "    </tr>\n",
              "  </tbody>\n",
              "</table>\n",
              "</div>"
            ],
            "text/plain": [
              "              SUM  NRAIN  NDAYS       PET\n",
              "2005-01-01  102.0    6.0   11.0  2.988970\n",
              "2005-01-12    0.0    0.0   11.0  2.988970\n",
              "2005-01-23    0.0    0.0    9.0  2.988970\n",
              "2005-02-01    0.0    0.0   11.0  3.145340\n",
              "2005-02-12    0.0    0.0   11.0  3.145340\n",
              "2005-02-23    0.0    0.0    6.0  3.145340\n",
              "2005-03-01    0.0    0.0   11.0  3.213324\n",
              "2005-03-12    0.0    0.0   11.0  3.213324\n",
              "2005-03-23    0.0    0.0    9.0  3.213324\n",
              "2005-04-01    0.0    0.0   11.0  3.474628"
            ]
          },
          "metadata": {
            "tags": []
          },
          "execution_count": 18
        }
      ]
    },
    {
      "cell_type": "code",
      "metadata": {
        "id": "z_UHNrpF1358",
        "colab": {
          "base_uri": "https://localhost:8080/",
          "height": 359
        },
        "outputId": "1244f47f-9dbd-4855-be56-42bf5f99b1d1"
      },
      "source": [
        "data_input.sample(10)"
      ],
      "execution_count": null,
      "outputs": [
        {
          "output_type": "execute_result",
          "data": {
            "text/html": [
              "<div>\n",
              "<style scoped>\n",
              "    .dataframe tbody tr th:only-of-type {\n",
              "        vertical-align: middle;\n",
              "    }\n",
              "\n",
              "    .dataframe tbody tr th {\n",
              "        vertical-align: top;\n",
              "    }\n",
              "\n",
              "    .dataframe thead th {\n",
              "        text-align: right;\n",
              "    }\n",
              "</style>\n",
              "<table border=\"1\" class=\"dataframe\">\n",
              "  <thead>\n",
              "    <tr style=\"text-align: right;\">\n",
              "      <th></th>\n",
              "      <th>SUM</th>\n",
              "      <th>NRAIN</th>\n",
              "      <th>NDAYS</th>\n",
              "      <th>PET</th>\n",
              "    </tr>\n",
              "  </thead>\n",
              "  <tbody>\n",
              "    <tr>\n",
              "      <th>2014-07-12</th>\n",
              "      <td>32.0</td>\n",
              "      <td>4.0</td>\n",
              "      <td>11.0</td>\n",
              "      <td>3.601199</td>\n",
              "    </tr>\n",
              "    <tr>\n",
              "      <th>2007-12-12</th>\n",
              "      <td>190.0</td>\n",
              "      <td>7.0</td>\n",
              "      <td>11.0</td>\n",
              "      <td>2.987743</td>\n",
              "    </tr>\n",
              "    <tr>\n",
              "      <th>2010-06-12</th>\n",
              "      <td>72.0</td>\n",
              "      <td>2.0</td>\n",
              "      <td>11.0</td>\n",
              "      <td>3.243436</td>\n",
              "    </tr>\n",
              "    <tr>\n",
              "      <th>2007-12-01</th>\n",
              "      <td>86.0</td>\n",
              "      <td>5.0</td>\n",
              "      <td>11.0</td>\n",
              "      <td>2.987743</td>\n",
              "    </tr>\n",
              "    <tr>\n",
              "      <th>2013-03-01</th>\n",
              "      <td>113.0</td>\n",
              "      <td>4.0</td>\n",
              "      <td>11.0</td>\n",
              "      <td>3.463320</td>\n",
              "    </tr>\n",
              "    <tr>\n",
              "      <th>2007-07-01</th>\n",
              "      <td>0.0</td>\n",
              "      <td>0.0</td>\n",
              "      <td>11.0</td>\n",
              "      <td>3.970709</td>\n",
              "    </tr>\n",
              "    <tr>\n",
              "      <th>2007-03-12</th>\n",
              "      <td>245.0</td>\n",
              "      <td>4.0</td>\n",
              "      <td>11.0</td>\n",
              "      <td>3.386749</td>\n",
              "    </tr>\n",
              "    <tr>\n",
              "      <th>2013-11-23</th>\n",
              "      <td>69.0</td>\n",
              "      <td>2.0</td>\n",
              "      <td>8.0</td>\n",
              "      <td>2.908408</td>\n",
              "    </tr>\n",
              "    <tr>\n",
              "      <th>2010-07-23</th>\n",
              "      <td>0.0</td>\n",
              "      <td>0.0</td>\n",
              "      <td>9.0</td>\n",
              "      <td>3.240201</td>\n",
              "    </tr>\n",
              "    <tr>\n",
              "      <th>2007-10-01</th>\n",
              "      <td>0.0</td>\n",
              "      <td>0.0</td>\n",
              "      <td>11.0</td>\n",
              "      <td>4.060168</td>\n",
              "    </tr>\n",
              "  </tbody>\n",
              "</table>\n",
              "</div>"
            ],
            "text/plain": [
              "              SUM  NRAIN  NDAYS       PET\n",
              "2014-07-12   32.0    4.0   11.0  3.601199\n",
              "2007-12-12  190.0    7.0   11.0  2.987743\n",
              "2010-06-12   72.0    2.0   11.0  3.243436\n",
              "2007-12-01   86.0    5.0   11.0  2.987743\n",
              "2013-03-01  113.0    4.0   11.0  3.463320\n",
              "2007-07-01    0.0    0.0   11.0  3.970709\n",
              "2007-03-12  245.0    4.0   11.0  3.386749\n",
              "2013-11-23   69.0    2.0    8.0  2.908408\n",
              "2010-07-23    0.0    0.0    9.0  3.240201\n",
              "2007-10-01    0.0    0.0   11.0  4.060168"
            ]
          },
          "metadata": {
            "tags": []
          },
          "execution_count": 19
        }
      ]
    },
    {
      "cell_type": "markdown",
      "metadata": {
        "id": "DuXy3-Wu5Moc"
      },
      "source": [
        "# Changelog\n",
        "\n",
        "```\n",
        "- 20191219 - 1.1.0 - Initial\n",
        "```\n",
        "\n",
        "#### Copyright &copy; 2019 [Taruma Sakti Megariansyah](https://taruma.github.io)\n",
        "\n",
        "Source code in this notebook is licensed under a [MIT License](https://choosealicense.com/licenses/mit/). Data in this notebook is licensed under a [Creative Common Attribution 4.0 International](https://creativecommons.org/licenses/by/4.0/). \n"
      ]
    }
  ]
}
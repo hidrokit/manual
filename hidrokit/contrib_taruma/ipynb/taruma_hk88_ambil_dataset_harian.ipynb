{
 "cells": [
  {
   "cell_type": "markdown",
   "metadata": {
    "colab_type": "text",
    "id": "view-in-github"
   },
   "source": [
    "<a href=\"https://colab.research.google.com/gist/taruma/6d48b3ec9d601019c15fb5833ae03730/taruma_hk88_ambil_dataset_harian.ipynb\" target=\"_parent\"><img src=\"https://colab.research.google.com/assets/colab-badge.svg\" alt=\"Open In Colab\"/></a>"
   ]
  },
  {
   "cell_type": "markdown",
   "metadata": {
    "colab_type": "text",
    "id": "cyMEUVNIy-7D"
   },
   "source": [
    "Berdasarkan isu [#88](https://github.com/taruma/hidrokit/issues/88): **request: ambil dataset hujan harian**\n",
    "\n",
    "Referensi isu:\n",
    "\n",
    "- `hidrokit.contrib.taruma.hk79` [#79](https://github.com/taruma/hidrokit/issues/79). \\([lihat notebook/manual](https://nbviewer.jupyter.org/gist/taruma/05dab67fac8313a94134ac02d0398897)\\). **request: ambil dataset hujan jam-jaman dari excel**\n",
    "\n",
    "Deskripsi permasalahan:\n",
    "\n",
    "- Serupa dengan isu #79, akan tetapi dataset merupakan data harian.\n",
    "- Mengambil dataset harian dalam excel yang berupa _pivot table_.\n",
    "- Mengubah tabel tersebut ke dalam bentuk `pandas.DataFrame`, dengan baris menunjukkan observasi/kejadian dan kolom menunjukkan stasiun."
   ]
  },
  {
   "cell_type": "markdown",
   "metadata": {
    "colab_type": "text",
    "id": "zLMG_FiCz6A2"
   },
   "source": [
    "# PERSIAPAN DAN DATASET"
   ]
  },
  {
   "cell_type": "code",
   "execution_count": 1,
   "metadata": {
    "colab": {
     "base_uri": "https://localhost:8080/",
     "height": 34
    },
    "colab_type": "code",
    "id": "LFrXyfEdykhh",
    "outputId": "830fdc0f-e7d1-4d3b-f0d1-7aac119b989e"
   },
   "outputs": [
    {
     "name": "stdout",
     "output_type": "stream",
     "text": [
      "hidrokit version: 0.3.4\n"
     ]
    }
   ],
   "source": [
    "try:\n",
    "    import hidrokit\n",
    "except ModuleNotFoundError:\n",
    "    !pip install hidrokit -q\n",
    "    import hidrokit\n",
    "print(f'hidrokit version: {hidrokit.__version__}')"
   ]
  },
  {
   "cell_type": "code",
   "execution_count": 0,
   "metadata": {
    "colab": {},
    "colab_type": "code",
    "id": "LYTYboYS0Ph9"
   },
   "outputs": [],
   "source": [
    "# Unduh dataset\n",
    "!wget -O sample.xlsx \"https://taruma.github.io/assets/hidrokit_dataset/hidrokit_daily_template.xlsx\" -q\n",
    "FILE = 'sample.xlsx'"
   ]
  },
  {
   "cell_type": "code",
   "execution_count": 0,
   "metadata": {
    "colab": {},
    "colab_type": "code",
    "id": "MZ_I3qFS0bbV"
   },
   "outputs": [],
   "source": [
    "import pandas as pd\n",
    "import numpy as np\n",
    "import matplotlib.pyplot as plt"
   ]
  },
  {
   "cell_type": "markdown",
   "metadata": {
    "colab_type": "text",
    "id": "6OxKS0piMAfN"
   },
   "source": [
    "# KODE"
   ]
  },
  {
   "cell_type": "code",
   "execution_count": 0,
   "metadata": {
    "colab": {},
    "colab_type": "code",
    "id": "ENMFCy1c2rnf"
   },
   "outputs": [],
   "source": [
    "from calendar import isleap\n",
    "import pandas as pd\n",
    "\n",
    "\n",
    "def _melt_to_array(df, year):\n",
    "    \"\"\"Melt dataframe to 1D array one year\"\"\"\n",
    "    # ref: hidrokit.contrib.taruma.hk43\n",
    "    _drop = [59, 60, 61, 123, 185, 278, 340]\n",
    "    _drop_leap = [60, 61, 123, 185, 278, 340]\n",
    "\n",
    "    data = df.melt().drop('variable', axis=1)\n",
    "    if isleap(year):\n",
    "        return data['value'].drop(_drop_leap).values\n",
    "    else:\n",
    "        return data['value'].drop(_drop).values\n",
    "\n",
    "\n",
    "def _index_daily(year):\n",
    "    \"\"\"Return DateTimeIndex object for one year\"\"\"\n",
    "    year_range = '{}0101 {}0101'.format(year, year + 1).split()\n",
    "    return pd.date_range(*year_range, closed='left')\n",
    "\n",
    "\n",
    "def _yearly_df(df, year, station_name):\n",
    "    \"\"\"Create dataframe for one year\"\"\"\n",
    "    return pd.DataFrame(\n",
    "        data=_melt_to_array(df, year),\n",
    "        index=_index_daily(year),\n",
    "        columns=[station_name]\n",
    "    )\n",
    "\n",
    "\n",
    "def _data_from_sheet(df, station_name, as_df=True):\n",
    "    \"\"\"Read dataset from single sheet as dataframe (or list of dataframe)\"\"\"\n",
    "    n_years = int(df.iloc[0, 1])\n",
    "\n",
    "    frames = []\n",
    "    for i in range(2, n_years * 33, 33):\n",
    "        year = int(df.iloc[i, 1])\n",
    "        pivot = df.iloc[i:i + 31, 4:16]\n",
    "        data = _yearly_df(pivot, year, station_name)\n",
    "        frames.append(data)\n",
    "\n",
    "    if as_df:\n",
    "        return pd.concat(frames, sort=True)\n",
    "    else:\n",
    "        return frames\n",
    "\n",
    "\n",
    "def read_workbook(io, stations, as_df=True):\n",
    "    \"\"\"Read dataset from single file based on stations\"\"\"\n",
    "    excel = pd.ExcelFile(io)\n",
    "\n",
    "    data = []\n",
    "    for station in stations:\n",
    "        df = pd.read_excel(excel, sheet_name=station, header=None)\n",
    "        data.append(_data_from_sheet(df, station))\n",
    "\n",
    "    if as_df:\n",
    "        return pd.concat(data, sort=True, axis=1)\n",
    "    else:\n",
    "        return data\n"
   ]
  },
  {
   "cell_type": "markdown",
   "metadata": {
    "colab_type": "text",
    "id": "WCvI1utFV8UN"
   },
   "source": [
    "# PENERAPAN"
   ]
  },
  {
   "cell_type": "code",
   "execution_count": 5,
   "metadata": {
    "colab": {
     "base_uri": "https://localhost:8080/",
     "height": 51
    },
    "colab_type": "code",
    "id": "0L_L1QJb0fVz",
    "outputId": "db399735-787f-4c06-a01d-8e3dc9a037e1"
   },
   "outputs": [
    {
     "name": "stdout",
     "output_type": "stream",
     "text": [
      ":: INFORMASI PADA BERKAS\n",
      "{'key': 'VALUE', 'n_stations': 2, 'stations': 'AURENE, TYBALT', 'source': 'RATA SUM', 'station_1_years': '2002, 2003, 2004', 'station_2_years': '2007, 2008'}\n"
     ]
    }
   ],
   "source": [
    "from hidrokit.contrib.taruma import hk79\n",
    "\n",
    "# Ambil informasi excel menggunakan modul .hk79\n",
    "data_info = hk79._get_info(FILE, config_sheet='_INFO')\n",
    "print(':: INFORMASI PADA BERKAS')\n",
    "print(data_info)"
   ]
  },
  {
   "cell_type": "code",
   "execution_count": 6,
   "metadata": {
    "colab": {
     "base_uri": "https://localhost:8080/",
     "height": 34
    },
    "colab_type": "code",
    "id": "Pt2GkALg1fIp",
    "outputId": "71408407-1e55-4cd4-c297-6082205f3141"
   },
   "outputs": [
    {
     "name": "stdout",
     "output_type": "stream",
     "text": [
      "nama stasiun dalam berkas: ['AURENE', 'TYBALT']\n"
     ]
    }
   ],
   "source": [
    "stations = data_info['stations'].replace(' ', '').split(',')\n",
    "print('nama stasiun dalam berkas:', stations)"
   ]
  },
  {
   "cell_type": "markdown",
   "metadata": {
    "colab_type": "text",
    "id": "cKPgxWR92BAC"
   },
   "source": [
    "## Baca satu stasiun"
   ]
  },
  {
   "cell_type": "code",
   "execution_count": 7,
   "metadata": {
    "colab": {
     "base_uri": "https://localhost:8080/",
     "height": 323
    },
    "colab_type": "code",
    "id": "sOSA67xI2PGt",
    "outputId": "1d74a15f-dd32-42c8-d25f-23ffd0c542b6"
   },
   "outputs": [
    {
     "name": "stdout",
     "output_type": "stream",
     "text": [
      "<class 'pandas.core.frame.DataFrame'>\n",
      "DatetimeIndex: 1096 entries, 2002-01-01 to 2004-12-31\n",
      "Freq: D\n",
      "Data columns (total 1 columns):\n",
      "AURENE    1096 non-null object\n",
      "dtypes: object(1)\n",
      "memory usage: 17.1+ KB\n"
     ]
    },
    {
     "data": {
      "text/html": [
       "<div>\n",
       "<style scoped>\n",
       "    .dataframe tbody tr th:only-of-type {\n",
       "        vertical-align: middle;\n",
       "    }\n",
       "\n",
       "    .dataframe tbody tr th {\n",
       "        vertical-align: top;\n",
       "    }\n",
       "\n",
       "    .dataframe thead th {\n",
       "        text-align: right;\n",
       "    }\n",
       "</style>\n",
       "<table border=\"1\" class=\"dataframe\">\n",
       "  <thead>\n",
       "    <tr style=\"text-align: right;\">\n",
       "      <th></th>\n",
       "      <th>AURENE</th>\n",
       "    </tr>\n",
       "  </thead>\n",
       "  <tbody>\n",
       "    <tr>\n",
       "      <th>2002-01-01</th>\n",
       "      <td>17.08</td>\n",
       "    </tr>\n",
       "    <tr>\n",
       "      <th>2002-01-02</th>\n",
       "      <td>16.28</td>\n",
       "    </tr>\n",
       "    <tr>\n",
       "      <th>2002-01-03</th>\n",
       "      <td>20.32</td>\n",
       "    </tr>\n",
       "    <tr>\n",
       "      <th>2002-01-04</th>\n",
       "      <td>18.34</td>\n",
       "    </tr>\n",
       "    <tr>\n",
       "      <th>2002-01-05</th>\n",
       "      <td>13.16</td>\n",
       "    </tr>\n",
       "  </tbody>\n",
       "</table>\n",
       "</div>"
      ],
      "text/plain": [
       "           AURENE\n",
       "2002-01-01  17.08\n",
       "2002-01-02  16.28\n",
       "2002-01-03  20.32\n",
       "2002-01-04  18.34\n",
       "2002-01-05  13.16"
      ]
     },
     "execution_count": 7,
     "metadata": {
      "tags": []
     },
     "output_type": "execute_result"
    }
   ],
   "source": [
    "aurene = read_workbook(FILE, ['AURENE'])\n",
    "aurene.info()\n",
    "aurene.head()"
   ]
  },
  {
   "cell_type": "markdown",
   "metadata": {
    "colab_type": "text",
    "id": "biE_Koc56xHi"
   },
   "source": [
    "## Baca lebih dari satu stasiun"
   ]
  },
  {
   "cell_type": "code",
   "execution_count": 8,
   "metadata": {
    "colab": {
     "base_uri": "https://localhost:8080/",
     "height": 419
    },
    "colab_type": "code",
    "id": "PlUaXdWH2c11",
    "outputId": "049d46e4-c6a4-4c49-d8f6-0c7311f41991"
   },
   "outputs": [
    {
     "data": {
      "text/html": [
       "<div>\n",
       "<style scoped>\n",
       "    .dataframe tbody tr th:only-of-type {\n",
       "        vertical-align: middle;\n",
       "    }\n",
       "\n",
       "    .dataframe tbody tr th {\n",
       "        vertical-align: top;\n",
       "    }\n",
       "\n",
       "    .dataframe thead th {\n",
       "        text-align: right;\n",
       "    }\n",
       "</style>\n",
       "<table border=\"1\" class=\"dataframe\">\n",
       "  <thead>\n",
       "    <tr style=\"text-align: right;\">\n",
       "      <th></th>\n",
       "      <th>TYBALT</th>\n",
       "      <th>AURENE</th>\n",
       "    </tr>\n",
       "  </thead>\n",
       "  <tbody>\n",
       "    <tr>\n",
       "      <th>2002-01-01</th>\n",
       "      <td>NaN</td>\n",
       "      <td>17.08</td>\n",
       "    </tr>\n",
       "    <tr>\n",
       "      <th>2002-01-02</th>\n",
       "      <td>NaN</td>\n",
       "      <td>16.28</td>\n",
       "    </tr>\n",
       "    <tr>\n",
       "      <th>2002-01-03</th>\n",
       "      <td>NaN</td>\n",
       "      <td>20.32</td>\n",
       "    </tr>\n",
       "    <tr>\n",
       "      <th>2002-01-04</th>\n",
       "      <td>NaN</td>\n",
       "      <td>18.34</td>\n",
       "    </tr>\n",
       "    <tr>\n",
       "      <th>2002-01-05</th>\n",
       "      <td>NaN</td>\n",
       "      <td>13.16</td>\n",
       "    </tr>\n",
       "    <tr>\n",
       "      <th>...</th>\n",
       "      <td>...</td>\n",
       "      <td>...</td>\n",
       "    </tr>\n",
       "    <tr>\n",
       "      <th>2008-12-27</th>\n",
       "      <td>134.83</td>\n",
       "      <td>NaN</td>\n",
       "    </tr>\n",
       "    <tr>\n",
       "      <th>2008-12-28</th>\n",
       "      <td>81.88</td>\n",
       "      <td>NaN</td>\n",
       "    </tr>\n",
       "    <tr>\n",
       "      <th>2008-12-29</th>\n",
       "      <td>20.14</td>\n",
       "      <td>NaN</td>\n",
       "    </tr>\n",
       "    <tr>\n",
       "      <th>2008-12-30</th>\n",
       "      <td>208.54</td>\n",
       "      <td>NaN</td>\n",
       "    </tr>\n",
       "    <tr>\n",
       "      <th>2008-12-31</th>\n",
       "      <td>208.14</td>\n",
       "      <td>NaN</td>\n",
       "    </tr>\n",
       "  </tbody>\n",
       "</table>\n",
       "<p>1827 rows × 2 columns</p>\n",
       "</div>"
      ],
      "text/plain": [
       "            TYBALT AURENE\n",
       "2002-01-01     NaN  17.08\n",
       "2002-01-02     NaN  16.28\n",
       "2002-01-03     NaN  20.32\n",
       "2002-01-04     NaN  18.34\n",
       "2002-01-05     NaN  13.16\n",
       "...            ...    ...\n",
       "2008-12-27  134.83    NaN\n",
       "2008-12-28   81.88    NaN\n",
       "2008-12-29   20.14    NaN\n",
       "2008-12-30  208.54    NaN\n",
       "2008-12-31  208.14    NaN\n",
       "\n",
       "[1827 rows x 2 columns]"
      ]
     },
     "execution_count": 8,
     "metadata": {
      "tags": []
     },
     "output_type": "execute_result"
    }
   ],
   "source": [
    "dataset = read_workbook(FILE, ['TYBALT', 'AURENE'])\n",
    "dataset.sort_index()"
   ]
  },
  {
   "cell_type": "markdown",
   "metadata": {
    "colab_type": "text",
    "id": "z0Dp41jW5CHa"
   },
   "source": [
    "# Changelog\n",
    "\n",
    "```\n",
    "- 20191213 - 1.0.0 - Initial\n",
    "- 20191217 - 1.0.1 - Fix read_workbook() issue#95\n",
    "```\n",
    "\n",
    "#### Copyright &copy; 2019 [Taruma Sakti Megariansyah](https://taruma.github.io)\n",
    "\n",
    "Source code in this notebook is licensed under a [MIT License](https://choosealicense.com/licenses/mit/). Data in this notebook is licensed under a [Creative Common Attribution 4.0 International](https://creativecommons.org/licenses/by/4.0/). \n"
   ]
  }
 ],
 "metadata": {
  "colab": {
   "collapsed_sections": [],
   "include_colab_link": true,
   "name": "taruma_hk88_ambil_dataset_harian.ipynb",
   "provenance": []
  },
  "kernelspec": {
   "display_name": "Python 3",
   "language": "python",
   "name": "python3"
  },
  "language_info": {
   "codemirror_mode": {
    "name": "ipython",
    "version": 3
   },
   "file_extension": ".py",
   "mimetype": "text/x-python",
   "name": "python",
   "nbconvert_exporter": "python",
   "pygments_lexer": "ipython3",
   "version": "3.7.5"
  },
  "toc": {
   "base_numbering": 1,
   "nav_menu": {},
   "number_sections": true,
   "sideBar": true,
   "skip_h1_title": false,
   "title_cell": "Table of Contents",
   "title_sidebar": "Contents",
   "toc_cell": false,
   "toc_position": {},
   "toc_section_display": true,
   "toc_window_display": false
  },
  "varInspector": {
   "cols": {
    "lenName": 16,
    "lenType": 16,
    "lenVar": 40
   },
   "kernels_config": {
    "python": {
     "delete_cmd_postfix": "",
     "delete_cmd_prefix": "del ",
     "library": "var_list.py",
     "varRefreshCmd": "print(var_dic_list())"
    },
    "r": {
     "delete_cmd_postfix": ") ",
     "delete_cmd_prefix": "rm(",
     "library": "var_list.r",
     "varRefreshCmd": "cat(var_dic_list()) "
    }
   },
   "types_to_exclude": [
    "module",
    "function",
    "builtin_function_or_method",
    "instance",
    "_Feature"
   ],
   "window_display": false
  }
 },
 "nbformat": 4,
 "nbformat_minor": 1
}

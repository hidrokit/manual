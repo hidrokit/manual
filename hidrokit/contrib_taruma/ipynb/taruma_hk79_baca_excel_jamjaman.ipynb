{
 "cells": [
  {
   "cell_type": "markdown",
   "metadata": {
    "colab_type": "text",
    "id": "view-in-github"
   },
   "source": [
    "<a href=\"https://colab.research.google.com/gist/taruma/05dab67fac8313a94134ac02d0398897/taruma_hk79_baca_excel_jamjaman.ipynb\" target=\"_parent\"><img src=\"https://colab.research.google.com/assets/colab-badge.svg\" alt=\"Open In Colab\"/></a>"
   ]
  },
  {
   "cell_type": "markdown",
   "metadata": {
    "colab_type": "text",
    "id": "QlYJu4L1xpaL"
   },
   "source": [
    "Berdasarkan isu [#79](https://github.com/taruma/hidrokit/issues/79): __request: ambil dataset hujan jam-jaman dari excel__\n",
    "\n",
    "Referensi isu:\n",
    "\n",
    "- `hidrokit.contrib.taruma.hk43` [#43](https://github.com/taruma/hidrokit/issues/43). \\([view notebook / manual](https://nbviewer.jupyter.org/gist/taruma/a9dd4ea61db2526853b99600909e9c50)\\). (Menggunakan fungsi `_get_years()` untuk memperoleh `list` tahun pada berkas excel.\n",
    "\n",
    "Deskripsi permasalahan:\n",
    "\n",
    "- Membaca data jam-jaman dari excel\n",
    "- Data dalam excel berupa _pivot table_\n",
    "- Ubah _pivot table_ ke _regular table_\n",
    "- Mengubah tabel tersebut menjadi `pandas.DataFrame`\n",
    "\n",
    "Strategi penyelesaian masalah:\n",
    "\n",
    "- Periksa _sheet_ didalam berkas excel\n",
    "- Baca metadata/konfigurasi excel (nama stasiun)\n",
    "- Untuk setiap _sheet_ dengan digit tahun, baca setiap _sheet_ (menggunakan `hk43._get_years()`)\n",
    "- Dalam _sheet_ tunggal:\n",
    "  - Baca informasi tahun di lembar aktif\n",
    "  - Membaca dan mempraproses dataset setiap bulannya\n",
    "  - Menggabungkan hasil pengubahan pivot ke tabel reguler\n",
    "  - Menggabungkan tabel reguler dalam satu tahun\n",
    "- Menggabungkan tabel setiap tahun menjadi satu `pandas.DataFrame`\n",
    "\n",
    "Catatan:\n",
    "\n",
    "Untuk prapemrosesan tabel seperti (cek data yang hilang, dlsbnya) akan dikembangkan dengan modul yang terpisah karena beberapa fungsi sudah tersedia di modul `hidrokit.contrib.taruma.hk73` (untuk mengolah berkas dari bmkg)."
   ]
  },
  {
   "cell_type": "markdown",
   "metadata": {
    "colab_type": "text",
    "id": "rLLirn8y6FRB"
   },
   "source": [
    "# PERSIAPAN DAN DATASET"
   ]
  },
  {
   "cell_type": "code",
   "execution_count": 0,
   "metadata": {
    "colab": {},
    "colab_type": "code",
    "id": "1TP3TuvFyxKt"
   },
   "outputs": [],
   "source": [
    "# Install hidrokit 0.3.x\n",
    "!pip install hidrokit -q"
   ]
  },
  {
   "cell_type": "code",
   "execution_count": 0,
   "metadata": {
    "colab": {},
    "colab_type": "code",
    "id": "_q5GFz-NwQpx"
   },
   "outputs": [],
   "source": [
    "# Download sample excel\n",
    "!wget -O sample.xlsx \"https://taruma.github.io/assets/hidrokit_dataset/hidrokit_hourly_template.xlsx\" -q"
   ]
  },
  {
   "cell_type": "code",
   "execution_count": 0,
   "metadata": {
    "colab": {},
    "colab_type": "code",
    "id": "__pTGKmWwkuA"
   },
   "outputs": [],
   "source": [
    "# Import library\n",
    "import pandas as pd\n",
    "import numpy as np"
   ]
  },
  {
   "cell_type": "markdown",
   "metadata": {
    "colab_type": "text",
    "id": "zFd-3lFW6SIa"
   },
   "source": [
    "# KODE"
   ]
  },
  {
   "cell_type": "code",
   "execution_count": 0,
   "metadata": {
    "colab": {},
    "colab_type": "code",
    "id": "xw79uxePB_k5"
   },
   "outputs": [],
   "source": [
    "from calendar import monthrange\n",
    "from hidrokit.contrib.taruma import hk43\n",
    "\n",
    "# ref: https://www.reddit.com/r/learnpython/comments/485h1p/how_do_i_check_if_an_object_is_a_collection_in/\n",
    "from collections.abc import Sequence\n",
    "\n",
    "def _index_hourly(year, freq='60min'):\n",
    "    \"\"\"Return object DatetimeIndex\"\"\"\n",
    "    if isinstance(year, Sequence):\n",
    "        year_start, year_end = year\n",
    "    else:\n",
    "        year_start, year_end = year, year\n",
    "    \n",
    "    period = '{}0101 00:00,{}1231 23:00'.format(year_start, year_end).split(',')\n",
    "    return pd.date_range(*period, freq=freq)\n",
    "\n",
    "def _melt_to_array(df):\n",
    "    return df.melt().drop('variable', axis=1)['value'].values\n",
    "\n",
    "def _get_array_in_month(df, year, month):\n",
    "    n_days = monthrange(year, month)[1]\n",
    "    mask_month = slice(None, n_days)\n",
    "    df_month = df.iloc[mask_month, :].T\n",
    "    return _melt_to_array(df_month)\n",
    "\n",
    "def _get_year(df, loc=(0,1)):\n",
    "    return df.iloc[loc]\n",
    "\n",
    "def _get_array_in_year(df, year):\n",
    "    n_rows, _ = df.shape\n",
    "\n",
    "    # configuration (view the excel)\n",
    "    n_month = 1 # number of row to monthID\n",
    "    n_gap = 2 # number of row between month pivot table\n",
    "    n_lines = 31 + n_gap # number of row each month\n",
    "\n",
    "    data = []\n",
    "    for row in range(1, n_rows, n_lines):\n",
    "        mask_start = row + n_month\n",
    "        mask_end = row + n_lines\n",
    "\n",
    "        month = df.iloc[mask_start, 1]\n",
    "        mask_row = slice(mask_start, mask_end)\n",
    "        \n",
    "        df_month = df.iloc[mask_row, 4:]\n",
    "        array_month = _get_array_in_month(df_month, year, month)\n",
    "        data.append(array_month)\n",
    "\n",
    "    return np.hstack(data)\n",
    "\n",
    "def _get_info(file, config_sheet=None):\n",
    "    excel = pd.ExcelFile(file)\n",
    "    first_sheet = excel.sheet_names[0]\n",
    "    config_sheet = first_sheet if config_sheet is None else config_sheet\n",
    "\n",
    "    df = pd.read_excel(\n",
    "        excel, sheet_name=config_sheet, header=None, usecols='A:B'\n",
    "    )\n",
    "    info = {}\n",
    "\n",
    "    for index, _ in df.iterrows():\n",
    "        key = df.iloc[index, 0].lower()\n",
    "        value = df.iloc[index, 1]\n",
    "        info[str(key)] = value\n",
    "\n",
    "    return info\n",
    "\n",
    "def read_excel_hourly(file, station=None):\n",
    "    excel = pd.ExcelFile(file)\n",
    "\n",
    "    # CONFIG\n",
    "    years = hk43._get_years(excel)\n",
    "    station = 'NA' if station is None else station\n",
    "\n",
    "    # READ DATA\n",
    "    data = []\n",
    "    for year in years:\n",
    "        sheet = pd.read_excel(\n",
    "            excel, sheet_name=str(year),\n",
    "            header=None, nrows=396,\n",
    "            usecols='A:AB'\n",
    "        )\n",
    "        array = _get_array_in_year(sheet, year)\n",
    "        df_year = pd.DataFrame(\n",
    "            data=array,\n",
    "            columns=[station],\n",
    "            index=_index_hourly(year)\n",
    "        )\n",
    "        data.append(df_year)\n",
    "\n",
    "    return pd.concat(data, axis=0)"
   ]
  },
  {
   "cell_type": "markdown",
   "metadata": {
    "colab_type": "text",
    "id": "XzODOG3hWvqX"
   },
   "source": [
    "# FUNGSI"
   ]
  },
  {
   "cell_type": "markdown",
   "metadata": {
    "colab_type": "text",
    "id": "kRYwmWihXYfk"
   },
   "source": [
    "## Fungsi _private_ `_index_hourly(year, freq='60min')`\n",
    "\n",
    "Tujuan: membuat index menggunakan perintah `pd.date_range()` dengan input `year` yang berupa bilangan ataupun _sequence_."
   ]
  },
  {
   "cell_type": "code",
   "execution_count": 5,
   "metadata": {
    "colab": {
     "base_uri": "https://localhost:8080/",
     "height": 221
    },
    "colab_type": "code",
    "id": "Iz13fHtnWu9O",
    "outputId": "0b7656ef-a943-4406-dd34-071b4d1f88a5"
   },
   "outputs": [
    {
     "data": {
      "text/plain": [
       "DatetimeIndex(['2000-01-01 00:00:00', '2000-01-01 01:00:00',\n",
       "               '2000-01-01 02:00:00', '2000-01-01 03:00:00',\n",
       "               '2000-01-01 04:00:00', '2000-01-01 05:00:00',\n",
       "               '2000-01-01 06:00:00', '2000-01-01 07:00:00',\n",
       "               '2000-01-01 08:00:00', '2000-01-01 09:00:00',\n",
       "               ...\n",
       "               '2000-12-31 14:00:00', '2000-12-31 15:00:00',\n",
       "               '2000-12-31 16:00:00', '2000-12-31 17:00:00',\n",
       "               '2000-12-31 18:00:00', '2000-12-31 19:00:00',\n",
       "               '2000-12-31 20:00:00', '2000-12-31 21:00:00',\n",
       "               '2000-12-31 22:00:00', '2000-12-31 23:00:00'],\n",
       "              dtype='datetime64[ns]', length=8784, freq='60T')"
      ]
     },
     "execution_count": 5,
     "metadata": {
      "tags": []
     },
     "output_type": "execute_result"
    }
   ],
   "source": [
    "_index_hourly(2000) # jika bilangan harus dalam bentuk integer"
   ]
  },
  {
   "cell_type": "code",
   "execution_count": 6,
   "metadata": {
    "colab": {
     "base_uri": "https://localhost:8080/",
     "height": 221
    },
    "colab_type": "code",
    "id": "dN9idPu5X5pS",
    "outputId": "fcdb9ac8-9708-4b30-8f2b-eaf119a5039f"
   },
   "outputs": [
    {
     "data": {
      "text/plain": [
       "DatetimeIndex(['2000-01-01 00:00:00', '2000-01-01 01:00:00',\n",
       "               '2000-01-01 02:00:00', '2000-01-01 03:00:00',\n",
       "               '2000-01-01 04:00:00', '2000-01-01 05:00:00',\n",
       "               '2000-01-01 06:00:00', '2000-01-01 07:00:00',\n",
       "               '2000-01-01 08:00:00', '2000-01-01 09:00:00',\n",
       "               ...\n",
       "               '2001-12-31 14:00:00', '2001-12-31 15:00:00',\n",
       "               '2001-12-31 16:00:00', '2001-12-31 17:00:00',\n",
       "               '2001-12-31 18:00:00', '2001-12-31 19:00:00',\n",
       "               '2001-12-31 20:00:00', '2001-12-31 21:00:00',\n",
       "               '2001-12-31 22:00:00', '2001-12-31 23:00:00'],\n",
       "              dtype='datetime64[ns]', length=17544, freq='60T')"
      ]
     },
     "execution_count": 6,
     "metadata": {
      "tags": []
     },
     "output_type": "execute_result"
    }
   ],
   "source": [
    "_index_hourly(['2000', 2001]) # jika dalam seq-object bisa berupa integer atau string"
   ]
  },
  {
   "cell_type": "markdown",
   "metadata": {
    "colab_type": "text",
    "id": "HR50WxV0YS6e"
   },
   "source": [
    "## Fungsi _private_ `_melt_to_array(df)`\n",
    "\n",
    "Tujuan: perintah `df.melt().drop('variable', axis=1)['value'].values`\n",
    "\n",
    "Contoh `pd.melt` bisa lihat pada manual [hk43](https://nbviewer.jupyter.org/gist/taruma/a9dd4ea61db2526853b99600909e9c50)."
   ]
  },
  {
   "cell_type": "markdown",
   "metadata": {
    "colab_type": "text",
    "id": "F6LCRneQYodb"
   },
   "source": [
    "## Fungsi _private_ `_get_array_in_month(df, year, month)`\n",
    "\n",
    "Tujuan: mengambil pivot tabel satu bulan dan mengubahnya (_melt_) ke bentuk tabel biasa."
   ]
  },
  {
   "cell_type": "markdown",
   "metadata": {
    "colab_type": "text",
    "id": "a6cNBkKIY8YC"
   },
   "source": [
    "## Fungsi _private_ `_get_year(df, loc)`\n",
    "\n",
    "Tujuan: melakukan perintah `df.iloc[loc]`"
   ]
  },
  {
   "cell_type": "markdown",
   "metadata": {
    "colab_type": "text",
    "id": "Xc1zXpIXZJTP"
   },
   "source": [
    "## Fungsi _private_ `_get_array_in_year(df, year)`\n",
    "\n",
    "Tujuan: serupa dengan `_get_array_in_month()`, fungsi ini mengambil seluruh informasi pada _sheet_ tunggal."
   ]
  },
  {
   "cell_type": "markdown",
   "metadata": {
    "colab_type": "text",
    "id": "F7AXuu2JZkOa"
   },
   "source": [
    "## Fungsi _private_ `_get_info(file, config_sheet=None)`\n",
    "\n",
    "Tujuan: mengambil nilai pada _sheet_ pengaturan (_sheet_ pertama pada file) dan mengubahnya ke dalam bentuk `dictionary`. "
   ]
  },
  {
   "cell_type": "code",
   "execution_count": 7,
   "metadata": {
    "colab": {
     "base_uri": "https://localhost:8080/",
     "height": 34
    },
    "colab_type": "code",
    "id": "FFAqYl0FZi8W",
    "outputId": "c0045542-aa01-4c25-fbff-d0bd4e102ea7"
   },
   "outputs": [
    {
     "data": {
      "text/plain": [
       "{'key': 'VALUE', 'station_name': 'AURENE'}"
      ]
     },
     "execution_count": 7,
     "metadata": {
      "tags": []
     },
     "output_type": "execute_result"
    }
   ],
   "source": [
    "info_file = _get_info('sample.xlsx', config_sheet='_INFO')\n",
    "info_file"
   ]
  },
  {
   "cell_type": "code",
   "execution_count": 8,
   "metadata": {
    "colab": {
     "base_uri": "https://localhost:8080/",
     "height": 34
    },
    "colab_type": "code",
    "id": "LGH5Q8B9aChT",
    "outputId": "12ff8e0a-9945-4282-b330-7260d2fcd0a0"
   },
   "outputs": [
    {
     "data": {
      "text/plain": [
       "'AURENE'"
      ]
     },
     "execution_count": 8,
     "metadata": {
      "tags": []
     },
     "output_type": "execute_result"
    }
   ],
   "source": [
    "info_file['station_name']"
   ]
  },
  {
   "cell_type": "markdown",
   "metadata": {
    "colab_type": "text",
    "id": "PHb8kiqIbXBC"
   },
   "source": [
    "# PENERAPAN"
   ]
  },
  {
   "cell_type": "markdown",
   "metadata": {
    "colab_type": "text",
    "id": "JQ25V3gmaRCz"
   },
   "source": [
    "## Fungsi _public_ `read_excel_hourly(file, station=None)`\n",
    "\n",
    "Tujuan: membaca data jam-jaman yang terdapat pada file lalu mengubahnya ke dalam bentuk `pandas.DataFrame` dengan index yang sesuai dengan tahun kejadiannya."
   ]
  },
  {
   "cell_type": "code",
   "execution_count": 9,
   "metadata": {
    "colab": {
     "base_uri": "https://localhost:8080/",
     "height": 419
    },
    "colab_type": "code",
    "id": "_ZgcqRAmOHvn",
    "outputId": "ec202200-2f20-457d-9550-bf05317a8c21"
   },
   "outputs": [
    {
     "data": {
      "text/html": [
       "<div>\n",
       "<style scoped>\n",
       "    .dataframe tbody tr th:only-of-type {\n",
       "        vertical-align: middle;\n",
       "    }\n",
       "\n",
       "    .dataframe tbody tr th {\n",
       "        vertical-align: top;\n",
       "    }\n",
       "\n",
       "    .dataframe thead th {\n",
       "        text-align: right;\n",
       "    }\n",
       "</style>\n",
       "<table border=\"1\" class=\"dataframe\">\n",
       "  <thead>\n",
       "    <tr style=\"text-align: right;\">\n",
       "      <th></th>\n",
       "      <th>AURENE</th>\n",
       "    </tr>\n",
       "  </thead>\n",
       "  <tbody>\n",
       "    <tr>\n",
       "      <th>2000-01-01 00:00:00</th>\n",
       "      <td>-</td>\n",
       "    </tr>\n",
       "    <tr>\n",
       "      <th>2000-01-01 01:00:00</th>\n",
       "      <td>NaN</td>\n",
       "    </tr>\n",
       "    <tr>\n",
       "      <th>2000-01-01 02:00:00</th>\n",
       "      <td>NaN</td>\n",
       "    </tr>\n",
       "    <tr>\n",
       "      <th>2000-01-01 03:00:00</th>\n",
       "      <td>NaN</td>\n",
       "    </tr>\n",
       "    <tr>\n",
       "      <th>2000-01-01 04:00:00</th>\n",
       "      <td>NaN</td>\n",
       "    </tr>\n",
       "    <tr>\n",
       "      <th>...</th>\n",
       "      <td>...</td>\n",
       "    </tr>\n",
       "    <tr>\n",
       "      <th>2002-12-31 19:00:00</th>\n",
       "      <td>-</td>\n",
       "    </tr>\n",
       "    <tr>\n",
       "      <th>2002-12-31 20:00:00</th>\n",
       "      <td>-</td>\n",
       "    </tr>\n",
       "    <tr>\n",
       "      <th>2002-12-31 21:00:00</th>\n",
       "      <td>-</td>\n",
       "    </tr>\n",
       "    <tr>\n",
       "      <th>2002-12-31 22:00:00</th>\n",
       "      <td>-</td>\n",
       "    </tr>\n",
       "    <tr>\n",
       "      <th>2002-12-31 23:00:00</th>\n",
       "      <td>-</td>\n",
       "    </tr>\n",
       "  </tbody>\n",
       "</table>\n",
       "<p>26304 rows × 1 columns</p>\n",
       "</div>"
      ],
      "text/plain": [
       "                    AURENE\n",
       "2000-01-01 00:00:00      -\n",
       "2000-01-01 01:00:00    NaN\n",
       "2000-01-01 02:00:00    NaN\n",
       "2000-01-01 03:00:00    NaN\n",
       "2000-01-01 04:00:00    NaN\n",
       "...                    ...\n",
       "2002-12-31 19:00:00      -\n",
       "2002-12-31 20:00:00      -\n",
       "2002-12-31 21:00:00      -\n",
       "2002-12-31 22:00:00      -\n",
       "2002-12-31 23:00:00      -\n",
       "\n",
       "[26304 rows x 1 columns]"
      ]
     },
     "execution_count": 9,
     "metadata": {
      "tags": []
     },
     "output_type": "execute_result"
    }
   ],
   "source": [
    "data = read_excel_hourly('sample.xlsx', station=info_file['station_name'])\n",
    "data"
   ]
  },
  {
   "cell_type": "code",
   "execution_count": 10,
   "metadata": {
    "colab": {
     "base_uri": "https://localhost:8080/",
     "height": 136
    },
    "colab_type": "code",
    "id": "oYxhaVyua_Th",
    "outputId": "c7a900ef-c2da-43d3-d1cc-5b26242586b5"
   },
   "outputs": [
    {
     "name": "stdout",
     "output_type": "stream",
     "text": [
      "<class 'pandas.core.frame.DataFrame'>\n",
      "DatetimeIndex: 26304 entries, 2000-01-01 00:00:00 to 2002-12-31 23:00:00\n",
      "Freq: 60T\n",
      "Data columns (total 1 columns):\n",
      "AURENE    10918 non-null object\n",
      "dtypes: object(1)\n",
      "memory usage: 411.0+ KB\n"
     ]
    }
   ],
   "source": [
    "data.info()"
   ]
  },
  {
   "cell_type": "markdown",
   "metadata": {
    "colab_type": "text",
    "id": "ndmVdsMZck2W"
   },
   "source": [
    "Catatan: data masih berupa `object`, dan belum diubah ke bentuk angka. Prapemrosesan ini serupa pada modul [hk73](https://nbviewer.jupyter.org/gist/taruma/b00880905f297013f046dad95dc2e284) (untuk membaca berkas bmkg)."
   ]
  },
  {
   "cell_type": "code",
   "execution_count": 11,
   "metadata": {
    "colab": {
     "base_uri": "https://localhost:8080/",
     "height": 669
    },
    "colab_type": "code",
    "id": "SsWZrgyzMTsj",
    "outputId": "99b73a21-087d-4eb2-8a02-59bf0a4453be"
   },
   "outputs": [
    {
     "data": {
      "text/html": [
       "<div>\n",
       "<style scoped>\n",
       "    .dataframe tbody tr th:only-of-type {\n",
       "        vertical-align: middle;\n",
       "    }\n",
       "\n",
       "    .dataframe tbody tr th {\n",
       "        vertical-align: top;\n",
       "    }\n",
       "\n",
       "    .dataframe thead th {\n",
       "        text-align: right;\n",
       "    }\n",
       "</style>\n",
       "<table border=\"1\" class=\"dataframe\">\n",
       "  <thead>\n",
       "    <tr style=\"text-align: right;\">\n",
       "      <th></th>\n",
       "      <th>AURENE</th>\n",
       "    </tr>\n",
       "  </thead>\n",
       "  <tbody>\n",
       "    <tr>\n",
       "      <th>2002-07-26 01:00:00</th>\n",
       "      <td>-</td>\n",
       "    </tr>\n",
       "    <tr>\n",
       "      <th>2001-11-09 02:00:00</th>\n",
       "      <td>NaN</td>\n",
       "    </tr>\n",
       "    <tr>\n",
       "      <th>2000-08-16 00:00:00</th>\n",
       "      <td>-</td>\n",
       "    </tr>\n",
       "    <tr>\n",
       "      <th>2000-11-26 10:00:00</th>\n",
       "      <td>NaN</td>\n",
       "    </tr>\n",
       "    <tr>\n",
       "      <th>2001-05-21 09:00:00</th>\n",
       "      <td>NaN</td>\n",
       "    </tr>\n",
       "    <tr>\n",
       "      <th>2000-09-16 08:00:00</th>\n",
       "      <td>NaN</td>\n",
       "    </tr>\n",
       "    <tr>\n",
       "      <th>2001-06-30 02:00:00</th>\n",
       "      <td>NaN</td>\n",
       "    </tr>\n",
       "    <tr>\n",
       "      <th>2000-11-26 00:00:00</th>\n",
       "      <td>-</td>\n",
       "    </tr>\n",
       "    <tr>\n",
       "      <th>2001-08-22 19:00:00</th>\n",
       "      <td>NaN</td>\n",
       "    </tr>\n",
       "    <tr>\n",
       "      <th>2001-10-27 18:00:00</th>\n",
       "      <td>NaN</td>\n",
       "    </tr>\n",
       "    <tr>\n",
       "      <th>2002-03-31 07:00:00</th>\n",
       "      <td>-</td>\n",
       "    </tr>\n",
       "    <tr>\n",
       "      <th>2000-10-01 06:00:00</th>\n",
       "      <td>NaN</td>\n",
       "    </tr>\n",
       "    <tr>\n",
       "      <th>2002-07-14 09:00:00</th>\n",
       "      <td>-</td>\n",
       "    </tr>\n",
       "    <tr>\n",
       "      <th>2000-11-06 16:00:00</th>\n",
       "      <td>NaN</td>\n",
       "    </tr>\n",
       "    <tr>\n",
       "      <th>2001-03-11 07:00:00</th>\n",
       "      <td>NaN</td>\n",
       "    </tr>\n",
       "    <tr>\n",
       "      <th>2000-10-04 04:00:00</th>\n",
       "      <td>NaN</td>\n",
       "    </tr>\n",
       "    <tr>\n",
       "      <th>2002-01-25 15:00:00</th>\n",
       "      <td>-</td>\n",
       "    </tr>\n",
       "    <tr>\n",
       "      <th>2001-06-27 13:00:00</th>\n",
       "      <td>NaN</td>\n",
       "    </tr>\n",
       "    <tr>\n",
       "      <th>2002-07-15 07:00:00</th>\n",
       "      <td>-</td>\n",
       "    </tr>\n",
       "    <tr>\n",
       "      <th>2000-08-08 15:00:00</th>\n",
       "      <td>NaN</td>\n",
       "    </tr>\n",
       "  </tbody>\n",
       "</table>\n",
       "</div>"
      ],
      "text/plain": [
       "                    AURENE\n",
       "2002-07-26 01:00:00      -\n",
       "2001-11-09 02:00:00    NaN\n",
       "2000-08-16 00:00:00      -\n",
       "2000-11-26 10:00:00    NaN\n",
       "2001-05-21 09:00:00    NaN\n",
       "2000-09-16 08:00:00    NaN\n",
       "2001-06-30 02:00:00    NaN\n",
       "2000-11-26 00:00:00      -\n",
       "2001-08-22 19:00:00    NaN\n",
       "2001-10-27 18:00:00    NaN\n",
       "2002-03-31 07:00:00      -\n",
       "2000-10-01 06:00:00    NaN\n",
       "2002-07-14 09:00:00      -\n",
       "2000-11-06 16:00:00    NaN\n",
       "2001-03-11 07:00:00    NaN\n",
       "2000-10-04 04:00:00    NaN\n",
       "2002-01-25 15:00:00      -\n",
       "2001-06-27 13:00:00    NaN\n",
       "2002-07-15 07:00:00      -\n",
       "2000-08-08 15:00:00    NaN"
      ]
     },
     "execution_count": 11,
     "metadata": {
      "tags": []
     },
     "output_type": "execute_result"
    }
   ],
   "source": [
    "data.sample(n=20) # menampilkan sampel 20 baris dalam data secara acak"
   ]
  },
  {
   "cell_type": "code",
   "execution_count": 12,
   "metadata": {
    "colab": {
     "base_uri": "https://localhost:8080/",
     "height": 419
    },
    "colab_type": "code",
    "id": "3fHMWAqnhCwp",
    "outputId": "774b9ba4-aa8e-412d-a661-d42da6e5b979"
   },
   "outputs": [
    {
     "data": {
      "text/html": [
       "<div>\n",
       "<style scoped>\n",
       "    .dataframe tbody tr th:only-of-type {\n",
       "        vertical-align: middle;\n",
       "    }\n",
       "\n",
       "    .dataframe tbody tr th {\n",
       "        vertical-align: top;\n",
       "    }\n",
       "\n",
       "    .dataframe thead th {\n",
       "        text-align: right;\n",
       "    }\n",
       "</style>\n",
       "<table border=\"1\" class=\"dataframe\">\n",
       "  <thead>\n",
       "    <tr style=\"text-align: right;\">\n",
       "      <th></th>\n",
       "      <th>AURENE</th>\n",
       "    </tr>\n",
       "  </thead>\n",
       "  <tbody>\n",
       "    <tr>\n",
       "      <th>2001-01-01 00:00:00</th>\n",
       "      <td>NaN</td>\n",
       "    </tr>\n",
       "    <tr>\n",
       "      <th>2001-01-01 01:00:00</th>\n",
       "      <td>NaN</td>\n",
       "    </tr>\n",
       "    <tr>\n",
       "      <th>2001-01-01 02:00:00</th>\n",
       "      <td>NaN</td>\n",
       "    </tr>\n",
       "    <tr>\n",
       "      <th>2001-01-01 03:00:00</th>\n",
       "      <td>NaN</td>\n",
       "    </tr>\n",
       "    <tr>\n",
       "      <th>2001-01-01 04:00:00</th>\n",
       "      <td>NaN</td>\n",
       "    </tr>\n",
       "    <tr>\n",
       "      <th>...</th>\n",
       "      <td>...</td>\n",
       "    </tr>\n",
       "    <tr>\n",
       "      <th>2001-12-31 19:00:00</th>\n",
       "      <td>NaN</td>\n",
       "    </tr>\n",
       "    <tr>\n",
       "      <th>2001-12-31 20:00:00</th>\n",
       "      <td>NaN</td>\n",
       "    </tr>\n",
       "    <tr>\n",
       "      <th>2001-12-31 21:00:00</th>\n",
       "      <td>NaN</td>\n",
       "    </tr>\n",
       "    <tr>\n",
       "      <th>2001-12-31 22:00:00</th>\n",
       "      <td>NaN</td>\n",
       "    </tr>\n",
       "    <tr>\n",
       "      <th>2001-12-31 23:00:00</th>\n",
       "      <td>NaN</td>\n",
       "    </tr>\n",
       "  </tbody>\n",
       "</table>\n",
       "<p>8760 rows × 1 columns</p>\n",
       "</div>"
      ],
      "text/plain": [
       "                    AURENE\n",
       "2001-01-01 00:00:00    NaN\n",
       "2001-01-01 01:00:00    NaN\n",
       "2001-01-01 02:00:00    NaN\n",
       "2001-01-01 03:00:00    NaN\n",
       "2001-01-01 04:00:00    NaN\n",
       "...                    ...\n",
       "2001-12-31 19:00:00    NaN\n",
       "2001-12-31 20:00:00    NaN\n",
       "2001-12-31 21:00:00    NaN\n",
       "2001-12-31 22:00:00    NaN\n",
       "2001-12-31 23:00:00    NaN\n",
       "\n",
       "[8760 rows x 1 columns]"
      ]
     },
     "execution_count": 12,
     "metadata": {
      "tags": []
     },
     "output_type": "execute_result"
    }
   ],
   "source": [
    "data['2001'] # menampilkan data pada tahun tertentu"
   ]
  },
  {
   "cell_type": "code",
   "execution_count": 13,
   "metadata": {
    "colab": {
     "base_uri": "https://localhost:8080/",
     "height": 359
    },
    "colab_type": "code",
    "id": "pHQIH6rRhFtp",
    "outputId": "1aef506d-bf8f-4737-ca31-e72a8e9ef749"
   },
   "outputs": [
    {
     "data": {
      "text/html": [
       "<div>\n",
       "<style scoped>\n",
       "    .dataframe tbody tr th:only-of-type {\n",
       "        vertical-align: middle;\n",
       "    }\n",
       "\n",
       "    .dataframe tbody tr th {\n",
       "        vertical-align: top;\n",
       "    }\n",
       "\n",
       "    .dataframe thead th {\n",
       "        text-align: right;\n",
       "    }\n",
       "</style>\n",
       "<table border=\"1\" class=\"dataframe\">\n",
       "  <thead>\n",
       "    <tr style=\"text-align: right;\">\n",
       "      <th></th>\n",
       "      <th>AURENE</th>\n",
       "    </tr>\n",
       "  </thead>\n",
       "  <tbody>\n",
       "    <tr>\n",
       "      <th>2002-01-01 07:00:00</th>\n",
       "      <td>0.3</td>\n",
       "    </tr>\n",
       "    <tr>\n",
       "      <th>2002-01-01 08:00:00</th>\n",
       "      <td>-</td>\n",
       "    </tr>\n",
       "    <tr>\n",
       "      <th>2002-01-01 09:00:00</th>\n",
       "      <td>-</td>\n",
       "    </tr>\n",
       "    <tr>\n",
       "      <th>2002-01-01 10:00:00</th>\n",
       "      <td>-</td>\n",
       "    </tr>\n",
       "    <tr>\n",
       "      <th>2002-01-01 11:00:00</th>\n",
       "      <td>-</td>\n",
       "    </tr>\n",
       "    <tr>\n",
       "      <th>2002-01-01 12:00:00</th>\n",
       "      <td>-</td>\n",
       "    </tr>\n",
       "    <tr>\n",
       "      <th>2002-01-01 13:00:00</th>\n",
       "      <td>0.5</td>\n",
       "    </tr>\n",
       "    <tr>\n",
       "      <th>2002-01-01 14:00:00</th>\n",
       "      <td>-</td>\n",
       "    </tr>\n",
       "    <tr>\n",
       "      <th>2002-01-01 15:00:00</th>\n",
       "      <td>1.1</td>\n",
       "    </tr>\n",
       "    <tr>\n",
       "      <th>2002-01-01 16:00:00</th>\n",
       "      <td>-</td>\n",
       "    </tr>\n",
       "  </tbody>\n",
       "</table>\n",
       "</div>"
      ],
      "text/plain": [
       "                    AURENE\n",
       "2002-01-01 07:00:00    0.3\n",
       "2002-01-01 08:00:00      -\n",
       "2002-01-01 09:00:00      -\n",
       "2002-01-01 10:00:00      -\n",
       "2002-01-01 11:00:00      -\n",
       "2002-01-01 12:00:00      -\n",
       "2002-01-01 13:00:00    0.5\n",
       "2002-01-01 14:00:00      -\n",
       "2002-01-01 15:00:00    1.1\n",
       "2002-01-01 16:00:00      -"
      ]
     },
     "execution_count": 13,
     "metadata": {
      "tags": []
     },
     "output_type": "execute_result"
    }
   ],
   "source": [
    "data['20020101 07:00': '20020101 16:00'] # menampilkan data diantara jam 7.00 sampai 16.00 pada tanggal 1 januari 2002"
   ]
  },
  {
   "cell_type": "markdown",
   "metadata": {
    "colab_type": "text",
    "id": "IQyRDTQgdf5z"
   },
   "source": [
    "# Changelog\n",
    "\n",
    "```\n",
    "- 20191129 - 1.0.0 - Initial\n",
    "```\n",
    "\n",
    "#### Copyright &copy; 2019 [Taruma Sakti Megariansyah](https://taruma.github.io)\n",
    "\n",
    "Source code in this notebook is licensed under a [MIT License](https://choosealicense.com/licenses/mit/). Data in this notebook is licensed under a [Creative Common Attribution 4.0 International](https://creativecommons.org/licenses/by/4.0/). \n"
   ]
  }
 ],
 "metadata": {
  "accelerator": "GPU",
  "colab": {
   "collapsed_sections": [],
   "include_colab_link": true,
   "name": "taruma_hk79_baca_excel_jamjaman.ipynb",
   "provenance": []
  },
  "kernelspec": {
   "display_name": "Python 3",
   "language": "python",
   "name": "python3"
  },
  "language_info": {
   "codemirror_mode": {
    "name": "ipython",
    "version": 3
   },
   "file_extension": ".py",
   "mimetype": "text/x-python",
   "name": "python",
   "nbconvert_exporter": "python",
   "pygments_lexer": "ipython3",
   "version": "3.7.5"
  },
  "toc": {
   "base_numbering": 1,
   "nav_menu": {},
   "number_sections": true,
   "sideBar": true,
   "skip_h1_title": false,
   "title_cell": "Table of Contents",
   "title_sidebar": "Contents",
   "toc_cell": false,
   "toc_position": {},
   "toc_section_display": true,
   "toc_window_display": false
  },
  "varInspector": {
   "cols": {
    "lenName": 16,
    "lenType": 16,
    "lenVar": 40
   },
   "kernels_config": {
    "python": {
     "delete_cmd_postfix": "",
     "delete_cmd_prefix": "del ",
     "library": "var_list.py",
     "varRefreshCmd": "print(var_dic_list())"
    },
    "r": {
     "delete_cmd_postfix": ") ",
     "delete_cmd_prefix": "rm(",
     "library": "var_list.r",
     "varRefreshCmd": "cat(var_dic_list()) "
    }
   },
   "types_to_exclude": [
    "module",
    "function",
    "builtin_function_or_method",
    "instance",
    "_Feature"
   ],
   "window_display": false
  }
 },
 "nbformat": 4,
 "nbformat_minor": 1
}

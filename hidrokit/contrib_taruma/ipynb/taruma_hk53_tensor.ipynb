{
 "cells": [
  {
   "cell_type": "markdown",
   "metadata": {
    "colab_type": "text",
    "id": "view-in-github"
   },
   "source": [
    "<a href=\"https://colab.research.google.com/gist/taruma/50460ebfaab5a30c41e7f1a1ac0853e2/taruma_hk53_tensor.ipynb\" target=\"_parent\"><img src=\"https://colab.research.google.com/assets/colab-badge.svg\" alt=\"Open In Colab\"/></a>"
   ]
  },
  {
   "cell_type": "markdown",
   "metadata": {
    "colab_type": "text",
    "id": "mKmUJwglptVI"
   },
   "source": [
    "Berdasarkan isu [#53](): **request: buat tabel/tensor untuk pemodelan deep learning LSTM**\n",
    "\n",
    "Deskripsi permasalahan:\n",
    "\n",
    "- Input data dalam bentuk DataFrame harus diubah ke tensor 3D sebagai input pemodelan RNN (LSTM)"
   ]
  },
  {
   "cell_type": "markdown",
   "metadata": {
    "colab_type": "text",
    "id": "ST52BbNivuGi"
   },
   "source": [
    "# DATASET"
   ]
  },
  {
   "cell_type": "code",
   "execution_count": 0,
   "metadata": {
    "colab": {
     "base_uri": "https://localhost:8080/",
     "height": 34
    },
    "colab_type": "code",
    "id": "7F2uh4ShpYkV",
    "outputId": "9214648c-b7dd-4a8f-d2e6-af5224f332e8"
   },
   "outputs": [
    {
     "name": "stdout",
     "output_type": "stream",
     "text": [
      "Drive already mounted at /content/gdrive; to attempt to forcibly remount, call drive.mount(\"/content/gdrive\", force_remount=True).\n"
     ]
    }
   ],
   "source": [
    "# AKSES GOOGLE DRIVE \n",
    "from google.colab import drive\n",
    "drive.mount('/content/gdrive')"
   ]
  },
  {
   "cell_type": "code",
   "execution_count": 0,
   "metadata": {
    "colab": {},
    "colab_type": "code",
    "id": "Skk5tgXqva09"
   },
   "outputs": [],
   "source": [
    "# DRIVE PATH\n",
    "DRIVE_DROP_PATH = '/content/gdrive/My Drive/Colab Notebooks/_dropbox'\n",
    "DRIVE_DATASET_PATH = '/content/gdrive/My Drive/Colab Notebooks/_dataset/uma_pamarayan'"
   ]
  },
  {
   "cell_type": "code",
   "execution_count": 0,
   "metadata": {
    "colab": {},
    "colab_type": "code",
    "id": "Y9TYpf_evke8"
   },
   "outputs": [],
   "source": [
    "DATASET = DRIVE_DROP_PATH + '/dataset_hidrologi_pamarayan_1998_2008.csv'"
   ]
  },
  {
   "cell_type": "markdown",
   "metadata": {
    "colab_type": "text",
    "id": "6M89iWvQvruQ"
   },
   "source": [
    "# LOAD DATASET"
   ]
  },
  {
   "cell_type": "code",
   "execution_count": 0,
   "metadata": {
    "colab": {},
    "colab_type": "code",
    "id": "qEEei04SvrFk"
   },
   "outputs": [],
   "source": [
    "import pandas as pd\n",
    "import numpy as np"
   ]
  },
  {
   "cell_type": "code",
   "execution_count": 0,
   "metadata": {
    "colab": {
     "base_uri": "https://localhost:8080/",
     "height": 204
    },
    "colab_type": "code",
    "id": "dwsP8P1sv7SU",
    "outputId": "3b9a94d8-55e8-4c68-caa3-1e4282cae376"
   },
   "outputs": [
    {
     "data": {
      "text/html": [
       "<div>\n",
       "<style scoped>\n",
       "    .dataframe tbody tr th:only-of-type {\n",
       "        vertical-align: middle;\n",
       "    }\n",
       "\n",
       "    .dataframe tbody tr th {\n",
       "        vertical-align: top;\n",
       "    }\n",
       "\n",
       "    .dataframe thead th {\n",
       "        text-align: right;\n",
       "    }\n",
       "</style>\n",
       "<table border=\"1\" class=\"dataframe\">\n",
       "  <thead>\n",
       "    <tr style=\"text-align: right;\">\n",
       "      <th></th>\n",
       "      <th>hujan_bojong_manik</th>\n",
       "      <th>hujan_gunung_tunggal</th>\n",
       "      <th>hujan_pasir_ona</th>\n",
       "      <th>hujan_sampang_peundeuy</th>\n",
       "      <th>hujan_cimarga</th>\n",
       "      <th>hujan_bd_pamarayan</th>\n",
       "      <th>hujan_ciminyak_cilaki</th>\n",
       "      <th>hujan_gardu_tanjak</th>\n",
       "      <th>debit_bd_pamarayan</th>\n",
       "    </tr>\n",
       "  </thead>\n",
       "  <tbody>\n",
       "    <tr>\n",
       "      <th>1998-03-01</th>\n",
       "      <td>0.0</td>\n",
       "      <td>0.0</td>\n",
       "      <td>3.0</td>\n",
       "      <td>7.0</td>\n",
       "      <td>0.0</td>\n",
       "      <td>12.0</td>\n",
       "      <td>0.0</td>\n",
       "      <td>0.0</td>\n",
       "      <td>90.12</td>\n",
       "    </tr>\n",
       "    <tr>\n",
       "      <th>1998-03-02</th>\n",
       "      <td>0.0</td>\n",
       "      <td>4.0</td>\n",
       "      <td>36.0</td>\n",
       "      <td>9.0</td>\n",
       "      <td>26.0</td>\n",
       "      <td>0.0</td>\n",
       "      <td>5.0</td>\n",
       "      <td>32.0</td>\n",
       "      <td>97.90</td>\n",
       "    </tr>\n",
       "    <tr>\n",
       "      <th>1998-03-03</th>\n",
       "      <td>4.5</td>\n",
       "      <td>0.0</td>\n",
       "      <td>0.0</td>\n",
       "      <td>11.0</td>\n",
       "      <td>10.0</td>\n",
       "      <td>2.0</td>\n",
       "      <td>3.0</td>\n",
       "      <td>21.0</td>\n",
       "      <td>88.90</td>\n",
       "    </tr>\n",
       "    <tr>\n",
       "      <th>1998-03-04</th>\n",
       "      <td>0.0</td>\n",
       "      <td>0.0</td>\n",
       "      <td>46.0</td>\n",
       "      <td>5.0</td>\n",
       "      <td>24.0</td>\n",
       "      <td>6.0</td>\n",
       "      <td>11.0</td>\n",
       "      <td>13.0</td>\n",
       "      <td>90.30</td>\n",
       "    </tr>\n",
       "    <tr>\n",
       "      <th>1998-03-05</th>\n",
       "      <td>32.0</td>\n",
       "      <td>0.0</td>\n",
       "      <td>0.0</td>\n",
       "      <td>22.0</td>\n",
       "      <td>8.0</td>\n",
       "      <td>14.0</td>\n",
       "      <td>0.0</td>\n",
       "      <td>21.0</td>\n",
       "      <td>210.06</td>\n",
       "    </tr>\n",
       "  </tbody>\n",
       "</table>\n",
       "</div>"
      ],
      "text/plain": [
       "            hujan_bojong_manik  ...  debit_bd_pamarayan\n",
       "1998-03-01                 0.0  ...               90.12\n",
       "1998-03-02                 0.0  ...               97.90\n",
       "1998-03-03                 4.5  ...               88.90\n",
       "1998-03-04                 0.0  ...               90.30\n",
       "1998-03-05                32.0  ...              210.06\n",
       "\n",
       "[5 rows x 9 columns]"
      ]
     },
     "execution_count": 59,
     "metadata": {
      "tags": []
     },
     "output_type": "execute_result"
    }
   ],
   "source": [
    "dataset = pd.read_csv(DATASET, index_col=0, parse_dates=True)['19980301':] # 2 bulan pertama tidak ada data di debit\n",
    "dataset.head()"
   ]
  },
  {
   "cell_type": "code",
   "execution_count": 0,
   "metadata": {
    "colab": {
     "base_uri": "https://localhost:8080/",
     "height": 255
    },
    "colab_type": "code",
    "id": "bDeGhjW2wBMq",
    "outputId": "e882b8dc-ac89-4644-9290-62775764ca6d"
   },
   "outputs": [
    {
     "name": "stdout",
     "output_type": "stream",
     "text": [
      "<class 'pandas.core.frame.DataFrame'>\n",
      "DatetimeIndex: 3959 entries, 1998-03-01 to 2008-12-31\n",
      "Data columns (total 9 columns):\n",
      "hujan_bojong_manik        3959 non-null float64\n",
      "hujan_gunung_tunggal      3959 non-null float64\n",
      "hujan_pasir_ona           3959 non-null float64\n",
      "hujan_sampang_peundeuy    3959 non-null float64\n",
      "hujan_cimarga             3959 non-null float64\n",
      "hujan_bd_pamarayan        3959 non-null float64\n",
      "hujan_ciminyak_cilaki     3959 non-null float64\n",
      "hujan_gardu_tanjak        3959 non-null float64\n",
      "debit_bd_pamarayan        3959 non-null float64\n",
      "dtypes: float64(9)\n",
      "memory usage: 309.3 KB\n"
     ]
    }
   ],
   "source": [
    "dataset.info()"
   ]
  },
  {
   "cell_type": "markdown",
   "metadata": {
    "colab_type": "text",
    "id": "uv79w2klw0lB"
   },
   "source": [
    "# FUNGSI"
   ]
  },
  {
   "cell_type": "code",
   "execution_count": 0,
   "metadata": {
    "colab": {},
    "colab_type": "code",
    "id": "JVuM5AIFwopz"
   },
   "outputs": [],
   "source": [
    "def _columns_index(dataframe, columns):\n",
    "    columns_name = dataframe.columns\n",
    "    columns_index = []\n",
    "\n",
    "    for column in columns:\n",
    "        columns_index.append(columns_name.get_loc(column))\n",
    "    return columns_index\n",
    "\n",
    "def _get_y(array, timesteps, columns_index):\n",
    "    y = []\n",
    "    for col in columns_index:\n",
    "        y.append(array[timesteps:, col])\n",
    "    \n",
    "    if len(columns_index) == 1:\n",
    "        return y[0]\n",
    "    else:\n",
    "        return np.stack(y, axis=1)\n",
    "        \n",
    "def _get_x_tensor(array, timesteps, columns_index):\n",
    "    X = []\n",
    "    rows, _ = array.shape\n",
    "\n",
    "    for col in columns_index:\n",
    "        array_each_column = []\n",
    "        for row in range(timesteps, rows):\n",
    "            array_each_column.append(array[row-timesteps:row, col])\n",
    "        X.append(array_each_column)\n",
    "\n",
    "    return np.stack(X, axis=2)\n",
    "\n",
    "def tensor_array(\n",
    "        dataframe, timesteps, X_columns=None, y_out=False, y_columns=None\n",
    "    ):\n",
    "    n_rows, n_cols = dataframe.shape\n",
    "    array = dataframe.values\n",
    "\n",
    "    # X array\n",
    "    if X_columns is None:\n",
    "        X_index = range(n_cols)\n",
    "    else:\n",
    "        X_index = _columns_index(dataframe, X_columns)\n",
    "\n",
    "    X = _get_x_tensor(array, timesteps=timesteps, columns_index=X_index)\n",
    "    \n",
    "    # y array\n",
    "    if y_out is True:\n",
    "        if y_columns is None:\n",
    "            y_index = [n_cols-1]\n",
    "        else:\n",
    "            y_index = _columns_index(dataframe, y_columns)\n",
    "\n",
    "        y = _get_y(array, timesteps=timesteps, columns_index=y_index)\n",
    "        return X, y\n",
    "\n",
    "    return X"
   ]
  },
  {
   "cell_type": "markdown",
   "metadata": {
    "colab_type": "text",
    "id": "mVeBugfmrUnZ"
   },
   "source": [
    "# DATASET\n",
    "\n",
    "Dataset memiliki $3959$ baris dengan $8$ variabel independen, dan $1$ variabel dependen.\n",
    "\n",
    "$8$ variabel bebas:\n",
    "\n",
    "- `hujan_bojong_manik`, \n",
    "- `hujan_gunung_tunggal`, \n",
    "- `hujan_pasir_ona`,\n",
    "- `hujan_sampang_peundeuy`,\n",
    "- `hujan_cimarga`,\n",
    "- `hujan_bd_pamarayan`,\n",
    "- `hujan_ciminyak_cilaki`, \n",
    "- `hujan_gardu_tanjak`, \n",
    "\n",
    "$1$ variabel terikat:\n",
    "\n",
    "- `debit_bd_pamarayan`\n",
    "\n",
    "Dengan menggunakan timesteps sebesar $5$ hari, maka dimensi tensor input 3d sebesar $X = (3954, 5, 9)$ dengan output $y = (3954,)$\n",
    "\n",
    "$$y^{t} = f(X_i^{t_s}, y^{t_s})$$"
   ]
  },
  {
   "cell_type": "code",
   "execution_count": 0,
   "metadata": {
    "colab": {},
    "colab_type": "code",
    "id": "7RwShuq4mWWI"
   },
   "outputs": [],
   "source": [
    "TIMESTEPS = 5\n",
    "\n",
    "X, y = tensor_array(\n",
    "    dataset, timesteps=TIMESTEPS, \n",
    "    X_columns=None, y_out=True, y_columns=['debit_bd_pamarayan']\n",
    "    )"
   ]
  },
  {
   "cell_type": "code",
   "execution_count": 0,
   "metadata": {
    "colab": {
     "base_uri": "https://localhost:8080/",
     "height": 34
    },
    "colab_type": "code",
    "id": "j2tTMJjTuKl_",
    "outputId": "ade4da71-1e2e-4e5e-be89-6cb3b1d3ac72"
   },
   "outputs": [
    {
     "data": {
      "text/plain": [
       "(3954, 5, 9)"
      ]
     },
     "execution_count": 67,
     "metadata": {
      "tags": []
     },
     "output_type": "execute_result"
    }
   ],
   "source": [
    "X.shape"
   ]
  },
  {
   "cell_type": "code",
   "execution_count": 0,
   "metadata": {
    "colab": {
     "base_uri": "https://localhost:8080/",
     "height": 34
    },
    "colab_type": "code",
    "id": "6mjlJf7guL5Q",
    "outputId": "cec3ab8b-25ad-458f-eb24-54424a13fa62"
   },
   "outputs": [
    {
     "data": {
      "text/plain": [
       "(3954,)"
      ]
     },
     "execution_count": 68,
     "metadata": {
      "tags": []
     },
     "output_type": "execute_result"
    }
   ],
   "source": [
    "y.shape"
   ]
  },
  {
   "cell_type": "code",
   "execution_count": 0,
   "metadata": {
    "colab": {
     "base_uri": "https://localhost:8080/",
     "height": 646
    },
    "colab_type": "code",
    "id": "xovTkgrLuOBU",
    "outputId": "23f24275-e29a-4503-8247-4b15f65ab998"
   },
   "outputs": [
    {
     "name": "stdout",
     "output_type": "stream",
     "text": [
      "[[[  0.     0.     3.   ...   0.     0.    90.12]\n",
      "  [  0.     4.    36.   ...   5.    32.    97.9 ]\n",
      "  [  4.5    0.     0.   ...   3.    21.    88.9 ]\n",
      "  [  0.     0.    46.   ...  11.    13.    90.3 ]\n",
      "  [ 32.     0.     0.   ...   0.    21.   210.06]]\n",
      "\n",
      " [[  0.     4.    36.   ...   5.    32.    97.9 ]\n",
      "  [  4.5    0.     0.   ...   3.    21.    88.9 ]\n",
      "  [  0.     0.    46.   ...  11.    13.    90.3 ]\n",
      "  [ 32.     0.     0.   ...   0.    21.   210.06]\n",
      "  [ 12.     0.     7.   ...  16.     0.    82.9 ]]\n",
      "\n",
      " [[  4.5    0.     0.   ...   3.    21.    88.9 ]\n",
      "  [  0.     0.    46.   ...  11.    13.    90.3 ]\n",
      "  [ 32.     0.     0.   ...   0.    21.   210.06]\n",
      "  [ 12.     0.     7.   ...  16.     0.    82.9 ]\n",
      "  [ 14.     0.    11.   ...  25.    22.   274.42]]\n",
      "\n",
      " ...\n",
      "\n",
      " [[  0.    13.     0.   ...   0.     3.    21.27]\n",
      "  [ 17.    27.     0.   ...   0.     2.    83.27]\n",
      "  [ 14.    23.5    4.   ...   1.    35.   209.27]\n",
      "  [ 12.    15.7    7.   ...   0.    14.   134.83]\n",
      "  [ 10.    19.     0.   ...   0.     0.    81.88]]\n",
      "\n",
      " [[ 17.    27.     0.   ...   0.     2.    83.27]\n",
      "  [ 14.    23.5    4.   ...   1.    35.   209.27]\n",
      "  [ 12.    15.7    7.   ...   0.    14.   134.83]\n",
      "  [ 10.    19.     0.   ...   0.     0.    81.88]\n",
      "  [  7.    21.7   11.   ...   0.    12.    20.14]]\n",
      "\n",
      " [[ 14.    23.5    4.   ...   1.    35.   209.27]\n",
      "  [ 12.    15.7    7.   ...   0.    14.   134.83]\n",
      "  [ 10.    19.     0.   ...   0.     0.    81.88]\n",
      "  [  7.    21.7   11.   ...   0.    12.    20.14]\n",
      "  [  6.05  17.5   21.   ...   0.    10.   208.54]]]\n"
     ]
    }
   ],
   "source": [
    "print(X)"
   ]
  },
  {
   "cell_type": "code",
   "execution_count": 0,
   "metadata": {
    "colab": {
     "base_uri": "https://localhost:8080/",
     "height": 34
    },
    "colab_type": "code",
    "id": "Cd4d6j3JuSE8",
    "outputId": "0891b8bc-9961-4ad0-8a4b-d461874ddc7c"
   },
   "outputs": [
    {
     "name": "stdout",
     "output_type": "stream",
     "text": [
      "[ 82.9  274.42 216.36 ...  20.14 208.54 208.14]\n"
     ]
    }
   ],
   "source": [
    "print(y)"
   ]
  },
  {
   "cell_type": "markdown",
   "metadata": {
    "colab_type": "text",
    "id": "MNFcE3TiqJ8s"
   },
   "source": [
    "# Changelog\n",
    "\n",
    "```\n",
    "- 20190926 - 1.0.0 - Initial\n",
    "```\n",
    "\n",
    "#### Copyright &copy; 2019 [Taruma Sakti Megariansyah](https://taruma.github.io)\n",
    "\n",
    "Source code in this notebook is licensed under a [MIT License](https://choosealicense.com/licenses/mit/). Data in this notebook is licensed under a [Creative Common Attribution 4.0 International](https://creativecommons.org/licenses/by/4.0/). "
   ]
  }
 ],
 "metadata": {
  "colab": {
   "collapsed_sections": [],
   "include_colab_link": true,
   "name": "taruma_hk53_tensor.ipynb",
   "provenance": []
  },
  "kernelspec": {
   "display_name": "Python 3",
   "language": "python",
   "name": "python3"
  },
  "language_info": {
   "codemirror_mode": {
    "name": "ipython",
    "version": 3
   },
   "file_extension": ".py",
   "mimetype": "text/x-python",
   "name": "python",
   "nbconvert_exporter": "python",
   "pygments_lexer": "ipython3",
   "version": "3.7.5"
  },
  "toc": {
   "base_numbering": 1,
   "nav_menu": {},
   "number_sections": true,
   "sideBar": true,
   "skip_h1_title": false,
   "title_cell": "Table of Contents",
   "title_sidebar": "Contents",
   "toc_cell": false,
   "toc_position": {},
   "toc_section_display": true,
   "toc_window_display": false
  },
  "varInspector": {
   "cols": {
    "lenName": 16,
    "lenType": 16,
    "lenVar": 40
   },
   "kernels_config": {
    "python": {
     "delete_cmd_postfix": "",
     "delete_cmd_prefix": "del ",
     "library": "var_list.py",
     "varRefreshCmd": "print(var_dic_list())"
    },
    "r": {
     "delete_cmd_postfix": ") ",
     "delete_cmd_prefix": "rm(",
     "library": "var_list.r",
     "varRefreshCmd": "cat(var_dic_list()) "
    }
   },
   "types_to_exclude": [
    "module",
    "function",
    "builtin_function_or_method",
    "instance",
    "_Feature"
   ],
   "window_display": false
  }
 },
 "nbformat": 4,
 "nbformat_minor": 1
}

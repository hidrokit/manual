{
 "cells": [
  {
   "cell_type": "markdown",
   "metadata": {
    "colab_type": "text",
    "id": "view-in-github"
   },
   "source": [
    "<a href=\"https://colab.research.google.com/gist/taruma/0b0ebf3ba12d4acf7cf11df905d2ec9c/taruma_hk87_debit_andal_kurva_durasi.ipynb\" target=\"_parent\"><img src=\"https://colab.research.google.com/assets/colab-badge.svg\" alt=\"Open In Colab\"/></a>"
   ]
  },
  {
   "cell_type": "markdown",
   "metadata": {
    "colab_type": "text",
    "id": "yf_vvLMZI4MH"
   },
   "source": [
    "Berdasarkan isu [#87](https://github.com/taruma/hidrokit/issues/87): **perhitungan debit andalan sungai dengan kurva durasi debit**\n",
    "\n",
    "Referensi isu:\n",
    "\n",
    "- SNI 6738:2015: **Perhitungan debit andalan sungai dengan kurva durasi debit**. Pranala: [sni.litbang.pu.go.id](http://sni.litbang.pu.go.id/index.php?r=/sni/new/sni/detail/id/458) diakses 10 desember 2019.\n",
    "\n",
    "Deskripsi Permasalahan:\n",
    "\n",
    "- Mencari nilai debit andal pada $Q_{80}$, $Q_{90}$, dan $Q_{95}$ pada periode tertentu (dalam satu tahun, atau setiap bulan).\n",
    "\n",
    "Strategi Penyelesaian Masalah:\n",
    "\n",
    "- Mengikuti panduan SNI 6738:2015.\n",
    "- Membuat fungsi dengan input `pandas.DataFrame` dengan jumlah observasi sembarang. Sehingga, penggunaan fungsi akan ditentukan.\n",
    "  - Menyusun berurutan nilai dalam dataframe.\n",
    "  - Membuat `list/array` yang merupakan nilai (kumulatif) probabilitas.\n",
    "  - Mengembalikan d\n",
    "- Mencari nilai $Q_{80}$, $Q_{90}$, dan $Q_{95}$\n",
    "\n",
    "Catatan:\n",
    "\n",
    "- Dataset yang digunakan serupa dengan lampiran A dalam SNI 6738:2015."
   ]
  },
  {
   "cell_type": "markdown",
   "metadata": {
    "colab_type": "text",
    "id": "LeEnxFBwPS_r"
   },
   "source": [
    "# PERSIAPAN DAN DATASET"
   ]
  },
  {
   "cell_type": "code",
   "execution_count": 0,
   "metadata": {
    "colab": {},
    "colab_type": "code",
    "id": "jpwIcCWjPy83"
   },
   "outputs": [],
   "source": [
    "# Unduh dataset\n",
    "!wget -O data.csv \"https://taruma.github.io/assets/hidrokit_dataset/data_sni_67382015.csv\" -q\n",
    "FILE = 'data.csv'"
   ]
  },
  {
   "cell_type": "code",
   "execution_count": 0,
   "metadata": {
    "colab": {},
    "colab_type": "code",
    "id": "gfn-_rHpIx1M"
   },
   "outputs": [],
   "source": [
    "import numpy as np\n",
    "import pandas as pd\n",
    "import matplotlib.pyplot as plt"
   ]
  },
  {
   "cell_type": "code",
   "execution_count": 3,
   "metadata": {
    "colab": {
     "base_uri": "https://localhost:8080/",
     "height": 306
    },
    "colab_type": "code",
    "id": "EVDi21tlQVOH",
    "outputId": "a9f875f5-cecf-4615-da58-e688cdcc02f7"
   },
   "outputs": [
    {
     "name": "stdout",
     "output_type": "stream",
     "text": [
      "<class 'pandas.core.frame.DataFrame'>\n",
      "DatetimeIndex: 240 entries, 1982-01-31 to 2001-12-31\n",
      "Data columns (total 1 columns):\n",
      "debit    240 non-null float64\n",
      "dtypes: float64(1)\n",
      "memory usage: 3.8 KB\n"
     ]
    },
    {
     "data": {
      "text/html": [
       "<div>\n",
       "<style scoped>\n",
       "    .dataframe tbody tr th:only-of-type {\n",
       "        vertical-align: middle;\n",
       "    }\n",
       "\n",
       "    .dataframe tbody tr th {\n",
       "        vertical-align: top;\n",
       "    }\n",
       "\n",
       "    .dataframe thead th {\n",
       "        text-align: right;\n",
       "    }\n",
       "</style>\n",
       "<table border=\"1\" class=\"dataframe\">\n",
       "  <thead>\n",
       "    <tr style=\"text-align: right;\">\n",
       "      <th></th>\n",
       "      <th>debit</th>\n",
       "    </tr>\n",
       "  </thead>\n",
       "  <tbody>\n",
       "    <tr>\n",
       "      <th>1982-01-31</th>\n",
       "      <td>118.0</td>\n",
       "    </tr>\n",
       "    <tr>\n",
       "      <th>1982-02-28</th>\n",
       "      <td>63.9</td>\n",
       "    </tr>\n",
       "    <tr>\n",
       "      <th>1982-03-31</th>\n",
       "      <td>77.2</td>\n",
       "    </tr>\n",
       "    <tr>\n",
       "      <th>1982-04-30</th>\n",
       "      <td>155.0</td>\n",
       "    </tr>\n",
       "    <tr>\n",
       "      <th>1982-05-31</th>\n",
       "      <td>39.6</td>\n",
       "    </tr>\n",
       "  </tbody>\n",
       "</table>\n",
       "</div>"
      ],
      "text/plain": [
       "            debit\n",
       "1982-01-31  118.0\n",
       "1982-02-28   63.9\n",
       "1982-03-31   77.2\n",
       "1982-04-30  155.0\n",
       "1982-05-31   39.6"
      ]
     },
     "execution_count": 3,
     "metadata": {
      "tags": []
     },
     "output_type": "execute_result"
    }
   ],
   "source": [
    "# Import dataset\n",
    "dataset = pd.read_csv(FILE, index_col=0, header=0, parse_dates=True)\n",
    "dataset.info()\n",
    "dataset.head()"
   ]
  },
  {
   "cell_type": "markdown",
   "metadata": {
    "colab_type": "text",
    "id": "AkGyGOpLP3Ut"
   },
   "source": [
    "# KODE"
   ]
  },
  {
   "cell_type": "code",
   "execution_count": 0,
   "metadata": {
    "colab": {},
    "colab_type": "code",
    "id": "7AyNN8mTP4d0"
   },
   "outputs": [],
   "source": [
    "import numpy as np\n",
    "import pandas as pd\n",
    "\n",
    "def prob_weibull(m, n):\n",
    "    return m / (n + 1) * 100\n",
    "\n",
    "def _array_weibull(n):\n",
    "    return np.array([prob_weibull(i, n) for i in range(1, n+1)])\n",
    "\n",
    "def _fdc_xy(df):\n",
    "    n = len(df.index)\n",
    "    x = _array_weibull(n)\n",
    "    y = df.sort_values(ascending=False).values\n",
    "    return x, y\n",
    "\n",
    "def _interpolate(probability, x, y):\n",
    "    return {p: np.interp(p, x, y) for p in probability}\n",
    "\n",
    "def debit_andal(df, column, kind='table', prob=[80, 90, 95]):\n",
    "    x, y = _fdc_xy(df.loc[:, column])\n",
    "\n",
    "    if kind.lower() == 'array':\n",
    "        return x, y\n",
    "\n",
    "    if kind.lower() == 'prob':\n",
    "        return _interpolate(prob, x, y)\n",
    "\n",
    "    if kind.lower() == 'table':\n",
    "        data = {\n",
    "            'idx': df.loc[:, column].sort_values(ascending=False).index,\n",
    "            'rank': list(range(1, len(df.index)+1)),\n",
    "            'prob': x,\n",
    "            'data': y,            \n",
    "        }\n",
    "        return pd.DataFrame(data)\n",
    "\n",
    "def debit_andal_bulanan(df, column, **kwargs):\n",
    "    return {\n",
    "        m: debit_andal(df[df.index.month == m], column, **kwargs) \n",
    "        for m in range(1, 13)\n",
    "    }\n"
   ]
  },
  {
   "cell_type": "markdown",
   "metadata": {
    "colab_type": "text",
    "id": "NZygLBVTnmmF"
   },
   "source": [
    "# PENGGUNAAN"
   ]
  },
  {
   "cell_type": "markdown",
   "metadata": {
    "colab_type": "text",
    "id": "xnW38GFqLt0Y"
   },
   "source": [
    "## Fungsi `.debit_andal()`\n",
    "\n",
    "Pada fungsi ini terdapat parameter yang perlu diperhatikan selain `df` dan `column` yaitu `kind`. Parameter `kind` menentukan hasil keluaran dari fungsi. Berikut nilai yang diterima oleh parameter `kind`:\n",
    "\n",
    "- `'array'`: keluaran berupa _tuple_ berisi dua `np.array` yaitu `x` (untuk sumbu x, probabilitas weibull) dan `y` (untuk sumbu y, nilai debit yang telah diurutkan).\n",
    "- `'table'` (**default**) : keluaran berupa `pandas.DataFrame` tabelaris yang berisikan kolom `idx` (indeks/tanggal kejadian), `rank` (ranking), `prob` (probabilitas weibull), `data` (nilai yang telah diurutkan).\n",
    "- `'prob'`: keluaran berupa _dictionary_ dengan _key_ sebagai nilai probabilitas dan _value_ sebagai nilai data yang dicari. Nilai tersebut diperoleh menggunakan fungsi interpolasi dari `numpy` yaitu `np.interp()`."
   ]
  },
  {
   "cell_type": "markdown",
   "metadata": {
    "colab_type": "text",
    "id": "os0fxLR3NoOP"
   },
   "source": [
    "### `kind='array'`"
   ]
  },
  {
   "cell_type": "code",
   "execution_count": 5,
   "metadata": {
    "colab": {
     "base_uri": "https://localhost:8080/",
     "height": 51
    },
    "colab_type": "code",
    "id": "t9b4K-DJTEYY",
    "outputId": "6f3b24f1-b31d-4534-fbf4-d2c1f6557421"
   },
   "outputs": [
    {
     "name": "stdout",
     "output_type": "stream",
     "text": [
      "len(x) = 240\tx[:5] = [0.41493776 0.82987552 1.24481328 1.65975104 2.0746888 ]\n",
      "len(y) = 240\ty[:5] = [226. 210. 194. 184. 184.]\n"
     ]
    }
   ],
   "source": [
    "x, y = debit_andal(dataset, 'debit', kind='array')\n",
    "print(f'len(x) = {len(x)}\\tx[:5] = {x[:5]}')\n",
    "print(f'len(y) = {len(y)}\\ty[:5] = {y[:5]}')"
   ]
  },
  {
   "cell_type": "markdown",
   "metadata": {
    "colab_type": "text",
    "id": "W5AuOxw7OBE4"
   },
   "source": [
    "### `kind='table'` (**default**)"
   ]
  },
  {
   "cell_type": "code",
   "execution_count": 6,
   "metadata": {
    "colab": {
     "base_uri": "https://localhost:8080/",
     "height": 419
    },
    "colab_type": "code",
    "id": "-Y2YqRHmODvy",
    "outputId": "3931eb74-a86a-4242-e382-1aface33ed10"
   },
   "outputs": [
    {
     "data": {
      "text/html": [
       "<div>\n",
       "<style scoped>\n",
       "    .dataframe tbody tr th:only-of-type {\n",
       "        vertical-align: middle;\n",
       "    }\n",
       "\n",
       "    .dataframe tbody tr th {\n",
       "        vertical-align: top;\n",
       "    }\n",
       "\n",
       "    .dataframe thead th {\n",
       "        text-align: right;\n",
       "    }\n",
       "</style>\n",
       "<table border=\"1\" class=\"dataframe\">\n",
       "  <thead>\n",
       "    <tr style=\"text-align: right;\">\n",
       "      <th></th>\n",
       "      <th>idx</th>\n",
       "      <th>rank</th>\n",
       "      <th>prob</th>\n",
       "      <th>data</th>\n",
       "    </tr>\n",
       "  </thead>\n",
       "  <tbody>\n",
       "    <tr>\n",
       "      <th>0</th>\n",
       "      <td>2001-11-30</td>\n",
       "      <td>1</td>\n",
       "      <td>0.414938</td>\n",
       "      <td>226.0</td>\n",
       "    </tr>\n",
       "    <tr>\n",
       "      <th>1</th>\n",
       "      <td>1986-03-31</td>\n",
       "      <td>2</td>\n",
       "      <td>0.829876</td>\n",
       "      <td>210.0</td>\n",
       "    </tr>\n",
       "    <tr>\n",
       "      <th>2</th>\n",
       "      <td>2001-04-30</td>\n",
       "      <td>3</td>\n",
       "      <td>1.244813</td>\n",
       "      <td>194.0</td>\n",
       "    </tr>\n",
       "    <tr>\n",
       "      <th>3</th>\n",
       "      <td>1996-11-30</td>\n",
       "      <td>4</td>\n",
       "      <td>1.659751</td>\n",
       "      <td>184.0</td>\n",
       "    </tr>\n",
       "    <tr>\n",
       "      <th>4</th>\n",
       "      <td>1988-01-31</td>\n",
       "      <td>5</td>\n",
       "      <td>2.074689</td>\n",
       "      <td>184.0</td>\n",
       "    </tr>\n",
       "    <tr>\n",
       "      <th>...</th>\n",
       "      <td>...</td>\n",
       "      <td>...</td>\n",
       "      <td>...</td>\n",
       "      <td>...</td>\n",
       "    </tr>\n",
       "    <tr>\n",
       "      <th>235</th>\n",
       "      <td>1982-10-31</td>\n",
       "      <td>236</td>\n",
       "      <td>97.925311</td>\n",
       "      <td>6.2</td>\n",
       "    </tr>\n",
       "    <tr>\n",
       "      <th>236</th>\n",
       "      <td>1994-09-30</td>\n",
       "      <td>237</td>\n",
       "      <td>98.340249</td>\n",
       "      <td>6.0</td>\n",
       "    </tr>\n",
       "    <tr>\n",
       "      <th>237</th>\n",
       "      <td>1991-08-31</td>\n",
       "      <td>238</td>\n",
       "      <td>98.755187</td>\n",
       "      <td>5.7</td>\n",
       "    </tr>\n",
       "    <tr>\n",
       "      <th>238</th>\n",
       "      <td>1994-08-31</td>\n",
       "      <td>239</td>\n",
       "      <td>99.170124</td>\n",
       "      <td>5.3</td>\n",
       "    </tr>\n",
       "    <tr>\n",
       "      <th>239</th>\n",
       "      <td>1983-09-30</td>\n",
       "      <td>240</td>\n",
       "      <td>99.585062</td>\n",
       "      <td>2.2</td>\n",
       "    </tr>\n",
       "  </tbody>\n",
       "</table>\n",
       "<p>240 rows × 4 columns</p>\n",
       "</div>"
      ],
      "text/plain": [
       "           idx  rank       prob   data\n",
       "0   2001-11-30     1   0.414938  226.0\n",
       "1   1986-03-31     2   0.829876  210.0\n",
       "2   2001-04-30     3   1.244813  194.0\n",
       "3   1996-11-30     4   1.659751  184.0\n",
       "4   1988-01-31     5   2.074689  184.0\n",
       "..         ...   ...        ...    ...\n",
       "235 1982-10-31   236  97.925311    6.2\n",
       "236 1994-09-30   237  98.340249    6.0\n",
       "237 1991-08-31   238  98.755187    5.7\n",
       "238 1994-08-31   239  99.170124    5.3\n",
       "239 1983-09-30   240  99.585062    2.2\n",
       "\n",
       "[240 rows x 4 columns]"
      ]
     },
     "execution_count": 6,
     "metadata": {
      "tags": []
     },
     "output_type": "execute_result"
    }
   ],
   "source": [
    "debit_andal(dataset, 'debit') # atau debit_andal(dataset, 'debit', kind='table')"
   ]
  },
  {
   "cell_type": "markdown",
   "metadata": {
    "colab_type": "text",
    "id": "WfST4_5lOQQF"
   },
   "source": [
    "### `kind='prob'`\n",
    "\n",
    "Nilai probabilitas yang digunakan yaitu $Q_{80}$, $Q_{90}$, $Q_{95}$ atau `[80, 90, 95`]"
   ]
  },
  {
   "cell_type": "code",
   "execution_count": 7,
   "metadata": {
    "colab": {
     "base_uri": "https://localhost:8080/",
     "height": 34
    },
    "colab_type": "code",
    "id": "VS8XMabpOdWL",
    "outputId": "1c34c1a9-e43e-4f2a-e08b-1e7979cfa8e6"
   },
   "outputs": [
    {
     "data": {
      "text/plain": [
       "{80: 27.12, 90: 13.330000000000005, 95: 7.249999999999974}"
      ]
     },
     "execution_count": 7,
     "metadata": {
      "tags": []
     },
     "output_type": "execute_result"
    }
   ],
   "source": [
    "debit_andal(dataset, 'debit', kind='prob')\n",
    "# atau debit_andal(dataset, 'debit', kind='prob', prob=[80, 90, 95])"
   ]
  },
  {
   "cell_type": "markdown",
   "metadata": {
    "colab_type": "text",
    "id": "BvU5_3q_q3Tj"
   },
   "source": [
    "Contoh menggunakan nilai probabilitas yang berbeda `[30, 35, 70, 85, 95]`."
   ]
  },
  {
   "cell_type": "code",
   "execution_count": 8,
   "metadata": {
    "colab": {
     "base_uri": "https://localhost:8080/",
     "height": 102
    },
    "colab_type": "code",
    "id": "tknFyXIWOnu9",
    "outputId": "294cb9b2-8f31-4785-b356-fd22a21fe379"
   },
   "outputs": [
    {
     "data": {
      "text/plain": [
       "{30: 103.7,\n",
       " 35: 96.165,\n",
       " 70: 40.469999999999985,\n",
       " 85: 19.1,\n",
       " 95: 7.249999999999974}"
      ]
     },
     "execution_count": 8,
     "metadata": {
      "tags": []
     },
     "output_type": "execute_result"
    }
   ],
   "source": [
    "debit_andal(dataset, 'debit', kind='prob', prob=[30, 35, 70, 85, 95])"
   ]
  },
  {
   "cell_type": "markdown",
   "metadata": {
    "colab_type": "text",
    "id": "C7UY9njwPX2O"
   },
   "source": [
    "## Fungsi `.debit_andal_bulanan()`\n",
    "\n",
    "Fungsi ini merupakan pengembangan lebih lanjut dari `.debit_andal()` yang dapat digunakan untuk membuat kurva durasi debit per bulan. Fungsi `.debit_andal_bulanan()` dapat menerima parameter yang sama dengan `.debit_andal()` seperti `kind` dan `prob`.\n",
    "\n",
    "_Key_ pada hasil keluaran fungsi ini menunjukkan bulan, contoh: `[1]` mengartikan bulan ke-1 (Januari)."
   ]
  },
  {
   "cell_type": "code",
   "execution_count": 17,
   "metadata": {
    "colab": {
     "base_uri": "https://localhost:8080/",
     "height": 51
    },
    "colab_type": "code",
    "id": "OZfOduuESMEZ",
    "outputId": "42ecaca8-26a4-4d81-d248-c8bc6f11111d"
   },
   "outputs": [
    {
     "name": "stdout",
     "output_type": "stream",
     "text": [
      "keys = dict_keys([1, 2, 3, 4, 5, 6, 7, 8, 9, 10, 11, 12])\n",
      "values = <class 'pandas.core.frame.DataFrame'>\n"
     ]
    }
   ],
   "source": [
    "bulanan = debit_andal_bulanan(dataset, 'debit')\n",
    "print(f'keys = {bulanan.keys()}')\n",
    "print(f'values = {type(bulanan[1])}')\n",
    "# out: berupa dataframe karena nilai kind='table' (default) fungsi debit_andal()"
   ]
  },
  {
   "cell_type": "markdown",
   "metadata": {
    "colab_type": "text",
    "id": "D936WFTFSMsn"
   },
   "source": [
    "Menampilkan tabel untuk bulan Maret (ke-3)"
   ]
  },
  {
   "cell_type": "code",
   "execution_count": 25,
   "metadata": {
    "colab": {
     "base_uri": "https://localhost:8080/",
     "height": 204
    },
    "colab_type": "code",
    "id": "uThGy3TBSMHX",
    "outputId": "df5fcc76-6416-4551-ee92-32f669b4a735"
   },
   "outputs": [
    {
     "data": {
      "text/html": [
       "<div>\n",
       "<style scoped>\n",
       "    .dataframe tbody tr th:only-of-type {\n",
       "        vertical-align: middle;\n",
       "    }\n",
       "\n",
       "    .dataframe tbody tr th {\n",
       "        vertical-align: top;\n",
       "    }\n",
       "\n",
       "    .dataframe thead th {\n",
       "        text-align: right;\n",
       "    }\n",
       "</style>\n",
       "<table border=\"1\" class=\"dataframe\">\n",
       "  <thead>\n",
       "    <tr style=\"text-align: right;\">\n",
       "      <th></th>\n",
       "      <th>idx</th>\n",
       "      <th>rank</th>\n",
       "      <th>prob</th>\n",
       "      <th>data</th>\n",
       "    </tr>\n",
       "  </thead>\n",
       "  <tbody>\n",
       "    <tr>\n",
       "      <th>0</th>\n",
       "      <td>1986-03-31</td>\n",
       "      <td>1</td>\n",
       "      <td>4.761905</td>\n",
       "      <td>210.0</td>\n",
       "    </tr>\n",
       "    <tr>\n",
       "      <th>1</th>\n",
       "      <td>1998-03-31</td>\n",
       "      <td>2</td>\n",
       "      <td>9.523810</td>\n",
       "      <td>174.0</td>\n",
       "    </tr>\n",
       "    <tr>\n",
       "      <th>2</th>\n",
       "      <td>1992-03-31</td>\n",
       "      <td>3</td>\n",
       "      <td>14.285714</td>\n",
       "      <td>173.0</td>\n",
       "    </tr>\n",
       "    <tr>\n",
       "      <th>3</th>\n",
       "      <td>1993-03-31</td>\n",
       "      <td>4</td>\n",
       "      <td>19.047619</td>\n",
       "      <td>164.0</td>\n",
       "    </tr>\n",
       "    <tr>\n",
       "      <th>4</th>\n",
       "      <td>1991-03-31</td>\n",
       "      <td>5</td>\n",
       "      <td>23.809524</td>\n",
       "      <td>155.0</td>\n",
       "    </tr>\n",
       "  </tbody>\n",
       "</table>\n",
       "</div>"
      ],
      "text/plain": [
       "         idx  rank       prob   data\n",
       "0 1986-03-31     1   4.761905  210.0\n",
       "1 1998-03-31     2   9.523810  174.0\n",
       "2 1992-03-31     3  14.285714  173.0\n",
       "3 1993-03-31     4  19.047619  164.0\n",
       "4 1991-03-31     5  23.809524  155.0"
      ]
     },
     "execution_count": 25,
     "metadata": {
      "tags": []
     },
     "output_type": "execute_result"
    }
   ],
   "source": [
    "bulanan[3].head()"
   ]
  },
  {
   "cell_type": "markdown",
   "metadata": {
    "colab_type": "text",
    "id": "tp-olJpPq_DO"
   },
   "source": [
    "Contoh menampilkan nilai $Q_{80}, Q_{85}, Q_{90}, Q_{95}$ untuk setiap bulan"
   ]
  },
  {
   "cell_type": "code",
   "execution_count": 23,
   "metadata": {
    "colab": {
     "base_uri": "https://localhost:8080/",
     "height": 221
    },
    "colab_type": "code",
    "id": "8Rl1RAKL0e1M",
    "outputId": "771885be-1245-4307-8c2d-b507421af63d"
   },
   "outputs": [
    {
     "name": "stdout",
     "output_type": "stream",
     "text": [
      "Bulan ke-1:\t{80: 74.0, 85: 72.05499999999999, 90: 68.11, 95: 56.67999999999998}\n",
      "Bulan ke-2:\t{80: 66.16, 85: 63.93, 90: 57.42000000000001, 95: 52.04499999999999}\n",
      "Bulan ke-3:\t{80: 78.67999999999999, 85: 70.82499999999999, 90: 57.01000000000001, 95: 36.219999999999956}\n",
      "Bulan ke-4:\t{80: 102.0, 85: 93.945, 90: 74.61000000000001, 95: 44.47999999999993}\n",
      "Bulan ke-5:\t{80: 55.599999999999994, 85: 45.329999999999984, 90: 40.02, 95: 39.03}\n",
      "Bulan ke-6:\t{80: 33.339999999999996, 85: 28.319999999999993, 90: 24.270000000000003, 95: 14.589999999999979}\n",
      "Bulan ke-7:\t{80: 14.419999999999998, 85: 13.86, 90: 10.020000000000003, 95: 7.319999999999995}\n",
      "Bulan ke-8:\t{80: 7.039999999999999, 85: 6.359999999999999, 90: 5.760000000000001, 95: 5.3199999999999985}\n",
      "Bulan ke-9:\t{80: 6.92, 85: 6.475, 90: 6.04, 95: 2.3899999999999917}\n",
      "Bulan ke-10:\t{80: 10.019999999999998, 85: 8.86, 90: 6.5500000000000025, 95: 6.205}\n",
      "Bulan ke-11:\t{80: 36.279999999999994, 85: 24.249999999999986, 90: 14.920000000000007, 95: 10.01499999999999}\n",
      "Bulan ke-12:\t{80: 65.16, 85: 49.49999999999998, 90: 42.480000000000004, 95: 37.249999999999986}\n"
     ]
    }
   ],
   "source": [
    "bulanan_prob = debit_andal_bulanan(\n",
    "    dataset, 'debit', kind='prob', prob=[80, 85, 90, 95]\n",
    ")\n",
    "for key, value in bulanan_prob.items():\n",
    "    print('Bulan ke-', key, ':\\t', value, sep='')"
   ]
  },
  {
   "cell_type": "markdown",
   "metadata": {
    "colab_type": "text",
    "id": "BAZ739a7STA5"
   },
   "source": [
    "# Changelog\n",
    "\n",
    "```\n",
    "- 20191214 - 1.0.0 - Initial\n",
    "```\n",
    "\n",
    "#### Copyright &copy; 2019 [Taruma Sakti Megariansyah](https://taruma.github.io)\n",
    "\n",
    "Source code in this notebook is licensed under a [MIT License](https://choosealicense.com/licenses/mit/). Data in this notebook is licensed under a [Creative Common Attribution 4.0 International](https://creativecommons.org/licenses/by/4.0/). \n"
   ]
  }
 ],
 "metadata": {
  "colab": {
   "collapsed_sections": [],
   "include_colab_link": true,
   "name": "taruma_hk87_debit_andal_kurva_durasi.ipynb",
   "provenance": []
  },
  "kernelspec": {
   "display_name": "Python 3",
   "language": "python",
   "name": "python3"
  },
  "language_info": {
   "codemirror_mode": {
    "name": "ipython",
    "version": 3
   },
   "file_extension": ".py",
   "mimetype": "text/x-python",
   "name": "python",
   "nbconvert_exporter": "python",
   "pygments_lexer": "ipython3",
   "version": "3.7.5"
  },
  "toc": {
   "base_numbering": 1,
   "nav_menu": {},
   "number_sections": true,
   "sideBar": true,
   "skip_h1_title": false,
   "title_cell": "Table of Contents",
   "title_sidebar": "Contents",
   "toc_cell": false,
   "toc_position": {},
   "toc_section_display": true,
   "toc_window_display": false
  },
  "varInspector": {
   "cols": {
    "lenName": 16,
    "lenType": 16,
    "lenVar": 40
   },
   "kernels_config": {
    "python": {
     "delete_cmd_postfix": "",
     "delete_cmd_prefix": "del ",
     "library": "var_list.py",
     "varRefreshCmd": "print(var_dic_list())"
    },
    "r": {
     "delete_cmd_postfix": ") ",
     "delete_cmd_prefix": "rm(",
     "library": "var_list.r",
     "varRefreshCmd": "cat(var_dic_list()) "
    }
   },
   "types_to_exclude": [
    "module",
    "function",
    "builtin_function_or_method",
    "instance",
    "_Feature"
   ],
   "window_display": false
  }
 },
 "nbformat": 4,
 "nbformat_minor": 1
}

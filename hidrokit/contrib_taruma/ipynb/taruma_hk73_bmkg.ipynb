{
 "cells": [
  {
   "cell_type": "markdown",
   "metadata": {
    "colab_type": "text",
    "id": "view-in-github"
   },
   "source": [
    "<a href=\"https://colab.research.google.com/gist/taruma/b00880905f297013f046dad95dc2e284/taruma_hk73_bmkg.ipynb\" target=\"_parent\"><img src=\"https://colab.research.google.com/assets/colab-badge.svg\" alt=\"Open In Colab\"/></a>"
   ]
  },
  {
   "cell_type": "markdown",
   "metadata": {
    "colab_type": "text",
    "id": "C7uQLNtOfUqQ"
   },
   "source": [
    "Berdasarkan isu [#73](https://github.com/taruma/hidrokit/issues/73): **request: mengolah berkas dari data bmkg**\n",
    "\n",
    "Deskripsi:\n",
    "\n",
    "- mengolah berkas excel yang diperoleh dari data online bmkg untuk siap dipakai\n",
    "- memeriksa kondisi data\n",
    "\n",
    "Fungsi yang diharapkan:\n",
    "\n",
    "__Umum / General__\n",
    "\n",
    "- Memeriksa apakah data lengkap atau tidak? Jika tidak, data apa dan pada tanggal berapa?\n",
    "- Memeriksa apakah data tidak ada data / tidak ada pengukuran (9999) atau data tidak diukur (8888)? Jika ada, data apa dan pada tanggal berapa?\n",
    "- Menampilkan \"potongan\" baris yang tidak memiliki data / tidak melakukan pengukuran?\n"
   ]
  },
  {
   "cell_type": "markdown",
   "metadata": {
    "colab_type": "text",
    "id": "CAXMkTucfi5r"
   },
   "source": [
    "# DATASET"
   ]
  },
  {
   "cell_type": "code",
   "execution_count": 0,
   "metadata": {
    "colab": {
     "base_uri": "https://localhost:8080/",
     "height": 34
    },
    "colab_type": "code",
    "id": "wuuh6a1aenuV",
    "outputId": "bc65043c-577c-4246-a172-b36aadb7f437"
   },
   "outputs": [
    {
     "name": "stdout",
     "output_type": "stream",
     "text": [
      "Drive already mounted at /content/gdrive; to attempt to forcibly remount, call drive.mount(\"/content/gdrive\", force_remount=True).\n"
     ]
    }
   ],
   "source": [
    "# AKSES GOOGLE DRIVE \n",
    "from google.colab import drive\n",
    "drive.mount('/content/gdrive')"
   ]
  },
  {
   "cell_type": "code",
   "execution_count": 0,
   "metadata": {
    "colab": {},
    "colab_type": "code",
    "id": "eDaSAhQ8fmGg"
   },
   "outputs": [],
   "source": [
    "# DRIVE PATH\n",
    "DRIVE_DROP_PATH = '/content/gdrive/My Drive/Colab Notebooks/_dropbox'\n",
    "DRIVE_DATASET_PATH = '/content/gdrive/My Drive/Colab Notebooks/_dataset/uma_pamarayan'"
   ]
  },
  {
   "cell_type": "code",
   "execution_count": 0,
   "metadata": {
    "colab": {},
    "colab_type": "code",
    "id": "BppR0eMif41Y"
   },
   "outputs": [],
   "source": [
    "DATASET_PATH = DRIVE_DATASET_PATH + '/klimatologi_geofisika_tangerang_1998_2009.xlsx'"
   ]
  },
  {
   "cell_type": "markdown",
   "metadata": {
    "colab_type": "text",
    "id": "rzXF7v0BtnYq"
   },
   "source": [
    "# FUNGSI"
   ]
  },
  {
   "cell_type": "code",
   "execution_count": 0,
   "metadata": {
    "colab": {},
    "colab_type": "code",
    "id": "8MwMIU0bwEwK"
   },
   "outputs": [],
   "source": [
    "import pandas as pd\n",
    "import numpy as np\n",
    "from operator import itemgetter\n",
    "from itertools import groupby\n",
    "\n",
    "def _read_bmkg(io):\n",
    "    return pd.read_excel(\n",
    "        io, skiprows=8, skipfooter=16, header=0, index_col=0, parse_dates=True,\n",
    "        date_parser=lambda x: pd.to_datetime(x, format='%d-%m-%Y')\n",
    "    )\n",
    "\n",
    "def _have_nan(dataset):\n",
    "    if dataset.isna().any().any():\n",
    "        return True\n",
    "    else:\n",
    "        return False\n",
    "\n",
    "def _get_index1D(array1D_bool):\n",
    "    return np.argwhere(array1D_bool).reshape(-1,)\n",
    "\n",
    "def _get_nan(dataset):\n",
    "    nan = {}\n",
    "\n",
    "    for col in dataset.columns:\n",
    "        nan[col] = _get_index1D(dataset[col].isna().values).tolist()\n",
    "\n",
    "    return nan\n",
    "\n",
    "def _get_missing(dataset):\n",
    "    missing = {}\n",
    "\n",
    "    for col in dataset.columns:\n",
    "        masking = (dataset[col] == 8888) | (dataset[col] == 9999)\n",
    "        missing[col] = _get_index1D(masking.values)\n",
    "    \n",
    "    return missing\n",
    "\n",
    "def _check_nan(dataset):\n",
    "    if _have_nan(dataset):\n",
    "        return _get_nan(dataset)\n",
    "    else:\n",
    "        return None\n",
    "\n",
    "def _get_nan_columns(dataset):\n",
    "    return dataset.columns[dataset.isna().any()].tolist()\n",
    "\n",
    "def _group_as_list(array):\n",
    "\n",
    "    # based on https://stackoverflow.com/a/15276206 \n",
    "    group_list = []\n",
    "    for _, g in groupby(enumerate(array), lambda x: x[0]-x[1]):\n",
    "        single_list = sorted(list(map(itemgetter(1), g)))\n",
    "        group_list.append(single_list)\n",
    "    \n",
    "    return group_list\n",
    "\n",
    "def _group_as_index(\n",
    "    group_list, index=None, date_format='%Y%m%d',\n",
    "    format_date = '{}-{}'\n",
    "):\n",
    "    group_index = []\n",
    "    date_index = isinstance(index, pd.DatetimeIndex)\n",
    "\n",
    "    for item in group_list:\n",
    "        if len(item) == 1:\n",
    "            if date_index:\n",
    "                group_index.append(index[item[0]].strftime(date_format))\n",
    "            else:\n",
    "                group_index.append(index[item[0]])\n",
    "        else:\n",
    "            if date_index:\n",
    "                group_index.append(\n",
    "                    format_date.format(\n",
    "                        index[item[0]].strftime(date_format),\n",
    "                        index[item[-1]].strftime(date_format)\n",
    "                    )\n",
    "                )\n",
    "            else:\n",
    "                group_index.append(\n",
    "                    format_date.format(\n",
    "                        index[item[0]], index[item[-1]]\n",
    "                    )\n",
    "                )\n",
    "            \n",
    "    return group_index"
   ]
  },
  {
   "cell_type": "markdown",
   "metadata": {
    "colab_type": "text",
    "id": "zdCnFSrSgN-p"
   },
   "source": [
    "# PENGGUNAAN"
   ]
  },
  {
   "cell_type": "markdown",
   "metadata": {
    "colab_type": "text",
    "id": "XvkIulXMenWc"
   },
   "source": [
    "## Fungsi `_read_bmkg`\n",
    "\n",
    "Tujuan: Impor berkas excel bmkg ke dataframe"
   ]
  },
  {
   "cell_type": "code",
   "execution_count": 0,
   "metadata": {
    "colab": {
     "base_uri": "https://localhost:8080/"
    },
    "colab_type": "code",
    "id": "Y_x0pjyAgQZ8",
    "outputId": "77356243-f3b9-4b6b-8516-12b716a68337"
   },
   "outputs": [
    {
     "data": {
      "text/html": [
       "<div>\n",
       "<style scoped>\n",
       "    .dataframe tbody tr th:only-of-type {\n",
       "        vertical-align: middle;\n",
       "    }\n",
       "\n",
       "    .dataframe tbody tr th {\n",
       "        vertical-align: top;\n",
       "    }\n",
       "\n",
       "    .dataframe thead th {\n",
       "        text-align: right;\n",
       "    }\n",
       "</style>\n",
       "<table border=\"1\" class=\"dataframe\">\n",
       "  <thead>\n",
       "    <tr style=\"text-align: right;\">\n",
       "      <th></th>\n",
       "      <th>Tn</th>\n",
       "      <th>Tx</th>\n",
       "      <th>Tavg</th>\n",
       "      <th>RH_avg</th>\n",
       "      <th>RR</th>\n",
       "      <th>ss</th>\n",
       "      <th>ff_x</th>\n",
       "      <th>ddd_x</th>\n",
       "      <th>ff_avg</th>\n",
       "      <th>ddd_car</th>\n",
       "    </tr>\n",
       "    <tr>\n",
       "      <th>Tanggal</th>\n",
       "      <th></th>\n",
       "      <th></th>\n",
       "      <th></th>\n",
       "      <th></th>\n",
       "      <th></th>\n",
       "      <th></th>\n",
       "      <th></th>\n",
       "      <th></th>\n",
       "      <th></th>\n",
       "      <th></th>\n",
       "    </tr>\n",
       "  </thead>\n",
       "  <tbody>\n",
       "    <tr>\n",
       "      <th>1998-03-01</th>\n",
       "      <td>24.0</td>\n",
       "      <td>32.0</td>\n",
       "      <td>27.7</td>\n",
       "      <td>89.0</td>\n",
       "      <td>0.0</td>\n",
       "      <td>5.0</td>\n",
       "      <td>2.0</td>\n",
       "      <td>78.0</td>\n",
       "      <td>2.0</td>\n",
       "      <td>W</td>\n",
       "    </tr>\n",
       "    <tr>\n",
       "      <th>1998-03-02</th>\n",
       "      <td>23.9</td>\n",
       "      <td>31.2</td>\n",
       "      <td>27.6</td>\n",
       "      <td>92.0</td>\n",
       "      <td>16.0</td>\n",
       "      <td>2.0</td>\n",
       "      <td>4.0</td>\n",
       "      <td>283.0</td>\n",
       "      <td>3.0</td>\n",
       "      <td>SE</td>\n",
       "    </tr>\n",
       "    <tr>\n",
       "      <th>1998-03-03</th>\n",
       "      <td>24.2</td>\n",
       "      <td>33.0</td>\n",
       "      <td>27.3</td>\n",
       "      <td>90.0</td>\n",
       "      <td>7.0</td>\n",
       "      <td>2.0</td>\n",
       "      <td>5.0</td>\n",
       "      <td>330.0</td>\n",
       "      <td>2.0</td>\n",
       "      <td>S</td>\n",
       "    </tr>\n",
       "    <tr>\n",
       "      <th>1998-03-04</th>\n",
       "      <td>24.0</td>\n",
       "      <td>30.4</td>\n",
       "      <td>26.9</td>\n",
       "      <td>90.0</td>\n",
       "      <td>1.0</td>\n",
       "      <td>0.2</td>\n",
       "      <td>3.0</td>\n",
       "      <td>285.0</td>\n",
       "      <td>0.0</td>\n",
       "      <td>SW</td>\n",
       "    </tr>\n",
       "    <tr>\n",
       "      <th>1998-03-05</th>\n",
       "      <td>24.0</td>\n",
       "      <td>32.0</td>\n",
       "      <td>27.4</td>\n",
       "      <td>89.0</td>\n",
       "      <td>0.0</td>\n",
       "      <td>3.7</td>\n",
       "      <td>0.0</td>\n",
       "      <td>345.0</td>\n",
       "      <td>0.0</td>\n",
       "      <td>E</td>\n",
       "    </tr>\n",
       "  </tbody>\n",
       "</table>\n",
       "</div>"
      ],
      "text/plain": [
       "              Tn    Tx  Tavg  RH_avg    RR   ss  ff_x  ddd_x  ff_avg ddd_car\n",
       "Tanggal                                                                     \n",
       "1998-03-01  24.0  32.0  27.7    89.0   0.0  5.0   2.0   78.0     2.0      W \n",
       "1998-03-02  23.9  31.2  27.6    92.0  16.0  2.0   4.0  283.0     3.0      SE\n",
       "1998-03-03  24.2  33.0  27.3    90.0   7.0  2.0   5.0  330.0     2.0      S \n",
       "1998-03-04  24.0  30.4  26.9    90.0   1.0  0.2   3.0  285.0     0.0      SW\n",
       "1998-03-05  24.0  32.0  27.4    89.0   0.0  3.7   0.0  345.0     0.0      E "
      ]
     },
     "execution_count": 5,
     "metadata": {
      "tags": []
     },
     "output_type": "execute_result"
    }
   ],
   "source": [
    "dataset = _read_bmkg(DATASET_PATH)\n",
    "dataset.head()"
   ]
  },
  {
   "cell_type": "code",
   "execution_count": 0,
   "metadata": {
    "colab": {
     "base_uri": "https://localhost:8080/"
    },
    "colab_type": "code",
    "id": "3PJwY1ODe5XS",
    "outputId": "b0457b1d-3226-4b5f-a1f5-2342aa708b8c"
   },
   "outputs": [
    {
     "data": {
      "text/html": [
       "<div>\n",
       "<style scoped>\n",
       "    .dataframe tbody tr th:only-of-type {\n",
       "        vertical-align: middle;\n",
       "    }\n",
       "\n",
       "    .dataframe tbody tr th {\n",
       "        vertical-align: top;\n",
       "    }\n",
       "\n",
       "    .dataframe thead th {\n",
       "        text-align: right;\n",
       "    }\n",
       "</style>\n",
       "<table border=\"1\" class=\"dataframe\">\n",
       "  <thead>\n",
       "    <tr style=\"text-align: right;\">\n",
       "      <th></th>\n",
       "      <th>Tn</th>\n",
       "      <th>Tx</th>\n",
       "      <th>Tavg</th>\n",
       "      <th>RH_avg</th>\n",
       "      <th>RR</th>\n",
       "      <th>ss</th>\n",
       "      <th>ff_x</th>\n",
       "      <th>ddd_x</th>\n",
       "      <th>ff_avg</th>\n",
       "      <th>ddd_car</th>\n",
       "    </tr>\n",
       "    <tr>\n",
       "      <th>Tanggal</th>\n",
       "      <th></th>\n",
       "      <th></th>\n",
       "      <th></th>\n",
       "      <th></th>\n",
       "      <th></th>\n",
       "      <th></th>\n",
       "      <th></th>\n",
       "      <th></th>\n",
       "      <th></th>\n",
       "      <th></th>\n",
       "    </tr>\n",
       "  </thead>\n",
       "  <tbody>\n",
       "    <tr>\n",
       "      <th>2008-12-28</th>\n",
       "      <td>24.7</td>\n",
       "      <td>33.0</td>\n",
       "      <td>28.6</td>\n",
       "      <td>78.0</td>\n",
       "      <td>0.0</td>\n",
       "      <td>5.1</td>\n",
       "      <td>13.0</td>\n",
       "      <td>270.0</td>\n",
       "      <td>3.0</td>\n",
       "      <td>W</td>\n",
       "    </tr>\n",
       "    <tr>\n",
       "      <th>2008-12-29</th>\n",
       "      <td>23.2</td>\n",
       "      <td>29.4</td>\n",
       "      <td>26.7</td>\n",
       "      <td>84.0</td>\n",
       "      <td>1.0</td>\n",
       "      <td>0.0</td>\n",
       "      <td>15.0</td>\n",
       "      <td>270.0</td>\n",
       "      <td>8.0</td>\n",
       "      <td>W</td>\n",
       "    </tr>\n",
       "    <tr>\n",
       "      <th>2008-12-30</th>\n",
       "      <td>24.6</td>\n",
       "      <td>31.2</td>\n",
       "      <td>27.2</td>\n",
       "      <td>82.0</td>\n",
       "      <td>2.0</td>\n",
       "      <td>1.5</td>\n",
       "      <td>13.0</td>\n",
       "      <td>315.0</td>\n",
       "      <td>4.0</td>\n",
       "      <td>W</td>\n",
       "    </tr>\n",
       "    <tr>\n",
       "      <th>2008-12-31</th>\n",
       "      <td>24.6</td>\n",
       "      <td>32.2</td>\n",
       "      <td>27.5</td>\n",
       "      <td>82.0</td>\n",
       "      <td>3.0</td>\n",
       "      <td>1.5</td>\n",
       "      <td>13.0</td>\n",
       "      <td>270.0</td>\n",
       "      <td>4.0</td>\n",
       "      <td>W</td>\n",
       "    </tr>\n",
       "    <tr>\n",
       "      <th>2009-01-01</th>\n",
       "      <td>24.5</td>\n",
       "      <td>32.1</td>\n",
       "      <td>26.2</td>\n",
       "      <td>90.0</td>\n",
       "      <td>18.0</td>\n",
       "      <td>1.6</td>\n",
       "      <td>8.0</td>\n",
       "      <td>270.0</td>\n",
       "      <td>2.0</td>\n",
       "      <td>W</td>\n",
       "    </tr>\n",
       "  </tbody>\n",
       "</table>\n",
       "</div>"
      ],
      "text/plain": [
       "              Tn    Tx  Tavg  RH_avg    RR   ss  ff_x  ddd_x  ff_avg ddd_car\n",
       "Tanggal                                                                     \n",
       "2008-12-28  24.7  33.0  28.6    78.0   0.0  5.1  13.0  270.0     3.0      W \n",
       "2008-12-29  23.2  29.4  26.7    84.0   1.0  0.0  15.0  270.0     8.0      W \n",
       "2008-12-30  24.6  31.2  27.2    82.0   2.0  1.5  13.0  315.0     4.0      W \n",
       "2008-12-31  24.6  32.2  27.5    82.0   3.0  1.5  13.0  270.0     4.0      W \n",
       "2009-01-01  24.5  32.1  26.2    90.0  18.0  1.6   8.0  270.0     2.0      W "
      ]
     },
     "execution_count": 6,
     "metadata": {
      "tags": []
     },
     "output_type": "execute_result"
    }
   ],
   "source": [
    "dataset.tail()"
   ]
  },
  {
   "cell_type": "markdown",
   "metadata": {
    "colab_type": "text",
    "id": "qY3RdEtXe885"
   },
   "source": [
    "## Fungsi `_have_nan()`\n",
    "\n",
    "Tujuan: Memeriksa apakah di dalam tabel memiliki nilai yang hilang (np.nan)"
   ]
  },
  {
   "cell_type": "code",
   "execution_count": 0,
   "metadata": {
    "colab": {
     "base_uri": "https://localhost:8080/"
    },
    "colab_type": "code",
    "id": "6zmDPDupfG7x",
    "outputId": "ca968eac-290b-4d03-ab35-3a457d1abd3e"
   },
   "outputs": [
    {
     "data": {
      "text/plain": [
       "True"
      ]
     },
     "execution_count": 7,
     "metadata": {
      "tags": []
     },
     "output_type": "execute_result"
    }
   ],
   "source": [
    "_have_nan(dataset)"
   ]
  },
  {
   "cell_type": "markdown",
   "metadata": {
    "colab_type": "text",
    "id": "xcj4-4--f8P7"
   },
   "source": [
    "## Fungsi `_get_index1D()`\n",
    "\n",
    "Tujuan: Memperoleh index data yang hilang untuk setiap array"
   ]
  },
  {
   "cell_type": "code",
   "execution_count": 0,
   "metadata": {
    "colab": {
     "base_uri": "https://localhost:8080/"
    },
    "colab_type": "code",
    "id": "wHdn_BWdgEZc",
    "outputId": "4b05e956-5415-4c2e-8e96-ca92801903a7"
   },
   "outputs": [
    {
     "data": {
      "text/plain": [
       "array([ 852, 1037, 1038, 1039, 1040, 1041, 1042, 1043, 1044, 1045, 1046,\n",
       "       1047, 1048, 1049, 1050, 1051, 1052, 1053, 1054, 1055, 1056, 1057,\n",
       "       1058, 1059, 1060, 1061, 1062, 1063, 1064, 1065, 1066, 1067, 1220,\n",
       "       1221, 1222, 1223, 1224, 1628, 1629, 1697, 2657])"
      ]
     },
     "execution_count": 8,
     "metadata": {
      "tags": []
     },
     "output_type": "execute_result"
    }
   ],
   "source": [
    "_get_index1D(dataset['RH_avg'].isna().values)"
   ]
  },
  {
   "cell_type": "markdown",
   "metadata": {
    "colab_type": "text",
    "id": "XXFJxVfqfJ8N"
   },
   "source": [
    "## Fungsi `_get_nan()`\n",
    "\n",
    "Tujuan: Memperoleh index data yang hilang untuk setiap kolom dalam bentuk `dictionary`"
   ]
  },
  {
   "cell_type": "code",
   "execution_count": 0,
   "metadata": {
    "colab": {
     "base_uri": "https://localhost:8080/"
    },
    "colab_type": "code",
    "id": "7RrL9iG0fT9P",
    "outputId": "0034f4fe-bf1b-46b5-f574-51344be3f745"
   },
   "outputs": [
    {
     "data": {
      "text/plain": [
       "dict_keys(['Tn', 'Tx', 'Tavg', 'RH_avg', 'RR', 'ss', 'ff_x', 'ddd_x', 'ff_avg', 'ddd_car'])"
      ]
     },
     "execution_count": 9,
     "metadata": {
      "tags": []
     },
     "output_type": "execute_result"
    }
   ],
   "source": [
    "_get_nan(dataset).keys()"
   ]
  },
  {
   "cell_type": "code",
   "execution_count": 0,
   "metadata": {
    "colab": {
     "base_uri": "https://localhost:8080/"
    },
    "colab_type": "code",
    "id": "tJG-IJ_8fYVF",
    "outputId": "267e30b6-2cd0-4175-c963-adc31c8b3ce7"
   },
   "outputs": [
    {
     "name": "stdout",
     "output_type": "stream",
     "text": [
      "[852, 1037, 1038, 1039, 1040, 1041, 1042, 1043, 1044, 1045, 1046, 1047, 1048, 1049, 1050, 1051, 1052, 1053, 1054, 1055, 1056, 1057, 1058, 1059, 1060, 1061, 1062, 1063, 1064, 1065, 1066, 1067, 1220, 1221, 1222, 1223, 1224, 1628, 1629, 1697, 2657]\n"
     ]
    }
   ],
   "source": [
    "print(_get_nan(dataset)['RH_avg'])"
   ]
  },
  {
   "cell_type": "markdown",
   "metadata": {
    "colab_type": "text",
    "id": "vAW_kMxEh_6N"
   },
   "source": [
    "## Fungsi `_get_nan_columns()`\n",
    "\n",
    "Tujuan: Memperoleh nama kolom yang memiliki nilai yang hilang `NaN`."
   ]
  },
  {
   "cell_type": "code",
   "execution_count": 0,
   "metadata": {
    "colab": {
     "base_uri": "https://localhost:8080/"
    },
    "colab_type": "code",
    "id": "V-sHtOb1h_aT",
    "outputId": "231a35a1-55df-4b06-e078-7f957c529406"
   },
   "outputs": [
    {
     "data": {
      "text/plain": [
       "['RH_avg', 'ss', 'ff_x', 'ddd_x', 'ff_avg', 'ddd_car']"
      ]
     },
     "execution_count": 11,
     "metadata": {
      "tags": []
     },
     "output_type": "execute_result"
    }
   ],
   "source": [
    "_get_nan_columns(dataset)"
   ]
  },
  {
   "cell_type": "markdown",
   "metadata": {
    "colab_type": "text",
    "id": "L09Uw9DcfkjG"
   },
   "source": [
    "## Fungsi `_check_nan()`\n",
    "\n",
    "Tujuan: Gabungan dari `_have_nan()` dan `_get_nan()`. Memeriksa apakah dataset memiliki `NaN`, jika iya, memberikan nilai hasil `_get_nan()`, jika tidak memberikan nilai `None`."
   ]
  },
  {
   "cell_type": "code",
   "execution_count": 0,
   "metadata": {
    "colab": {
     "base_uri": "https://localhost:8080/",
     "height": 54
    },
    "colab_type": "code",
    "id": "yE2uLd0shma4",
    "outputId": "04409014-d411-4b8d-bc24-20c82c51ea2f"
   },
   "outputs": [
    {
     "data": {
      "text/plain": [
       "dict_items([('Tn', []), ('Tx', []), ('Tavg', []), ('RH_avg', [852, 1037, 1038, 1039, 1040, 1041, 1042, 1043, 1044, 1045, 1046, 1047, 1048, 1049, 1050, 1051, 1052, 1053, 1054, 1055, 1056, 1057, 1058, 1059, 1060, 1061, 1062, 1063, 1064, 1065, 1066, 1067, 1220, 1221, 1222, 1223, 1224, 1628, 1629, 1697, 2657]), ('RR', []), ('ss', [97, 103, 113, 117, 131, 132, 133, 139, 148, 207, 212, 238, 273, 308, 313, 314, 315, 324, 332, 333, 340, 343, 344, 349, 354, 357, 359, 360, 363, 379, 604, 609, 610, 616, 617, 623, 642, 655, 656, 663, 664, 665, 669, 678, 687, 690, 696, 700, 701, 708, 709, 710, 712, 721, 733, 768, 824, 825, 840, 949, 976, 977, 978, 984, 985, 986, 1000, 1068, 1073, 1074, 1077, 1080, 1084, 1087, 1089, 1101, 1125, 1135, 1174, 1182, 1185, 1187, 1199, 1355, 1363, 1366, 1384, 1400, 1401, 1408, 1411, 1419, 1429, 1430, 1431, 1436, 1437, 1441, 1443, 1445, 1446, 1454, 1456, 1468, 1470, 1479, 1492, 1531, 1749, 1762, 1764, 1792, 1803, 1810, 1818, 1823, 1840, 1844, 1864, 1938, 2028, 2070, 2086, 2090, 2091, 2096, 2105, 2112, 2117, 2120, 2121, 2122, 2125, 2129, 2157, 2165, 2166, 2167, 2169, 2174, 2175, 2177, 2178, 2179, 2180, 2181, 2182, 2196, 2198, 2199, 2209, 2254, 2293, 2295, 2415, 2416, 2417, 2457, 2461, 2467, 2489, 2500, 2517, 2522, 2526, 2534, 2538, 2539, 2540, 2550, 2553, 2565, 2575, 2663, 2664, 2665, 2666, 2710, 2712, 2714, 2757, 2787, 2788, 2826, 2827, 2846, 2847, 2848, 2849, 2857, 2859, 2865, 2879, 2883, 2885, 2921, 2922, 2923, 2925, 2940, 2941, 3004, 3020, 3028, 3220, 3259, 3594, 3595, 3608, 3624, 3630, 3631, 3632, 3633, 3634, 3635, 3636, 3637, 3638, 3641, 3642, 3644, 3645, 3646, 3648, 3649, 3651, 3652, 3695, 3697, 3705, 3709, 3758, 3759, 3761, 3890]), ('ff_x', [1037, 1038, 1039, 1040, 1041, 1042, 1043, 1044, 1045, 1046, 1047, 1048, 1049, 1050, 1051, 1052, 1053, 1054, 1055, 1056, 1057, 1058, 1059, 1060, 1061, 1062, 1063, 1064, 1065, 1066, 1067, 1706, 1707, 1708, 1709, 1710, 1711, 1712, 1713, 1714, 1715, 1716, 1717, 1718, 1719, 1720, 1721, 1722, 1723, 1724, 1725, 1726, 1727, 1728, 1729, 1730, 1731, 1732, 1733, 1734, 1735, 1736, 1737, 1738, 1739, 1740, 1741, 1742, 1743, 1744, 1745, 1746, 1747, 1748, 1749, 1750, 1751, 1752, 1753, 1754, 1755, 1756, 1757, 1758, 1759, 1760, 1761, 1762, 1763, 1764, 1765, 1766]), ('ddd_x', [1037, 1038, 1039, 1040, 1041, 1042, 1043, 1044, 1045, 1046, 1047, 1048, 1049, 1050, 1051, 1052, 1053, 1054, 1055, 1056, 1057, 1058, 1059, 1060, 1061, 1062, 1063, 1064, 1065, 1066, 1067, 1706, 1707, 1708, 1709, 1710, 1711, 1712, 1713, 1714, 1715, 1716, 1717, 1718, 1719, 1720, 1721, 1722, 1723, 1724, 1725, 1726, 1727, 1728, 1729, 1730, 1731, 1732, 1733, 1734, 1735, 1736, 1737, 1738, 1739, 1740, 1741, 1742, 1743, 1744, 1745, 1746, 1747, 1748, 1749, 1750, 1751, 1752, 1753, 1754, 1755, 1756, 1757, 1758, 1759, 1760, 1761, 1762, 1763, 1764, 1765, 1766, 3286]), ('ff_avg', [1037, 1038, 1039, 1040, 1041, 1042, 1043, 1044, 1045, 1046, 1047, 1048, 1049, 1050, 1051, 1052, 1053, 1054, 1055, 1056, 1057, 1058, 1059, 1060, 1061, 1062, 1063, 1064, 1065, 1066, 1067, 1286, 1699, 1705, 1706, 1707, 1708, 1709, 1710, 1711, 1712, 1713, 1714, 1715, 1716, 1717, 1718, 1719, 1720, 1721, 1722, 1723, 1724, 1725, 1726, 1727, 1728, 1729, 1730, 1731, 1732, 1733, 1734, 1735, 1736, 1737, 1738, 1739, 1740, 1741, 1742, 1743, 1744, 1745, 1746, 1747, 1748, 1749, 1750, 1751, 1752, 1753, 1754, 1755, 1756, 1757, 1758, 1759, 1760, 1761, 1762, 1763, 1764, 1765, 1766, 3396]), ('ddd_car', [1037, 1038, 1039, 1040, 1041, 1042, 1043, 1044, 1045, 1046, 1047, 1048, 1049, 1050, 1051, 1052, 1053, 1054, 1055, 1056, 1057, 1058, 1059, 1060, 1061, 1062, 1063, 1064, 1065, 1066, 1067, 1286, 1699, 1705, 1706, 1707, 1708, 1709, 1710, 1711, 1712, 1713, 1714, 1715, 1716, 1717, 1718, 1719, 1720, 1721, 1722, 1723, 1724, 1725, 1726, 1727, 1728, 1729, 1730, 1731, 1732, 1733, 1734, 1735, 1736, 1737, 1738, 1739, 1740, 1741, 1742, 1743, 1744, 1745, 1746, 1747, 1748, 1749, 1750, 1751, 1752, 1753, 1754, 1755, 1756, 1757, 1758, 1759, 1760, 1761, 1762, 1763, 1764, 1765, 1766])])"
      ]
     },
     "execution_count": 12,
     "metadata": {
      "tags": []
     },
     "output_type": "execute_result"
    }
   ],
   "source": [
    "_check_nan(dataset).items()"
   ]
  },
  {
   "cell_type": "code",
   "execution_count": 0,
   "metadata": {
    "colab": {
     "base_uri": "https://localhost:8080/",
     "height": 34
    },
    "colab_type": "code",
    "id": "66nIQJcLhviR",
    "outputId": "e3d8d6f9-65ee-4e89-ad0b-413d86f82f55"
   },
   "outputs": [
    {
     "name": "stdout",
     "output_type": "stream",
     "text": [
      "None\n"
     ]
    }
   ],
   "source": [
    "# Jika tidak memiliki nilai nan\n",
    "print(_check_nan(dataset.drop(_get_nan_columns(dataset), axis=1)))"
   ]
  },
  {
   "cell_type": "markdown",
   "metadata": {
    "colab_type": "text",
    "id": "TwvE5jb6iPQp"
   },
   "source": [
    "## Fungsi `_group_as_list()`\n",
    "\n",
    "Tujuan: Mengelompokkan kelompok array yang bersifat kontinu (nilainya berurutan) dalam masing-masing list.\n",
    "\n",
    "Referensi: https://stackoverflow.com/a/15276206 (dimodifikasi untuk Python 3.x dan kemudahan membaca) "
   ]
  },
  {
   "cell_type": "code",
   "execution_count": 0,
   "metadata": {
    "colab": {
     "base_uri": "https://localhost:8080/",
     "height": 54
    },
    "colab_type": "code",
    "id": "YrEFvgtri0UO",
    "outputId": "d4b453c2-e1d5-46c4-e23e-44eb8130119a"
   },
   "outputs": [
    {
     "name": "stdout",
     "output_type": "stream",
     "text": [
      "[852, 1037, 1038, 1039, 1040, 1041, 1042, 1043, 1044, 1045, 1046, 1047, 1048, 1049, 1050, 1051, 1052, 1053, 1054, 1055, 1056, 1057, 1058, 1059, 1060, 1061, 1062, 1063, 1064, 1065, 1066, 1067, 1220, 1221, 1222, 1223, 1224, 1628, 1629, 1697, 2657]\n"
     ]
    }
   ],
   "source": [
    "missing_dict = _get_nan(dataset)\n",
    "missing_RH_avg = missing_dict['RH_avg']\n",
    "print(missing_RH_avg)"
   ]
  },
  {
   "cell_type": "code",
   "execution_count": 0,
   "metadata": {
    "colab": {
     "base_uri": "https://localhost:8080/",
     "height": 54
    },
    "colab_type": "code",
    "id": "KHstC8RfjG1H",
    "outputId": "ac4fb769-fc97-43a1-faa1-25dcaae1a906"
   },
   "outputs": [
    {
     "name": "stdout",
     "output_type": "stream",
     "text": [
      "[[852], [1037, 1038, 1039, 1040, 1041, 1042, 1043, 1044, 1045, 1046, 1047, 1048, 1049, 1050, 1051, 1052, 1053, 1054, 1055, 1056, 1057, 1058, 1059, 1060, 1061, 1062, 1063, 1064, 1065, 1066, 1067], [1220, 1221, 1222, 1223, 1224], [1628, 1629], [1697], [2657]]\n"
     ]
    }
   ],
   "source": [
    "print(_group_as_list(missing_RH_avg))"
   ]
  },
  {
   "cell_type": "markdown",
   "metadata": {
    "colab_type": "text",
    "id": "5Ui1dYZwhFQn"
   },
   "source": [
    "## Fungsi `_group_as_index()`\n",
    "\n",
    "Tujuan: Mengubah hasil pengelompokkan menjadi jenis index dataset (dalam kasus ini dalam bentuk tanggal dibandingkan dalam bentuk angka-index dataset)."
   ]
  },
  {
   "cell_type": "code",
   "execution_count": 0,
   "metadata": {
    "colab": {
     "base_uri": "https://localhost:8080/",
     "height": 119
    },
    "colab_type": "code",
    "id": "Lab87rO_jaUJ",
    "outputId": "84c412de-15b0-4450-9ab0-adf1b2920526"
   },
   "outputs": [
    {
     "data": {
      "text/plain": [
       "['30 Jun 2000',\n",
       " '01 Jan 2001-31 Jan 2001',\n",
       " '03 Jul 2001-07 Jul 2001',\n",
       " '15 Aug 2002-16 Aug 2002',\n",
       " '23 Oct 2002',\n",
       " '09 Jun 2005']"
      ]
     },
     "execution_count": 16,
     "metadata": {
      "tags": []
     },
     "output_type": "execute_result"
    }
   ],
   "source": [
    "_group_as_index(_group_as_list(missing_RH_avg), index=dataset.index, date_format='%d %b %Y')"
   ]
  },
  {
   "cell_type": "markdown",
   "metadata": {
    "colab_type": "text",
    "id": "8rZUej-Bl-Rd"
   },
   "source": [
    "## Fungsi `_get_missing()`\n",
    "\n",
    "Tujuan: Memperoleh index yang memiliki nilai tidak terukur (bernilai `8888` atau `9999`) untuk setiap kolomnya"
   ]
  },
  {
   "cell_type": "code",
   "execution_count": 0,
   "metadata": {
    "colab": {
     "base_uri": "https://localhost:8080/",
     "height": 204
    },
    "colab_type": "code",
    "id": "rwNiOYjSl9wE",
    "outputId": "d27ae66b-5485-47bb-85c9-70103267ba26"
   },
   "outputs": [
    {
     "data": {
      "text/plain": [
       "{'RH_avg': array([], dtype=int64),\n",
       " 'RR': array([2090, 2467, 2468, 2489, 2506, 2606, 3208, 3209, 3229, 3712, 3876,\n",
       "        3904, 3946]),\n",
       " 'Tavg': array([], dtype=int64),\n",
       " 'Tn': array([], dtype=int64),\n",
       " 'Tx': array([], dtype=int64),\n",
       " 'ddd_car': array([], dtype=int64),\n",
       " 'ddd_x': array([], dtype=int64),\n",
       " 'ff_avg': array([], dtype=int64),\n",
       " 'ff_x': array([], dtype=int64),\n",
       " 'ss': array([], dtype=int64)}"
      ]
     },
     "execution_count": 17,
     "metadata": {
      "tags": []
     },
     "output_type": "execute_result"
    }
   ],
   "source": [
    "_get_missing(dataset)"
   ]
  },
  {
   "cell_type": "markdown",
   "metadata": {
    "colab_type": "text",
    "id": "DGRLHHnFj3b_"
   },
   "source": [
    "# Penerapan"
   ]
  },
  {
   "cell_type": "markdown",
   "metadata": {
    "colab_type": "text",
    "id": "7kzIN8r_mb1Q"
   },
   "source": [
    "## Menampilkan index yang bermasalah\n",
    "\n",
    "Tujuan: Setelah memperoleh index dari hasil `_get_missing()` atau `_get_nan()`, bisa menampilkan potongan index tersebut dalam dataframe."
   ]
  },
  {
   "cell_type": "code",
   "execution_count": 0,
   "metadata": {
    "colab": {
     "base_uri": "https://localhost:8080/",
     "height": 483
    },
    "colab_type": "code",
    "id": "qAk3dPyHOYk2",
    "outputId": "8071d17e-9818-4e3d-8abc-27fa8b951a53"
   },
   "outputs": [
    {
     "data": {
      "text/html": [
       "<div>\n",
       "<style scoped>\n",
       "    .dataframe tbody tr th:only-of-type {\n",
       "        vertical-align: middle;\n",
       "    }\n",
       "\n",
       "    .dataframe tbody tr th {\n",
       "        vertical-align: top;\n",
       "    }\n",
       "\n",
       "    .dataframe thead th {\n",
       "        text-align: right;\n",
       "    }\n",
       "</style>\n",
       "<table border=\"1\" class=\"dataframe\">\n",
       "  <thead>\n",
       "    <tr style=\"text-align: right;\">\n",
       "      <th></th>\n",
       "      <th>Tn</th>\n",
       "      <th>Tx</th>\n",
       "      <th>Tavg</th>\n",
       "      <th>RH_avg</th>\n",
       "      <th>RR</th>\n",
       "      <th>ss</th>\n",
       "      <th>ff_x</th>\n",
       "      <th>ddd_x</th>\n",
       "      <th>ff_avg</th>\n",
       "      <th>ddd_car</th>\n",
       "    </tr>\n",
       "    <tr>\n",
       "      <th>Tanggal</th>\n",
       "      <th></th>\n",
       "      <th></th>\n",
       "      <th></th>\n",
       "      <th></th>\n",
       "      <th></th>\n",
       "      <th></th>\n",
       "      <th></th>\n",
       "      <th></th>\n",
       "      <th></th>\n",
       "      <th></th>\n",
       "    </tr>\n",
       "  </thead>\n",
       "  <tbody>\n",
       "    <tr>\n",
       "      <th>2003-11-20</th>\n",
       "      <td>24.1</td>\n",
       "      <td>28.8</td>\n",
       "      <td>26.2</td>\n",
       "      <td>85.0</td>\n",
       "      <td>8888.0</td>\n",
       "      <td>NaN</td>\n",
       "      <td>1.0</td>\n",
       "      <td>90.0</td>\n",
       "      <td>1.0</td>\n",
       "      <td>E</td>\n",
       "    </tr>\n",
       "    <tr>\n",
       "      <th>2004-12-01</th>\n",
       "      <td>23.7</td>\n",
       "      <td>29.9</td>\n",
       "      <td>26.2</td>\n",
       "      <td>87.0</td>\n",
       "      <td>8888.0</td>\n",
       "      <td>NaN</td>\n",
       "      <td>10.0</td>\n",
       "      <td>270.0</td>\n",
       "      <td>0.0</td>\n",
       "      <td>W</td>\n",
       "    </tr>\n",
       "    <tr>\n",
       "      <th>2004-12-02</th>\n",
       "      <td>24.0</td>\n",
       "      <td>34.0</td>\n",
       "      <td>28.5</td>\n",
       "      <td>78.0</td>\n",
       "      <td>8888.0</td>\n",
       "      <td>2.0</td>\n",
       "      <td>10.0</td>\n",
       "      <td>270.0</td>\n",
       "      <td>0.0</td>\n",
       "      <td>W</td>\n",
       "    </tr>\n",
       "    <tr>\n",
       "      <th>2004-12-23</th>\n",
       "      <td>23.6</td>\n",
       "      <td>31.2</td>\n",
       "      <td>27.1</td>\n",
       "      <td>86.0</td>\n",
       "      <td>8888.0</td>\n",
       "      <td>NaN</td>\n",
       "      <td>6.0</td>\n",
       "      <td>270.0</td>\n",
       "      <td>0.0</td>\n",
       "      <td>W</td>\n",
       "    </tr>\n",
       "    <tr>\n",
       "      <th>2005-01-09</th>\n",
       "      <td>23.2</td>\n",
       "      <td>30.6</td>\n",
       "      <td>26.5</td>\n",
       "      <td>89.0</td>\n",
       "      <td>8888.0</td>\n",
       "      <td>4.4</td>\n",
       "      <td>3.0</td>\n",
       "      <td>270.0</td>\n",
       "      <td>0.0</td>\n",
       "      <td>W</td>\n",
       "    </tr>\n",
       "    <tr>\n",
       "      <th>2005-04-19</th>\n",
       "      <td>24.8</td>\n",
       "      <td>33.0</td>\n",
       "      <td>27.9</td>\n",
       "      <td>84.0</td>\n",
       "      <td>8888.0</td>\n",
       "      <td>5.1</td>\n",
       "      <td>10.0</td>\n",
       "      <td>315.0</td>\n",
       "      <td>0.0</td>\n",
       "      <td>E</td>\n",
       "    </tr>\n",
       "    <tr>\n",
       "      <th>2006-12-12</th>\n",
       "      <td>25.4</td>\n",
       "      <td>32.8</td>\n",
       "      <td>28.0</td>\n",
       "      <td>81.0</td>\n",
       "      <td>8888.0</td>\n",
       "      <td>5.0</td>\n",
       "      <td>5.0</td>\n",
       "      <td>45.0</td>\n",
       "      <td>2.0</td>\n",
       "      <td>N</td>\n",
       "    </tr>\n",
       "    <tr>\n",
       "      <th>2006-12-13</th>\n",
       "      <td>23.2</td>\n",
       "      <td>33.2</td>\n",
       "      <td>28.5</td>\n",
       "      <td>80.0</td>\n",
       "      <td>8888.0</td>\n",
       "      <td>4.2</td>\n",
       "      <td>5.0</td>\n",
       "      <td>45.0</td>\n",
       "      <td>2.0</td>\n",
       "      <td>N</td>\n",
       "    </tr>\n",
       "    <tr>\n",
       "      <th>2007-01-02</th>\n",
       "      <td>22.2</td>\n",
       "      <td>31.6</td>\n",
       "      <td>26.6</td>\n",
       "      <td>83.0</td>\n",
       "      <td>8888.0</td>\n",
       "      <td>5.6</td>\n",
       "      <td>15.0</td>\n",
       "      <td>270.0</td>\n",
       "      <td>4.0</td>\n",
       "      <td>W</td>\n",
       "    </tr>\n",
       "    <tr>\n",
       "      <th>2008-04-29</th>\n",
       "      <td>21.0</td>\n",
       "      <td>32.4</td>\n",
       "      <td>28.1</td>\n",
       "      <td>82.0</td>\n",
       "      <td>8888.0</td>\n",
       "      <td>6.0</td>\n",
       "      <td>2.0</td>\n",
       "      <td>360.0</td>\n",
       "      <td>0.0</td>\n",
       "      <td>N</td>\n",
       "    </tr>\n",
       "    <tr>\n",
       "      <th>2008-10-10</th>\n",
       "      <td>24.6</td>\n",
       "      <td>35.1</td>\n",
       "      <td>29.6</td>\n",
       "      <td>72.0</td>\n",
       "      <td>8888.0</td>\n",
       "      <td>7.3</td>\n",
       "      <td>10.0</td>\n",
       "      <td>360.0</td>\n",
       "      <td>4.0</td>\n",
       "      <td>N</td>\n",
       "    </tr>\n",
       "    <tr>\n",
       "      <th>2008-11-07</th>\n",
       "      <td>25.0</td>\n",
       "      <td>31.6</td>\n",
       "      <td>27.5</td>\n",
       "      <td>83.0</td>\n",
       "      <td>8888.0</td>\n",
       "      <td>2.5</td>\n",
       "      <td>3.0</td>\n",
       "      <td>270.0</td>\n",
       "      <td>0.0</td>\n",
       "      <td>W</td>\n",
       "    </tr>\n",
       "    <tr>\n",
       "      <th>2008-12-19</th>\n",
       "      <td>25.2</td>\n",
       "      <td>31.6</td>\n",
       "      <td>27.3</td>\n",
       "      <td>81.0</td>\n",
       "      <td>8888.0</td>\n",
       "      <td>4.0</td>\n",
       "      <td>5.0</td>\n",
       "      <td>360.0</td>\n",
       "      <td>2.0</td>\n",
       "      <td>N</td>\n",
       "    </tr>\n",
       "  </tbody>\n",
       "</table>\n",
       "</div>"
      ],
      "text/plain": [
       "              Tn    Tx  Tavg  RH_avg      RR   ss  ff_x  ddd_x  ff_avg ddd_car\n",
       "Tanggal                                                                       \n",
       "2003-11-20  24.1  28.8  26.2    85.0  8888.0  NaN   1.0   90.0     1.0      E \n",
       "2004-12-01  23.7  29.9  26.2    87.0  8888.0  NaN  10.0  270.0     0.0      W \n",
       "2004-12-02  24.0  34.0  28.5    78.0  8888.0  2.0  10.0  270.0     0.0      W \n",
       "2004-12-23  23.6  31.2  27.1    86.0  8888.0  NaN   6.0  270.0     0.0      W \n",
       "2005-01-09  23.2  30.6  26.5    89.0  8888.0  4.4   3.0  270.0     0.0      W \n",
       "2005-04-19  24.8  33.0  27.9    84.0  8888.0  5.1  10.0  315.0     0.0      E \n",
       "2006-12-12  25.4  32.8  28.0    81.0  8888.0  5.0   5.0   45.0     2.0      N \n",
       "2006-12-13  23.2  33.2  28.5    80.0  8888.0  4.2   5.0   45.0     2.0      N \n",
       "2007-01-02  22.2  31.6  26.6    83.0  8888.0  5.6  15.0  270.0     4.0      W \n",
       "2008-04-29  21.0  32.4  28.1    82.0  8888.0  6.0   2.0  360.0     0.0      N \n",
       "2008-10-10  24.6  35.1  29.6    72.0  8888.0  7.3  10.0  360.0     4.0      N \n",
       "2008-11-07  25.0  31.6  27.5    83.0  8888.0  2.5   3.0  270.0     0.0      W \n",
       "2008-12-19  25.2  31.6  27.3    81.0  8888.0  4.0   5.0  360.0     2.0      N "
      ]
     },
     "execution_count": 18,
     "metadata": {
      "tags": []
     },
     "output_type": "execute_result"
    }
   ],
   "source": [
    "dataset.iloc[_get_missing(dataset)['RR']]"
   ]
  },
  {
   "cell_type": "code",
   "execution_count": 0,
   "metadata": {
    "colab": {
     "base_uri": "https://localhost:8080/",
     "height": 204
    },
    "colab_type": "code",
    "id": "1QSK1QI3nAK9",
    "outputId": "0091c967-7ed5-4f10-ce27-e0daadba359b"
   },
   "outputs": [
    {
     "data": {
      "text/plain": [
       "[[2090],\n",
       " [2467, 2468],\n",
       " [2489],\n",
       " [2506],\n",
       " [2606],\n",
       " [3208, 3209],\n",
       " [3229],\n",
       " [3712],\n",
       " [3876],\n",
       " [3904],\n",
       " [3946]]"
      ]
     },
     "execution_count": 19,
     "metadata": {
      "tags": []
     },
     "output_type": "execute_result"
    }
   ],
   "source": [
    "_group_as_list(_get_missing(dataset)['RR'])"
   ]
  },
  {
   "cell_type": "code",
   "execution_count": 0,
   "metadata": {
    "colab": {
     "base_uri": "https://localhost:8080/",
     "height": 204
    },
    "colab_type": "code",
    "id": "Xz3aiDZAnBlt",
    "outputId": "97a676a2-edae-41a9-c91b-c1187d4968df"
   },
   "outputs": [
    {
     "data": {
      "text/plain": [
       "['20 Nov 2003',\n",
       " '01 Dec 2004 sampai 02 Dec 2004',\n",
       " '23 Dec 2004',\n",
       " '09 Jan 2005',\n",
       " '19 Apr 2005',\n",
       " '12 Dec 2006 sampai 13 Dec 2006',\n",
       " '02 Jan 2007',\n",
       " '29 Apr 2008',\n",
       " '10 Oct 2008',\n",
       " '07 Nov 2008',\n",
       " '19 Dec 2008']"
      ]
     },
     "execution_count": 20,
     "metadata": {
      "tags": []
     },
     "output_type": "execute_result"
    }
   ],
   "source": [
    "_group_as_index(_, index=dataset.index, date_format='%d %b %Y', format_date='{} sampai {}')"
   ]
  },
  {
   "cell_type": "markdown",
   "metadata": {
    "colab_type": "text",
    "id": "qbv_bFl5nVsx"
   },
   "source": [
    "# Changelog\n",
    "\n",
    "```\n",
    "- 20190928 - 1.0.0 - Initial\n",
    "```\n",
    "\n",
    "#### Copyright &copy; 2019 [Taruma Sakti Megariansyah](https://taruma.github.io)\n",
    "\n",
    "Source code in this notebook is licensed under a [MIT License](https://choosealicense.com/licenses/mit/). Data in this notebook is licensed under a [Creative Common Attribution 4.0 International](https://creativecommons.org/licenses/by/4.0/). "
   ]
  }
 ],
 "metadata": {
  "colab": {
   "collapsed_sections": [
    "XvkIulXMenWc",
    "qY3RdEtXe885",
    "xcj4-4--f8P7",
    "XXFJxVfqfJ8N",
    "vAW_kMxEh_6N",
    "TwvE5jb6iPQp",
    "5Ui1dYZwhFQn",
    "8rZUej-Bl-Rd"
   ],
   "include_colab_link": true,
   "name": "taruma_hk73_bmkg.ipynb",
   "provenance": []
  },
  "kernelspec": {
   "display_name": "Python 3",
   "language": "python",
   "name": "python3"
  },
  "language_info": {
   "codemirror_mode": {
    "name": "ipython",
    "version": 3
   },
   "file_extension": ".py",
   "mimetype": "text/x-python",
   "name": "python",
   "nbconvert_exporter": "python",
   "pygments_lexer": "ipython3",
   "version": "3.7.5"
  },
  "toc": {
   "base_numbering": 1,
   "nav_menu": {},
   "number_sections": true,
   "sideBar": true,
   "skip_h1_title": false,
   "title_cell": "Table of Contents",
   "title_sidebar": "Contents",
   "toc_cell": false,
   "toc_position": {},
   "toc_section_display": true,
   "toc_window_display": false
  },
  "varInspector": {
   "cols": {
    "lenName": 16,
    "lenType": 16,
    "lenVar": 40
   },
   "kernels_config": {
    "python": {
     "delete_cmd_postfix": "",
     "delete_cmd_prefix": "del ",
     "library": "var_list.py",
     "varRefreshCmd": "print(var_dic_list())"
    },
    "r": {
     "delete_cmd_postfix": ") ",
     "delete_cmd_prefix": "rm(",
     "library": "var_list.r",
     "varRefreshCmd": "cat(var_dic_list()) "
    }
   },
   "types_to_exclude": [
    "module",
    "function",
    "builtin_function_or_method",
    "instance",
    "_Feature"
   ],
   "window_display": false
  }
 },
 "nbformat": 4,
 "nbformat_minor": 1
}
